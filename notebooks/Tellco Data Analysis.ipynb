{
 "cells": [
  {
   "cell_type": "markdown",
   "id": "a2e79244-edfd-4572-a789-b91b96850313",
   "metadata": {},
   "source": [
    "# Telecommunication Industry User Analytics\n",
    "<p>This notebook contains a detailed user analytics on Tellco, a mobile service provider in the Republic of Pefkakia. The aim of this project is to provide a detailed report of the analysis of the dataset by the owners of Tellco. The dataset contains information about the customer and their activities on the network. This analysis should provide a report on opportunities for growth identified and recommendation on whether Tellco is worth buying or selling. </p>\n",
    "<p>This analysis will be based on the following 4 sub-objectives:\n",
    "<ol>\n",
    "    <li>User overview analysis</li>\n",
    "    <li>User Engagement analysis</li>\n",
    "    <li>User Experience analysis</li>\n",
    "    <li>User Satisfaction analysis</li>\n",
    "</ol>\n",
    "</p>\n",
    "\n",
    "\n"
   ]
  },
  {
   "cell_type": "markdown",
   "id": "fd4d340c-4f12-4f15-9fca-b9b51035959b",
   "metadata": {},
   "source": [
    "## Import the required modules and packages"
   ]
  },
  {
   "cell_type": "code",
   "execution_count": 67,
   "id": "bbfdd824-af3b-4142-b1f1-729db6843718",
   "metadata": {},
   "outputs": [],
   "source": [
    "import sys\n",
    "import pandas as pd\n",
    "import numpy as np\n",
    "import matplotlib.pyplot as plt\n",
    "import warnings\n",
    "import seaborn as sns\n",
    "from sklearn.preprocessing import MinMaxScaler\n",
    "from sklearn.cluster import KMeans\n",
    "sys.path.append('../scripts')\n",
    "from load_data import LoadData"
   ]
  },
  {
   "cell_type": "markdown",
   "id": "87180193-5e61-44eb-87d9-536bf2e8db0e",
   "metadata": {},
   "source": [
    "## Loading the data into a DataFrame\n",
    "<p>We begin by first loading the dataset provided in an excel file into a pandas dataframe. The data can be obtained from <a href=\"https://www.github.com/wakura-mbuya/Tellco-project/tree/master/data\">here</a>.</p>\n",
    "<p>The data was loaded into the DataFrame using <strong><a href=\"https://www.github.com/wakura-mbuya/Tellco-project/blob/master/scripts/load_data.py\">LoadData</a>.</strong> class.</p>"
   ]
  },
  {
   "cell_type": "code",
   "execution_count": 2,
   "id": "801da22c-3bb4-433e-b045-1125df873c49",
   "metadata": {},
   "outputs": [
    {
     "data": {
      "text/html": [
       "<div>\n",
       "<style scoped>\n",
       "    .dataframe tbody tr th:only-of-type {\n",
       "        vertical-align: middle;\n",
       "    }\n",
       "\n",
       "    .dataframe tbody tr th {\n",
       "        vertical-align: top;\n",
       "    }\n",
       "\n",
       "    .dataframe thead th {\n",
       "        text-align: right;\n",
       "    }\n",
       "</style>\n",
       "<table border=\"1\" class=\"dataframe\">\n",
       "  <thead>\n",
       "    <tr style=\"text-align: right;\">\n",
       "      <th></th>\n",
       "      <th>Bearer Id</th>\n",
       "      <th>Start</th>\n",
       "      <th>Start ms</th>\n",
       "      <th>End</th>\n",
       "      <th>End ms</th>\n",
       "      <th>Dur. (ms)</th>\n",
       "      <th>IMSI</th>\n",
       "      <th>MSISDN/Number</th>\n",
       "      <th>IMEI</th>\n",
       "      <th>Last Location Name</th>\n",
       "      <th>...</th>\n",
       "      <th>Youtube DL (Bytes)</th>\n",
       "      <th>Youtube UL (Bytes)</th>\n",
       "      <th>Netflix DL (Bytes)</th>\n",
       "      <th>Netflix UL (Bytes)</th>\n",
       "      <th>Gaming DL (Bytes)</th>\n",
       "      <th>Gaming UL (Bytes)</th>\n",
       "      <th>Other DL (Bytes)</th>\n",
       "      <th>Other UL (Bytes)</th>\n",
       "      <th>Total UL (Bytes)</th>\n",
       "      <th>Total DL (Bytes)</th>\n",
       "    </tr>\n",
       "  </thead>\n",
       "  <tbody>\n",
       "    <tr>\n",
       "      <th>0</th>\n",
       "      <td>13114483460844900352</td>\n",
       "      <td>2019-04-04 12:01:18</td>\n",
       "      <td>770.0</td>\n",
       "      <td>2019-04-25 14:35:31</td>\n",
       "      <td>662.0</td>\n",
       "      <td>1823652.0</td>\n",
       "      <td>2.082014e+14</td>\n",
       "      <td>3.366496e+10</td>\n",
       "      <td>3.552121e+13</td>\n",
       "      <td>9164566995485190</td>\n",
       "      <td>...</td>\n",
       "      <td>15854611.0</td>\n",
       "      <td>2501332.0</td>\n",
       "      <td>8198936.0</td>\n",
       "      <td>9656251.0</td>\n",
       "      <td>278082303.0</td>\n",
       "      <td>14344150.0</td>\n",
       "      <td>171744450.0</td>\n",
       "      <td>8814393.0</td>\n",
       "      <td>36749741.0</td>\n",
       "      <td>308879636.0</td>\n",
       "    </tr>\n",
       "    <tr>\n",
       "      <th>1</th>\n",
       "      <td>13114483482878900224</td>\n",
       "      <td>2019-04-09 13:04:04</td>\n",
       "      <td>235.0</td>\n",
       "      <td>2019-04-25 08:15:48</td>\n",
       "      <td>606.0</td>\n",
       "      <td>1365104.0</td>\n",
       "      <td>2.082019e+14</td>\n",
       "      <td>3.368185e+10</td>\n",
       "      <td>3.579401e+13</td>\n",
       "      <td>L77566A</td>\n",
       "      <td>...</td>\n",
       "      <td>20247395.0</td>\n",
       "      <td>19111729.0</td>\n",
       "      <td>18338413.0</td>\n",
       "      <td>17227132.0</td>\n",
       "      <td>608750074.0</td>\n",
       "      <td>1170709.0</td>\n",
       "      <td>526904238.0</td>\n",
       "      <td>15055145.0</td>\n",
       "      <td>53800391.0</td>\n",
       "      <td>653384965.0</td>\n",
       "    </tr>\n",
       "    <tr>\n",
       "      <th>2</th>\n",
       "      <td>13114483484080500736</td>\n",
       "      <td>2019-04-09 17:42:11</td>\n",
       "      <td>1.0</td>\n",
       "      <td>2019-04-25 11:58:13</td>\n",
       "      <td>652.0</td>\n",
       "      <td>1361762.0</td>\n",
       "      <td>2.082003e+14</td>\n",
       "      <td>3.376063e+10</td>\n",
       "      <td>3.528151e+13</td>\n",
       "      <td>D42335A</td>\n",
       "      <td>...</td>\n",
       "      <td>19725661.0</td>\n",
       "      <td>14699576.0</td>\n",
       "      <td>17587794.0</td>\n",
       "      <td>6163408.0</td>\n",
       "      <td>229584621.0</td>\n",
       "      <td>395630.0</td>\n",
       "      <td>410692588.0</td>\n",
       "      <td>4215763.0</td>\n",
       "      <td>27883638.0</td>\n",
       "      <td>279807335.0</td>\n",
       "    </tr>\n",
       "    <tr>\n",
       "      <th>3</th>\n",
       "      <td>13114483485442799616</td>\n",
       "      <td>2019-04-10 00:31:25</td>\n",
       "      <td>486.0</td>\n",
       "      <td>2019-04-25 07:36:35</td>\n",
       "      <td>171.0</td>\n",
       "      <td>1321509.0</td>\n",
       "      <td>2.082014e+14</td>\n",
       "      <td>3.375034e+10</td>\n",
       "      <td>3.535661e+13</td>\n",
       "      <td>T21824A</td>\n",
       "      <td>...</td>\n",
       "      <td>21388122.0</td>\n",
       "      <td>15146643.0</td>\n",
       "      <td>13994646.0</td>\n",
       "      <td>1097942.0</td>\n",
       "      <td>799538153.0</td>\n",
       "      <td>10849722.0</td>\n",
       "      <td>749039933.0</td>\n",
       "      <td>12797283.0</td>\n",
       "      <td>43324218.0</td>\n",
       "      <td>846028530.0</td>\n",
       "    </tr>\n",
       "    <tr>\n",
       "      <th>4</th>\n",
       "      <td>13114483499480700928</td>\n",
       "      <td>2019-04-12 20:10:23</td>\n",
       "      <td>565.0</td>\n",
       "      <td>2019-04-25 10:40:32</td>\n",
       "      <td>954.0</td>\n",
       "      <td>1089009.0</td>\n",
       "      <td>2.082014e+14</td>\n",
       "      <td>3.369980e+10</td>\n",
       "      <td>3.540701e+13</td>\n",
       "      <td>D88865A</td>\n",
       "      <td>...</td>\n",
       "      <td>15259380.0</td>\n",
       "      <td>18962873.0</td>\n",
       "      <td>17124581.0</td>\n",
       "      <td>415218.0</td>\n",
       "      <td>527707248.0</td>\n",
       "      <td>3529801.0</td>\n",
       "      <td>550709500.0</td>\n",
       "      <td>13910322.0</td>\n",
       "      <td>38542814.0</td>\n",
       "      <td>569138589.0</td>\n",
       "    </tr>\n",
       "  </tbody>\n",
       "</table>\n",
       "<p>5 rows × 55 columns</p>\n",
       "</div>"
      ],
      "text/plain": [
       "              Bearer Id               Start  Start ms                 End  \\\n",
       "0  13114483460844900352 2019-04-04 12:01:18     770.0 2019-04-25 14:35:31   \n",
       "1  13114483482878900224 2019-04-09 13:04:04     235.0 2019-04-25 08:15:48   \n",
       "2  13114483484080500736 2019-04-09 17:42:11       1.0 2019-04-25 11:58:13   \n",
       "3  13114483485442799616 2019-04-10 00:31:25     486.0 2019-04-25 07:36:35   \n",
       "4  13114483499480700928 2019-04-12 20:10:23     565.0 2019-04-25 10:40:32   \n",
       "\n",
       "   End ms  Dur. (ms)          IMSI  MSISDN/Number          IMEI  \\\n",
       "0   662.0  1823652.0  2.082014e+14   3.366496e+10  3.552121e+13   \n",
       "1   606.0  1365104.0  2.082019e+14   3.368185e+10  3.579401e+13   \n",
       "2   652.0  1361762.0  2.082003e+14   3.376063e+10  3.528151e+13   \n",
       "3   171.0  1321509.0  2.082014e+14   3.375034e+10  3.535661e+13   \n",
       "4   954.0  1089009.0  2.082014e+14   3.369980e+10  3.540701e+13   \n",
       "\n",
       "  Last Location Name  ...  Youtube DL (Bytes)  Youtube UL (Bytes)  \\\n",
       "0   9164566995485190  ...          15854611.0           2501332.0   \n",
       "1            L77566A  ...          20247395.0          19111729.0   \n",
       "2            D42335A  ...          19725661.0          14699576.0   \n",
       "3            T21824A  ...          21388122.0          15146643.0   \n",
       "4            D88865A  ...          15259380.0          18962873.0   \n",
       "\n",
       "   Netflix DL (Bytes)  Netflix UL (Bytes)  Gaming DL (Bytes)  \\\n",
       "0           8198936.0           9656251.0        278082303.0   \n",
       "1          18338413.0          17227132.0        608750074.0   \n",
       "2          17587794.0           6163408.0        229584621.0   \n",
       "3          13994646.0           1097942.0        799538153.0   \n",
       "4          17124581.0            415218.0        527707248.0   \n",
       "\n",
       "   Gaming UL (Bytes)  Other DL (Bytes)  Other UL (Bytes)  Total UL (Bytes)  \\\n",
       "0         14344150.0       171744450.0         8814393.0        36749741.0   \n",
       "1          1170709.0       526904238.0        15055145.0        53800391.0   \n",
       "2           395630.0       410692588.0         4215763.0        27883638.0   \n",
       "3         10849722.0       749039933.0        12797283.0        43324218.0   \n",
       "4          3529801.0       550709500.0        13910322.0        38542814.0   \n",
       "\n",
       "   Total DL (Bytes)  \n",
       "0       308879636.0  \n",
       "1       653384965.0  \n",
       "2       279807335.0  \n",
       "3       846028530.0  \n",
       "4       569138589.0  \n",
       "\n",
       "[5 rows x 55 columns]"
      ]
     },
     "execution_count": 2,
     "metadata": {},
     "output_type": "execute_result"
    }
   ],
   "source": [
    "loader = LoadData()\n",
    "telco_df = loader.read_excel('../data/Week1_challenge_data_source.xlsx')\n",
    "telco_df.head()"
   ]
  },
  {
   "cell_type": "markdown",
   "id": "639ae3a6-0383-45fe-b557-0eabcabe9734",
   "metadata": {},
   "source": [
    "## 1. User Overview analysis\n",
    "<p>In this section, will conduct Exploratory Data Analysis in order to familiarize ourself with the dataset and explore initial insights to inform further steps in the data analysis. </p>\n",
    "<p>We will identify and impute missing values and outliers in our dataset. We will use visual and quantitative methods to understand the data. At the end of the exploratory data analysis in this section we would have conducted a full user overview analysis. This section will be based on the folliwing objectives:\n",
    "\n",
    "   <ul>\n",
    "    <li> Identifying the top 10 handsets used by the customers </li>\n",
    "    <li> Identifying the top 3 handset manufacturers</li>\n",
    "    <li> Identifying the top 5 handsets per top 3 handset manufacturer</li>\n",
    "    <li> Provide a brief interpretation and recommendation to marketing teams</li>\n",
    "   </ul>\n",
    "</p>"
   ]
  },
  {
   "cell_type": "markdown",
   "id": "87e61b3d-37e2-43b4-9df0-321ad2c08e98",
   "metadata": {},
   "source": [
    "### Data cleaning\n",
    "We will identify missing values and outliers in our dataset and impute them using an appropriate method"
   ]
  },
  {
   "cell_type": "code",
   "execution_count": 87,
   "id": "f4d77301-18b0-460e-8af5-f89b3bee6f05",
   "metadata": {
    "collapsed": true,
    "jupyter": {
     "outputs_hidden": true,
     "source_hidden": true
    },
    "tags": []
   },
   "outputs": [
    {
     "data": {
      "text/plain": [
       "Bearer Id                                        0\n",
       "Start                                            1\n",
       "Start ms                                         1\n",
       "End                                              1\n",
       "End ms                                           1\n",
       "Dur. (ms)                                        1\n",
       "IMSI                                           570\n",
       "MSISDN/Number                                 1066\n",
       "IMEI                                           572\n",
       "Last Location Name                            1153\n",
       "Avg RTT DL (ms)                              27829\n",
       "Avg RTT UL (ms)                              27812\n",
       "Avg Bearer TP DL (kbps)                          1\n",
       "Avg Bearer TP UL (kbps)                          1\n",
       "TCP DL Retrans. Vol (Bytes)                  88146\n",
       "TCP UL Retrans. Vol (Bytes)                  96649\n",
       "DL TP < 50 Kbps (%)                            754\n",
       "50 Kbps < DL TP < 250 Kbps (%)                 754\n",
       "250 Kbps < DL TP < 1 Mbps (%)                  754\n",
       "DL TP > 1 Mbps (%)                             754\n",
       "UL TP < 10 Kbps (%)                            792\n",
       "10 Kbps < UL TP < 50 Kbps (%)                  792\n",
       "50 Kbps < UL TP < 300 Kbps (%)                 792\n",
       "UL TP > 300 Kbps (%)                           792\n",
       "HTTP DL (Bytes)                              81474\n",
       "HTTP UL (Bytes)                              81810\n",
       "Activity Duration DL (ms)                        1\n",
       "Activity Duration UL (ms)                        1\n",
       "Dur. (ms).1                                      1\n",
       "Handset Manufacturer                           572\n",
       "Handset Type                                   572\n",
       "Nb of sec with 125000B < Vol DL              97538\n",
       "Nb of sec with 1250B < Vol UL < 6250B        92894\n",
       "Nb of sec with 31250B < Vol DL < 125000B     93586\n",
       "Nb of sec with 37500B < Vol UL              130254\n",
       "Nb of sec with 6250B < Vol DL < 31250B       88317\n",
       "Nb of sec with 6250B < Vol UL < 37500B      111843\n",
       "Nb of sec with Vol DL < 6250B                  755\n",
       "Nb of sec with Vol UL < 1250B                  793\n",
       "Social Media DL (Bytes)                          0\n",
       "Social Media UL (Bytes)                          0\n",
       "Google DL (Bytes)                                0\n",
       "Google UL (Bytes)                                0\n",
       "Email DL (Bytes)                                 0\n",
       "Email UL (Bytes)                                 0\n",
       "Youtube DL (Bytes)                               0\n",
       "Youtube UL (Bytes)                               0\n",
       "Netflix DL (Bytes)                               0\n",
       "Netflix UL (Bytes)                               0\n",
       "Gaming DL (Bytes)                                0\n",
       "Gaming UL (Bytes)                                0\n",
       "Other DL (Bytes)                                 0\n",
       "Other UL (Bytes)                                 0\n",
       "Total UL (Bytes)                                 1\n",
       "Total DL (Bytes)                                 1\n",
       "dtype: int64"
      ]
     },
     "execution_count": 87,
     "metadata": {},
     "output_type": "execute_result"
    }
   ],
   "source": [
    "# Identify columns with missing values\n",
    "telco_df.isna().sum()"
   ]
  },
  {
   "cell_type": "code",
   "execution_count": 3,
   "id": "bd689a09-6620-4eac-97fc-eaafdb41d972",
   "metadata": {
    "jupyter": {
     "source_hidden": true
    },
    "tags": []
   },
   "outputs": [],
   "source": [
    "def impute_missing_values(df):\n",
    "    \"\"\"\n",
    "    This function imputes missing values by filling them with the mean\n",
    "    \"\"\"\n",
    "    for i in df.columns:\n",
    "        df[i].fillna(df[i].mode()[0], inplace=True)\n",
    "    return df"
   ]
  },
  {
   "cell_type": "markdown",
   "id": "27afc51e-4cdd-4008-a1a4-82e10ad63d02",
   "metadata": {},
   "source": [
    "#### Drop Missing values in some of the columns \n",
    "Drop with missing values in the columns IMSI, MSIDN/Number, IMEI, Handset Manufacturer, Handset Type, Last Location Name. This is because imputing these values with mean or medium do not not make sense as these values are to be unique"
   ]
  },
  {
   "cell_type": "code",
   "execution_count": 4,
   "id": "3ce285a0-6b6e-4133-ab9e-845763d04edb",
   "metadata": {
    "collapsed": true,
    "jupyter": {
     "outputs_hidden": true,
     "source_hidden": true
    },
    "tags": []
   },
   "outputs": [
    {
     "data": {
      "text/plain": [
       "(148346, 55)"
      ]
     },
     "execution_count": 4,
     "metadata": {},
     "output_type": "execute_result"
    }
   ],
   "source": [
    "#drop rows with missing imei, msisdn, imsi, handset manufacturer and handset type\n",
    "telco_df_dropped = telco_df.dropna(subset=['IMSI', 'MSISDN/Number', 'IMEI', 'Handset Manufacturer', 'Handset Type', 'Last Location Name'])\n",
    "telco_df_dropped.shape #show the new shape of the dataframe"
   ]
  },
  {
   "cell_type": "markdown",
   "id": "34a5d2ac-0fa4-4ec1-8392-370594410e35",
   "metadata": {},
   "source": [
    "#### Impute the missing values in the other columns with the mean of the respective column"
   ]
  },
  {
   "cell_type": "code",
   "execution_count": 5,
   "id": "05488af3-b4ea-4ce8-a5ba-9b9cf07fe573",
   "metadata": {
    "collapsed": true,
    "jupyter": {
     "outputs_hidden": true
    },
    "tags": []
   },
   "outputs": [
    {
     "name": "stderr",
     "output_type": "stream",
     "text": [
      "C:\\Users\\User\\anaconda3\\envs\\envMysql\\lib\\site-packages\\pandas\\core\\series.py:4536: SettingWithCopyWarning: \n",
      "A value is trying to be set on a copy of a slice from a DataFrame\n",
      "\n",
      "See the caveats in the documentation: https://pandas.pydata.org/pandas-docs/stable/user_guide/indexing.html#returning-a-view-versus-a-copy\n",
      "  downcast=downcast,\n"
     ]
    },
    {
     "data": {
      "text/html": [
       "<div>\n",
       "<style scoped>\n",
       "    .dataframe tbody tr th:only-of-type {\n",
       "        vertical-align: middle;\n",
       "    }\n",
       "\n",
       "    .dataframe tbody tr th {\n",
       "        vertical-align: top;\n",
       "    }\n",
       "\n",
       "    .dataframe thead th {\n",
       "        text-align: right;\n",
       "    }\n",
       "</style>\n",
       "<table border=\"1\" class=\"dataframe\">\n",
       "  <thead>\n",
       "    <tr style=\"text-align: right;\">\n",
       "      <th></th>\n",
       "      <th>Bearer Id</th>\n",
       "      <th>Start</th>\n",
       "      <th>Start ms</th>\n",
       "      <th>End</th>\n",
       "      <th>End ms</th>\n",
       "      <th>Dur. (ms)</th>\n",
       "      <th>IMSI</th>\n",
       "      <th>MSISDN/Number</th>\n",
       "      <th>IMEI</th>\n",
       "      <th>Last Location Name</th>\n",
       "      <th>...</th>\n",
       "      <th>Youtube DL (Bytes)</th>\n",
       "      <th>Youtube UL (Bytes)</th>\n",
       "      <th>Netflix DL (Bytes)</th>\n",
       "      <th>Netflix UL (Bytes)</th>\n",
       "      <th>Gaming DL (Bytes)</th>\n",
       "      <th>Gaming UL (Bytes)</th>\n",
       "      <th>Other DL (Bytes)</th>\n",
       "      <th>Other UL (Bytes)</th>\n",
       "      <th>Total UL (Bytes)</th>\n",
       "      <th>Total DL (Bytes)</th>\n",
       "    </tr>\n",
       "  </thead>\n",
       "  <tbody>\n",
       "    <tr>\n",
       "      <th>0</th>\n",
       "      <td>13114483460844900352</td>\n",
       "      <td>2019-04-04 12:01:18</td>\n",
       "      <td>770.0</td>\n",
       "      <td>2019-04-25 14:35:31</td>\n",
       "      <td>662.0</td>\n",
       "      <td>1823652.0</td>\n",
       "      <td>2.082014e+14</td>\n",
       "      <td>3.366496e+10</td>\n",
       "      <td>3.552121e+13</td>\n",
       "      <td>9164566995485190</td>\n",
       "      <td>...</td>\n",
       "      <td>15854611.0</td>\n",
       "      <td>2501332.0</td>\n",
       "      <td>8198936.0</td>\n",
       "      <td>9656251.0</td>\n",
       "      <td>278082303.0</td>\n",
       "      <td>14344150.0</td>\n",
       "      <td>171744450.0</td>\n",
       "      <td>8814393.0</td>\n",
       "      <td>36749741.0</td>\n",
       "      <td>308879636.0</td>\n",
       "    </tr>\n",
       "    <tr>\n",
       "      <th>1</th>\n",
       "      <td>13114483482878900224</td>\n",
       "      <td>2019-04-09 13:04:04</td>\n",
       "      <td>235.0</td>\n",
       "      <td>2019-04-25 08:15:48</td>\n",
       "      <td>606.0</td>\n",
       "      <td>1365104.0</td>\n",
       "      <td>2.082019e+14</td>\n",
       "      <td>3.368185e+10</td>\n",
       "      <td>3.579401e+13</td>\n",
       "      <td>L77566A</td>\n",
       "      <td>...</td>\n",
       "      <td>20247395.0</td>\n",
       "      <td>19111729.0</td>\n",
       "      <td>18338413.0</td>\n",
       "      <td>17227132.0</td>\n",
       "      <td>608750074.0</td>\n",
       "      <td>1170709.0</td>\n",
       "      <td>526904238.0</td>\n",
       "      <td>15055145.0</td>\n",
       "      <td>53800391.0</td>\n",
       "      <td>653384965.0</td>\n",
       "    </tr>\n",
       "    <tr>\n",
       "      <th>2</th>\n",
       "      <td>13114483484080500736</td>\n",
       "      <td>2019-04-09 17:42:11</td>\n",
       "      <td>1.0</td>\n",
       "      <td>2019-04-25 11:58:13</td>\n",
       "      <td>652.0</td>\n",
       "      <td>1361762.0</td>\n",
       "      <td>2.082003e+14</td>\n",
       "      <td>3.376063e+10</td>\n",
       "      <td>3.528151e+13</td>\n",
       "      <td>D42335A</td>\n",
       "      <td>...</td>\n",
       "      <td>19725661.0</td>\n",
       "      <td>14699576.0</td>\n",
       "      <td>17587794.0</td>\n",
       "      <td>6163408.0</td>\n",
       "      <td>229584621.0</td>\n",
       "      <td>395630.0</td>\n",
       "      <td>410692588.0</td>\n",
       "      <td>4215763.0</td>\n",
       "      <td>27883638.0</td>\n",
       "      <td>279807335.0</td>\n",
       "    </tr>\n",
       "    <tr>\n",
       "      <th>3</th>\n",
       "      <td>13114483485442799616</td>\n",
       "      <td>2019-04-10 00:31:25</td>\n",
       "      <td>486.0</td>\n",
       "      <td>2019-04-25 07:36:35</td>\n",
       "      <td>171.0</td>\n",
       "      <td>1321509.0</td>\n",
       "      <td>2.082014e+14</td>\n",
       "      <td>3.375034e+10</td>\n",
       "      <td>3.535661e+13</td>\n",
       "      <td>T21824A</td>\n",
       "      <td>...</td>\n",
       "      <td>21388122.0</td>\n",
       "      <td>15146643.0</td>\n",
       "      <td>13994646.0</td>\n",
       "      <td>1097942.0</td>\n",
       "      <td>799538153.0</td>\n",
       "      <td>10849722.0</td>\n",
       "      <td>749039933.0</td>\n",
       "      <td>12797283.0</td>\n",
       "      <td>43324218.0</td>\n",
       "      <td>846028530.0</td>\n",
       "    </tr>\n",
       "    <tr>\n",
       "      <th>4</th>\n",
       "      <td>13114483499480700928</td>\n",
       "      <td>2019-04-12 20:10:23</td>\n",
       "      <td>565.0</td>\n",
       "      <td>2019-04-25 10:40:32</td>\n",
       "      <td>954.0</td>\n",
       "      <td>1089009.0</td>\n",
       "      <td>2.082014e+14</td>\n",
       "      <td>3.369980e+10</td>\n",
       "      <td>3.540701e+13</td>\n",
       "      <td>D88865A</td>\n",
       "      <td>...</td>\n",
       "      <td>15259380.0</td>\n",
       "      <td>18962873.0</td>\n",
       "      <td>17124581.0</td>\n",
       "      <td>415218.0</td>\n",
       "      <td>527707248.0</td>\n",
       "      <td>3529801.0</td>\n",
       "      <td>550709500.0</td>\n",
       "      <td>13910322.0</td>\n",
       "      <td>38542814.0</td>\n",
       "      <td>569138589.0</td>\n",
       "    </tr>\n",
       "  </tbody>\n",
       "</table>\n",
       "<p>5 rows × 55 columns</p>\n",
       "</div>"
      ],
      "text/plain": [
       "              Bearer Id               Start  Start ms                 End  \\\n",
       "0  13114483460844900352 2019-04-04 12:01:18     770.0 2019-04-25 14:35:31   \n",
       "1  13114483482878900224 2019-04-09 13:04:04     235.0 2019-04-25 08:15:48   \n",
       "2  13114483484080500736 2019-04-09 17:42:11       1.0 2019-04-25 11:58:13   \n",
       "3  13114483485442799616 2019-04-10 00:31:25     486.0 2019-04-25 07:36:35   \n",
       "4  13114483499480700928 2019-04-12 20:10:23     565.0 2019-04-25 10:40:32   \n",
       "\n",
       "   End ms  Dur. (ms)          IMSI  MSISDN/Number          IMEI  \\\n",
       "0   662.0  1823652.0  2.082014e+14   3.366496e+10  3.552121e+13   \n",
       "1   606.0  1365104.0  2.082019e+14   3.368185e+10  3.579401e+13   \n",
       "2   652.0  1361762.0  2.082003e+14   3.376063e+10  3.528151e+13   \n",
       "3   171.0  1321509.0  2.082014e+14   3.375034e+10  3.535661e+13   \n",
       "4   954.0  1089009.0  2.082014e+14   3.369980e+10  3.540701e+13   \n",
       "\n",
       "  Last Location Name  ...  Youtube DL (Bytes)  Youtube UL (Bytes)  \\\n",
       "0   9164566995485190  ...          15854611.0           2501332.0   \n",
       "1            L77566A  ...          20247395.0          19111729.0   \n",
       "2            D42335A  ...          19725661.0          14699576.0   \n",
       "3            T21824A  ...          21388122.0          15146643.0   \n",
       "4            D88865A  ...          15259380.0          18962873.0   \n",
       "\n",
       "   Netflix DL (Bytes)  Netflix UL (Bytes)  Gaming DL (Bytes)  \\\n",
       "0           8198936.0           9656251.0        278082303.0   \n",
       "1          18338413.0          17227132.0        608750074.0   \n",
       "2          17587794.0           6163408.0        229584621.0   \n",
       "3          13994646.0           1097942.0        799538153.0   \n",
       "4          17124581.0            415218.0        527707248.0   \n",
       "\n",
       "   Gaming UL (Bytes)  Other DL (Bytes)  Other UL (Bytes)  Total UL (Bytes)  \\\n",
       "0         14344150.0       171744450.0         8814393.0        36749741.0   \n",
       "1          1170709.0       526904238.0        15055145.0        53800391.0   \n",
       "2           395630.0       410692588.0         4215763.0        27883638.0   \n",
       "3         10849722.0       749039933.0        12797283.0        43324218.0   \n",
       "4          3529801.0       550709500.0        13910322.0        38542814.0   \n",
       "\n",
       "   Total DL (Bytes)  \n",
       "0       308879636.0  \n",
       "1       653384965.0  \n",
       "2       279807335.0  \n",
       "3       846028530.0  \n",
       "4       569138589.0  \n",
       "\n",
       "[5 rows x 55 columns]"
      ]
     },
     "execution_count": 5,
     "metadata": {},
     "output_type": "execute_result"
    }
   ],
   "source": [
    "telco_clean = impute_missing_values(telco_df_dropped)\n",
    "telco_clean.head()"
   ]
  },
  {
   "cell_type": "code",
   "execution_count": 13,
   "id": "123427a3-16a9-4937-8f9d-fba6e84e05ee",
   "metadata": {},
   "outputs": [
    {
     "name": "stderr",
     "output_type": "stream",
     "text": [
      ".\n",
      "----------------------------------------------------------------------\n",
      "Ran 1 test in 239.269s\n",
      "\n",
      "OK\n"
     ]
    }
   ],
   "source": [
    "#Run unit test on load_data.py\n",
    "%run ../tests/test_load_data.py"
   ]
  },
  {
   "cell_type": "code",
   "execution_count": 104,
   "id": "2d6f44b7-b557-495b-bbe6-e239363dd256",
   "metadata": {
    "collapsed": true,
    "jupyter": {
     "outputs_hidden": true,
     "source_hidden": true
    },
    "tags": []
   },
   "outputs": [
    {
     "data": {
      "text/plain": [
       "Bearer Id                                   0\n",
       "Start                                       0\n",
       "Start ms                                    0\n",
       "End                                         0\n",
       "End ms                                      0\n",
       "Dur. (ms)                                   0\n",
       "IMSI                                        0\n",
       "MSISDN/Number                               0\n",
       "IMEI                                        0\n",
       "Last Location Name                          0\n",
       "Avg RTT DL (ms)                             0\n",
       "Avg RTT UL (ms)                             0\n",
       "Avg Bearer TP DL (kbps)                     0\n",
       "Avg Bearer TP UL (kbps)                     0\n",
       "TCP DL Retrans. Vol (Bytes)                 0\n",
       "TCP UL Retrans. Vol (Bytes)                 0\n",
       "DL TP < 50 Kbps (%)                         0\n",
       "50 Kbps < DL TP < 250 Kbps (%)              0\n",
       "250 Kbps < DL TP < 1 Mbps (%)               0\n",
       "DL TP > 1 Mbps (%)                          0\n",
       "UL TP < 10 Kbps (%)                         0\n",
       "10 Kbps < UL TP < 50 Kbps (%)               0\n",
       "50 Kbps < UL TP < 300 Kbps (%)              0\n",
       "UL TP > 300 Kbps (%)                        0\n",
       "HTTP DL (Bytes)                             0\n",
       "HTTP UL (Bytes)                             0\n",
       "Activity Duration DL (ms)                   0\n",
       "Activity Duration UL (ms)                   0\n",
       "Dur. (ms).1                                 0\n",
       "Handset Manufacturer                        0\n",
       "Handset Type                                0\n",
       "Nb of sec with 125000B < Vol DL             0\n",
       "Nb of sec with 1250B < Vol UL < 6250B       0\n",
       "Nb of sec with 31250B < Vol DL < 125000B    0\n",
       "Nb of sec with 37500B < Vol UL              0\n",
       "Nb of sec with 6250B < Vol DL < 31250B      0\n",
       "Nb of sec with 6250B < Vol UL < 37500B      0\n",
       "Nb of sec with Vol DL < 6250B               0\n",
       "Nb of sec with Vol UL < 1250B               0\n",
       "Social Media DL (Bytes)                     0\n",
       "Social Media UL (Bytes)                     0\n",
       "Google DL (Bytes)                           0\n",
       "Google UL (Bytes)                           0\n",
       "Email DL (Bytes)                            0\n",
       "Email UL (Bytes)                            0\n",
       "Youtube DL (Bytes)                          0\n",
       "Youtube UL (Bytes)                          0\n",
       "Netflix DL (Bytes)                          0\n",
       "Netflix UL (Bytes)                          0\n",
       "Gaming DL (Bytes)                           0\n",
       "Gaming UL (Bytes)                           0\n",
       "Other DL (Bytes)                            0\n",
       "Other UL (Bytes)                            0\n",
       "Total UL (Bytes)                            0\n",
       "Total DL (Bytes)                            0\n",
       "dtype: int64"
      ]
     },
     "execution_count": 104,
     "metadata": {},
     "output_type": "execute_result"
    }
   ],
   "source": [
    "telco_clean.isna().sum()"
   ]
  },
  {
   "cell_type": "markdown",
   "id": "f0845432-2fe4-4aea-b425-6821c6eca252",
   "metadata": {},
   "source": [
    "#### Check the Data types of all columns to ensure that they are correct"
   ]
  },
  {
   "cell_type": "code",
   "execution_count": 105,
   "id": "eb2258ae-1566-47be-94c9-f4ca19227836",
   "metadata": {
    "collapsed": true,
    "jupyter": {
     "outputs_hidden": true,
     "source_hidden": true
    },
    "tags": []
   },
   "outputs": [
    {
     "data": {
      "text/plain": [
       "Bearer Id                                           uint64\n",
       "Start                                       datetime64[ns]\n",
       "Start ms                                           float64\n",
       "End                                         datetime64[ns]\n",
       "End ms                                             float64\n",
       "Dur. (ms)                                          float64\n",
       "IMSI                                               float64\n",
       "MSISDN/Number                                      float64\n",
       "IMEI                                               float64\n",
       "Last Location Name                                  object\n",
       "Avg RTT DL (ms)                                    float64\n",
       "Avg RTT UL (ms)                                    float64\n",
       "Avg Bearer TP DL (kbps)                            float64\n",
       "Avg Bearer TP UL (kbps)                            float64\n",
       "TCP DL Retrans. Vol (Bytes)                        float64\n",
       "TCP UL Retrans. Vol (Bytes)                        float64\n",
       "DL TP < 50 Kbps (%)                                float64\n",
       "50 Kbps < DL TP < 250 Kbps (%)                     float64\n",
       "250 Kbps < DL TP < 1 Mbps (%)                      float64\n",
       "DL TP > 1 Mbps (%)                                 float64\n",
       "UL TP < 10 Kbps (%)                                float64\n",
       "10 Kbps < UL TP < 50 Kbps (%)                      float64\n",
       "50 Kbps < UL TP < 300 Kbps (%)                     float64\n",
       "UL TP > 300 Kbps (%)                               float64\n",
       "HTTP DL (Bytes)                                    float64\n",
       "HTTP UL (Bytes)                                    float64\n",
       "Activity Duration DL (ms)                          float64\n",
       "Activity Duration UL (ms)                          float64\n",
       "Dur. (ms).1                                        float64\n",
       "Handset Manufacturer                                object\n",
       "Handset Type                                        object\n",
       "Nb of sec with 125000B < Vol DL                    float64\n",
       "Nb of sec with 1250B < Vol UL < 6250B              float64\n",
       "Nb of sec with 31250B < Vol DL < 125000B           float64\n",
       "Nb of sec with 37500B < Vol UL                     float64\n",
       "Nb of sec with 6250B < Vol DL < 31250B             float64\n",
       "Nb of sec with 6250B < Vol UL < 37500B             float64\n",
       "Nb of sec with Vol DL < 6250B                      float64\n",
       "Nb of sec with Vol UL < 1250B                      float64\n",
       "Social Media DL (Bytes)                            float64\n",
       "Social Media UL (Bytes)                            float64\n",
       "Google DL (Bytes)                                  float64\n",
       "Google UL (Bytes)                                  float64\n",
       "Email DL (Bytes)                                   float64\n",
       "Email UL (Bytes)                                   float64\n",
       "Youtube DL (Bytes)                                 float64\n",
       "Youtube UL (Bytes)                                 float64\n",
       "Netflix DL (Bytes)                                 float64\n",
       "Netflix UL (Bytes)                                 float64\n",
       "Gaming DL (Bytes)                                  float64\n",
       "Gaming UL (Bytes)                                  float64\n",
       "Other DL (Bytes)                                   float64\n",
       "Other UL (Bytes)                                   float64\n",
       "Total UL (Bytes)                                   float64\n",
       "Total DL (Bytes)                                   float64\n",
       "dtype: object"
      ]
     },
     "execution_count": 105,
     "metadata": {},
     "output_type": "execute_result"
    }
   ],
   "source": [
    "telco_clean.dtypes"
   ]
  },
  {
   "cell_type": "markdown",
   "id": "77167991-f3e5-4d94-8e44-43e03367a61a",
   "metadata": {},
   "source": [
    "All the columns are of the correct datatype"
   ]
  },
  {
   "cell_type": "code",
   "execution_count": 6,
   "id": "57e502e4-156a-40d8-8cc1-bed86e193e49",
   "metadata": {
    "tags": []
   },
   "outputs": [],
   "source": [
    "def convertColumnTypes(df, columnNames, dataType):\n",
    "    \"\"\"\n",
    "    This function converts the datatypes of columns specified to the data type specified\n",
    "    \"\"\"\n",
    "    for i in columnNames:\n",
    "        df[i]=df[i].map(dataType)\n",
    "        "
   ]
  },
  {
   "cell_type": "markdown",
   "id": "e94fe1c9-7495-4de2-8845-aeb7e3afafb1",
   "metadata": {},
   "source": [
    "#### User Aggregation\n",
    "We are going to aggregate users based on the information in the columns:\n",
    "   <ul>\n",
    "    <li>Number of xDR sessions</li>\n",
    "    <li>Session duration</li>\n",
    "    <li>The total download (DL) and upload (UL) data</li>\n",
    "    <li>The total data volume (in Bytes) during this session in each application </li>\n",
    "   </ul>\n",
    "    "
   ]
  },
  {
   "cell_type": "code",
   "execution_count": 7,
   "id": "15ff0c54-f239-46b7-81ff-f549193d577a",
   "metadata": {
    "tags": []
   },
   "outputs": [],
   "source": [
    "df = telco_clean.groupby('IMSI').aggregate({'Bearer Id': 'count', \n",
    "                                    'Dur. (ms)': 'sum', \n",
    "                                    'Total DL (Bytes)': 'sum', \n",
    "                                    'Total UL (Bytes)': 'sum', \n",
    "                                    'Social Media DL (Bytes)': 'sum', \n",
    "                                    'Social Media UL (Bytes)':  'sum', \n",
    "                                    'Google DL (Bytes)': 'sum',\n",
    "                                    'Google UL (Bytes)': 'sum', \n",
    "                                    'Email DL (Bytes)': 'sum',\n",
    "                                    'Email UL (Bytes)': 'sum',\n",
    "                                    'Youtube DL (Bytes)': 'sum', \n",
    "                                    'Youtube UL (Bytes)': 'sum',\n",
    "                                    'Netflix DL (Bytes)': 'sum',\n",
    "                                    'Netflix UL (Bytes)': 'sum',\n",
    "                                    'Gaming DL (Bytes)': 'sum',\n",
    "                                    'Gaming UL (Bytes)': 'sum',\n",
    "                                    'Other DL (Bytes)': 'sum',\n",
    "                                    'Other UL (Bytes)': 'sum'\n",
    "                                 }).reset_index()"
   ]
  },
  {
   "cell_type": "code",
   "execution_count": 12,
   "id": "c3d6294e-ca27-4d7c-9f27-bd928625d69d",
   "metadata": {
    "tags": []
   },
   "outputs": [
    {
     "data": {
      "text/html": [
       "<div>\n",
       "<style scoped>\n",
       "    .dataframe tbody tr th:only-of-type {\n",
       "        vertical-align: middle;\n",
       "    }\n",
       "\n",
       "    .dataframe tbody tr th {\n",
       "        vertical-align: top;\n",
       "    }\n",
       "\n",
       "    .dataframe thead th {\n",
       "        text-align: right;\n",
       "    }\n",
       "</style>\n",
       "<table border=\"1\" class=\"dataframe\">\n",
       "  <thead>\n",
       "    <tr style=\"text-align: right;\">\n",
       "      <th></th>\n",
       "      <th>IMSI</th>\n",
       "      <th>Bearer Id</th>\n",
       "      <th>Dur. (ms)</th>\n",
       "      <th>Total DL (Bytes)</th>\n",
       "      <th>Total UL (Bytes)</th>\n",
       "      <th>Social Media DL (Bytes)</th>\n",
       "      <th>Social Media UL (Bytes)</th>\n",
       "      <th>Google DL (Bytes)</th>\n",
       "      <th>Google UL (Bytes)</th>\n",
       "      <th>Email DL (Bytes)</th>\n",
       "      <th>Email UL (Bytes)</th>\n",
       "      <th>Youtube DL (Bytes)</th>\n",
       "      <th>Youtube UL (Bytes)</th>\n",
       "      <th>Netflix DL (Bytes)</th>\n",
       "      <th>Netflix UL (Bytes)</th>\n",
       "      <th>Gaming DL (Bytes)</th>\n",
       "      <th>Gaming UL (Bytes)</th>\n",
       "      <th>Other DL (Bytes)</th>\n",
       "      <th>Other UL (Bytes)</th>\n",
       "      <th>Social Media</th>\n",
       "    </tr>\n",
       "  </thead>\n",
       "  <tbody>\n",
       "    <tr>\n",
       "      <th>0</th>\n",
       "      <td>2.040471e+14</td>\n",
       "      <td>1</td>\n",
       "      <td>869844.0</td>\n",
       "      <td>78697597.0</td>\n",
       "      <td>60456049.0</td>\n",
       "      <td>1500145.0</td>\n",
       "      <td>45943.0</td>\n",
       "      <td>5985089.0</td>\n",
       "      <td>3233558.0</td>\n",
       "      <td>2518425.0</td>\n",
       "      <td>812549.0</td>\n",
       "      <td>18980320.0</td>\n",
       "      <td>21960390.0</td>\n",
       "      <td>21621336.0</td>\n",
       "      <td>7224894.0</td>\n",
       "      <td>28092282.0</td>\n",
       "      <td>14977978.0</td>\n",
       "      <td>3.891597e+08</td>\n",
       "      <td>12200737.0</td>\n",
       "      <td>1546088.0</td>\n",
       "    </tr>\n",
       "    <tr>\n",
       "      <th>1</th>\n",
       "      <td>2.040808e+14</td>\n",
       "      <td>1</td>\n",
       "      <td>877385.0</td>\n",
       "      <td>194828056.0</td>\n",
       "      <td>37295915.0</td>\n",
       "      <td>668596.0</td>\n",
       "      <td>46628.0</td>\n",
       "      <td>8572779.0</td>\n",
       "      <td>1865881.0</td>\n",
       "      <td>842279.0</td>\n",
       "      <td>678492.0</td>\n",
       "      <td>9839889.0</td>\n",
       "      <td>2120016.0</td>\n",
       "      <td>10340908.0</td>\n",
       "      <td>16251392.0</td>\n",
       "      <td>164563605.0</td>\n",
       "      <td>13485133.0</td>\n",
       "      <td>4.676781e+08</td>\n",
       "      <td>2848373.0</td>\n",
       "      <td>715224.0</td>\n",
       "    </tr>\n",
       "    <tr>\n",
       "      <th>2</th>\n",
       "      <td>2.082001e+14</td>\n",
       "      <td>1</td>\n",
       "      <td>86019.0</td>\n",
       "      <td>31376981.0</td>\n",
       "      <td>53794658.0</td>\n",
       "      <td>3073697.0</td>\n",
       "      <td>49084.0</td>\n",
       "      <td>603691.0</td>\n",
       "      <td>1020971.0</td>\n",
       "      <td>3076735.0</td>\n",
       "      <td>580766.0</td>\n",
       "      <td>5556563.0</td>\n",
       "      <td>14325876.0</td>\n",
       "      <td>15305361.0</td>\n",
       "      <td>16525201.0</td>\n",
       "      <td>3760934.0</td>\n",
       "      <td>5363582.0</td>\n",
       "      <td>5.000445e+08</td>\n",
       "      <td>15929178.0</td>\n",
       "      <td>3122781.0</td>\n",
       "    </tr>\n",
       "    <tr>\n",
       "      <th>3</th>\n",
       "      <td>2.082001e+14</td>\n",
       "      <td>1</td>\n",
       "      <td>86254.0</td>\n",
       "      <td>392918313.0</td>\n",
       "      <td>33583272.0</td>\n",
       "      <td>2542767.0</td>\n",
       "      <td>34337.0</td>\n",
       "      <td>10699827.0</td>\n",
       "      <td>3111651.0</td>\n",
       "      <td>3248863.0</td>\n",
       "      <td>606871.0</td>\n",
       "      <td>22414714.0</td>\n",
       "      <td>3242918.0</td>\n",
       "      <td>10065639.0</td>\n",
       "      <td>17720213.0</td>\n",
       "      <td>343946503.0</td>\n",
       "      <td>159394.0</td>\n",
       "      <td>3.009029e+08</td>\n",
       "      <td>8707888.0</td>\n",
       "      <td>2577104.0</td>\n",
       "    </tr>\n",
       "    <tr>\n",
       "      <th>4</th>\n",
       "      <td>2.082001e+14</td>\n",
       "      <td>2</td>\n",
       "      <td>573923.0</td>\n",
       "      <td>961767023.0</td>\n",
       "      <td>71325004.0</td>\n",
       "      <td>3326811.0</td>\n",
       "      <td>99905.0</td>\n",
       "      <td>9118088.0</td>\n",
       "      <td>2547799.0</td>\n",
       "      <td>4225757.0</td>\n",
       "      <td>1338705.0</td>\n",
       "      <td>4046597.0</td>\n",
       "      <td>9793604.0</td>\n",
       "      <td>30748449.0</td>\n",
       "      <td>26594966.0</td>\n",
       "      <td>910301321.0</td>\n",
       "      <td>7383445.0</td>\n",
       "      <td>1.055869e+09</td>\n",
       "      <td>23566580.0</td>\n",
       "      <td>3426716.0</td>\n",
       "    </tr>\n",
       "  </tbody>\n",
       "</table>\n",
       "</div>"
      ],
      "text/plain": [
       "           IMSI  Bearer Id  Dur. (ms)  Total DL (Bytes)  Total UL (Bytes)  \\\n",
       "0  2.040471e+14          1   869844.0        78697597.0        60456049.0   \n",
       "1  2.040808e+14          1   877385.0       194828056.0        37295915.0   \n",
       "2  2.082001e+14          1    86019.0        31376981.0        53794658.0   \n",
       "3  2.082001e+14          1    86254.0       392918313.0        33583272.0   \n",
       "4  2.082001e+14          2   573923.0       961767023.0        71325004.0   \n",
       "\n",
       "   Social Media DL (Bytes)  Social Media UL (Bytes)  Google DL (Bytes)  \\\n",
       "0                1500145.0                  45943.0          5985089.0   \n",
       "1                 668596.0                  46628.0          8572779.0   \n",
       "2                3073697.0                  49084.0           603691.0   \n",
       "3                2542767.0                  34337.0         10699827.0   \n",
       "4                3326811.0                  99905.0          9118088.0   \n",
       "\n",
       "   Google UL (Bytes)  Email DL (Bytes)  Email UL (Bytes)  Youtube DL (Bytes)  \\\n",
       "0          3233558.0         2518425.0          812549.0          18980320.0   \n",
       "1          1865881.0          842279.0          678492.0           9839889.0   \n",
       "2          1020971.0         3076735.0          580766.0           5556563.0   \n",
       "3          3111651.0         3248863.0          606871.0          22414714.0   \n",
       "4          2547799.0         4225757.0         1338705.0           4046597.0   \n",
       "\n",
       "   Youtube UL (Bytes)  Netflix DL (Bytes)  Netflix UL (Bytes)  \\\n",
       "0          21960390.0          21621336.0           7224894.0   \n",
       "1           2120016.0          10340908.0          16251392.0   \n",
       "2          14325876.0          15305361.0          16525201.0   \n",
       "3           3242918.0          10065639.0          17720213.0   \n",
       "4           9793604.0          30748449.0          26594966.0   \n",
       "\n",
       "   Gaming DL (Bytes)  Gaming UL (Bytes)  Other DL (Bytes)  Other UL (Bytes)  \\\n",
       "0         28092282.0         14977978.0      3.891597e+08        12200737.0   \n",
       "1        164563605.0         13485133.0      4.676781e+08         2848373.0   \n",
       "2          3760934.0          5363582.0      5.000445e+08        15929178.0   \n",
       "3        343946503.0           159394.0      3.009029e+08         8707888.0   \n",
       "4        910301321.0          7383445.0      1.055869e+09        23566580.0   \n",
       "\n",
       "   Social Media  \n",
       "0     1546088.0  \n",
       "1      715224.0  \n",
       "2     3122781.0  \n",
       "3     2577104.0  \n",
       "4     3426716.0  "
      ]
     },
     "execution_count": 12,
     "metadata": {},
     "output_type": "execute_result"
    }
   ],
   "source": [
    "df.head()"
   ]
  },
  {
   "cell_type": "code",
   "execution_count": 10,
   "id": "1fd37f32-344f-47e5-ba83-50262d9197aa",
   "metadata": {
    "tags": []
   },
   "outputs": [],
   "source": [
    "def combineColumns(df, columns):\n",
    "    \n",
    "    for key in columns:\n",
    "        col1=columns[key][0]\n",
    "        col2=columns[key][1]\n",
    "        df[key]=df[col1]+df[col2]\n",
    "        df=df.drop(columns=[col1,col2])\n",
    "    return df\n",
    "\n",
    "import copy"
   ]
  },
  {
   "cell_type": "code",
   "execution_count": 11,
   "id": "4454496b-5283-4543-aa21-4c990599b075",
   "metadata": {
    "collapsed": true,
    "jupyter": {
     "outputs_hidden": true,
     "source_hidden": true
    },
    "tags": []
   },
   "outputs": [
    {
     "data": {
      "text/plain": [
       "['IMSI',\n",
       " 'Bearer Id',\n",
       " 'Dur. (ms)',\n",
       " 'Total DL (Bytes)',\n",
       " 'Total UL (Bytes)',\n",
       " 'Social Media DL (Bytes)',\n",
       " 'Social Media UL (Bytes)',\n",
       " 'Google DL (Bytes)',\n",
       " 'Google UL (Bytes)',\n",
       " 'Email DL (Bytes)',\n",
       " 'Email UL (Bytes)',\n",
       " 'Youtube DL (Bytes)',\n",
       " 'Youtube UL (Bytes)',\n",
       " 'Netflix DL (Bytes)',\n",
       " 'Netflix UL (Bytes)',\n",
       " 'Gaming DL (Bytes)',\n",
       " 'Gaming UL (Bytes)',\n",
       " 'Other DL (Bytes)',\n",
       " 'Other UL (Bytes)']"
      ]
     },
     "execution_count": 11,
     "metadata": {},
     "output_type": "execute_result"
    }
   ],
   "source": [
    "df.columns.tolist()"
   ]
  },
  {
   "cell_type": "code",
   "execution_count": 11,
   "id": "a79a2db7-f42a-498e-8206-5c83bbfd998f",
   "metadata": {
    "tags": []
   },
   "outputs": [
    {
     "data": {
      "text/html": [
       "<div>\n",
       "<style scoped>\n",
       "    .dataframe tbody tr th:only-of-type {\n",
       "        vertical-align: middle;\n",
       "    }\n",
       "\n",
       "    .dataframe tbody tr th {\n",
       "        vertical-align: top;\n",
       "    }\n",
       "\n",
       "    .dataframe thead th {\n",
       "        text-align: right;\n",
       "    }\n",
       "</style>\n",
       "<table border=\"1\" class=\"dataframe\">\n",
       "  <thead>\n",
       "    <tr style=\"text-align: right;\">\n",
       "      <th></th>\n",
       "      <th>IMSI</th>\n",
       "      <th>Bearer Id</th>\n",
       "      <th>Dur. (ms)</th>\n",
       "      <th>Total DL (Bytes)</th>\n",
       "      <th>Total UL (Bytes)</th>\n",
       "      <th>Social Media</th>\n",
       "      <th>Google</th>\n",
       "      <th>Email</th>\n",
       "      <th>Youtube</th>\n",
       "      <th>Netflix</th>\n",
       "      <th>Gaming</th>\n",
       "      <th>Other</th>\n",
       "    </tr>\n",
       "  </thead>\n",
       "  <tbody>\n",
       "    <tr>\n",
       "      <th>0</th>\n",
       "      <td>2.040471e+14</td>\n",
       "      <td>1</td>\n",
       "      <td>869844.0</td>\n",
       "      <td>78697597.0</td>\n",
       "      <td>60456049.0</td>\n",
       "      <td>1546088.0</td>\n",
       "      <td>9218647.0</td>\n",
       "      <td>3330974.0</td>\n",
       "      <td>40940710.0</td>\n",
       "      <td>28846230.0</td>\n",
       "      <td>43070260.0</td>\n",
       "      <td>4.013605e+08</td>\n",
       "    </tr>\n",
       "    <tr>\n",
       "      <th>1</th>\n",
       "      <td>2.040808e+14</td>\n",
       "      <td>1</td>\n",
       "      <td>877385.0</td>\n",
       "      <td>194828056.0</td>\n",
       "      <td>37295915.0</td>\n",
       "      <td>715224.0</td>\n",
       "      <td>10438660.0</td>\n",
       "      <td>1520771.0</td>\n",
       "      <td>11959905.0</td>\n",
       "      <td>26592300.0</td>\n",
       "      <td>178048738.0</td>\n",
       "      <td>4.705265e+08</td>\n",
       "    </tr>\n",
       "    <tr>\n",
       "      <th>2</th>\n",
       "      <td>2.082001e+14</td>\n",
       "      <td>1</td>\n",
       "      <td>86019.0</td>\n",
       "      <td>31376981.0</td>\n",
       "      <td>53794658.0</td>\n",
       "      <td>3122781.0</td>\n",
       "      <td>1624662.0</td>\n",
       "      <td>3657501.0</td>\n",
       "      <td>19882439.0</td>\n",
       "      <td>31830562.0</td>\n",
       "      <td>9124516.0</td>\n",
       "      <td>5.159737e+08</td>\n",
       "    </tr>\n",
       "    <tr>\n",
       "      <th>3</th>\n",
       "      <td>2.082001e+14</td>\n",
       "      <td>1</td>\n",
       "      <td>86254.0</td>\n",
       "      <td>392918313.0</td>\n",
       "      <td>33583272.0</td>\n",
       "      <td>2577104.0</td>\n",
       "      <td>13811478.0</td>\n",
       "      <td>3855734.0</td>\n",
       "      <td>25657632.0</td>\n",
       "      <td>27785852.0</td>\n",
       "      <td>344105897.0</td>\n",
       "      <td>3.096107e+08</td>\n",
       "    </tr>\n",
       "    <tr>\n",
       "      <th>4</th>\n",
       "      <td>2.082001e+14</td>\n",
       "      <td>2</td>\n",
       "      <td>573923.0</td>\n",
       "      <td>961767023.0</td>\n",
       "      <td>71325004.0</td>\n",
       "      <td>3426716.0</td>\n",
       "      <td>11665887.0</td>\n",
       "      <td>5564462.0</td>\n",
       "      <td>13840201.0</td>\n",
       "      <td>57343415.0</td>\n",
       "      <td>917684766.0</td>\n",
       "      <td>1.079435e+09</td>\n",
       "    </tr>\n",
       "  </tbody>\n",
       "</table>\n",
       "</div>"
      ],
      "text/plain": [
       "           IMSI  Bearer Id  Dur. (ms)  Total DL (Bytes)  Total UL (Bytes)  \\\n",
       "0  2.040471e+14          1   869844.0        78697597.0        60456049.0   \n",
       "1  2.040808e+14          1   877385.0       194828056.0        37295915.0   \n",
       "2  2.082001e+14          1    86019.0        31376981.0        53794658.0   \n",
       "3  2.082001e+14          1    86254.0       392918313.0        33583272.0   \n",
       "4  2.082001e+14          2   573923.0       961767023.0        71325004.0   \n",
       "\n",
       "   Social Media      Google      Email     Youtube     Netflix       Gaming  \\\n",
       "0     1546088.0   9218647.0  3330974.0  40940710.0  28846230.0   43070260.0   \n",
       "1      715224.0  10438660.0  1520771.0  11959905.0  26592300.0  178048738.0   \n",
       "2     3122781.0   1624662.0  3657501.0  19882439.0  31830562.0    9124516.0   \n",
       "3     2577104.0  13811478.0  3855734.0  25657632.0  27785852.0  344105897.0   \n",
       "4     3426716.0  11665887.0  5564462.0  13840201.0  57343415.0  917684766.0   \n",
       "\n",
       "          Other  \n",
       "0  4.013605e+08  \n",
       "1  4.705265e+08  \n",
       "2  5.159737e+08  \n",
       "3  3.096107e+08  \n",
       "4  1.079435e+09  "
      ]
     },
     "execution_count": 11,
     "metadata": {},
     "output_type": "execute_result"
    }
   ],
   "source": [
    "my_dict= {'Social Media': ['Social Media DL (Bytes)', 'Social Media UL (Bytes)'],\n",
    "          'Google': ['Google DL (Bytes)', 'Google UL (Bytes)'],\n",
    "          'Email': ['Email DL (Bytes)', 'Email UL (Bytes)'],\n",
    "          'Youtube': ['Youtube DL (Bytes)', 'Youtube UL (Bytes)'],\n",
    "          'Netflix': ['Netflix DL (Bytes)', 'Netflix UL (Bytes)'],\n",
    "          'Gaming': ['Gaming DL (Bytes)', 'Gaming UL (Bytes)'],\n",
    "          'Other': ['Other DL (Bytes)', 'Other UL (Bytes)']\n",
    "         }\n",
    "user_info = combineColumns(df, my_dict)\n",
    "user_info.head()\n",
    "          "
   ]
  },
  {
   "cell_type": "markdown",
   "id": "c05373e4-93e4-43e1-8739-9483fe02f495",
   "metadata": {},
   "source": [
    "#### User_info Variables description\n",
    "We describe all the relevant variables and data types of the newly formed user_info dataframe which is an aggregation of user based on the volumes of data they use during an xDR session"
   ]
  },
  {
   "cell_type": "code",
   "execution_count": 60,
   "id": "ca4259cc-c330-41dc-8a72-8ffd8126a611",
   "metadata": {
    "tags": []
   },
   "outputs": [
    {
     "name": "stdout",
     "output_type": "stream",
     "text": [
      "<class 'pandas.core.frame.DataFrame'>\n",
      "RangeIndex: 106351 entries, 0 to 106350\n",
      "Data columns (total 13 columns):\n",
      " #   Column             Non-Null Count   Dtype  \n",
      "---  ------             --------------   -----  \n",
      " 0   IMSI               106351 non-null  float64\n",
      " 1   Bearer Id          106351 non-null  int64  \n",
      " 2   Dur. (ms)          106351 non-null  float64\n",
      " 3   Total DL (Bytes)   106351 non-null  float64\n",
      " 4   Total UL (Bytes)   106351 non-null  float64\n",
      " 5   Social Media       106351 non-null  float64\n",
      " 6   Google             106351 non-null  float64\n",
      " 7   Email              106351 non-null  float64\n",
      " 8   Youtube            106351 non-null  float64\n",
      " 9   Netflix            106351 non-null  float64\n",
      " 10  Gaming             106351 non-null  float64\n",
      " 11  Other              106351 non-null  float64\n",
      " 12  Total Data(Bytes)  106351 non-null  float64\n",
      "dtypes: float64(12), int64(1)\n",
      "memory usage: 10.5 MB\n"
     ]
    }
   ],
   "source": [
    "user_info.info()\n"
   ]
  },
  {
   "cell_type": "code",
   "execution_count": 13,
   "id": "b5efccff-e58b-4a62-8632-717939bab09f",
   "metadata": {},
   "outputs": [
    {
     "data": {
      "text/plain": [
       "(106351, 12)"
      ]
     },
     "execution_count": 13,
     "metadata": {},
     "output_type": "execute_result"
    }
   ],
   "source": [
    "#Look at the shape of the dataframe\n",
    "user_info.shape"
   ]
  },
  {
   "cell_type": "markdown",
   "id": "4812bd87-a5a1-4ad2-acf0-c1a37dfcff32",
   "metadata": {},
   "source": [
    "#### Non-Graphical Univariate analysis\n",
    "We then conduct a non-graphical univariate analysis on the dataframe by computing the dispersion parameters for each quantitative variables"
   ]
  },
  {
   "cell_type": "code",
   "execution_count": 14,
   "id": "2fe2664d-68e9-4d8d-b1d2-3a5dc65bfbec",
   "metadata": {},
   "outputs": [
    {
     "data": {
      "text/html": [
       "<div>\n",
       "<style scoped>\n",
       "    .dataframe tbody tr th:only-of-type {\n",
       "        vertical-align: middle;\n",
       "    }\n",
       "\n",
       "    .dataframe tbody tr th {\n",
       "        vertical-align: top;\n",
       "    }\n",
       "\n",
       "    .dataframe thead th {\n",
       "        text-align: right;\n",
       "    }\n",
       "</style>\n",
       "<table border=\"1\" class=\"dataframe\">\n",
       "  <thead>\n",
       "    <tr style=\"text-align: right;\">\n",
       "      <th></th>\n",
       "      <th>Dur. (ms)</th>\n",
       "      <th>Total DL (Bytes)</th>\n",
       "      <th>Total UL (Bytes)</th>\n",
       "      <th>Social Media</th>\n",
       "      <th>Google</th>\n",
       "      <th>Email</th>\n",
       "      <th>Youtube</th>\n",
       "      <th>Netflix</th>\n",
       "      <th>Gaming</th>\n",
       "      <th>Other</th>\n",
       "    </tr>\n",
       "  </thead>\n",
       "  <tbody>\n",
       "    <tr>\n",
       "      <th>count</th>\n",
       "      <td>1.063510e+05</td>\n",
       "      <td>1.063510e+05</td>\n",
       "      <td>1.063510e+05</td>\n",
       "      <td>1.063510e+05</td>\n",
       "      <td>1.063510e+05</td>\n",
       "      <td>1.063510e+05</td>\n",
       "      <td>1.063510e+05</td>\n",
       "      <td>1.063510e+05</td>\n",
       "      <td>1.063510e+05</td>\n",
       "      <td>1.063510e+05</td>\n",
       "    </tr>\n",
       "    <tr>\n",
       "      <th>mean</th>\n",
       "      <td>1.466420e+05</td>\n",
       "      <td>6.342476e+08</td>\n",
       "      <td>5.735734e+07</td>\n",
       "      <td>2.549910e+06</td>\n",
       "      <td>1.089098e+07</td>\n",
       "      <td>3.151163e+06</td>\n",
       "      <td>3.158412e+07</td>\n",
       "      <td>3.156503e+07</td>\n",
       "      <td>6.003381e+08</td>\n",
       "      <td>5.989977e+08</td>\n",
       "    </tr>\n",
       "    <tr>\n",
       "      <th>std</th>\n",
       "      <td>1.861173e+05</td>\n",
       "      <td>4.650188e+08</td>\n",
       "      <td>3.568615e+07</td>\n",
       "      <td>1.908677e+06</td>\n",
       "      <td>7.551163e+06</td>\n",
       "      <td>2.224336e+06</td>\n",
       "      <td>2.131071e+07</td>\n",
       "      <td>2.130507e+07</td>\n",
       "      <td>4.495975e+08</td>\n",
       "      <td>4.492046e+08</td>\n",
       "    </tr>\n",
       "    <tr>\n",
       "      <th>min</th>\n",
       "      <td>7.142000e+03</td>\n",
       "      <td>8.827082e+06</td>\n",
       "      <td>2.866892e+06</td>\n",
       "      <td>1.563000e+03</td>\n",
       "      <td>4.033000e+04</td>\n",
       "      <td>1.817600e+04</td>\n",
       "      <td>7.890300e+04</td>\n",
       "      <td>1.845690e+05</td>\n",
       "      <td>3.063580e+05</td>\n",
       "      <td>1.490450e+05</td>\n",
       "    </tr>\n",
       "    <tr>\n",
       "      <th>25%</th>\n",
       "      <td>7.273550e+04</td>\n",
       "      <td>3.150687e+08</td>\n",
       "      <td>3.640236e+07</td>\n",
       "      <td>1.211830e+06</td>\n",
       "      <td>5.945850e+06</td>\n",
       "      <td>1.675358e+06</td>\n",
       "      <td>1.863829e+07</td>\n",
       "      <td>1.857020e+07</td>\n",
       "      <td>2.883087e+08</td>\n",
       "      <td>2.858938e+08</td>\n",
       "    </tr>\n",
       "    <tr>\n",
       "      <th>50%</th>\n",
       "      <td>1.032480e+05</td>\n",
       "      <td>5.707809e+08</td>\n",
       "      <td>4.682052e+07</td>\n",
       "      <td>2.305817e+06</td>\n",
       "      <td>9.592535e+06</td>\n",
       "      <td>2.801284e+06</td>\n",
       "      <td>2.681849e+07</td>\n",
       "      <td>2.673116e+07</td>\n",
       "      <td>5.428493e+08</td>\n",
       "      <td>5.401950e+08</td>\n",
       "    </tr>\n",
       "    <tr>\n",
       "      <th>75%</th>\n",
       "      <td>1.727990e+05</td>\n",
       "      <td>8.078833e+08</td>\n",
       "      <td>6.587011e+07</td>\n",
       "      <td>3.309194e+06</td>\n",
       "      <td>1.322390e+07</td>\n",
       "      <td>3.849244e+06</td>\n",
       "      <td>3.796169e+07</td>\n",
       "      <td>3.800361e+07</td>\n",
       "      <td>7.777531e+08</td>\n",
       "      <td>7.756827e+08</td>\n",
       "    </tr>\n",
       "    <tr>\n",
       "      <th>max</th>\n",
       "      <td>1.855375e+07</td>\n",
       "      <td>8.156743e+09</td>\n",
       "      <td>7.295774e+08</td>\n",
       "      <td>4.337478e+07</td>\n",
       "      <td>1.521919e+08</td>\n",
       "      <td>4.241878e+07</td>\n",
       "      <td>4.529588e+08</td>\n",
       "      <td>3.995191e+08</td>\n",
       "      <td>7.749432e+09</td>\n",
       "      <td>8.167878e+09</td>\n",
       "    </tr>\n",
       "  </tbody>\n",
       "</table>\n",
       "</div>"
      ],
      "text/plain": [
       "          Dur. (ms)  Total DL (Bytes)  Total UL (Bytes)  Social Media  \\\n",
       "count  1.063510e+05      1.063510e+05      1.063510e+05  1.063510e+05   \n",
       "mean   1.466420e+05      6.342476e+08      5.735734e+07  2.549910e+06   \n",
       "std    1.861173e+05      4.650188e+08      3.568615e+07  1.908677e+06   \n",
       "min    7.142000e+03      8.827082e+06      2.866892e+06  1.563000e+03   \n",
       "25%    7.273550e+04      3.150687e+08      3.640236e+07  1.211830e+06   \n",
       "50%    1.032480e+05      5.707809e+08      4.682052e+07  2.305817e+06   \n",
       "75%    1.727990e+05      8.078833e+08      6.587011e+07  3.309194e+06   \n",
       "max    1.855375e+07      8.156743e+09      7.295774e+08  4.337478e+07   \n",
       "\n",
       "             Google         Email       Youtube       Netflix        Gaming  \\\n",
       "count  1.063510e+05  1.063510e+05  1.063510e+05  1.063510e+05  1.063510e+05   \n",
       "mean   1.089098e+07  3.151163e+06  3.158412e+07  3.156503e+07  6.003381e+08   \n",
       "std    7.551163e+06  2.224336e+06  2.131071e+07  2.130507e+07  4.495975e+08   \n",
       "min    4.033000e+04  1.817600e+04  7.890300e+04  1.845690e+05  3.063580e+05   \n",
       "25%    5.945850e+06  1.675358e+06  1.863829e+07  1.857020e+07  2.883087e+08   \n",
       "50%    9.592535e+06  2.801284e+06  2.681849e+07  2.673116e+07  5.428493e+08   \n",
       "75%    1.322390e+07  3.849244e+06  3.796169e+07  3.800361e+07  7.777531e+08   \n",
       "max    1.521919e+08  4.241878e+07  4.529588e+08  3.995191e+08  7.749432e+09   \n",
       "\n",
       "              Other  \n",
       "count  1.063510e+05  \n",
       "mean   5.989977e+08  \n",
       "std    4.492046e+08  \n",
       "min    1.490450e+05  \n",
       "25%    2.858938e+08  \n",
       "50%    5.401950e+08  \n",
       "75%    7.756827e+08  \n",
       "max    8.167878e+09  "
      ]
     },
     "execution_count": 14,
     "metadata": {},
     "output_type": "execute_result"
    }
   ],
   "source": [
    "user_info[['Dur. (ms)','Total DL (Bytes)','Total UL (Bytes)','Social Media','Google','Email','Youtube','Netflix','Gaming','Other']].describe()"
   ]
  },
  {
   "cell_type": "markdown",
   "id": "31e12d59-fd5d-4bbc-8a1e-a70be97c84f7",
   "metadata": {},
   "source": [
    "#### Graphical Univariate Analysis\n",
    "We conduct a graphical univariate analysis by identifying the most suitable plotting option for each variable and interpret the findings. We will use a distplot to visualize the distribution of each of the numerical variable in our dataset"
   ]
  },
  {
   "cell_type": "code",
   "execution_count": 57,
   "id": "80f8f8b0-3fa5-47a9-81c6-f37a1a6a7957",
   "metadata": {},
   "outputs": [
    {
     "name": "stderr",
     "output_type": "stream",
     "text": [
      "C:\\Users\\User\\anaconda3\\envs\\envMysql\\lib\\site-packages\\seaborn\\distributions.py:2619: FutureWarning: `distplot` is a deprecated function and will be removed in a future version. Please adapt your code to use either `displot` (a figure-level function with similar flexibility) or `kdeplot` (an axes-level function for kernel density plots).\n",
      "  warnings.warn(msg, FutureWarning)\n"
     ]
    },
    {
     "data": {
      "text/plain": [
       "Text(0.5, 0, 'Total Data Volume(Bytes)')"
      ]
     },
     "execution_count": 57,
     "metadata": {},
     "output_type": "execute_result"
    },
    {
     "data": {
      "image/png": "[encoded data removed]",
      "text/plain": [
       "<Figure size 432x288 with 1 Axes>"
      ]
     },
     "metadata": {
      "needs_background": "light"
     },
     "output_type": "display_data"
    }
   ],
   "source": [
    "sns.distplot(x = user_info['Total Data(Bytes)'], hist=False)\n",
    "plt.title('Total Data Volumes')\n",
    "# Set x-axis label\n",
    "plt.xlabel('Total Data Volume(Bytes)')"
   ]
  },
  {
   "cell_type": "code",
   "execution_count": 58,
   "id": "09d565f4-11c9-4cf5-818b-3c0c7730dec8",
   "metadata": {},
   "outputs": [
    {
     "name": "stderr",
     "output_type": "stream",
     "text": [
      "C:\\Users\\User\\anaconda3\\envs\\envMysql\\lib\\site-packages\\seaborn\\distributions.py:2619: FutureWarning: `distplot` is a deprecated function and will be removed in a future version. Please adapt your code to use either `displot` (a figure-level function with similar flexibility) or `kdeplot` (an axes-level function for kernel density plots).\n",
      "  warnings.warn(msg, FutureWarning)\n"
     ]
    },
    {
     "data": {
      "text/plain": [
       "Text(0.5, 0, 'Social Media (Bytes)')"
      ]
     },
     "execution_count": 58,
     "metadata": {},
     "output_type": "execute_result"
    },
    {
     "data": {
      "image/png": "[encoded data removed]",
      "text/plain": [
       "<Figure size 432x288 with 1 Axes>"
      ]
     },
     "metadata": {
      "needs_background": "light"
     },
     "output_type": "display_data"
    }
   ],
   "source": [
    "sns.distplot(x = user_info['Social Media'], hist=False)\n",
    "plt.title('Social Media Data Volumes')\n",
    "# Set x-axis label\n",
    "plt.xlabel('Social Media (Bytes)')"
   ]
  },
  {
   "cell_type": "code",
   "execution_count": 56,
   "id": "8ccfef78-da4a-4ea8-8f47-c70ebb1e2968",
   "metadata": {},
   "outputs": [
    {
     "name": "stderr",
     "output_type": "stream",
     "text": [
      "C:\\Users\\User\\anaconda3\\envs\\envMysql\\lib\\site-packages\\seaborn\\distributions.py:2619: FutureWarning: `distplot` is a deprecated function and will be removed in a future version. Please adapt your code to use either `displot` (a figure-level function with similar flexibility) or `kdeplot` (an axes-level function for kernel density plots).\n",
      "  warnings.warn(msg, FutureWarning)\n"
     ]
    },
    {
     "data": {
      "text/plain": [
       "Text(0.5, 0, 'Google (Bytes)')"
      ]
     },
     "execution_count": 56,
     "metadata": {},
     "output_type": "execute_result"
    },
    {
     "data": {
      "image/png": "[encoded data removed]",
      "text/plain": [
       "<Figure size 432x288 with 1 Axes>"
      ]
     },
     "metadata": {
      "needs_background": "light"
     },
     "output_type": "display_data"
    }
   ],
   "source": [
    "sns.distplot(x = user_info['Google'], hist=False)\n",
    "plt.title('Google Data volumes')\n",
    "# Set x-axis label\n",
    "plt.xlabel('Google (Bytes)')"
   ]
  },
  {
   "cell_type": "code",
   "execution_count": 55,
   "id": "adde0675-24d6-4253-b6c6-9f4b6a731eda",
   "metadata": {},
   "outputs": [
    {
     "name": "stderr",
     "output_type": "stream",
     "text": [
      "C:\\Users\\User\\anaconda3\\envs\\envMysql\\lib\\site-packages\\seaborn\\distributions.py:2619: FutureWarning: `distplot` is a deprecated function and will be removed in a future version. Please adapt your code to use either `displot` (a figure-level function with similar flexibility) or `kdeplot` (an axes-level function for kernel density plots).\n",
      "  warnings.warn(msg, FutureWarning)\n"
     ]
    },
    {
     "data": {
      "text/plain": [
       "Text(0.5, 0, 'Email (Bytes)')"
      ]
     },
     "execution_count": 55,
     "metadata": {},
     "output_type": "execute_result"
    },
    {
     "data": {
      "image/png": "[encoded data removed]",
      "text/plain": [
       "<Figure size 432x288 with 1 Axes>"
      ]
     },
     "metadata": {
      "needs_background": "light"
     },
     "output_type": "display_data"
    }
   ],
   "source": [
    "sns.distplot(x = user_info['Email'], hist=False)\n",
    "plt.title('Email Data Volumes')\n",
    "# Set x-axis label\n",
    "plt.xlabel('Email (Bytes)')"
   ]
  },
  {
   "cell_type": "code",
   "execution_count": 54,
   "id": "db342a42-05a4-4ac1-9859-0a5219f85fc7",
   "metadata": {},
   "outputs": [
    {
     "name": "stderr",
     "output_type": "stream",
     "text": [
      "C:\\Users\\User\\anaconda3\\envs\\envMysql\\lib\\site-packages\\seaborn\\distributions.py:2619: FutureWarning: `distplot` is a deprecated function and will be removed in a future version. Please adapt your code to use either `displot` (a figure-level function with similar flexibility) or `kdeplot` (an axes-level function for kernel density plots).\n",
      "  warnings.warn(msg, FutureWarning)\n"
     ]
    },
    {
     "data": {
      "text/plain": [
       "Text(0.5, 0, 'Youtube (Bytes)')"
      ]
     },
     "execution_count": 54,
     "metadata": {},
     "output_type": "execute_result"
    },
    {
     "data": {
      "image/png": "[encoded data removed]",
      "text/plain": [
       "<Figure size 432x288 with 1 Axes>"
      ]
     },
     "metadata": {
      "needs_background": "light"
     },
     "output_type": "display_data"
    }
   ],
   "source": [
    "sns.distplot(x = user_info['Youtube'], hist=False)\n",
    "plt.title('Youtube Data Volumes')\n",
    "# Set x-axis label\n",
    "plt.xlabel('Youtube (Bytes)')"
   ]
  },
  {
   "cell_type": "code",
   "execution_count": 52,
   "id": "c8ed3aa7-965b-4cf8-b0a6-5b1e85503efb",
   "metadata": {},
   "outputs": [
    {
     "name": "stderr",
     "output_type": "stream",
     "text": [
      "C:\\Users\\User\\anaconda3\\envs\\envMysql\\lib\\site-packages\\seaborn\\distributions.py:2619: FutureWarning: `distplot` is a deprecated function and will be removed in a future version. Please adapt your code to use either `displot` (a figure-level function with similar flexibility) or `kdeplot` (an axes-level function for kernel density plots).\n",
      "  warnings.warn(msg, FutureWarning)\n"
     ]
    },
    {
     "data": {
      "text/plain": [
       "Text(0.5, 0, 'Gaming (Bytes)')"
      ]
     },
     "execution_count": 52,
     "metadata": {},
     "output_type": "execute_result"
    },
    {
     "data": {
      "image/png": "[encoded data removed]",
      "text/plain": [
       "<Figure size 432x288 with 1 Axes>"
      ]
     },
     "metadata": {
      "needs_background": "light"
     },
     "output_type": "display_data"
    }
   ],
   "source": [
    "sns.distplot(x = user_info['Gaming'], hist=False)\n",
    "plt.title('Gaming Data Volumes')\n",
    "# Set x-axis label\n",
    "plt.xlabel('Gaming (Bytes)')"
   ]
  },
  {
   "cell_type": "code",
   "execution_count": 53,
   "id": "28f67c81-7391-4c23-9bef-d121668d555b",
   "metadata": {},
   "outputs": [
    {
     "name": "stderr",
     "output_type": "stream",
     "text": [
      "C:\\Users\\User\\anaconda3\\envs\\envMysql\\lib\\site-packages\\seaborn\\distributions.py:2619: FutureWarning: `distplot` is a deprecated function and will be removed in a future version. Please adapt your code to use either `displot` (a figure-level function with similar flexibility) or `kdeplot` (an axes-level function for kernel density plots).\n",
      "  warnings.warn(msg, FutureWarning)\n"
     ]
    },
    {
     "data": {
      "text/plain": [
       "Text(0.5, 0, 'Netflixj (Bytes)')"
      ]
     },
     "execution_count": 53,
     "metadata": {},
     "output_type": "execute_result"
    },
    {
     "data": {
      "image/png": "[encoded data removed]",
      "text/plain": [
       "<Figure size 432x288 with 1 Axes>"
      ]
     },
     "metadata": {
      "needs_background": "light"
     },
     "output_type": "display_data"
    }
   ],
   "source": [
    "sns.distplot(x = user_info['Netflix'], hist=False)\n",
    "plt.title('Netflix data volumes distribution')\n",
    "# Set x-axis label\n",
    "plt.xlabel('Netflixj (Bytes)')"
   ]
  },
  {
   "cell_type": "code",
   "execution_count": 50,
   "id": "42ac0626-3389-4cfd-9b50-e3013dbd7cd7",
   "metadata": {},
   "outputs": [
    {
     "name": "stderr",
     "output_type": "stream",
     "text": [
      "C:\\Users\\User\\anaconda3\\envs\\envMysql\\lib\\site-packages\\seaborn\\distributions.py:2619: FutureWarning: `distplot` is a deprecated function and will be removed in a future version. Please adapt your code to use either `displot` (a figure-level function with similar flexibility) or `kdeplot` (an axes-level function for kernel density plots).\n",
      "  warnings.warn(msg, FutureWarning)\n"
     ]
    },
    {
     "data": {
      "text/plain": [
       "Text(0.5, 0, 'Other Applications')"
      ]
     },
     "execution_count": 50,
     "metadata": {},
     "output_type": "execute_result"
    },
    {
     "data": {
      "image/png": "[encoded data removed]",
      "text/plain": [
       "<Figure size 432x288 with 1 Axes>"
      ]
     },
     "metadata": {
      "needs_background": "light"
     },
     "output_type": "display_data"
    }
   ],
   "source": [
    "sns.distplot(x = user_info['Other'], hist=False)\n",
    "plt.title('Other Applications Univariate analysis')\n",
    "# Set x-axis label\n",
    "plt.xlabel('Other Applications')\n",
    "\n"
   ]
  },
  {
   "cell_type": "code",
   "execution_count": null,
   "id": "76fb9682-6a36-4f7c-a38b-ce73f2e710c0",
   "metadata": {},
   "outputs": [],
   "source": [
    "cols = 3\n",
    "rows = 3\n",
    "num_cols =user_info.select_dtypes(exclude='object').columns\n",
    "fig = plt.figure( figsize=(cols*5, rows*5))\n",
    "for i, col in enumerate(num_cols):\n",
    "    \n",
    "    ax=fig.add_subplot(rows,cols,i+1)\n",
    "    \n",
    "    sns.histplot(x = user_info[col], ax = ax)\n",
    "    \n",
    "fig.tight_layout()  \n",
    "plt.show()"
   ]
  },
  {
   "cell_type": "markdown",
   "id": "54bfdab2-7c79-4d84-b2b4-49b742001cae",
   "metadata": {},
   "source": [
    "#### Bivariete Analysis\n",
    "We explore the relationship between each application and the total downlink (DL) + uplink (UL) data using a scatter plot"
   ]
  },
  {
   "cell_type": "code",
   "execution_count": 15,
   "id": "c3901c90-ce76-41d2-bea9-ffec9adee250",
   "metadata": {},
   "outputs": [
    {
     "data": {
      "text/html": [
       "<div>\n",
       "<style scoped>\n",
       "    .dataframe tbody tr th:only-of-type {\n",
       "        vertical-align: middle;\n",
       "    }\n",
       "\n",
       "    .dataframe tbody tr th {\n",
       "        vertical-align: top;\n",
       "    }\n",
       "\n",
       "    .dataframe thead th {\n",
       "        text-align: right;\n",
       "    }\n",
       "</style>\n",
       "<table border=\"1\" class=\"dataframe\">\n",
       "  <thead>\n",
       "    <tr style=\"text-align: right;\">\n",
       "      <th></th>\n",
       "      <th>IMSI</th>\n",
       "      <th>Bearer Id</th>\n",
       "      <th>Dur. (ms)</th>\n",
       "      <th>Total DL (Bytes)</th>\n",
       "      <th>Total UL (Bytes)</th>\n",
       "      <th>Social Media</th>\n",
       "      <th>Google</th>\n",
       "      <th>Email</th>\n",
       "      <th>Youtube</th>\n",
       "      <th>Netflix</th>\n",
       "      <th>Gaming</th>\n",
       "      <th>Other</th>\n",
       "      <th>Total Data(Bytes)</th>\n",
       "    </tr>\n",
       "  </thead>\n",
       "  <tbody>\n",
       "    <tr>\n",
       "      <th>0</th>\n",
       "      <td>2.040471e+14</td>\n",
       "      <td>1</td>\n",
       "      <td>869844.0</td>\n",
       "      <td>78697597.0</td>\n",
       "      <td>60456049.0</td>\n",
       "      <td>1546088.0</td>\n",
       "      <td>9218647.0</td>\n",
       "      <td>3330974.0</td>\n",
       "      <td>40940710.0</td>\n",
       "      <td>28846230.0</td>\n",
       "      <td>43070260.0</td>\n",
       "      <td>4.013605e+08</td>\n",
       "      <td>1.391536e+08</td>\n",
       "    </tr>\n",
       "    <tr>\n",
       "      <th>1</th>\n",
       "      <td>2.040808e+14</td>\n",
       "      <td>1</td>\n",
       "      <td>877385.0</td>\n",
       "      <td>194828056.0</td>\n",
       "      <td>37295915.0</td>\n",
       "      <td>715224.0</td>\n",
       "      <td>10438660.0</td>\n",
       "      <td>1520771.0</td>\n",
       "      <td>11959905.0</td>\n",
       "      <td>26592300.0</td>\n",
       "      <td>178048738.0</td>\n",
       "      <td>4.705265e+08</td>\n",
       "      <td>2.321240e+08</td>\n",
       "    </tr>\n",
       "    <tr>\n",
       "      <th>2</th>\n",
       "      <td>2.082001e+14</td>\n",
       "      <td>1</td>\n",
       "      <td>86019.0</td>\n",
       "      <td>31376981.0</td>\n",
       "      <td>53794658.0</td>\n",
       "      <td>3122781.0</td>\n",
       "      <td>1624662.0</td>\n",
       "      <td>3657501.0</td>\n",
       "      <td>19882439.0</td>\n",
       "      <td>31830562.0</td>\n",
       "      <td>9124516.0</td>\n",
       "      <td>5.159737e+08</td>\n",
       "      <td>8.517164e+07</td>\n",
       "    </tr>\n",
       "    <tr>\n",
       "      <th>3</th>\n",
       "      <td>2.082001e+14</td>\n",
       "      <td>1</td>\n",
       "      <td>86254.0</td>\n",
       "      <td>392918313.0</td>\n",
       "      <td>33583272.0</td>\n",
       "      <td>2577104.0</td>\n",
       "      <td>13811478.0</td>\n",
       "      <td>3855734.0</td>\n",
       "      <td>25657632.0</td>\n",
       "      <td>27785852.0</td>\n",
       "      <td>344105897.0</td>\n",
       "      <td>3.096107e+08</td>\n",
       "      <td>4.265016e+08</td>\n",
       "    </tr>\n",
       "    <tr>\n",
       "      <th>4</th>\n",
       "      <td>2.082001e+14</td>\n",
       "      <td>2</td>\n",
       "      <td>573923.0</td>\n",
       "      <td>961767023.0</td>\n",
       "      <td>71325004.0</td>\n",
       "      <td>3426716.0</td>\n",
       "      <td>11665887.0</td>\n",
       "      <td>5564462.0</td>\n",
       "      <td>13840201.0</td>\n",
       "      <td>57343415.0</td>\n",
       "      <td>917684766.0</td>\n",
       "      <td>1.079435e+09</td>\n",
       "      <td>1.033092e+09</td>\n",
       "    </tr>\n",
       "  </tbody>\n",
       "</table>\n",
       "</div>"
      ],
      "text/plain": [
       "           IMSI  Bearer Id  Dur. (ms)  Total DL (Bytes)  Total UL (Bytes)  \\\n",
       "0  2.040471e+14          1   869844.0        78697597.0        60456049.0   \n",
       "1  2.040808e+14          1   877385.0       194828056.0        37295915.0   \n",
       "2  2.082001e+14          1    86019.0        31376981.0        53794658.0   \n",
       "3  2.082001e+14          1    86254.0       392918313.0        33583272.0   \n",
       "4  2.082001e+14          2   573923.0       961767023.0        71325004.0   \n",
       "\n",
       "   Social Media      Google      Email     Youtube     Netflix       Gaming  \\\n",
       "0     1546088.0   9218647.0  3330974.0  40940710.0  28846230.0   43070260.0   \n",
       "1      715224.0  10438660.0  1520771.0  11959905.0  26592300.0  178048738.0   \n",
       "2     3122781.0   1624662.0  3657501.0  19882439.0  31830562.0    9124516.0   \n",
       "3     2577104.0  13811478.0  3855734.0  25657632.0  27785852.0  344105897.0   \n",
       "4     3426716.0  11665887.0  5564462.0  13840201.0  57343415.0  917684766.0   \n",
       "\n",
       "          Other  Total Data(Bytes)  \n",
       "0  4.013605e+08       1.391536e+08  \n",
       "1  4.705265e+08       2.321240e+08  \n",
       "2  5.159737e+08       8.517164e+07  \n",
       "3  3.096107e+08       4.265016e+08  \n",
       "4  1.079435e+09       1.033092e+09  "
      ]
     },
     "execution_count": 15,
     "metadata": {},
     "output_type": "execute_result"
    }
   ],
   "source": [
    "user_info['Total Data(Bytes)']=user_info['Total DL (Bytes)']+user_info['Total UL (Bytes)']\n",
    "user_info.head()"
   ]
  },
  {
   "cell_type": "code",
   "execution_count": 29,
   "id": "cf979ee9-a22f-44cd-ab64-199959bfad8c",
   "metadata": {},
   "outputs": [
    {
     "data": {
      "text/plain": [
       "Text(0, 0.5, 'Total Data(Bytes)')"
      ]
     },
     "execution_count": 29,
     "metadata": {},
     "output_type": "execute_result"
    },
    {
     "data": {
      "image/png": "[encoded data removed]",
      "text/plain": [
       "<Figure size 432x288 with 1 Axes>"
      ]
     },
     "metadata": {
      "needs_background": "light"
     },
     "output_type": "display_data"
    }
   ],
   "source": [
    "#Total Data(Bytes) against Google\n",
    "plt.scatter(user_info['Google'], user_info['Total Data(Bytes)'])\n",
    "plt.title('Total Data (Bytes) vs. Google')\n",
    "plt.xlabel('Google')\n",
    "plt.ylabel('Total Data(Bytes)')"
   ]
  },
  {
   "cell_type": "code",
   "execution_count": 36,
   "id": "68ec8e82-9348-4506-bd3b-352b5ecf624f",
   "metadata": {},
   "outputs": [
    {
     "data": {
      "text/plain": [
       "Text(0, 0.5, 'Total Data(Bytes)')"
      ]
     },
     "execution_count": 36,
     "metadata": {},
     "output_type": "execute_result"
    },
    {
     "data": {
      "image/png": "[encoded data removed]",
      "text/plain": [
       "<Figure size 432x288 with 1 Axes>"
      ]
     },
     "metadata": {
      "needs_background": "light"
     },
     "output_type": "display_data"
    }
   ],
   "source": [
    "#Total Data(Bytes) against Google\n",
    "plt.scatter(user_info['Youtube'], user_info['Total Data(Bytes)'])\n",
    "plt.title('Total Data (Bytes) vs. Youtube')\n",
    "plt.xlabel('Youtube')\n",
    "plt.ylabel('Total Data(Bytes)')"
   ]
  },
  {
   "cell_type": "code",
   "execution_count": 37,
   "id": "340489b3-23f1-49eb-a0bd-bd0ad4823511",
   "metadata": {},
   "outputs": [
    {
     "data": {
      "text/plain": [
       "Text(0, 0.5, 'Total Data(Bytes)')"
      ]
     },
     "execution_count": 37,
     "metadata": {},
     "output_type": "execute_result"
    },
    {
     "data": {
      "image/png": "[encoded data removed]",
      "text/plain": [
       "<Figure size 432x288 with 1 Axes>"
      ]
     },
     "metadata": {
      "needs_background": "light"
     },
     "output_type": "display_data"
    }
   ],
   "source": [
    "#Total Data(Bytes) against Netflix\n",
    "plt.scatter(user_info['Netflix'], user_info['Total Data(Bytes)'])\n",
    "plt.title('Total Data (Bytes) vs. Netflix')\n",
    "plt.xlabel('Netflix')\n",
    "plt.ylabel('Total Data(Bytes)')"
   ]
  },
  {
   "cell_type": "code",
   "execution_count": 38,
   "id": "4edbe773-0ee4-4170-9061-37ebb0038af5",
   "metadata": {},
   "outputs": [
    {
     "data": {
      "text/plain": [
       "Text(0, 0.5, 'Total Data(Bytes)')"
      ]
     },
     "execution_count": 38,
     "metadata": {},
     "output_type": "execute_result"
    },
    {
     "data": {
      "image/png": "[encoded data removed]",
      "text/plain": [
       "<Figure size 432x288 with 1 Axes>"
      ]
     },
     "metadata": {
      "needs_background": "light"
     },
     "output_type": "display_data"
    }
   ],
   "source": [
    "#Total Data(Bytes) against Gaming\n",
    "plt.scatter(user_info['Gaming'], user_info['Total Data(Bytes)'])\n",
    "plt.title('Total Data (Bytes) vs.Gaming')\n",
    "plt.xlabel('Gaming')\n",
    "plt.ylabel('Total Data(Bytes)')"
   ]
  },
  {
   "cell_type": "code",
   "execution_count": 39,
   "id": "f65eaa17-2fdd-45ac-a3cb-504f0a01d5c4",
   "metadata": {},
   "outputs": [
    {
     "data": {
      "text/plain": [
       "Text(0, 0.5, 'Total Data(Bytes)')"
      ]
     },
     "execution_count": 39,
     "metadata": {},
     "output_type": "execute_result"
    },
    {
     "data": {
      "image/png": "[encoded data removed]",
      "text/plain": [
       "<Figure size 432x288 with 1 Axes>"
      ]
     },
     "metadata": {
      "needs_background": "light"
     },
     "output_type": "display_data"
    }
   ],
   "source": [
    "#Total Data(Bytes) against Google\n",
    "plt.scatter(user_info['Other'], user_info['Total Data(Bytes)'])\n",
    "plt.title('Total Data (Bytes) vs. Other Applications')\n",
    "plt.xlabel('Other Applications')\n",
    "plt.ylabel('Total Data(Bytes)')"
   ]
  },
  {
   "cell_type": "markdown",
   "id": "d14c4582-4ce7-44bc-9a53-766bdc3d40d0",
   "metadata": {
    "tags": []
   },
   "source": [
    "#### Variables Transformation\n",
    "We segment the users into top five decile classes based on the total duration for all session and compute the total data downlink (DL) + uplink (UP) per decile class"
   ]
  },
  {
   "cell_type": "code",
   "execution_count": 20,
   "id": "73f22b98-770a-4910-be54-1a43d24faf6f",
   "metadata": {},
   "outputs": [
    {
     "data": {
      "text/html": [
       "<div>\n",
       "<style scoped>\n",
       "    .dataframe tbody tr th:only-of-type {\n",
       "        vertical-align: middle;\n",
       "    }\n",
       "\n",
       "    .dataframe tbody tr th {\n",
       "        vertical-align: top;\n",
       "    }\n",
       "\n",
       "    .dataframe thead th {\n",
       "        text-align: right;\n",
       "    }\n",
       "</style>\n",
       "<table border=\"1\" class=\"dataframe\">\n",
       "  <thead>\n",
       "    <tr style=\"text-align: right;\">\n",
       "      <th></th>\n",
       "      <th>IMSI</th>\n",
       "      <th>Bearer Id</th>\n",
       "      <th>Dur. (ms)</th>\n",
       "      <th>Total DL (Bytes)</th>\n",
       "      <th>Total UL (Bytes)</th>\n",
       "      <th>Social Media</th>\n",
       "      <th>Google</th>\n",
       "      <th>Email</th>\n",
       "      <th>Youtube</th>\n",
       "      <th>Netflix</th>\n",
       "      <th>Gaming</th>\n",
       "      <th>Other</th>\n",
       "      <th>Total Data(Bytes)</th>\n",
       "      <th>segment</th>\n",
       "    </tr>\n",
       "  </thead>\n",
       "  <tbody>\n",
       "    <tr>\n",
       "      <th>0</th>\n",
       "      <td>2.040471e+14</td>\n",
       "      <td>1</td>\n",
       "      <td>869844.0</td>\n",
       "      <td>78697597.0</td>\n",
       "      <td>60456049.0</td>\n",
       "      <td>1546088.0</td>\n",
       "      <td>9218647.0</td>\n",
       "      <td>3330974.0</td>\n",
       "      <td>40940710.0</td>\n",
       "      <td>28846230.0</td>\n",
       "      <td>43070260.0</td>\n",
       "      <td>4.013605e+08</td>\n",
       "      <td>1.391536e+08</td>\n",
       "      <td>class 5</td>\n",
       "    </tr>\n",
       "    <tr>\n",
       "      <th>1</th>\n",
       "      <td>2.040808e+14</td>\n",
       "      <td>1</td>\n",
       "      <td>877385.0</td>\n",
       "      <td>194828056.0</td>\n",
       "      <td>37295915.0</td>\n",
       "      <td>715224.0</td>\n",
       "      <td>10438660.0</td>\n",
       "      <td>1520771.0</td>\n",
       "      <td>11959905.0</td>\n",
       "      <td>26592300.0</td>\n",
       "      <td>178048738.0</td>\n",
       "      <td>4.705265e+08</td>\n",
       "      <td>2.321240e+08</td>\n",
       "      <td>class 5</td>\n",
       "    </tr>\n",
       "    <tr>\n",
       "      <th>2</th>\n",
       "      <td>2.082001e+14</td>\n",
       "      <td>1</td>\n",
       "      <td>86019.0</td>\n",
       "      <td>31376981.0</td>\n",
       "      <td>53794658.0</td>\n",
       "      <td>3122781.0</td>\n",
       "      <td>1624662.0</td>\n",
       "      <td>3657501.0</td>\n",
       "      <td>19882439.0</td>\n",
       "      <td>31830562.0</td>\n",
       "      <td>9124516.0</td>\n",
       "      <td>5.159737e+08</td>\n",
       "      <td>8.517164e+07</td>\n",
       "      <td>class 2</td>\n",
       "    </tr>\n",
       "    <tr>\n",
       "      <th>3</th>\n",
       "      <td>2.082001e+14</td>\n",
       "      <td>1</td>\n",
       "      <td>86254.0</td>\n",
       "      <td>392918313.0</td>\n",
       "      <td>33583272.0</td>\n",
       "      <td>2577104.0</td>\n",
       "      <td>13811478.0</td>\n",
       "      <td>3855734.0</td>\n",
       "      <td>25657632.0</td>\n",
       "      <td>27785852.0</td>\n",
       "      <td>344105897.0</td>\n",
       "      <td>3.096107e+08</td>\n",
       "      <td>4.265016e+08</td>\n",
       "      <td>class 2</td>\n",
       "    </tr>\n",
       "    <tr>\n",
       "      <th>4</th>\n",
       "      <td>2.082001e+14</td>\n",
       "      <td>2</td>\n",
       "      <td>573923.0</td>\n",
       "      <td>961767023.0</td>\n",
       "      <td>71325004.0</td>\n",
       "      <td>3426716.0</td>\n",
       "      <td>11665887.0</td>\n",
       "      <td>5564462.0</td>\n",
       "      <td>13840201.0</td>\n",
       "      <td>57343415.0</td>\n",
       "      <td>917684766.0</td>\n",
       "      <td>1.079435e+09</td>\n",
       "      <td>1.033092e+09</td>\n",
       "      <td>class 5</td>\n",
       "    </tr>\n",
       "  </tbody>\n",
       "</table>\n",
       "</div>"
      ],
      "text/plain": [
       "           IMSI  Bearer Id  Dur. (ms)  Total DL (Bytes)  Total UL (Bytes)  \\\n",
       "0  2.040471e+14          1   869844.0        78697597.0        60456049.0   \n",
       "1  2.040808e+14          1   877385.0       194828056.0        37295915.0   \n",
       "2  2.082001e+14          1    86019.0        31376981.0        53794658.0   \n",
       "3  2.082001e+14          1    86254.0       392918313.0        33583272.0   \n",
       "4  2.082001e+14          2   573923.0       961767023.0        71325004.0   \n",
       "\n",
       "   Social Media      Google      Email     Youtube     Netflix       Gaming  \\\n",
       "0     1546088.0   9218647.0  3330974.0  40940710.0  28846230.0   43070260.0   \n",
       "1      715224.0  10438660.0  1520771.0  11959905.0  26592300.0  178048738.0   \n",
       "2     3122781.0   1624662.0  3657501.0  19882439.0  31830562.0    9124516.0   \n",
       "3     2577104.0  13811478.0  3855734.0  25657632.0  27785852.0  344105897.0   \n",
       "4     3426716.0  11665887.0  5564462.0  13840201.0  57343415.0  917684766.0   \n",
       "\n",
       "          Other  Total Data(Bytes)  segment  \n",
       "0  4.013605e+08       1.391536e+08  class 5  \n",
       "1  4.705265e+08       2.321240e+08  class 5  \n",
       "2  5.159737e+08       8.517164e+07  class 2  \n",
       "3  3.096107e+08       4.265016e+08  class 2  \n",
       "4  1.079435e+09       1.033092e+09  class 5  "
      ]
     },
     "execution_count": 20,
     "metadata": {},
     "output_type": "execute_result"
    }
   ],
   "source": [
    "#Segment users into 5 decile classes based on total duration for all sessions\n",
    "user_info['segment'] = pd.qcut(user_info['Dur. (ms)'], q=5, labels=['class 1', 'class 2', 'class 3', 'class 4', 'class 5'])\n",
    "user_info.head()"
   ]
  },
  {
   "cell_type": "code",
   "execution_count": 22,
   "id": "f8a0c20b-9c9d-46bf-b181-fb12c58dcf63",
   "metadata": {},
   "outputs": [
    {
     "data": {
      "image/png": "[encoded data removed]",
      "text/plain": [
       "<Figure size 432x288 with 1 Axes>"
      ]
     },
     "metadata": {
      "needs_background": "light"
     },
     "output_type": "display_data"
    }
   ],
   "source": [
    "# Visualize the segments in a bar chart\n",
    "user_info['segment'].value_counts().plot(kind='barh')\n",
    "plt.title('User segments based on the total duration for all sessions')\n",
    "plt.xlabel('Sessions duration')\n",
    "plt.ylabel('User class')\n",
    "plt.show()"
   ]
  },
  {
   "cell_type": "code",
   "execution_count": 26,
   "id": "9dd208b6-0f01-450c-a1d2-d52344148fe8",
   "metadata": {},
   "outputs": [
    {
     "data": {
      "text/plain": [
       "Dur. (ms)\n",
       "class 1    1.152440e+13\n",
       "class 2    1.233818e+13\n",
       "class 3    1.167412e+13\n",
       "class 4    1.391849e+13\n",
       "class 5    2.409768e+13\n",
       "Name: Total Data(Bytes), dtype: float64"
      ]
     },
     "execution_count": 26,
     "metadata": {},
     "output_type": "execute_result"
    }
   ],
   "source": [
    "# compute the total data volume (in Bytes) per decile class\n",
    "user_segment = user_info.groupby(pd.qcut(user_info['Dur. (ms)'], q=5, labels=['class 1', 'class 2', 'class 3', 'class 4', 'class 5']))['Total Data(Bytes)'].sum()\n",
    "user_segment"
   ]
  },
  {
   "cell_type": "markdown",
   "id": "a0ff0e00-070e-4711-ad8b-70f91eac720f",
   "metadata": {},
   "source": [
    "#### Correlation Analysis\n",
    "We compute the correlation matrix for the following variables:\n",
    "<ul>\n",
    "    <li>Social Media data</li>\n",
    "    <li>Google data </li>\n",
    "    <li>Email data</li>\n",
    "    <li>Youtube data</li>\n",
    "    <li>Netflix data</li>\n",
    "    <li>Gaming data</li>\n",
    "    <li>Other data</li>\n",
    " </ul>"
   ]
  },
  {
   "cell_type": "code",
   "execution_count": 35,
   "id": "99b148e4-61f9-4c90-87d7-55bb75ef853a",
   "metadata": {},
   "outputs": [
    {
     "data": {
      "text/html": [
       "<div>\n",
       "<style scoped>\n",
       "    .dataframe tbody tr th:only-of-type {\n",
       "        vertical-align: middle;\n",
       "    }\n",
       "\n",
       "    .dataframe tbody tr th {\n",
       "        vertical-align: top;\n",
       "    }\n",
       "\n",
       "    .dataframe thead th {\n",
       "        text-align: right;\n",
       "    }\n",
       "</style>\n",
       "<table border=\"1\" class=\"dataframe\">\n",
       "  <thead>\n",
       "    <tr style=\"text-align: right;\">\n",
       "      <th></th>\n",
       "      <th>Social Media</th>\n",
       "      <th>Google</th>\n",
       "      <th>Email</th>\n",
       "      <th>Youtube</th>\n",
       "      <th>Netflix</th>\n",
       "      <th>Gaming</th>\n",
       "      <th>Other</th>\n",
       "    </tr>\n",
       "  </thead>\n",
       "  <tbody>\n",
       "    <tr>\n",
       "      <th>Social Media</th>\n",
       "      <td>1.000000</td>\n",
       "      <td>0.643289</td>\n",
       "      <td>0.634276</td>\n",
       "      <td>0.659589</td>\n",
       "      <td>0.660080</td>\n",
       "      <td>0.590574</td>\n",
       "      <td>0.591662</td>\n",
       "    </tr>\n",
       "    <tr>\n",
       "      <th>Google</th>\n",
       "      <td>0.643289</td>\n",
       "      <td>1.000000</td>\n",
       "      <td>0.688695</td>\n",
       "      <td>0.718857</td>\n",
       "      <td>0.716468</td>\n",
       "      <td>0.642482</td>\n",
       "      <td>0.642987</td>\n",
       "    </tr>\n",
       "    <tr>\n",
       "      <th>Email</th>\n",
       "      <td>0.634276</td>\n",
       "      <td>0.688695</td>\n",
       "      <td>1.000000</td>\n",
       "      <td>0.704919</td>\n",
       "      <td>0.705730</td>\n",
       "      <td>0.627854</td>\n",
       "      <td>0.631347</td>\n",
       "    </tr>\n",
       "    <tr>\n",
       "      <th>Youtube</th>\n",
       "      <td>0.659589</td>\n",
       "      <td>0.718857</td>\n",
       "      <td>0.704919</td>\n",
       "      <td>1.000000</td>\n",
       "      <td>0.738643</td>\n",
       "      <td>0.657713</td>\n",
       "      <td>0.660620</td>\n",
       "    </tr>\n",
       "    <tr>\n",
       "      <th>Netflix</th>\n",
       "      <td>0.660080</td>\n",
       "      <td>0.716468</td>\n",
       "      <td>0.705730</td>\n",
       "      <td>0.738643</td>\n",
       "      <td>1.000000</td>\n",
       "      <td>0.657634</td>\n",
       "      <td>0.656074</td>\n",
       "    </tr>\n",
       "    <tr>\n",
       "      <th>Gaming</th>\n",
       "      <td>0.590574</td>\n",
       "      <td>0.642482</td>\n",
       "      <td>0.627854</td>\n",
       "      <td>0.657713</td>\n",
       "      <td>0.657634</td>\n",
       "      <td>1.000000</td>\n",
       "      <td>0.586691</td>\n",
       "    </tr>\n",
       "    <tr>\n",
       "      <th>Other</th>\n",
       "      <td>0.591662</td>\n",
       "      <td>0.642987</td>\n",
       "      <td>0.631347</td>\n",
       "      <td>0.660620</td>\n",
       "      <td>0.656074</td>\n",
       "      <td>0.586691</td>\n",
       "      <td>1.000000</td>\n",
       "    </tr>\n",
       "  </tbody>\n",
       "</table>\n",
       "</div>"
      ],
      "text/plain": [
       "              Social Media    Google     Email   Youtube   Netflix    Gaming  \\\n",
       "Social Media      1.000000  0.643289  0.634276  0.659589  0.660080  0.590574   \n",
       "Google            0.643289  1.000000  0.688695  0.718857  0.716468  0.642482   \n",
       "Email             0.634276  0.688695  1.000000  0.704919  0.705730  0.627854   \n",
       "Youtube           0.659589  0.718857  0.704919  1.000000  0.738643  0.657713   \n",
       "Netflix           0.660080  0.716468  0.705730  0.738643  1.000000  0.657634   \n",
       "Gaming            0.590574  0.642482  0.627854  0.657713  0.657634  1.000000   \n",
       "Other             0.591662  0.642987  0.631347  0.660620  0.656074  0.586691   \n",
       "\n",
       "                 Other  \n",
       "Social Media  0.591662  \n",
       "Google        0.642987  \n",
       "Email         0.631347  \n",
       "Youtube       0.660620  \n",
       "Netflix       0.656074  \n",
       "Gaming        0.586691  \n",
       "Other         1.000000  "
      ]
     },
     "execution_count": 35,
     "metadata": {},
     "output_type": "execute_result"
    }
   ],
   "source": [
    "#computing the correlation of the above variables\n",
    "corr = user_info.corr()\n",
    "corr=corr.drop(columns = ['IMSI', 'Bearer Id', 'Dur. (ms)', 'Total DL (Bytes)', 'Total UL (Bytes)', 'Total Data(Bytes)'], axis=0)\n",
    "corr=corr.drop(['IMSI', 'Bearer Id', 'Dur. (ms)', 'Total DL (Bytes)', 'Total UL (Bytes)', 'Total Data(Bytes)'])\n",
    "corr"
   ]
  },
  {
   "cell_type": "code",
   "execution_count": 36,
   "id": "30fa99a9-206e-47bb-93b8-a881a1eee8b0",
   "metadata": {},
   "outputs": [
    {
     "data": {
      "text/plain": [
       "7"
      ]
     },
     "execution_count": 36,
     "metadata": {},
     "output_type": "execute_result"
    }
   ],
   "source": [
    "len(corr.columns)"
   ]
  },
  {
   "cell_type": "code",
   "execution_count": 37,
   "id": "5cd8bbcc-a9a4-4f4f-8767-43e857b3a125",
   "metadata": {},
   "outputs": [
    {
     "data": {
      "image/png": "[encoded data removed]",
      "text/plain": [
       "<Figure size 432x288 with 2 Axes>"
      ]
     },
     "metadata": {
      "needs_background": "light"
     },
     "output_type": "display_data"
    }
   ],
   "source": [
    "#Visualizing the correlation using a correlation matrix plot\n",
    "fig = plt.figure()\n",
    "ax = fig.add_subplot(111)\n",
    "cax = ax.matshow(corr,cmap='coolwarm', vmin=-1, vmax=1)\n",
    "fig.colorbar(cax)\n",
    "ticks = np.arange(0,len(corr.columns),1)\n",
    "ax.set_xticks(ticks)\n",
    "plt.xticks(rotation=90)\n",
    "ax.set_yticks(ticks)\n",
    "ax.set_xticklabels(corr.columns)\n",
    "ax.set_yticklabels(corr.columns)\n",
    "plt.show()"
   ]
  },
  {
   "cell_type": "markdown",
   "id": "9c9cd2fc-eedb-484d-9832-9e34b66fe8a6",
   "metadata": {},
   "source": [
    "#### Dimensionality Reduction\n",
    "We perform a principal component analysis (PCA) on the dataset to reduce the dimensions of our data"
   ]
  },
  {
   "cell_type": "code",
   "execution_count": 40,
   "id": "27d47f82-15f3-4537-98ef-fe84810f5494",
   "metadata": {},
   "outputs": [],
   "source": [
    "from sklearn.decomposition import PCA"
   ]
  },
  {
   "cell_type": "code",
   "execution_count": null,
   "id": "51a53702-ea7f-4d56-81b2-18afb98668b3",
   "metadata": {},
   "outputs": [],
   "source": [
    "# PCA\n",
    "\n",
    "# Prepare X and Y\n",
    "Y = user_info.loc[:, '0']\n",
    "X = user_info.drop(['0'], axis=1)\n",
    "pca = PCA()\n",
    "user_info_pca= pca.fit_transform(X=X)\n",
    "\n",
    "# Store as dataframe and print\n",
    "df_pca = pd.DataFrame(df_pca)\n",
    "print(df_pca.shape)  #> (3147, 784)\n",
    "df_pca.round(2).head()"
   ]
  },
  {
   "cell_type": "markdown",
   "id": "c4ae8e10-2452-42db-aa26-65354d1d5aa4",
   "metadata": {},
   "source": [
    "### 2. User Engagement Analysis"
   ]
  },
  {
   "cell_type": "code",
   "execution_count": 41,
   "id": "b8d0f293-7232-4c5c-acec-bf294a1bf064",
   "metadata": {},
   "outputs": [
    {
     "data": {
      "text/html": [
       "<div>\n",
       "<style scoped>\n",
       "    .dataframe tbody tr th:only-of-type {\n",
       "        vertical-align: middle;\n",
       "    }\n",
       "\n",
       "    .dataframe tbody tr th {\n",
       "        vertical-align: top;\n",
       "    }\n",
       "\n",
       "    .dataframe thead th {\n",
       "        text-align: right;\n",
       "    }\n",
       "</style>\n",
       "<table border=\"1\" class=\"dataframe\">\n",
       "  <thead>\n",
       "    <tr style=\"text-align: right;\">\n",
       "      <th></th>\n",
       "      <th>Bearer Id</th>\n",
       "      <th>Start</th>\n",
       "      <th>Start ms</th>\n",
       "      <th>End</th>\n",
       "      <th>End ms</th>\n",
       "      <th>Dur. (ms)</th>\n",
       "      <th>IMSI</th>\n",
       "      <th>MSISDN/Number</th>\n",
       "      <th>IMEI</th>\n",
       "      <th>Last Location Name</th>\n",
       "      <th>...</th>\n",
       "      <th>Youtube DL (Bytes)</th>\n",
       "      <th>Youtube UL (Bytes)</th>\n",
       "      <th>Netflix DL (Bytes)</th>\n",
       "      <th>Netflix UL (Bytes)</th>\n",
       "      <th>Gaming DL (Bytes)</th>\n",
       "      <th>Gaming UL (Bytes)</th>\n",
       "      <th>Other DL (Bytes)</th>\n",
       "      <th>Other UL (Bytes)</th>\n",
       "      <th>Total UL (Bytes)</th>\n",
       "      <th>Total DL (Bytes)</th>\n",
       "    </tr>\n",
       "  </thead>\n",
       "  <tbody>\n",
       "    <tr>\n",
       "      <th>0</th>\n",
       "      <td>13114483460844900352</td>\n",
       "      <td>2019-04-04 12:01:18</td>\n",
       "      <td>770.0</td>\n",
       "      <td>2019-04-25 14:35:31</td>\n",
       "      <td>662.0</td>\n",
       "      <td>1823652.0</td>\n",
       "      <td>2.082014e+14</td>\n",
       "      <td>3.366496e+10</td>\n",
       "      <td>3.552121e+13</td>\n",
       "      <td>9164566995485190</td>\n",
       "      <td>...</td>\n",
       "      <td>15854611.0</td>\n",
       "      <td>2501332.0</td>\n",
       "      <td>8198936.0</td>\n",
       "      <td>9656251.0</td>\n",
       "      <td>278082303.0</td>\n",
       "      <td>14344150.0</td>\n",
       "      <td>171744450.0</td>\n",
       "      <td>8814393.0</td>\n",
       "      <td>36749741.0</td>\n",
       "      <td>308879636.0</td>\n",
       "    </tr>\n",
       "    <tr>\n",
       "      <th>1</th>\n",
       "      <td>13114483482878900224</td>\n",
       "      <td>2019-04-09 13:04:04</td>\n",
       "      <td>235.0</td>\n",
       "      <td>2019-04-25 08:15:48</td>\n",
       "      <td>606.0</td>\n",
       "      <td>1365104.0</td>\n",
       "      <td>2.082019e+14</td>\n",
       "      <td>3.368185e+10</td>\n",
       "      <td>3.579401e+13</td>\n",
       "      <td>L77566A</td>\n",
       "      <td>...</td>\n",
       "      <td>20247395.0</td>\n",
       "      <td>19111729.0</td>\n",
       "      <td>18338413.0</td>\n",
       "      <td>17227132.0</td>\n",
       "      <td>608750074.0</td>\n",
       "      <td>1170709.0</td>\n",
       "      <td>526904238.0</td>\n",
       "      <td>15055145.0</td>\n",
       "      <td>53800391.0</td>\n",
       "      <td>653384965.0</td>\n",
       "    </tr>\n",
       "    <tr>\n",
       "      <th>2</th>\n",
       "      <td>13114483484080500736</td>\n",
       "      <td>2019-04-09 17:42:11</td>\n",
       "      <td>1.0</td>\n",
       "      <td>2019-04-25 11:58:13</td>\n",
       "      <td>652.0</td>\n",
       "      <td>1361762.0</td>\n",
       "      <td>2.082003e+14</td>\n",
       "      <td>3.376063e+10</td>\n",
       "      <td>3.528151e+13</td>\n",
       "      <td>D42335A</td>\n",
       "      <td>...</td>\n",
       "      <td>19725661.0</td>\n",
       "      <td>14699576.0</td>\n",
       "      <td>17587794.0</td>\n",
       "      <td>6163408.0</td>\n",
       "      <td>229584621.0</td>\n",
       "      <td>395630.0</td>\n",
       "      <td>410692588.0</td>\n",
       "      <td>4215763.0</td>\n",
       "      <td>27883638.0</td>\n",
       "      <td>279807335.0</td>\n",
       "    </tr>\n",
       "    <tr>\n",
       "      <th>3</th>\n",
       "      <td>13114483485442799616</td>\n",
       "      <td>2019-04-10 00:31:25</td>\n",
       "      <td>486.0</td>\n",
       "      <td>2019-04-25 07:36:35</td>\n",
       "      <td>171.0</td>\n",
       "      <td>1321509.0</td>\n",
       "      <td>2.082014e+14</td>\n",
       "      <td>3.375034e+10</td>\n",
       "      <td>3.535661e+13</td>\n",
       "      <td>T21824A</td>\n",
       "      <td>...</td>\n",
       "      <td>21388122.0</td>\n",
       "      <td>15146643.0</td>\n",
       "      <td>13994646.0</td>\n",
       "      <td>1097942.0</td>\n",
       "      <td>799538153.0</td>\n",
       "      <td>10849722.0</td>\n",
       "      <td>749039933.0</td>\n",
       "      <td>12797283.0</td>\n",
       "      <td>43324218.0</td>\n",
       "      <td>846028530.0</td>\n",
       "    </tr>\n",
       "    <tr>\n",
       "      <th>4</th>\n",
       "      <td>13114483499480700928</td>\n",
       "      <td>2019-04-12 20:10:23</td>\n",
       "      <td>565.0</td>\n",
       "      <td>2019-04-25 10:40:32</td>\n",
       "      <td>954.0</td>\n",
       "      <td>1089009.0</td>\n",
       "      <td>2.082014e+14</td>\n",
       "      <td>3.369980e+10</td>\n",
       "      <td>3.540701e+13</td>\n",
       "      <td>D88865A</td>\n",
       "      <td>...</td>\n",
       "      <td>15259380.0</td>\n",
       "      <td>18962873.0</td>\n",
       "      <td>17124581.0</td>\n",
       "      <td>415218.0</td>\n",
       "      <td>527707248.0</td>\n",
       "      <td>3529801.0</td>\n",
       "      <td>550709500.0</td>\n",
       "      <td>13910322.0</td>\n",
       "      <td>38542814.0</td>\n",
       "      <td>569138589.0</td>\n",
       "    </tr>\n",
       "  </tbody>\n",
       "</table>\n",
       "<p>5 rows × 55 columns</p>\n",
       "</div>"
      ],
      "text/plain": [
       "              Bearer Id               Start  Start ms                 End  \\\n",
       "0  13114483460844900352 2019-04-04 12:01:18     770.0 2019-04-25 14:35:31   \n",
       "1  13114483482878900224 2019-04-09 13:04:04     235.0 2019-04-25 08:15:48   \n",
       "2  13114483484080500736 2019-04-09 17:42:11       1.0 2019-04-25 11:58:13   \n",
       "3  13114483485442799616 2019-04-10 00:31:25     486.0 2019-04-25 07:36:35   \n",
       "4  13114483499480700928 2019-04-12 20:10:23     565.0 2019-04-25 10:40:32   \n",
       "\n",
       "   End ms  Dur. (ms)          IMSI  MSISDN/Number          IMEI  \\\n",
       "0   662.0  1823652.0  2.082014e+14   3.366496e+10  3.552121e+13   \n",
       "1   606.0  1365104.0  2.082019e+14   3.368185e+10  3.579401e+13   \n",
       "2   652.0  1361762.0  2.082003e+14   3.376063e+10  3.528151e+13   \n",
       "3   171.0  1321509.0  2.082014e+14   3.375034e+10  3.535661e+13   \n",
       "4   954.0  1089009.0  2.082014e+14   3.369980e+10  3.540701e+13   \n",
       "\n",
       "  Last Location Name  ...  Youtube DL (Bytes)  Youtube UL (Bytes)  \\\n",
       "0   9164566995485190  ...          15854611.0           2501332.0   \n",
       "1            L77566A  ...          20247395.0          19111729.0   \n",
       "2            D42335A  ...          19725661.0          14699576.0   \n",
       "3            T21824A  ...          21388122.0          15146643.0   \n",
       "4            D88865A  ...          15259380.0          18962873.0   \n",
       "\n",
       "   Netflix DL (Bytes)  Netflix UL (Bytes)  Gaming DL (Bytes)  \\\n",
       "0           8198936.0           9656251.0        278082303.0   \n",
       "1          18338413.0          17227132.0        608750074.0   \n",
       "2          17587794.0           6163408.0        229584621.0   \n",
       "3          13994646.0           1097942.0        799538153.0   \n",
       "4          17124581.0            415218.0        527707248.0   \n",
       "\n",
       "   Gaming UL (Bytes)  Other DL (Bytes)  Other UL (Bytes)  Total UL (Bytes)  \\\n",
       "0         14344150.0       171744450.0         8814393.0        36749741.0   \n",
       "1          1170709.0       526904238.0        15055145.0        53800391.0   \n",
       "2           395630.0       410692588.0         4215763.0        27883638.0   \n",
       "3         10849722.0       749039933.0        12797283.0        43324218.0   \n",
       "4          3529801.0       550709500.0        13910322.0        38542814.0   \n",
       "\n",
       "   Total DL (Bytes)  \n",
       "0       308879636.0  \n",
       "1       653384965.0  \n",
       "2       279807335.0  \n",
       "3       846028530.0  \n",
       "4       569138589.0  \n",
       "\n",
       "[5 rows x 55 columns]"
      ]
     },
     "execution_count": 41,
     "metadata": {},
     "output_type": "execute_result"
    }
   ],
   "source": [
    "telco_clean.head()"
   ]
  },
  {
   "cell_type": "code",
   "execution_count": 43,
   "id": "b43cdc6c-c8e1-4d0a-b393-f63ae4f7b940",
   "metadata": {},
   "outputs": [
    {
     "data": {
      "text/html": [
       "<div>\n",
       "<style scoped>\n",
       "    .dataframe tbody tr th:only-of-type {\n",
       "        vertical-align: middle;\n",
       "    }\n",
       "\n",
       "    .dataframe tbody tr th {\n",
       "        vertical-align: top;\n",
       "    }\n",
       "\n",
       "    .dataframe thead th {\n",
       "        text-align: right;\n",
       "    }\n",
       "</style>\n",
       "<table border=\"1\" class=\"dataframe\">\n",
       "  <thead>\n",
       "    <tr style=\"text-align: right;\">\n",
       "      <th></th>\n",
       "      <th>MSISDN/Number</th>\n",
       "      <th>Dur. (ms)</th>\n",
       "      <th>Total UL (Bytes)</th>\n",
       "      <th>Total DL (Bytes)</th>\n",
       "    </tr>\n",
       "  </thead>\n",
       "  <tbody>\n",
       "    <tr>\n",
       "      <th>0</th>\n",
       "      <td>3.360100e+10</td>\n",
       "      <td>116720.0</td>\n",
       "      <td>36053108.0</td>\n",
       "      <td>8.426375e+08</td>\n",
       "    </tr>\n",
       "    <tr>\n",
       "      <th>1</th>\n",
       "      <td>3.360100e+10</td>\n",
       "      <td>181230.0</td>\n",
       "      <td>36104459.0</td>\n",
       "      <td>1.207552e+08</td>\n",
       "    </tr>\n",
       "    <tr>\n",
       "      <th>2</th>\n",
       "      <td>3.360100e+10</td>\n",
       "      <td>134969.0</td>\n",
       "      <td>39306820.0</td>\n",
       "      <td>5.566597e+08</td>\n",
       "    </tr>\n",
       "    <tr>\n",
       "      <th>3</th>\n",
       "      <td>3.360101e+10</td>\n",
       "      <td>49878.0</td>\n",
       "      <td>20327526.0</td>\n",
       "      <td>4.019932e+08</td>\n",
       "    </tr>\n",
       "    <tr>\n",
       "      <th>4</th>\n",
       "      <td>3.360101e+10</td>\n",
       "      <td>37104.0</td>\n",
       "      <td>94280527.0</td>\n",
       "      <td>1.363130e+09</td>\n",
       "    </tr>\n",
       "  </tbody>\n",
       "</table>\n",
       "</div>"
      ],
      "text/plain": [
       "   MSISDN/Number  Dur. (ms)  Total UL (Bytes)  Total DL (Bytes)\n",
       "0   3.360100e+10   116720.0        36053108.0      8.426375e+08\n",
       "1   3.360100e+10   181230.0        36104459.0      1.207552e+08\n",
       "2   3.360100e+10   134969.0        39306820.0      5.566597e+08\n",
       "3   3.360101e+10    49878.0        20327526.0      4.019932e+08\n",
       "4   3.360101e+10    37104.0        94280527.0      1.363130e+09"
      ]
     },
     "execution_count": 43,
     "metadata": {},
     "output_type": "execute_result"
    }
   ],
   "source": [
    "df = telco_clean.groupby('MSISDN/Number').aggregate({'Dur. (ms)': 'sum', \n",
    "                                                     'Total UL (Bytes)': 'sum',\n",
    "                                                     'Total DL (Bytes)': 'sum',\n",
    "                                 }).reset_index()\n",
    "df.head()"
   ]
  },
  {
   "cell_type": "code",
   "execution_count": 44,
   "id": "ff54d756-ffbb-4e10-87f2-cccdcfc562c3",
   "metadata": {},
   "outputs": [
    {
     "data": {
      "text/html": [
       "<div>\n",
       "<style scoped>\n",
       "    .dataframe tbody tr th:only-of-type {\n",
       "        vertical-align: middle;\n",
       "    }\n",
       "\n",
       "    .dataframe tbody tr th {\n",
       "        vertical-align: top;\n",
       "    }\n",
       "\n",
       "    .dataframe thead th {\n",
       "        text-align: right;\n",
       "    }\n",
       "</style>\n",
       "<table border=\"1\" class=\"dataframe\">\n",
       "  <thead>\n",
       "    <tr style=\"text-align: right;\">\n",
       "      <th></th>\n",
       "      <th>MSISDN/Number</th>\n",
       "      <th>Dur. (ms)</th>\n",
       "      <th>Total UL (Bytes)</th>\n",
       "      <th>Total DL (Bytes)</th>\n",
       "      <th>Total Traffic (Bytes)</th>\n",
       "    </tr>\n",
       "  </thead>\n",
       "  <tbody>\n",
       "    <tr>\n",
       "      <th>0</th>\n",
       "      <td>3.360100e+10</td>\n",
       "      <td>116720.0</td>\n",
       "      <td>36053108.0</td>\n",
       "      <td>8.426375e+08</td>\n",
       "      <td>8.786906e+08</td>\n",
       "    </tr>\n",
       "    <tr>\n",
       "      <th>1</th>\n",
       "      <td>3.360100e+10</td>\n",
       "      <td>181230.0</td>\n",
       "      <td>36104459.0</td>\n",
       "      <td>1.207552e+08</td>\n",
       "      <td>1.568596e+08</td>\n",
       "    </tr>\n",
       "    <tr>\n",
       "      <th>2</th>\n",
       "      <td>3.360100e+10</td>\n",
       "      <td>134969.0</td>\n",
       "      <td>39306820.0</td>\n",
       "      <td>5.566597e+08</td>\n",
       "      <td>5.959665e+08</td>\n",
       "    </tr>\n",
       "    <tr>\n",
       "      <th>3</th>\n",
       "      <td>3.360101e+10</td>\n",
       "      <td>49878.0</td>\n",
       "      <td>20327526.0</td>\n",
       "      <td>4.019932e+08</td>\n",
       "      <td>4.223207e+08</td>\n",
       "    </tr>\n",
       "    <tr>\n",
       "      <th>4</th>\n",
       "      <td>3.360101e+10</td>\n",
       "      <td>37104.0</td>\n",
       "      <td>94280527.0</td>\n",
       "      <td>1.363130e+09</td>\n",
       "      <td>1.457411e+09</td>\n",
       "    </tr>\n",
       "  </tbody>\n",
       "</table>\n",
       "</div>"
      ],
      "text/plain": [
       "   MSISDN/Number  Dur. (ms)  Total UL (Bytes)  Total DL (Bytes)  \\\n",
       "0   3.360100e+10   116720.0        36053108.0      8.426375e+08   \n",
       "1   3.360100e+10   181230.0        36104459.0      1.207552e+08   \n",
       "2   3.360100e+10   134969.0        39306820.0      5.566597e+08   \n",
       "3   3.360101e+10    49878.0        20327526.0      4.019932e+08   \n",
       "4   3.360101e+10    37104.0        94280527.0      1.363130e+09   \n",
       "\n",
       "   Total Traffic (Bytes)  \n",
       "0           8.786906e+08  \n",
       "1           1.568596e+08  \n",
       "2           5.959665e+08  \n",
       "3           4.223207e+08  \n",
       "4           1.457411e+09  "
      ]
     },
     "execution_count": 44,
     "metadata": {},
     "output_type": "execute_result"
    }
   ],
   "source": [
    "df['Total Traffic (Bytes)']=df['Total UL (Bytes)'] + df['Total DL (Bytes)']\n",
    "df.head()"
   ]
  },
  {
   "cell_type": "code",
   "execution_count": 47,
   "id": "db8b1a23-ba99-4ed6-a722-c79bc8d6b571",
   "metadata": {},
   "outputs": [
    {
     "data": {
      "text/html": [
       "<div>\n",
       "<style scoped>\n",
       "    .dataframe tbody tr th:only-of-type {\n",
       "        vertical-align: middle;\n",
       "    }\n",
       "\n",
       "    .dataframe tbody tr th {\n",
       "        vertical-align: top;\n",
       "    }\n",
       "\n",
       "    .dataframe thead th {\n",
       "        text-align: right;\n",
       "    }\n",
       "</style>\n",
       "<table border=\"1\" class=\"dataframe\">\n",
       "  <thead>\n",
       "    <tr style=\"text-align: right;\">\n",
       "      <th></th>\n",
       "      <th>MSISDN/Number</th>\n",
       "      <th>Dur. (ms)</th>\n",
       "      <th>Total UL (Bytes)</th>\n",
       "      <th>Total DL (Bytes)</th>\n",
       "      <th>Total Traffic (Bytes)</th>\n",
       "    </tr>\n",
       "  </thead>\n",
       "  <tbody>\n",
       "    <tr>\n",
       "      <th>13107</th>\n",
       "      <td>3.362578e+10</td>\n",
       "      <td>18553754.0</td>\n",
       "      <td>729577380.0</td>\n",
       "      <td>7.770043e+09</td>\n",
       "      <td>8.499621e+09</td>\n",
       "    </tr>\n",
       "    <tr>\n",
       "      <th>6394</th>\n",
       "      <td>3.361489e+10</td>\n",
       "      <td>9966898.0</td>\n",
       "      <td>689483001.0</td>\n",
       "      <td>8.156743e+09</td>\n",
       "      <td>8.846226e+09</td>\n",
       "    </tr>\n",
       "    <tr>\n",
       "      <th>92486</th>\n",
       "      <td>3.376054e+10</td>\n",
       "      <td>9279434.0</td>\n",
       "      <td>703478581.0</td>\n",
       "      <td>7.811295e+09</td>\n",
       "      <td>8.514774e+09</td>\n",
       "    </tr>\n",
       "    <tr>\n",
       "      <th>13451</th>\n",
       "      <td>3.362632e+10</td>\n",
       "      <td>8791927.0</td>\n",
       "      <td>669650721.0</td>\n",
       "      <td>7.301517e+09</td>\n",
       "      <td>7.971167e+09</td>\n",
       "    </tr>\n",
       "    <tr>\n",
       "      <th>64825</th>\n",
       "      <td>3.366716e+10</td>\n",
       "      <td>8744914.0</td>\n",
       "      <td>566326364.0</td>\n",
       "      <td>5.052068e+09</td>\n",
       "      <td>5.618394e+09</td>\n",
       "    </tr>\n",
       "  </tbody>\n",
       "</table>\n",
       "</div>"
      ],
      "text/plain": [
       "       MSISDN/Number   Dur. (ms)  Total UL (Bytes)  Total DL (Bytes)  \\\n",
       "13107   3.362578e+10  18553754.0       729577380.0      7.770043e+09   \n",
       "6394    3.361489e+10   9966898.0       689483001.0      8.156743e+09   \n",
       "92486   3.376054e+10   9279434.0       703478581.0      7.811295e+09   \n",
       "13451   3.362632e+10   8791927.0       669650721.0      7.301517e+09   \n",
       "64825   3.366716e+10   8744914.0       566326364.0      5.052068e+09   \n",
       "\n",
       "       Total Traffic (Bytes)  \n",
       "13107           8.499621e+09  \n",
       "6394            8.846226e+09  \n",
       "92486           8.514774e+09  \n",
       "13451           7.971167e+09  \n",
       "64825           5.618394e+09  "
      ]
     },
     "execution_count": 47,
     "metadata": {},
     "output_type": "execute_result"
    }
   ],
   "source": [
    "# Top 10 customers per  total duration\n",
    "dur_df = df.sort_values(by='Dur. (ms)', ascending=False)\n",
    "dur_df.head(10\n",
    "           )"
   ]
  },
  {
   "cell_type": "code",
   "execution_count": 50,
   "id": "666269ea-2d6f-4579-9a6e-7f4c2241d015",
   "metadata": {},
   "outputs": [
    {
     "data": {
      "text/html": [
       "<div>\n",
       "<style scoped>\n",
       "    .dataframe tbody tr th:only-of-type {\n",
       "        vertical-align: middle;\n",
       "    }\n",
       "\n",
       "    .dataframe tbody tr th {\n",
       "        vertical-align: top;\n",
       "    }\n",
       "\n",
       "    .dataframe thead th {\n",
       "        text-align: right;\n",
       "    }\n",
       "</style>\n",
       "<table border=\"1\" class=\"dataframe\">\n",
       "  <thead>\n",
       "    <tr style=\"text-align: right;\">\n",
       "      <th></th>\n",
       "      <th>MSISDN/Number</th>\n",
       "      <th>Dur. (ms)</th>\n",
       "      <th>Total UL (Bytes)</th>\n",
       "      <th>Total DL (Bytes)</th>\n",
       "      <th>Total Traffic (Bytes)</th>\n",
       "    </tr>\n",
       "  </thead>\n",
       "  <tbody>\n",
       "    <tr>\n",
       "      <th>13107</th>\n",
       "      <td>3.362578e+10</td>\n",
       "      <td>18553754.0</td>\n",
       "      <td>729577380.0</td>\n",
       "      <td>7.770043e+09</td>\n",
       "      <td>8.499621e+09</td>\n",
       "    </tr>\n",
       "    <tr>\n",
       "      <th>6394</th>\n",
       "      <td>3.361489e+10</td>\n",
       "      <td>9966898.0</td>\n",
       "      <td>689483001.0</td>\n",
       "      <td>8.156743e+09</td>\n",
       "      <td>8.846226e+09</td>\n",
       "    </tr>\n",
       "    <tr>\n",
       "      <th>92486</th>\n",
       "      <td>3.376054e+10</td>\n",
       "      <td>9279434.0</td>\n",
       "      <td>703478581.0</td>\n",
       "      <td>7.811295e+09</td>\n",
       "      <td>8.514774e+09</td>\n",
       "    </tr>\n",
       "    <tr>\n",
       "      <th>13451</th>\n",
       "      <td>3.362632e+10</td>\n",
       "      <td>8791927.0</td>\n",
       "      <td>669650721.0</td>\n",
       "      <td>7.301517e+09</td>\n",
       "      <td>7.971167e+09</td>\n",
       "    </tr>\n",
       "    <tr>\n",
       "      <th>64825</th>\n",
       "      <td>3.366716e+10</td>\n",
       "      <td>8744914.0</td>\n",
       "      <td>566326364.0</td>\n",
       "      <td>5.052068e+09</td>\n",
       "      <td>5.618394e+09</td>\n",
       "    </tr>\n",
       "    <tr>\n",
       "      <th>56896</th>\n",
       "      <td>3.366469e+10</td>\n",
       "      <td>6288730.0</td>\n",
       "      <td>402180804.0</td>\n",
       "      <td>5.279827e+09</td>\n",
       "      <td>5.682007e+09</td>\n",
       "    </tr>\n",
       "    <tr>\n",
       "      <th>656</th>\n",
       "      <td>3.360313e+10</td>\n",
       "      <td>6287761.0</td>\n",
       "      <td>435587631.0</td>\n",
       "      <td>4.540607e+09</td>\n",
       "      <td>4.976195e+09</td>\n",
       "    </tr>\n",
       "    <tr>\n",
       "      <th>50046</th>\n",
       "      <td>3.366284e+10</td>\n",
       "      <td>5659733.0</td>\n",
       "      <td>365404250.0</td>\n",
       "      <td>3.490821e+09</td>\n",
       "      <td>3.856225e+09</td>\n",
       "    </tr>\n",
       "    <tr>\n",
       "      <th>65725</th>\n",
       "      <td>3.366746e+10</td>\n",
       "      <td>5649882.0</td>\n",
       "      <td>266222647.0</td>\n",
       "      <td>2.334299e+09</td>\n",
       "      <td>2.600522e+09</td>\n",
       "    </tr>\n",
       "    <tr>\n",
       "      <th>92141</th>\n",
       "      <td>3.376041e+10</td>\n",
       "      <td>5321667.0</td>\n",
       "      <td>521518890.0</td>\n",
       "      <td>6.610852e+09</td>\n",
       "      <td>7.132371e+09</td>\n",
       "    </tr>\n",
       "  </tbody>\n",
       "</table>\n",
       "</div>"
      ],
      "text/plain": [
       "       MSISDN/Number   Dur. (ms)  Total UL (Bytes)  Total DL (Bytes)  \\\n",
       "13107   3.362578e+10  18553754.0       729577380.0      7.770043e+09   \n",
       "6394    3.361489e+10   9966898.0       689483001.0      8.156743e+09   \n",
       "92486   3.376054e+10   9279434.0       703478581.0      7.811295e+09   \n",
       "13451   3.362632e+10   8791927.0       669650721.0      7.301517e+09   \n",
       "64825   3.366716e+10   8744914.0       566326364.0      5.052068e+09   \n",
       "56896   3.366469e+10   6288730.0       402180804.0      5.279827e+09   \n",
       "656     3.360313e+10   6287761.0       435587631.0      4.540607e+09   \n",
       "50046   3.366284e+10   5659733.0       365404250.0      3.490821e+09   \n",
       "65725   3.366746e+10   5649882.0       266222647.0      2.334299e+09   \n",
       "92141   3.376041e+10   5321667.0       521518890.0      6.610852e+09   \n",
       "\n",
       "       Total Traffic (Bytes)  \n",
       "13107           8.499621e+09  \n",
       "6394            8.846226e+09  \n",
       "92486           8.514774e+09  \n",
       "13451           7.971167e+09  \n",
       "64825           5.618394e+09  \n",
       "56896           5.682007e+09  \n",
       "656             4.976195e+09  \n",
       "50046           3.856225e+09  \n",
       "65725           2.600522e+09  \n",
       "92141           7.132371e+09  "
      ]
     },
     "execution_count": 50,
     "metadata": {},
     "output_type": "execute_result"
    }
   ],
   "source": [
    "# Top 10 customers per  total traffic \n",
    "traffic_df = df.sort_values(by='Dur. (ms)', ascending=False)\n",
    "traffic_df.head(10)"
   ]
  },
  {
   "cell_type": "code",
   "execution_count": 52,
   "id": "27bfc1bd-f199-4ef4-9ddf-2bc7dd632491",
   "metadata": {},
   "outputs": [
    {
     "data": {
      "text/html": [
       "<div>\n",
       "<style scoped>\n",
       "    .dataframe tbody tr th:only-of-type {\n",
       "        vertical-align: middle;\n",
       "    }\n",
       "\n",
       "    .dataframe tbody tr th {\n",
       "        vertical-align: top;\n",
       "    }\n",
       "\n",
       "    .dataframe thead th {\n",
       "        text-align: right;\n",
       "    }\n",
       "</style>\n",
       "<table border=\"1\" class=\"dataframe\">\n",
       "  <thead>\n",
       "    <tr style=\"text-align: right;\">\n",
       "      <th></th>\n",
       "      <th>MSISDN/Number</th>\n",
       "      <th>Dur. (ms)</th>\n",
       "      <th>Total UL (Bytes)</th>\n",
       "      <th>Total DL (Bytes)</th>\n",
       "      <th>Total Traffic (Bytes)</th>\n",
       "    </tr>\n",
       "  </thead>\n",
       "  <tbody>\n",
       "    <tr>\n",
       "      <th>0</th>\n",
       "      <td>-0.003994</td>\n",
       "      <td>-0.160763</td>\n",
       "      <td>-0.596979</td>\n",
       "      <td>0.448148</td>\n",
       "      <td>0.380618</td>\n",
       "    </tr>\n",
       "    <tr>\n",
       "      <th>1</th>\n",
       "      <td>-0.003994</td>\n",
       "      <td>0.185848</td>\n",
       "      <td>-0.595540</td>\n",
       "      <td>-1.104236</td>\n",
       "      <td>-1.087865</td>\n",
       "    </tr>\n",
       "    <tr>\n",
       "      <th>2</th>\n",
       "      <td>-0.003994</td>\n",
       "      <td>-0.062711</td>\n",
       "      <td>-0.505802</td>\n",
       "      <td>-0.166837</td>\n",
       "      <td>-0.194552</td>\n",
       "    </tr>\n",
       "    <tr>\n",
       "      <th>3</th>\n",
       "      <td>-0.003994</td>\n",
       "      <td>-0.519903</td>\n",
       "      <td>-1.037646</td>\n",
       "      <td>-0.499443</td>\n",
       "      <td>-0.547815</td>\n",
       "    </tr>\n",
       "    <tr>\n",
       "      <th>4</th>\n",
       "      <td>-0.003994</td>\n",
       "      <td>-0.588537</td>\n",
       "      <td>1.034688</td>\n",
       "      <td>1.567451</td>\n",
       "      <td>1.557959</td>\n",
       "    </tr>\n",
       "  </tbody>\n",
       "</table>\n",
       "</div>"
      ],
      "text/plain": [
       "   MSISDN/Number  Dur. (ms)  Total UL (Bytes)  Total DL (Bytes)  \\\n",
       "0      -0.003994  -0.160763         -0.596979          0.448148   \n",
       "1      -0.003994   0.185848         -0.595540         -1.104236   \n",
       "2      -0.003994  -0.062711         -0.505802         -0.166837   \n",
       "3      -0.003994  -0.519903         -1.037646         -0.499443   \n",
       "4      -0.003994  -0.588537          1.034688          1.567451   \n",
       "\n",
       "   Total Traffic (Bytes)  \n",
       "0               0.380618  \n",
       "1              -1.087865  \n",
       "2              -0.194552  \n",
       "3              -0.547815  \n",
       "4               1.557959  "
      ]
     },
     "execution_count": 52,
     "metadata": {},
     "output_type": "execute_result"
    }
   ],
   "source": [
    "# Normalize Dur. (ms) column\n",
    "normalized_df=(df-df.mean())/df.std()\n",
    "normalized_df.head()\n"
   ]
  },
  {
   "cell_type": "code",
   "execution_count": 60,
   "id": "6f1a3ce0-cbd9-4762-8945-71ffedd5faa5",
   "metadata": {},
   "outputs": [],
   "source": [
    "# apply normalization using sklearn\n",
    "def data_normalizer(df, columns):\n",
    "    \"\"\"\n",
    "    Normalize the columns in the dataframe and return a normalized dataframe\n",
    "    \"\"\"\n",
    "    for col in columns:\n",
    "        df[col] = MinMaxScaler().fit_transform(np.array(df[col]).reshape(-1,1))\n",
    "    return df\n",
    "    "
   ]
  },
  {
   "cell_type": "code",
   "execution_count": 61,
   "id": "53a3c655-c777-4b6b-99b7-c2727944d7ab",
   "metadata": {},
   "outputs": [
    {
     "data": {
      "text/html": [
       "<div>\n",
       "<style scoped>\n",
       "    .dataframe tbody tr th:only-of-type {\n",
       "        vertical-align: middle;\n",
       "    }\n",
       "\n",
       "    .dataframe tbody tr th {\n",
       "        vertical-align: top;\n",
       "    }\n",
       "\n",
       "    .dataframe thead th {\n",
       "        text-align: right;\n",
       "    }\n",
       "</style>\n",
       "<table border=\"1\" class=\"dataframe\">\n",
       "  <thead>\n",
       "    <tr style=\"text-align: right;\">\n",
       "      <th></th>\n",
       "      <th>MSISDN/Number</th>\n",
       "      <th>Dur. (ms)</th>\n",
       "      <th>Total UL (Bytes)</th>\n",
       "      <th>Total DL (Bytes)</th>\n",
       "      <th>Total Traffic (Bytes)</th>\n",
       "    </tr>\n",
       "  </thead>\n",
       "  <tbody>\n",
       "    <tr>\n",
       "      <th>0</th>\n",
       "      <td>3.360100e+10</td>\n",
       "      <td>0.005908</td>\n",
       "      <td>36053108.0</td>\n",
       "      <td>8.426375e+08</td>\n",
       "      <td>0.095931</td>\n",
       "    </tr>\n",
       "    <tr>\n",
       "      <th>1</th>\n",
       "      <td>3.360100e+10</td>\n",
       "      <td>0.009387</td>\n",
       "      <td>36104459.0</td>\n",
       "      <td>1.207552e+08</td>\n",
       "      <td>0.014026</td>\n",
       "    </tr>\n",
       "    <tr>\n",
       "      <th>2</th>\n",
       "      <td>3.360100e+10</td>\n",
       "      <td>0.006892</td>\n",
       "      <td>39306820.0</td>\n",
       "      <td>5.566597e+08</td>\n",
       "      <td>0.063851</td>\n",
       "    </tr>\n",
       "    <tr>\n",
       "      <th>3</th>\n",
       "      <td>3.360101e+10</td>\n",
       "      <td>0.002304</td>\n",
       "      <td>20327526.0</td>\n",
       "      <td>4.019932e+08</td>\n",
       "      <td>0.044148</td>\n",
       "    </tr>\n",
       "    <tr>\n",
       "      <th>4</th>\n",
       "      <td>3.360101e+10</td>\n",
       "      <td>0.001615</td>\n",
       "      <td>94280527.0</td>\n",
       "      <td>1.363130e+09</td>\n",
       "      <td>0.161598</td>\n",
       "    </tr>\n",
       "  </tbody>\n",
       "</table>\n",
       "</div>"
      ],
      "text/plain": [
       "   MSISDN/Number  Dur. (ms)  Total UL (Bytes)  Total DL (Bytes)  \\\n",
       "0   3.360100e+10   0.005908        36053108.0      8.426375e+08   \n",
       "1   3.360100e+10   0.009387        36104459.0      1.207552e+08   \n",
       "2   3.360100e+10   0.006892        39306820.0      5.566597e+08   \n",
       "3   3.360101e+10   0.002304        20327526.0      4.019932e+08   \n",
       "4   3.360101e+10   0.001615        94280527.0      1.363130e+09   \n",
       "\n",
       "   Total Traffic (Bytes)  \n",
       "0               0.095931  \n",
       "1               0.014026  \n",
       "2               0.063851  \n",
       "3               0.044148  \n",
       "4               0.161598  "
      ]
     },
     "execution_count": 61,
     "metadata": {},
     "output_type": "execute_result"
    }
   ],
   "source": [
    "normalized_df=data_normalizer(df, ['Dur. (ms)', 'Total Traffic (Bytes)'])\n",
    "normalized_df.head()"
   ]
  },
  {
   "cell_type": "code",
   "execution_count": null,
   "id": "2033fd66-7496-43a8-bfb6-0ce92552d37d",
   "metadata": {},
   "outputs": [],
   "source": [
    "normalized_df.drop(columns=['Total UL (Bytes)', 'Total DL (Bytes)'], inplace=True)\n"
   ]
  },
  {
   "cell_type": "code",
   "execution_count": 66,
   "id": "1afea3ab-1b5c-47c5-a842-52d76c7f0b08",
   "metadata": {},
   "outputs": [
    {
     "data": {
      "text/html": [
       "<div>\n",
       "<style scoped>\n",
       "    .dataframe tbody tr th:only-of-type {\n",
       "        vertical-align: middle;\n",
       "    }\n",
       "\n",
       "    .dataframe tbody tr th {\n",
       "        vertical-align: top;\n",
       "    }\n",
       "\n",
       "    .dataframe thead th {\n",
       "        text-align: right;\n",
       "    }\n",
       "</style>\n",
       "<table border=\"1\" class=\"dataframe\">\n",
       "  <thead>\n",
       "    <tr style=\"text-align: right;\">\n",
       "      <th></th>\n",
       "      <th>MSISDN/Number</th>\n",
       "      <th>Dur. (ms)</th>\n",
       "      <th>Total Traffic (Bytes)</th>\n",
       "    </tr>\n",
       "  </thead>\n",
       "  <tbody>\n",
       "    <tr>\n",
       "      <th>0</th>\n",
       "      <td>3.360100e+10</td>\n",
       "      <td>0.005908</td>\n",
       "      <td>0.095931</td>\n",
       "    </tr>\n",
       "    <tr>\n",
       "      <th>1</th>\n",
       "      <td>3.360100e+10</td>\n",
       "      <td>0.009387</td>\n",
       "      <td>0.014026</td>\n",
       "    </tr>\n",
       "    <tr>\n",
       "      <th>2</th>\n",
       "      <td>3.360100e+10</td>\n",
       "      <td>0.006892</td>\n",
       "      <td>0.063851</td>\n",
       "    </tr>\n",
       "    <tr>\n",
       "      <th>3</th>\n",
       "      <td>3.360101e+10</td>\n",
       "      <td>0.002304</td>\n",
       "      <td>0.044148</td>\n",
       "    </tr>\n",
       "    <tr>\n",
       "      <th>4</th>\n",
       "      <td>3.360101e+10</td>\n",
       "      <td>0.001615</td>\n",
       "      <td>0.161598</td>\n",
       "    </tr>\n",
       "  </tbody>\n",
       "</table>\n",
       "</div>"
      ],
      "text/plain": [
       "   MSISDN/Number  Dur. (ms)  Total Traffic (Bytes)\n",
       "0   3.360100e+10   0.005908               0.095931\n",
       "1   3.360100e+10   0.009387               0.014026\n",
       "2   3.360100e+10   0.006892               0.063851\n",
       "3   3.360101e+10   0.002304               0.044148\n",
       "4   3.360101e+10   0.001615               0.161598"
      ]
     },
     "execution_count": 66,
     "metadata": {},
     "output_type": "execute_result"
    }
   ],
   "source": [
    "normalized_df.head()"
   ]
  },
  {
   "cell_type": "code",
   "execution_count": 71,
   "id": "f64f61e8-2781-45c7-be6e-9f73d17917ed",
   "metadata": {},
   "outputs": [
    {
     "name": "stdout",
     "output_type": "stream",
     "text": [
      "[[0.00548698 0.03455451]\n",
      " [0.00716544 0.09111816]\n",
      " [0.02031001 0.20755519]]\n"
     ]
    }
   ],
   "source": [
    "#Run k-3 cluster of the 2 metrics\n",
    "df_new = df[['Dur. (ms)', 'Total Traffic (Bytes)']].copy()\n",
    "kmeans = KMeans(n_clusters=3).fit(df_new)\n",
    "centroids = kmeans.cluster_centers_\n",
    "print(centroids)"
   ]
  },
  {
   "cell_type": "code",
   "execution_count": 74,
   "id": "f1cc5bf7-8039-46eb-9cee-6aaa47e4e4df",
   "metadata": {},
   "outputs": [
    {
     "data": {
      "image/png": "[encoded data removed]",
      "text/plain": [
       "<Figure size 432x288 with 1 Axes>"
      ]
     },
     "metadata": {
      "needs_background": "light"
     },
     "output_type": "display_data"
    }
   ],
   "source": [
    "plt.scatter(df_new['Dur. (ms)'], df_new['Total Traffic (Bytes)'], c= kmeans.labels_.astype(float), s=50, alpha=0.5)\n",
    "plt.scatter(centroids[:, 0], centroids[:, 1], c='red', s=50)\n",
    "plt.show()"
   ]
  },
  {
   "cell_type": "code",
   "execution_count": null,
   "id": "bb91030b-a021-4b1e-afe9-b169c3069f16",
   "metadata": {},
   "outputs": [],
   "source": []
  }
 ],
 "metadata": {
  "kernelspec": {
   "display_name": "Python 3",
   "language": "python",
   "name": "python3"
  },
  "language_info": {
   "codemirror_mode": {
    "name": "ipython",
    "version": 3
   },
   "file_extension": ".py",
   "mimetype": "text/x-python",
   "name": "python",
   "nbconvert_exporter": "python",
   "pygments_lexer": "ipython3",
   "version": "3.6.13"
  }
 },
 "nbformat": 4,
 "nbformat_minor": 5
}
