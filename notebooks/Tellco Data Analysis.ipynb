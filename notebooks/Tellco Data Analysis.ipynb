{
 "cells": [
  {
   "cell_type": "markdown",
   "id": "a2e79244-edfd-4572-a789-b91b96850313",
   "metadata": {},
   "source": [
    "# Telecommunication Industry User Analytics\n",
    "<p>This notebook contains a detailed user analytics on Tellco, a mobile service provider in the Republic of Pefkakia. The aim of this project is to provide a detailed report of the analysis of the dataset by the owners of Tellco. The dataset contains information about the customer and their activities on the network. This analysis should provide a report on opportunities for growth identified and recommendation on whether Tellco is worth buying or selling. </p>\n",
    "<p>This analysis will be based on the following 4 sub-objectives:\n",
    "<ol>\n",
    "    <li>User overview analysis</li>\n",
    "    <li>User Engagement analysis</li>\n",
    "    <li>User Experience analysis</li>\n",
    "    <li>User Satisfaction analysis</li>\n",
    "</ol>\n",
    "</p>\n",
    "\n",
    "\n"
   ]
  },
  {
   "cell_type": "markdown",
   "id": "fd4d340c-4f12-4f15-9fca-b9b51035959b",
   "metadata": {},
   "source": [
    "## Import the required modules and packages"
   ]
  },
  {
   "cell_type": "code",
   "execution_count": 1,
   "id": "bbfdd824-af3b-4142-b1f1-729db6843718",
   "metadata": {},
   "outputs": [],
   "source": [
    "import sys\n",
    "import pandas as pd\n",
    "import numpy as np\n",
    "import matplotlib.pyplot as plt\n",
    "import warnings\n",
    "import seaborn as sns\n",
    "from sklearn.preprocessing import MinMaxScaler\n",
    "from sklearn.cluster import KMeans\n",
    "sys.path.append('../scripts')\n",
    "from load_data import LoadData"
   ]
  },
  {
   "cell_type": "code",
   "execution_count": 156,
   "id": "7e85ff0a-dac9-4635-81c9-c6e0876fc1b3",
   "metadata": {},
   "outputs": [],
   "source": [
    "from scipy.stats import skew\n",
    "from sklearn.preprocessing import MinMaxScaler\n",
    "from random import sample\n",
    "from sklearn.cluster import KMeans\n",
    "from sklearn import metrics\n",
    "from scipy.spatial.distance import cdist\n",
    "from sklearn.metrics.pairwise import euclidean_distances\n",
    "\n",
    "from sklearn.preprocessing import MinMaxScaler\n",
    "from sklearn.decomposition import PCA\n",
    "from sklearn.datasets import make_blobs"
   ]
  },
  {
   "cell_type": "markdown",
   "id": "87180193-5e61-44eb-87d9-536bf2e8db0e",
   "metadata": {},
   "source": [
    "## Loading the data into a DataFrame\n",
    "<p>We begin by first loading the dataset provided in an excel file into a pandas dataframe. The data can be obtained from <a href=\"https://www.github.com/wakura-mbuya/Tellco-project/tree/master/data\">here</a>.</p>\n",
    "<p>The data was loaded into the DataFrame using <strong><a href=\"https://www.github.com/wakura-mbuya/Tellco-project/blob/master/scripts/load_data.py\">LoadData</a>.</strong> class.</p>"
   ]
  },
  {
   "cell_type": "code",
   "execution_count": 2,
   "id": "801da22c-3bb4-433e-b045-1125df873c49",
   "metadata": {},
   "outputs": [
    {
     "data": {
      "text/html": [
       "<div>\n",
       "<style scoped>\n",
       "    .dataframe tbody tr th:only-of-type {\n",
       "        vertical-align: middle;\n",
       "    }\n",
       "\n",
       "    .dataframe tbody tr th {\n",
       "        vertical-align: top;\n",
       "    }\n",
       "\n",
       "    .dataframe thead th {\n",
       "        text-align: right;\n",
       "    }\n",
       "</style>\n",
       "<table border=\"1\" class=\"dataframe\">\n",
       "  <thead>\n",
       "    <tr style=\"text-align: right;\">\n",
       "      <th></th>\n",
       "      <th>Bearer Id</th>\n",
       "      <th>Start</th>\n",
       "      <th>Start ms</th>\n",
       "      <th>End</th>\n",
       "      <th>End ms</th>\n",
       "      <th>Dur. (ms)</th>\n",
       "      <th>IMSI</th>\n",
       "      <th>MSISDN/Number</th>\n",
       "      <th>IMEI</th>\n",
       "      <th>Last Location Name</th>\n",
       "      <th>...</th>\n",
       "      <th>Youtube DL (Bytes)</th>\n",
       "      <th>Youtube UL (Bytes)</th>\n",
       "      <th>Netflix DL (Bytes)</th>\n",
       "      <th>Netflix UL (Bytes)</th>\n",
       "      <th>Gaming DL (Bytes)</th>\n",
       "      <th>Gaming UL (Bytes)</th>\n",
       "      <th>Other DL (Bytes)</th>\n",
       "      <th>Other UL (Bytes)</th>\n",
       "      <th>Total UL (Bytes)</th>\n",
       "      <th>Total DL (Bytes)</th>\n",
       "    </tr>\n",
       "  </thead>\n",
       "  <tbody>\n",
       "    <tr>\n",
       "      <th>0</th>\n",
       "      <td>13114483460844900352</td>\n",
       "      <td>2019-04-04 12:01:18</td>\n",
       "      <td>770.0</td>\n",
       "      <td>2019-04-25 14:35:31</td>\n",
       "      <td>662.0</td>\n",
       "      <td>1823652.0</td>\n",
       "      <td>2.082014e+14</td>\n",
       "      <td>3.366496e+10</td>\n",
       "      <td>3.552121e+13</td>\n",
       "      <td>9164566995485190</td>\n",
       "      <td>...</td>\n",
       "      <td>15854611.0</td>\n",
       "      <td>2501332.0</td>\n",
       "      <td>8198936.0</td>\n",
       "      <td>9656251.0</td>\n",
       "      <td>278082303.0</td>\n",
       "      <td>14344150.0</td>\n",
       "      <td>171744450.0</td>\n",
       "      <td>8814393.0</td>\n",
       "      <td>36749741.0</td>\n",
       "      <td>308879636.0</td>\n",
       "    </tr>\n",
       "    <tr>\n",
       "      <th>1</th>\n",
       "      <td>13114483482878900224</td>\n",
       "      <td>2019-04-09 13:04:04</td>\n",
       "      <td>235.0</td>\n",
       "      <td>2019-04-25 08:15:48</td>\n",
       "      <td>606.0</td>\n",
       "      <td>1365104.0</td>\n",
       "      <td>2.082019e+14</td>\n",
       "      <td>3.368185e+10</td>\n",
       "      <td>3.579401e+13</td>\n",
       "      <td>L77566A</td>\n",
       "      <td>...</td>\n",
       "      <td>20247395.0</td>\n",
       "      <td>19111729.0</td>\n",
       "      <td>18338413.0</td>\n",
       "      <td>17227132.0</td>\n",
       "      <td>608750074.0</td>\n",
       "      <td>1170709.0</td>\n",
       "      <td>526904238.0</td>\n",
       "      <td>15055145.0</td>\n",
       "      <td>53800391.0</td>\n",
       "      <td>653384965.0</td>\n",
       "    </tr>\n",
       "    <tr>\n",
       "      <th>2</th>\n",
       "      <td>13114483484080500736</td>\n",
       "      <td>2019-04-09 17:42:11</td>\n",
       "      <td>1.0</td>\n",
       "      <td>2019-04-25 11:58:13</td>\n",
       "      <td>652.0</td>\n",
       "      <td>1361762.0</td>\n",
       "      <td>2.082003e+14</td>\n",
       "      <td>3.376063e+10</td>\n",
       "      <td>3.528151e+13</td>\n",
       "      <td>D42335A</td>\n",
       "      <td>...</td>\n",
       "      <td>19725661.0</td>\n",
       "      <td>14699576.0</td>\n",
       "      <td>17587794.0</td>\n",
       "      <td>6163408.0</td>\n",
       "      <td>229584621.0</td>\n",
       "      <td>395630.0</td>\n",
       "      <td>410692588.0</td>\n",
       "      <td>4215763.0</td>\n",
       "      <td>27883638.0</td>\n",
       "      <td>279807335.0</td>\n",
       "    </tr>\n",
       "    <tr>\n",
       "      <th>3</th>\n",
       "      <td>13114483485442799616</td>\n",
       "      <td>2019-04-10 00:31:25</td>\n",
       "      <td>486.0</td>\n",
       "      <td>2019-04-25 07:36:35</td>\n",
       "      <td>171.0</td>\n",
       "      <td>1321509.0</td>\n",
       "      <td>2.082014e+14</td>\n",
       "      <td>3.375034e+10</td>\n",
       "      <td>3.535661e+13</td>\n",
       "      <td>T21824A</td>\n",
       "      <td>...</td>\n",
       "      <td>21388122.0</td>\n",
       "      <td>15146643.0</td>\n",
       "      <td>13994646.0</td>\n",
       "      <td>1097942.0</td>\n",
       "      <td>799538153.0</td>\n",
       "      <td>10849722.0</td>\n",
       "      <td>749039933.0</td>\n",
       "      <td>12797283.0</td>\n",
       "      <td>43324218.0</td>\n",
       "      <td>846028530.0</td>\n",
       "    </tr>\n",
       "    <tr>\n",
       "      <th>4</th>\n",
       "      <td>13114483499480700928</td>\n",
       "      <td>2019-04-12 20:10:23</td>\n",
       "      <td>565.0</td>\n",
       "      <td>2019-04-25 10:40:32</td>\n",
       "      <td>954.0</td>\n",
       "      <td>1089009.0</td>\n",
       "      <td>2.082014e+14</td>\n",
       "      <td>3.369980e+10</td>\n",
       "      <td>3.540701e+13</td>\n",
       "      <td>D88865A</td>\n",
       "      <td>...</td>\n",
       "      <td>15259380.0</td>\n",
       "      <td>18962873.0</td>\n",
       "      <td>17124581.0</td>\n",
       "      <td>415218.0</td>\n",
       "      <td>527707248.0</td>\n",
       "      <td>3529801.0</td>\n",
       "      <td>550709500.0</td>\n",
       "      <td>13910322.0</td>\n",
       "      <td>38542814.0</td>\n",
       "      <td>569138589.0</td>\n",
       "    </tr>\n",
       "  </tbody>\n",
       "</table>\n",
       "<p>5 rows × 55 columns</p>\n",
       "</div>"
      ],
      "text/plain": [
       "              Bearer Id               Start  Start ms                 End  \\\n",
       "0  13114483460844900352 2019-04-04 12:01:18     770.0 2019-04-25 14:35:31   \n",
       "1  13114483482878900224 2019-04-09 13:04:04     235.0 2019-04-25 08:15:48   \n",
       "2  13114483484080500736 2019-04-09 17:42:11       1.0 2019-04-25 11:58:13   \n",
       "3  13114483485442799616 2019-04-10 00:31:25     486.0 2019-04-25 07:36:35   \n",
       "4  13114483499480700928 2019-04-12 20:10:23     565.0 2019-04-25 10:40:32   \n",
       "\n",
       "   End ms  Dur. (ms)          IMSI  MSISDN/Number          IMEI  \\\n",
       "0   662.0  1823652.0  2.082014e+14   3.366496e+10  3.552121e+13   \n",
       "1   606.0  1365104.0  2.082019e+14   3.368185e+10  3.579401e+13   \n",
       "2   652.0  1361762.0  2.082003e+14   3.376063e+10  3.528151e+13   \n",
       "3   171.0  1321509.0  2.082014e+14   3.375034e+10  3.535661e+13   \n",
       "4   954.0  1089009.0  2.082014e+14   3.369980e+10  3.540701e+13   \n",
       "\n",
       "  Last Location Name  ...  Youtube DL (Bytes)  Youtube UL (Bytes)  \\\n",
       "0   9164566995485190  ...          15854611.0           2501332.0   \n",
       "1            L77566A  ...          20247395.0          19111729.0   \n",
       "2            D42335A  ...          19725661.0          14699576.0   \n",
       "3            T21824A  ...          21388122.0          15146643.0   \n",
       "4            D88865A  ...          15259380.0          18962873.0   \n",
       "\n",
       "   Netflix DL (Bytes)  Netflix UL (Bytes)  Gaming DL (Bytes)  \\\n",
       "0           8198936.0           9656251.0        278082303.0   \n",
       "1          18338413.0          17227132.0        608750074.0   \n",
       "2          17587794.0           6163408.0        229584621.0   \n",
       "3          13994646.0           1097942.0        799538153.0   \n",
       "4          17124581.0            415218.0        527707248.0   \n",
       "\n",
       "   Gaming UL (Bytes)  Other DL (Bytes)  Other UL (Bytes)  Total UL (Bytes)  \\\n",
       "0         14344150.0       171744450.0         8814393.0        36749741.0   \n",
       "1          1170709.0       526904238.0        15055145.0        53800391.0   \n",
       "2           395630.0       410692588.0         4215763.0        27883638.0   \n",
       "3         10849722.0       749039933.0        12797283.0        43324218.0   \n",
       "4          3529801.0       550709500.0        13910322.0        38542814.0   \n",
       "\n",
       "   Total DL (Bytes)  \n",
       "0       308879636.0  \n",
       "1       653384965.0  \n",
       "2       279807335.0  \n",
       "3       846028530.0  \n",
       "4       569138589.0  \n",
       "\n",
       "[5 rows x 55 columns]"
      ]
     },
     "execution_count": 2,
     "metadata": {},
     "output_type": "execute_result"
    }
   ],
   "source": [
    "loader = LoadData()\n",
    "telco_df = loader.read_excel('../data/Week1_challenge_data_source.xlsx')\n",
    "telco_df.head()"
   ]
  },
  {
   "cell_type": "markdown",
   "id": "639ae3a6-0383-45fe-b557-0eabcabe9734",
   "metadata": {},
   "source": [
    "## 1. User Overview analysis\n",
    "<p>In this section, will conduct Exploratory Data Analysis in order to familiarize ourself with the dataset and explore initial insights to inform further steps in the data analysis. </p>\n",
    "<p>We will identify and impute missing values and outliers in our dataset. We will use visual and quantitative methods to understand the data. At the end of the exploratory data analysis in this section we would have conducted a full user overview analysis. This section will be based on the folliwing objectives:\n",
    "\n",
    "   <ul>\n",
    "    <li> Identifying the top 10 handsets used by the customers </li>\n",
    "    <li> Identifying the top 3 handset manufacturers</li>\n",
    "    <li> Identifying the top 5 handsets per top 3 handset manufacturer</li>\n",
    "    <li> Provide a brief interpretation and recommendation to marketing teams</li>\n",
    "   </ul>\n",
    "</p>"
   ]
  },
  {
   "cell_type": "markdown",
   "id": "87e61b3d-37e2-43b4-9df0-321ad2c08e98",
   "metadata": {},
   "source": [
    "### Data cleaning\n",
    "We will identify missing values and outliers in our dataset and impute them using an appropriate method"
   ]
  },
  {
   "cell_type": "code",
   "execution_count": 3,
   "id": "f4d77301-18b0-460e-8af5-f89b3bee6f05",
   "metadata": {
    "tags": []
   },
   "outputs": [
    {
     "data": {
      "text/plain": [
       "Bearer Id                                        0\n",
       "Start                                            1\n",
       "Start ms                                         1\n",
       "End                                              1\n",
       "End ms                                           1\n",
       "Dur. (ms)                                        1\n",
       "IMSI                                           570\n",
       "MSISDN/Number                                 1066\n",
       "IMEI                                           572\n",
       "Last Location Name                            1153\n",
       "Avg RTT DL (ms)                              27829\n",
       "Avg RTT UL (ms)                              27812\n",
       "Avg Bearer TP DL (kbps)                          1\n",
       "Avg Bearer TP UL (kbps)                          1\n",
       "TCP DL Retrans. Vol (Bytes)                  88146\n",
       "TCP UL Retrans. Vol (Bytes)                  96649\n",
       "DL TP < 50 Kbps (%)                            754\n",
       "50 Kbps < DL TP < 250 Kbps (%)                 754\n",
       "250 Kbps < DL TP < 1 Mbps (%)                  754\n",
       "DL TP > 1 Mbps (%)                             754\n",
       "UL TP < 10 Kbps (%)                            792\n",
       "10 Kbps < UL TP < 50 Kbps (%)                  792\n",
       "50 Kbps < UL TP < 300 Kbps (%)                 792\n",
       "UL TP > 300 Kbps (%)                           792\n",
       "HTTP DL (Bytes)                              81474\n",
       "HTTP UL (Bytes)                              81810\n",
       "Activity Duration DL (ms)                        1\n",
       "Activity Duration UL (ms)                        1\n",
       "Dur. (ms).1                                      1\n",
       "Handset Manufacturer                           572\n",
       "Handset Type                                   572\n",
       "Nb of sec with 125000B < Vol DL              97538\n",
       "Nb of sec with 1250B < Vol UL < 6250B        92894\n",
       "Nb of sec with 31250B < Vol DL < 125000B     93586\n",
       "Nb of sec with 37500B < Vol UL              130254\n",
       "Nb of sec with 6250B < Vol DL < 31250B       88317\n",
       "Nb of sec with 6250B < Vol UL < 37500B      111843\n",
       "Nb of sec with Vol DL < 6250B                  755\n",
       "Nb of sec with Vol UL < 1250B                  793\n",
       "Social Media DL (Bytes)                          0\n",
       "Social Media UL (Bytes)                          0\n",
       "Google DL (Bytes)                                0\n",
       "Google UL (Bytes)                                0\n",
       "Email DL (Bytes)                                 0\n",
       "Email UL (Bytes)                                 0\n",
       "Youtube DL (Bytes)                               0\n",
       "Youtube UL (Bytes)                               0\n",
       "Netflix DL (Bytes)                               0\n",
       "Netflix UL (Bytes)                               0\n",
       "Gaming DL (Bytes)                                0\n",
       "Gaming UL (Bytes)                                0\n",
       "Other DL (Bytes)                                 0\n",
       "Other UL (Bytes)                                 0\n",
       "Total UL (Bytes)                                 1\n",
       "Total DL (Bytes)                                 1\n",
       "dtype: int64"
      ]
     },
     "execution_count": 3,
     "metadata": {},
     "output_type": "execute_result"
    }
   ],
   "source": [
    "# Identify columns with missing values\n",
    "telco_df.isna().sum()"
   ]
  },
  {
   "cell_type": "code",
   "execution_count": 4,
   "id": "bd689a09-6620-4eac-97fc-eaafdb41d972",
   "metadata": {
    "tags": []
   },
   "outputs": [],
   "source": [
    "def impute_missing_values(df):\n",
    "    \"\"\"\n",
    "    This function imputes missing values by filling them with the mean\n",
    "    \"\"\"\n",
    "    for i in df.columns:\n",
    "        df[i].fillna(df[i].mode()[0], inplace=True)\n",
    "    return df"
   ]
  },
  {
   "cell_type": "markdown",
   "id": "27afc51e-4cdd-4008-a1a4-82e10ad63d02",
   "metadata": {},
   "source": [
    "#### Drop Missing values in some of the columns \n",
    "Drop with missing values in the columns IMSI, MSIDN/Number, IMEI, Handset Manufacturer, Handset Type, Last Location Name. This is because imputing these values with mean or medium do not not make sense as these values are to be unique"
   ]
  },
  {
   "cell_type": "code",
   "execution_count": 5,
   "id": "3ce285a0-6b6e-4133-ab9e-845763d04edb",
   "metadata": {
    "tags": []
   },
   "outputs": [
    {
     "data": {
      "text/plain": [
       "(148346, 55)"
      ]
     },
     "execution_count": 5,
     "metadata": {},
     "output_type": "execute_result"
    }
   ],
   "source": [
    "#drop rows with missing imei, msisdn, imsi, handset manufacturer and handset type\n",
    "telco_df_dropped = telco_df.dropna(subset=['IMSI', 'MSISDN/Number', 'IMEI', 'Handset Manufacturer', 'Handset Type', 'Last Location Name'])\n",
    "telco_df_dropped.shape #show the new shape of the dataframe"
   ]
  },
  {
   "cell_type": "markdown",
   "id": "34a5d2ac-0fa4-4ec1-8392-370594410e35",
   "metadata": {},
   "source": [
    "#### Impute the missing values in the other columns with the mean of the respective column"
   ]
  },
  {
   "cell_type": "code",
   "execution_count": 6,
   "id": "05488af3-b4ea-4ce8-a5ba-9b9cf07fe573",
   "metadata": {
    "tags": []
   },
   "outputs": [
    {
     "name": "stderr",
     "output_type": "stream",
     "text": [
      "C:\\Users\\User\\anaconda3\\envs\\envMysql\\lib\\site-packages\\pandas\\core\\series.py:4536: SettingWithCopyWarning: \n",
      "A value is trying to be set on a copy of a slice from a DataFrame\n",
      "\n",
      "See the caveats in the documentation: https://pandas.pydata.org/pandas-docs/stable/user_guide/indexing.html#returning-a-view-versus-a-copy\n",
      "  downcast=downcast,\n"
     ]
    },
    {
     "data": {
      "text/html": [
       "<div>\n",
       "<style scoped>\n",
       "    .dataframe tbody tr th:only-of-type {\n",
       "        vertical-align: middle;\n",
       "    }\n",
       "\n",
       "    .dataframe tbody tr th {\n",
       "        vertical-align: top;\n",
       "    }\n",
       "\n",
       "    .dataframe thead th {\n",
       "        text-align: right;\n",
       "    }\n",
       "</style>\n",
       "<table border=\"1\" class=\"dataframe\">\n",
       "  <thead>\n",
       "    <tr style=\"text-align: right;\">\n",
       "      <th></th>\n",
       "      <th>Bearer Id</th>\n",
       "      <th>Start</th>\n",
       "      <th>Start ms</th>\n",
       "      <th>End</th>\n",
       "      <th>End ms</th>\n",
       "      <th>Dur. (ms)</th>\n",
       "      <th>IMSI</th>\n",
       "      <th>MSISDN/Number</th>\n",
       "      <th>IMEI</th>\n",
       "      <th>Last Location Name</th>\n",
       "      <th>...</th>\n",
       "      <th>Youtube DL (Bytes)</th>\n",
       "      <th>Youtube UL (Bytes)</th>\n",
       "      <th>Netflix DL (Bytes)</th>\n",
       "      <th>Netflix UL (Bytes)</th>\n",
       "      <th>Gaming DL (Bytes)</th>\n",
       "      <th>Gaming UL (Bytes)</th>\n",
       "      <th>Other DL (Bytes)</th>\n",
       "      <th>Other UL (Bytes)</th>\n",
       "      <th>Total UL (Bytes)</th>\n",
       "      <th>Total DL (Bytes)</th>\n",
       "    </tr>\n",
       "  </thead>\n",
       "  <tbody>\n",
       "    <tr>\n",
       "      <th>0</th>\n",
       "      <td>13114483460844900352</td>\n",
       "      <td>2019-04-04 12:01:18</td>\n",
       "      <td>770.0</td>\n",
       "      <td>2019-04-25 14:35:31</td>\n",
       "      <td>662.0</td>\n",
       "      <td>1823652.0</td>\n",
       "      <td>2.082014e+14</td>\n",
       "      <td>3.366496e+10</td>\n",
       "      <td>3.552121e+13</td>\n",
       "      <td>9164566995485190</td>\n",
       "      <td>...</td>\n",
       "      <td>15854611.0</td>\n",
       "      <td>2501332.0</td>\n",
       "      <td>8198936.0</td>\n",
       "      <td>9656251.0</td>\n",
       "      <td>278082303.0</td>\n",
       "      <td>14344150.0</td>\n",
       "      <td>171744450.0</td>\n",
       "      <td>8814393.0</td>\n",
       "      <td>36749741.0</td>\n",
       "      <td>308879636.0</td>\n",
       "    </tr>\n",
       "    <tr>\n",
       "      <th>1</th>\n",
       "      <td>13114483482878900224</td>\n",
       "      <td>2019-04-09 13:04:04</td>\n",
       "      <td>235.0</td>\n",
       "      <td>2019-04-25 08:15:48</td>\n",
       "      <td>606.0</td>\n",
       "      <td>1365104.0</td>\n",
       "      <td>2.082019e+14</td>\n",
       "      <td>3.368185e+10</td>\n",
       "      <td>3.579401e+13</td>\n",
       "      <td>L77566A</td>\n",
       "      <td>...</td>\n",
       "      <td>20247395.0</td>\n",
       "      <td>19111729.0</td>\n",
       "      <td>18338413.0</td>\n",
       "      <td>17227132.0</td>\n",
       "      <td>608750074.0</td>\n",
       "      <td>1170709.0</td>\n",
       "      <td>526904238.0</td>\n",
       "      <td>15055145.0</td>\n",
       "      <td>53800391.0</td>\n",
       "      <td>653384965.0</td>\n",
       "    </tr>\n",
       "    <tr>\n",
       "      <th>2</th>\n",
       "      <td>13114483484080500736</td>\n",
       "      <td>2019-04-09 17:42:11</td>\n",
       "      <td>1.0</td>\n",
       "      <td>2019-04-25 11:58:13</td>\n",
       "      <td>652.0</td>\n",
       "      <td>1361762.0</td>\n",
       "      <td>2.082003e+14</td>\n",
       "      <td>3.376063e+10</td>\n",
       "      <td>3.528151e+13</td>\n",
       "      <td>D42335A</td>\n",
       "      <td>...</td>\n",
       "      <td>19725661.0</td>\n",
       "      <td>14699576.0</td>\n",
       "      <td>17587794.0</td>\n",
       "      <td>6163408.0</td>\n",
       "      <td>229584621.0</td>\n",
       "      <td>395630.0</td>\n",
       "      <td>410692588.0</td>\n",
       "      <td>4215763.0</td>\n",
       "      <td>27883638.0</td>\n",
       "      <td>279807335.0</td>\n",
       "    </tr>\n",
       "    <tr>\n",
       "      <th>3</th>\n",
       "      <td>13114483485442799616</td>\n",
       "      <td>2019-04-10 00:31:25</td>\n",
       "      <td>486.0</td>\n",
       "      <td>2019-04-25 07:36:35</td>\n",
       "      <td>171.0</td>\n",
       "      <td>1321509.0</td>\n",
       "      <td>2.082014e+14</td>\n",
       "      <td>3.375034e+10</td>\n",
       "      <td>3.535661e+13</td>\n",
       "      <td>T21824A</td>\n",
       "      <td>...</td>\n",
       "      <td>21388122.0</td>\n",
       "      <td>15146643.0</td>\n",
       "      <td>13994646.0</td>\n",
       "      <td>1097942.0</td>\n",
       "      <td>799538153.0</td>\n",
       "      <td>10849722.0</td>\n",
       "      <td>749039933.0</td>\n",
       "      <td>12797283.0</td>\n",
       "      <td>43324218.0</td>\n",
       "      <td>846028530.0</td>\n",
       "    </tr>\n",
       "    <tr>\n",
       "      <th>4</th>\n",
       "      <td>13114483499480700928</td>\n",
       "      <td>2019-04-12 20:10:23</td>\n",
       "      <td>565.0</td>\n",
       "      <td>2019-04-25 10:40:32</td>\n",
       "      <td>954.0</td>\n",
       "      <td>1089009.0</td>\n",
       "      <td>2.082014e+14</td>\n",
       "      <td>3.369980e+10</td>\n",
       "      <td>3.540701e+13</td>\n",
       "      <td>D88865A</td>\n",
       "      <td>...</td>\n",
       "      <td>15259380.0</td>\n",
       "      <td>18962873.0</td>\n",
       "      <td>17124581.0</td>\n",
       "      <td>415218.0</td>\n",
       "      <td>527707248.0</td>\n",
       "      <td>3529801.0</td>\n",
       "      <td>550709500.0</td>\n",
       "      <td>13910322.0</td>\n",
       "      <td>38542814.0</td>\n",
       "      <td>569138589.0</td>\n",
       "    </tr>\n",
       "  </tbody>\n",
       "</table>\n",
       "<p>5 rows × 55 columns</p>\n",
       "</div>"
      ],
      "text/plain": [
       "              Bearer Id               Start  Start ms                 End  \\\n",
       "0  13114483460844900352 2019-04-04 12:01:18     770.0 2019-04-25 14:35:31   \n",
       "1  13114483482878900224 2019-04-09 13:04:04     235.0 2019-04-25 08:15:48   \n",
       "2  13114483484080500736 2019-04-09 17:42:11       1.0 2019-04-25 11:58:13   \n",
       "3  13114483485442799616 2019-04-10 00:31:25     486.0 2019-04-25 07:36:35   \n",
       "4  13114483499480700928 2019-04-12 20:10:23     565.0 2019-04-25 10:40:32   \n",
       "\n",
       "   End ms  Dur. (ms)          IMSI  MSISDN/Number          IMEI  \\\n",
       "0   662.0  1823652.0  2.082014e+14   3.366496e+10  3.552121e+13   \n",
       "1   606.0  1365104.0  2.082019e+14   3.368185e+10  3.579401e+13   \n",
       "2   652.0  1361762.0  2.082003e+14   3.376063e+10  3.528151e+13   \n",
       "3   171.0  1321509.0  2.082014e+14   3.375034e+10  3.535661e+13   \n",
       "4   954.0  1089009.0  2.082014e+14   3.369980e+10  3.540701e+13   \n",
       "\n",
       "  Last Location Name  ...  Youtube DL (Bytes)  Youtube UL (Bytes)  \\\n",
       "0   9164566995485190  ...          15854611.0           2501332.0   \n",
       "1            L77566A  ...          20247395.0          19111729.0   \n",
       "2            D42335A  ...          19725661.0          14699576.0   \n",
       "3            T21824A  ...          21388122.0          15146643.0   \n",
       "4            D88865A  ...          15259380.0          18962873.0   \n",
       "\n",
       "   Netflix DL (Bytes)  Netflix UL (Bytes)  Gaming DL (Bytes)  \\\n",
       "0           8198936.0           9656251.0        278082303.0   \n",
       "1          18338413.0          17227132.0        608750074.0   \n",
       "2          17587794.0           6163408.0        229584621.0   \n",
       "3          13994646.0           1097942.0        799538153.0   \n",
       "4          17124581.0            415218.0        527707248.0   \n",
       "\n",
       "   Gaming UL (Bytes)  Other DL (Bytes)  Other UL (Bytes)  Total UL (Bytes)  \\\n",
       "0         14344150.0       171744450.0         8814393.0        36749741.0   \n",
       "1          1170709.0       526904238.0        15055145.0        53800391.0   \n",
       "2           395630.0       410692588.0         4215763.0        27883638.0   \n",
       "3         10849722.0       749039933.0        12797283.0        43324218.0   \n",
       "4          3529801.0       550709500.0        13910322.0        38542814.0   \n",
       "\n",
       "   Total DL (Bytes)  \n",
       "0       308879636.0  \n",
       "1       653384965.0  \n",
       "2       279807335.0  \n",
       "3       846028530.0  \n",
       "4       569138589.0  \n",
       "\n",
       "[5 rows x 55 columns]"
      ]
     },
     "execution_count": 6,
     "metadata": {},
     "output_type": "execute_result"
    }
   ],
   "source": [
    "telco_clean = impute_missing_values(telco_df_dropped)\n",
    "telco_clean.head()"
   ]
  },
  {
   "cell_type": "code",
   "execution_count": 7,
   "id": "d0e9d149-e2ba-432b-b90b-8b9696530500",
   "metadata": {},
   "outputs": [],
   "source": [
    "new_df = telco_clean[['IMSI', 'Handset Manufacturer', 'Handset Type']].copy()\n",
    "#new_df.to_csv('user_overview.csv')"
   ]
  },
  {
   "cell_type": "code",
   "execution_count": 13,
   "id": "123427a3-16a9-4937-8f9d-fba6e84e05ee",
   "metadata": {},
   "outputs": [
    {
     "name": "stderr",
     "output_type": "stream",
     "text": [
      ".\n",
      "----------------------------------------------------------------------\n",
      "Ran 1 test in 239.269s\n",
      "\n",
      "OK\n"
     ]
    }
   ],
   "source": [
    "#Run unit test on load_data.py\n",
    "%run ../tests/test_load_data.py"
   ]
  },
  {
   "cell_type": "code",
   "execution_count": 8,
   "id": "2d6f44b7-b557-495b-bbe6-e239363dd256",
   "metadata": {
    "tags": []
   },
   "outputs": [
    {
     "data": {
      "text/plain": [
       "Bearer Id                                   0\n",
       "Start                                       0\n",
       "Start ms                                    0\n",
       "End                                         0\n",
       "End ms                                      0\n",
       "Dur. (ms)                                   0\n",
       "IMSI                                        0\n",
       "MSISDN/Number                               0\n",
       "IMEI                                        0\n",
       "Last Location Name                          0\n",
       "Avg RTT DL (ms)                             0\n",
       "Avg RTT UL (ms)                             0\n",
       "Avg Bearer TP DL (kbps)                     0\n",
       "Avg Bearer TP UL (kbps)                     0\n",
       "TCP DL Retrans. Vol (Bytes)                 0\n",
       "TCP UL Retrans. Vol (Bytes)                 0\n",
       "DL TP < 50 Kbps (%)                         0\n",
       "50 Kbps < DL TP < 250 Kbps (%)              0\n",
       "250 Kbps < DL TP < 1 Mbps (%)               0\n",
       "DL TP > 1 Mbps (%)                          0\n",
       "UL TP < 10 Kbps (%)                         0\n",
       "10 Kbps < UL TP < 50 Kbps (%)               0\n",
       "50 Kbps < UL TP < 300 Kbps (%)              0\n",
       "UL TP > 300 Kbps (%)                        0\n",
       "HTTP DL (Bytes)                             0\n",
       "HTTP UL (Bytes)                             0\n",
       "Activity Duration DL (ms)                   0\n",
       "Activity Duration UL (ms)                   0\n",
       "Dur. (ms).1                                 0\n",
       "Handset Manufacturer                        0\n",
       "Handset Type                                0\n",
       "Nb of sec with 125000B < Vol DL             0\n",
       "Nb of sec with 1250B < Vol UL < 6250B       0\n",
       "Nb of sec with 31250B < Vol DL < 125000B    0\n",
       "Nb of sec with 37500B < Vol UL              0\n",
       "Nb of sec with 6250B < Vol DL < 31250B      0\n",
       "Nb of sec with 6250B < Vol UL < 37500B      0\n",
       "Nb of sec with Vol DL < 6250B               0\n",
       "Nb of sec with Vol UL < 1250B               0\n",
       "Social Media DL (Bytes)                     0\n",
       "Social Media UL (Bytes)                     0\n",
       "Google DL (Bytes)                           0\n",
       "Google UL (Bytes)                           0\n",
       "Email DL (Bytes)                            0\n",
       "Email UL (Bytes)                            0\n",
       "Youtube DL (Bytes)                          0\n",
       "Youtube UL (Bytes)                          0\n",
       "Netflix DL (Bytes)                          0\n",
       "Netflix UL (Bytes)                          0\n",
       "Gaming DL (Bytes)                           0\n",
       "Gaming UL (Bytes)                           0\n",
       "Other DL (Bytes)                            0\n",
       "Other UL (Bytes)                            0\n",
       "Total UL (Bytes)                            0\n",
       "Total DL (Bytes)                            0\n",
       "dtype: int64"
      ]
     },
     "execution_count": 8,
     "metadata": {},
     "output_type": "execute_result"
    }
   ],
   "source": [
    "#Chech if there are any missing values\n",
    "telco_clean.isna().sum()"
   ]
  },
  {
   "cell_type": "markdown",
   "id": "f0845432-2fe4-4aea-b425-6821c6eca252",
   "metadata": {},
   "source": [
    "#### Check the Data types of all columns to ensure that they are correct"
   ]
  },
  {
   "cell_type": "code",
   "execution_count": 10,
   "id": "eb2258ae-1566-47be-94c9-f4ca19227836",
   "metadata": {
    "tags": []
   },
   "outputs": [
    {
     "data": {
      "text/plain": [
       "Bearer Id                                           uint64\n",
       "Start                                       datetime64[ns]\n",
       "Start ms                                           float64\n",
       "End                                         datetime64[ns]\n",
       "End ms                                             float64\n",
       "Dur. (ms)                                          float64\n",
       "IMSI                                               float64\n",
       "MSISDN/Number                                      float64\n",
       "IMEI                                               float64\n",
       "Last Location Name                                  object\n",
       "Avg RTT DL (ms)                                    float64\n",
       "Avg RTT UL (ms)                                    float64\n",
       "Avg Bearer TP DL (kbps)                            float64\n",
       "Avg Bearer TP UL (kbps)                            float64\n",
       "TCP DL Retrans. Vol (Bytes)                        float64\n",
       "TCP UL Retrans. Vol (Bytes)                        float64\n",
       "DL TP < 50 Kbps (%)                                float64\n",
       "50 Kbps < DL TP < 250 Kbps (%)                     float64\n",
       "250 Kbps < DL TP < 1 Mbps (%)                      float64\n",
       "DL TP > 1 Mbps (%)                                 float64\n",
       "UL TP < 10 Kbps (%)                                float64\n",
       "10 Kbps < UL TP < 50 Kbps (%)                      float64\n",
       "50 Kbps < UL TP < 300 Kbps (%)                     float64\n",
       "UL TP > 300 Kbps (%)                               float64\n",
       "HTTP DL (Bytes)                                    float64\n",
       "HTTP UL (Bytes)                                    float64\n",
       "Activity Duration DL (ms)                          float64\n",
       "Activity Duration UL (ms)                          float64\n",
       "Dur. (ms).1                                        float64\n",
       "Handset Manufacturer                                object\n",
       "Handset Type                                        object\n",
       "Nb of sec with 125000B < Vol DL                    float64\n",
       "Nb of sec with 1250B < Vol UL < 6250B              float64\n",
       "Nb of sec with 31250B < Vol DL < 125000B           float64\n",
       "Nb of sec with 37500B < Vol UL                     float64\n",
       "Nb of sec with 6250B < Vol DL < 31250B             float64\n",
       "Nb of sec with 6250B < Vol UL < 37500B             float64\n",
       "Nb of sec with Vol DL < 6250B                      float64\n",
       "Nb of sec with Vol UL < 1250B                      float64\n",
       "Social Media DL (Bytes)                            float64\n",
       "Social Media UL (Bytes)                            float64\n",
       "Google DL (Bytes)                                  float64\n",
       "Google UL (Bytes)                                  float64\n",
       "Email DL (Bytes)                                   float64\n",
       "Email UL (Bytes)                                   float64\n",
       "Youtube DL (Bytes)                                 float64\n",
       "Youtube UL (Bytes)                                 float64\n",
       "Netflix DL (Bytes)                                 float64\n",
       "Netflix UL (Bytes)                                 float64\n",
       "Gaming DL (Bytes)                                  float64\n",
       "Gaming UL (Bytes)                                  float64\n",
       "Other DL (Bytes)                                   float64\n",
       "Other UL (Bytes)                                   float64\n",
       "Total UL (Bytes)                                   float64\n",
       "Total DL (Bytes)                                   float64\n",
       "dtype: object"
      ]
     },
     "execution_count": 10,
     "metadata": {},
     "output_type": "execute_result"
    }
   ],
   "source": [
    "telco_clean.dtypes"
   ]
  },
  {
   "cell_type": "markdown",
   "id": "77167991-f3e5-4d94-8e44-43e03367a61a",
   "metadata": {},
   "source": [
    "All the columns are of the correct datatype"
   ]
  },
  {
   "cell_type": "code",
   "execution_count": 11,
   "id": "57e502e4-156a-40d8-8cc1-bed86e193e49",
   "metadata": {
    "tags": []
   },
   "outputs": [],
   "source": [
    "def convertColumnTypes(df, columnNames, dataType):\n",
    "    \"\"\"\n",
    "    This function converts the datatypes of columns specified to the data type specified\n",
    "    \"\"\"\n",
    "    for i in columnNames:\n",
    "        df[i]=df[i].map(dataType)\n",
    "        "
   ]
  },
  {
   "cell_type": "markdown",
   "id": "e94fe1c9-7495-4de2-8845-aeb7e3afafb1",
   "metadata": {},
   "source": [
    "#### User Aggregation\n",
    "We are going to aggregate users based on the information in the columns:\n",
    "   <ul>\n",
    "    <li>Number of xDR sessions</li>\n",
    "    <li>Session duration</li>\n",
    "    <li>The total download (DL) and upload (UL) data</li>\n",
    "    <li>The total data volume (in Bytes) during this session in each application </li>\n",
    "   </ul>\n",
    "    "
   ]
  },
  {
   "cell_type": "code",
   "execution_count": 12,
   "id": "15ff0c54-f239-46b7-81ff-f549193d577a",
   "metadata": {
    "tags": []
   },
   "outputs": [],
   "source": [
    "df = telco_clean.groupby('IMSI').aggregate({'Bearer Id': 'count', \n",
    "                                    'Dur. (ms)': 'sum', \n",
    "                                    'Total DL (Bytes)': 'sum', \n",
    "                                    'Total UL (Bytes)': 'sum', \n",
    "                                    'Social Media DL (Bytes)': 'sum', \n",
    "                                    'Social Media UL (Bytes)':  'sum', \n",
    "                                    'Google DL (Bytes)': 'sum',\n",
    "                                    'Google UL (Bytes)': 'sum', \n",
    "                                    'Email DL (Bytes)': 'sum',\n",
    "                                    'Email UL (Bytes)': 'sum',\n",
    "                                    'Youtube DL (Bytes)': 'sum', \n",
    "                                    'Youtube UL (Bytes)': 'sum',\n",
    "                                    'Netflix DL (Bytes)': 'sum',\n",
    "                                    'Netflix UL (Bytes)': 'sum',\n",
    "                                    'Gaming DL (Bytes)': 'sum',\n",
    "                                    'Gaming UL (Bytes)': 'sum',\n",
    "                                    'Other DL (Bytes)': 'sum',\n",
    "                                    'Other UL (Bytes)': 'sum'\n",
    "                                 }).reset_index()"
   ]
  },
  {
   "cell_type": "code",
   "execution_count": 13,
   "id": "c3d6294e-ca27-4d7c-9f27-bd928625d69d",
   "metadata": {
    "tags": []
   },
   "outputs": [
    {
     "data": {
      "text/html": [
       "<div>\n",
       "<style scoped>\n",
       "    .dataframe tbody tr th:only-of-type {\n",
       "        vertical-align: middle;\n",
       "    }\n",
       "\n",
       "    .dataframe tbody tr th {\n",
       "        vertical-align: top;\n",
       "    }\n",
       "\n",
       "    .dataframe thead th {\n",
       "        text-align: right;\n",
       "    }\n",
       "</style>\n",
       "<table border=\"1\" class=\"dataframe\">\n",
       "  <thead>\n",
       "    <tr style=\"text-align: right;\">\n",
       "      <th></th>\n",
       "      <th>IMSI</th>\n",
       "      <th>Bearer Id</th>\n",
       "      <th>Dur. (ms)</th>\n",
       "      <th>Total DL (Bytes)</th>\n",
       "      <th>Total UL (Bytes)</th>\n",
       "      <th>Social Media DL (Bytes)</th>\n",
       "      <th>Social Media UL (Bytes)</th>\n",
       "      <th>Google DL (Bytes)</th>\n",
       "      <th>Google UL (Bytes)</th>\n",
       "      <th>Email DL (Bytes)</th>\n",
       "      <th>Email UL (Bytes)</th>\n",
       "      <th>Youtube DL (Bytes)</th>\n",
       "      <th>Youtube UL (Bytes)</th>\n",
       "      <th>Netflix DL (Bytes)</th>\n",
       "      <th>Netflix UL (Bytes)</th>\n",
       "      <th>Gaming DL (Bytes)</th>\n",
       "      <th>Gaming UL (Bytes)</th>\n",
       "      <th>Other DL (Bytes)</th>\n",
       "      <th>Other UL (Bytes)</th>\n",
       "    </tr>\n",
       "  </thead>\n",
       "  <tbody>\n",
       "    <tr>\n",
       "      <th>0</th>\n",
       "      <td>2.040471e+14</td>\n",
       "      <td>1</td>\n",
       "      <td>869844.0</td>\n",
       "      <td>78697597.0</td>\n",
       "      <td>60456049.0</td>\n",
       "      <td>1500145.0</td>\n",
       "      <td>45943.0</td>\n",
       "      <td>5985089.0</td>\n",
       "      <td>3233558.0</td>\n",
       "      <td>2518425.0</td>\n",
       "      <td>812549.0</td>\n",
       "      <td>18980320.0</td>\n",
       "      <td>21960390.0</td>\n",
       "      <td>21621336.0</td>\n",
       "      <td>7224894.0</td>\n",
       "      <td>28092282.0</td>\n",
       "      <td>14977978.0</td>\n",
       "      <td>3.891597e+08</td>\n",
       "      <td>12200737.0</td>\n",
       "    </tr>\n",
       "    <tr>\n",
       "      <th>1</th>\n",
       "      <td>2.040808e+14</td>\n",
       "      <td>1</td>\n",
       "      <td>877385.0</td>\n",
       "      <td>194828056.0</td>\n",
       "      <td>37295915.0</td>\n",
       "      <td>668596.0</td>\n",
       "      <td>46628.0</td>\n",
       "      <td>8572779.0</td>\n",
       "      <td>1865881.0</td>\n",
       "      <td>842279.0</td>\n",
       "      <td>678492.0</td>\n",
       "      <td>9839889.0</td>\n",
       "      <td>2120016.0</td>\n",
       "      <td>10340908.0</td>\n",
       "      <td>16251392.0</td>\n",
       "      <td>164563605.0</td>\n",
       "      <td>13485133.0</td>\n",
       "      <td>4.676781e+08</td>\n",
       "      <td>2848373.0</td>\n",
       "    </tr>\n",
       "    <tr>\n",
       "      <th>2</th>\n",
       "      <td>2.082001e+14</td>\n",
       "      <td>1</td>\n",
       "      <td>86019.0</td>\n",
       "      <td>31376981.0</td>\n",
       "      <td>53794658.0</td>\n",
       "      <td>3073697.0</td>\n",
       "      <td>49084.0</td>\n",
       "      <td>603691.0</td>\n",
       "      <td>1020971.0</td>\n",
       "      <td>3076735.0</td>\n",
       "      <td>580766.0</td>\n",
       "      <td>5556563.0</td>\n",
       "      <td>14325876.0</td>\n",
       "      <td>15305361.0</td>\n",
       "      <td>16525201.0</td>\n",
       "      <td>3760934.0</td>\n",
       "      <td>5363582.0</td>\n",
       "      <td>5.000445e+08</td>\n",
       "      <td>15929178.0</td>\n",
       "    </tr>\n",
       "    <tr>\n",
       "      <th>3</th>\n",
       "      <td>2.082001e+14</td>\n",
       "      <td>1</td>\n",
       "      <td>86254.0</td>\n",
       "      <td>392918313.0</td>\n",
       "      <td>33583272.0</td>\n",
       "      <td>2542767.0</td>\n",
       "      <td>34337.0</td>\n",
       "      <td>10699827.0</td>\n",
       "      <td>3111651.0</td>\n",
       "      <td>3248863.0</td>\n",
       "      <td>606871.0</td>\n",
       "      <td>22414714.0</td>\n",
       "      <td>3242918.0</td>\n",
       "      <td>10065639.0</td>\n",
       "      <td>17720213.0</td>\n",
       "      <td>343946503.0</td>\n",
       "      <td>159394.0</td>\n",
       "      <td>3.009029e+08</td>\n",
       "      <td>8707888.0</td>\n",
       "    </tr>\n",
       "    <tr>\n",
       "      <th>4</th>\n",
       "      <td>2.082001e+14</td>\n",
       "      <td>2</td>\n",
       "      <td>573923.0</td>\n",
       "      <td>961767023.0</td>\n",
       "      <td>71325004.0</td>\n",
       "      <td>3326811.0</td>\n",
       "      <td>99905.0</td>\n",
       "      <td>9118088.0</td>\n",
       "      <td>2547799.0</td>\n",
       "      <td>4225757.0</td>\n",
       "      <td>1338705.0</td>\n",
       "      <td>4046597.0</td>\n",
       "      <td>9793604.0</td>\n",
       "      <td>30748449.0</td>\n",
       "      <td>26594966.0</td>\n",
       "      <td>910301321.0</td>\n",
       "      <td>7383445.0</td>\n",
       "      <td>1.055869e+09</td>\n",
       "      <td>23566580.0</td>\n",
       "    </tr>\n",
       "  </tbody>\n",
       "</table>\n",
       "</div>"
      ],
      "text/plain": [
       "           IMSI  Bearer Id  Dur. (ms)  Total DL (Bytes)  Total UL (Bytes)  \\\n",
       "0  2.040471e+14          1   869844.0        78697597.0        60456049.0   \n",
       "1  2.040808e+14          1   877385.0       194828056.0        37295915.0   \n",
       "2  2.082001e+14          1    86019.0        31376981.0        53794658.0   \n",
       "3  2.082001e+14          1    86254.0       392918313.0        33583272.0   \n",
       "4  2.082001e+14          2   573923.0       961767023.0        71325004.0   \n",
       "\n",
       "   Social Media DL (Bytes)  Social Media UL (Bytes)  Google DL (Bytes)  \\\n",
       "0                1500145.0                  45943.0          5985089.0   \n",
       "1                 668596.0                  46628.0          8572779.0   \n",
       "2                3073697.0                  49084.0           603691.0   \n",
       "3                2542767.0                  34337.0         10699827.0   \n",
       "4                3326811.0                  99905.0          9118088.0   \n",
       "\n",
       "   Google UL (Bytes)  Email DL (Bytes)  Email UL (Bytes)  Youtube DL (Bytes)  \\\n",
       "0          3233558.0         2518425.0          812549.0          18980320.0   \n",
       "1          1865881.0          842279.0          678492.0           9839889.0   \n",
       "2          1020971.0         3076735.0          580766.0           5556563.0   \n",
       "3          3111651.0         3248863.0          606871.0          22414714.0   \n",
       "4          2547799.0         4225757.0         1338705.0           4046597.0   \n",
       "\n",
       "   Youtube UL (Bytes)  Netflix DL (Bytes)  Netflix UL (Bytes)  \\\n",
       "0          21960390.0          21621336.0           7224894.0   \n",
       "1           2120016.0          10340908.0          16251392.0   \n",
       "2          14325876.0          15305361.0          16525201.0   \n",
       "3           3242918.0          10065639.0          17720213.0   \n",
       "4           9793604.0          30748449.0          26594966.0   \n",
       "\n",
       "   Gaming DL (Bytes)  Gaming UL (Bytes)  Other DL (Bytes)  Other UL (Bytes)  \n",
       "0         28092282.0         14977978.0      3.891597e+08        12200737.0  \n",
       "1        164563605.0         13485133.0      4.676781e+08         2848373.0  \n",
       "2          3760934.0          5363582.0      5.000445e+08        15929178.0  \n",
       "3        343946503.0           159394.0      3.009029e+08         8707888.0  \n",
       "4        910301321.0          7383445.0      1.055869e+09        23566580.0  "
      ]
     },
     "execution_count": 13,
     "metadata": {},
     "output_type": "execute_result"
    }
   ],
   "source": [
    "df.head()"
   ]
  },
  {
   "cell_type": "code",
   "execution_count": 63,
   "id": "1fd37f32-344f-47e5-ba83-50262d9197aa",
   "metadata": {
    "tags": []
   },
   "outputs": [],
   "source": [
    "def combineColumns(df, columns):\n",
    "    \n",
    "    for key in columns:\n",
    "        col1=columns[key][0]\n",
    "        col2=columns[key][1]\n",
    "        df[key]=df[col1]+df[col2]\n",
    "        df=df.drop(columns=[col1,col2])\n",
    "    return df\n",
    "\n",
    "import copy"
   ]
  },
  {
   "cell_type": "code",
   "execution_count": 15,
   "id": "4454496b-5283-4543-aa21-4c990599b075",
   "metadata": {
    "jupyter": {
     "source_hidden": true
    },
    "tags": []
   },
   "outputs": [
    {
     "data": {
      "text/plain": [
       "['IMSI',\n",
       " 'Bearer Id',\n",
       " 'Dur. (ms)',\n",
       " 'Total DL (Bytes)',\n",
       " 'Total UL (Bytes)',\n",
       " 'Social Media DL (Bytes)',\n",
       " 'Social Media UL (Bytes)',\n",
       " 'Google DL (Bytes)',\n",
       " 'Google UL (Bytes)',\n",
       " 'Email DL (Bytes)',\n",
       " 'Email UL (Bytes)',\n",
       " 'Youtube DL (Bytes)',\n",
       " 'Youtube UL (Bytes)',\n",
       " 'Netflix DL (Bytes)',\n",
       " 'Netflix UL (Bytes)',\n",
       " 'Gaming DL (Bytes)',\n",
       " 'Gaming UL (Bytes)',\n",
       " 'Other DL (Bytes)',\n",
       " 'Other UL (Bytes)']"
      ]
     },
     "execution_count": 15,
     "metadata": {},
     "output_type": "execute_result"
    }
   ],
   "source": [
    "df.columns.tolist()"
   ]
  },
  {
   "cell_type": "code",
   "execution_count": 16,
   "id": "a79a2db7-f42a-498e-8206-5c83bbfd998f",
   "metadata": {
    "tags": []
   },
   "outputs": [],
   "source": [
    "my_dict= {'Social Media': ['Social Media DL (Bytes)', 'Social Media UL (Bytes)'],\n",
    "          'Google': ['Google DL (Bytes)', 'Google UL (Bytes)'],\n",
    "          'Email': ['Email DL (Bytes)', 'Email UL (Bytes)'],\n",
    "          'Youtube': ['Youtube DL (Bytes)', 'Youtube UL (Bytes)'],\n",
    "          'Netflix': ['Netflix DL (Bytes)', 'Netflix UL (Bytes)'],\n",
    "          'Gaming': ['Gaming DL (Bytes)', 'Gaming UL (Bytes)'],\n",
    "          'Other': ['Other DL (Bytes)', 'Other UL (Bytes)']\n",
    "         }\n",
    "user_info = combineColumns(df, my_dict)\n",
    "user_info.head()\n",
    "user_info.to_csv(\"user_app_usage.csv\")        "
   ]
  },
  {
   "cell_type": "markdown",
   "id": "c05373e4-93e4-43e1-8739-9483fe02f495",
   "metadata": {},
   "source": [
    "#### User_info Variables description\n",
    "We describe all the relevant variables and data types of the newly formed user_info dataframe which is an aggregation of user based on the volumes of data they use during an xDR session"
   ]
  },
  {
   "cell_type": "code",
   "execution_count": 17,
   "id": "ca4259cc-c330-41dc-8a72-8ffd8126a611",
   "metadata": {
    "tags": []
   },
   "outputs": [
    {
     "name": "stdout",
     "output_type": "stream",
     "text": [
      "<class 'pandas.core.frame.DataFrame'>\n",
      "RangeIndex: 106351 entries, 0 to 106350\n",
      "Data columns (total 12 columns):\n",
      " #   Column            Non-Null Count   Dtype  \n",
      "---  ------            --------------   -----  \n",
      " 0   IMSI              106351 non-null  float64\n",
      " 1   Bearer Id         106351 non-null  int64  \n",
      " 2   Dur. (ms)         106351 non-null  float64\n",
      " 3   Total DL (Bytes)  106351 non-null  float64\n",
      " 4   Total UL (Bytes)  106351 non-null  float64\n",
      " 5   Social Media      106351 non-null  float64\n",
      " 6   Google            106351 non-null  float64\n",
      " 7   Email             106351 non-null  float64\n",
      " 8   Youtube           106351 non-null  float64\n",
      " 9   Netflix           106351 non-null  float64\n",
      " 10  Gaming            106351 non-null  float64\n",
      " 11  Other             106351 non-null  float64\n",
      "dtypes: float64(11), int64(1)\n",
      "memory usage: 9.7 MB\n"
     ]
    }
   ],
   "source": [
    "user_info.info()\n"
   ]
  },
  {
   "cell_type": "code",
   "execution_count": 18,
   "id": "b5efccff-e58b-4a62-8632-717939bab09f",
   "metadata": {},
   "outputs": [
    {
     "data": {
      "text/plain": [
       "(106351, 12)"
      ]
     },
     "execution_count": 18,
     "metadata": {},
     "output_type": "execute_result"
    }
   ],
   "source": [
    "#Look at the shape of the dataframe\n",
    "user_info.shape"
   ]
  },
  {
   "cell_type": "markdown",
   "id": "4812bd87-a5a1-4ad2-acf0-c1a37dfcff32",
   "metadata": {},
   "source": [
    "#### Non-Graphical Univariate analysis\n",
    "We then conduct a non-graphical univariate analysis on the dataframe by computing the dispersion parameters for each quantitative variables"
   ]
  },
  {
   "cell_type": "code",
   "execution_count": 19,
   "id": "2fe2664d-68e9-4d8d-b1d2-3a5dc65bfbec",
   "metadata": {},
   "outputs": [
    {
     "data": {
      "text/html": [
       "<div>\n",
       "<style scoped>\n",
       "    .dataframe tbody tr th:only-of-type {\n",
       "        vertical-align: middle;\n",
       "    }\n",
       "\n",
       "    .dataframe tbody tr th {\n",
       "        vertical-align: top;\n",
       "    }\n",
       "\n",
       "    .dataframe thead th {\n",
       "        text-align: right;\n",
       "    }\n",
       "</style>\n",
       "<table border=\"1\" class=\"dataframe\">\n",
       "  <thead>\n",
       "    <tr style=\"text-align: right;\">\n",
       "      <th></th>\n",
       "      <th>Dur. (ms)</th>\n",
       "      <th>Total DL (Bytes)</th>\n",
       "      <th>Total UL (Bytes)</th>\n",
       "      <th>Social Media</th>\n",
       "      <th>Google</th>\n",
       "      <th>Email</th>\n",
       "      <th>Youtube</th>\n",
       "      <th>Netflix</th>\n",
       "      <th>Gaming</th>\n",
       "      <th>Other</th>\n",
       "    </tr>\n",
       "  </thead>\n",
       "  <tbody>\n",
       "    <tr>\n",
       "      <th>count</th>\n",
       "      <td>1.063510e+05</td>\n",
       "      <td>1.063510e+05</td>\n",
       "      <td>1.063510e+05</td>\n",
       "      <td>1.063510e+05</td>\n",
       "      <td>1.063510e+05</td>\n",
       "      <td>1.063510e+05</td>\n",
       "      <td>1.063510e+05</td>\n",
       "      <td>1.063510e+05</td>\n",
       "      <td>1.063510e+05</td>\n",
       "      <td>1.063510e+05</td>\n",
       "    </tr>\n",
       "    <tr>\n",
       "      <th>mean</th>\n",
       "      <td>1.466420e+05</td>\n",
       "      <td>6.342476e+08</td>\n",
       "      <td>5.735734e+07</td>\n",
       "      <td>2.549910e+06</td>\n",
       "      <td>1.089098e+07</td>\n",
       "      <td>3.151163e+06</td>\n",
       "      <td>3.158412e+07</td>\n",
       "      <td>3.156503e+07</td>\n",
       "      <td>6.003381e+08</td>\n",
       "      <td>5.989977e+08</td>\n",
       "    </tr>\n",
       "    <tr>\n",
       "      <th>std</th>\n",
       "      <td>1.861173e+05</td>\n",
       "      <td>4.650188e+08</td>\n",
       "      <td>3.568615e+07</td>\n",
       "      <td>1.908677e+06</td>\n",
       "      <td>7.551163e+06</td>\n",
       "      <td>2.224336e+06</td>\n",
       "      <td>2.131071e+07</td>\n",
       "      <td>2.130507e+07</td>\n",
       "      <td>4.495975e+08</td>\n",
       "      <td>4.492046e+08</td>\n",
       "    </tr>\n",
       "    <tr>\n",
       "      <th>min</th>\n",
       "      <td>7.142000e+03</td>\n",
       "      <td>8.827082e+06</td>\n",
       "      <td>2.866892e+06</td>\n",
       "      <td>1.563000e+03</td>\n",
       "      <td>4.033000e+04</td>\n",
       "      <td>1.817600e+04</td>\n",
       "      <td>7.890300e+04</td>\n",
       "      <td>1.845690e+05</td>\n",
       "      <td>3.063580e+05</td>\n",
       "      <td>1.490450e+05</td>\n",
       "    </tr>\n",
       "    <tr>\n",
       "      <th>25%</th>\n",
       "      <td>7.273550e+04</td>\n",
       "      <td>3.150687e+08</td>\n",
       "      <td>3.640236e+07</td>\n",
       "      <td>1.211830e+06</td>\n",
       "      <td>5.945850e+06</td>\n",
       "      <td>1.675358e+06</td>\n",
       "      <td>1.863829e+07</td>\n",
       "      <td>1.857020e+07</td>\n",
       "      <td>2.883087e+08</td>\n",
       "      <td>2.858938e+08</td>\n",
       "    </tr>\n",
       "    <tr>\n",
       "      <th>50%</th>\n",
       "      <td>1.032480e+05</td>\n",
       "      <td>5.707809e+08</td>\n",
       "      <td>4.682052e+07</td>\n",
       "      <td>2.305817e+06</td>\n",
       "      <td>9.592535e+06</td>\n",
       "      <td>2.801284e+06</td>\n",
       "      <td>2.681849e+07</td>\n",
       "      <td>2.673116e+07</td>\n",
       "      <td>5.428493e+08</td>\n",
       "      <td>5.401950e+08</td>\n",
       "    </tr>\n",
       "    <tr>\n",
       "      <th>75%</th>\n",
       "      <td>1.727990e+05</td>\n",
       "      <td>8.078833e+08</td>\n",
       "      <td>6.587011e+07</td>\n",
       "      <td>3.309194e+06</td>\n",
       "      <td>1.322390e+07</td>\n",
       "      <td>3.849244e+06</td>\n",
       "      <td>3.796169e+07</td>\n",
       "      <td>3.800361e+07</td>\n",
       "      <td>7.777531e+08</td>\n",
       "      <td>7.756827e+08</td>\n",
       "    </tr>\n",
       "    <tr>\n",
       "      <th>max</th>\n",
       "      <td>1.855375e+07</td>\n",
       "      <td>8.156743e+09</td>\n",
       "      <td>7.295774e+08</td>\n",
       "      <td>4.337478e+07</td>\n",
       "      <td>1.521919e+08</td>\n",
       "      <td>4.241878e+07</td>\n",
       "      <td>4.529588e+08</td>\n",
       "      <td>3.995191e+08</td>\n",
       "      <td>7.749432e+09</td>\n",
       "      <td>8.167878e+09</td>\n",
       "    </tr>\n",
       "  </tbody>\n",
       "</table>\n",
       "</div>"
      ],
      "text/plain": [
       "          Dur. (ms)  Total DL (Bytes)  Total UL (Bytes)  Social Media  \\\n",
       "count  1.063510e+05      1.063510e+05      1.063510e+05  1.063510e+05   \n",
       "mean   1.466420e+05      6.342476e+08      5.735734e+07  2.549910e+06   \n",
       "std    1.861173e+05      4.650188e+08      3.568615e+07  1.908677e+06   \n",
       "min    7.142000e+03      8.827082e+06      2.866892e+06  1.563000e+03   \n",
       "25%    7.273550e+04      3.150687e+08      3.640236e+07  1.211830e+06   \n",
       "50%    1.032480e+05      5.707809e+08      4.682052e+07  2.305817e+06   \n",
       "75%    1.727990e+05      8.078833e+08      6.587011e+07  3.309194e+06   \n",
       "max    1.855375e+07      8.156743e+09      7.295774e+08  4.337478e+07   \n",
       "\n",
       "             Google         Email       Youtube       Netflix        Gaming  \\\n",
       "count  1.063510e+05  1.063510e+05  1.063510e+05  1.063510e+05  1.063510e+05   \n",
       "mean   1.089098e+07  3.151163e+06  3.158412e+07  3.156503e+07  6.003381e+08   \n",
       "std    7.551163e+06  2.224336e+06  2.131071e+07  2.130507e+07  4.495975e+08   \n",
       "min    4.033000e+04  1.817600e+04  7.890300e+04  1.845690e+05  3.063580e+05   \n",
       "25%    5.945850e+06  1.675358e+06  1.863829e+07  1.857020e+07  2.883087e+08   \n",
       "50%    9.592535e+06  2.801284e+06  2.681849e+07  2.673116e+07  5.428493e+08   \n",
       "75%    1.322390e+07  3.849244e+06  3.796169e+07  3.800361e+07  7.777531e+08   \n",
       "max    1.521919e+08  4.241878e+07  4.529588e+08  3.995191e+08  7.749432e+09   \n",
       "\n",
       "              Other  \n",
       "count  1.063510e+05  \n",
       "mean   5.989977e+08  \n",
       "std    4.492046e+08  \n",
       "min    1.490450e+05  \n",
       "25%    2.858938e+08  \n",
       "50%    5.401950e+08  \n",
       "75%    7.756827e+08  \n",
       "max    8.167878e+09  "
      ]
     },
     "execution_count": 19,
     "metadata": {},
     "output_type": "execute_result"
    }
   ],
   "source": [
    "user_info[['Dur. (ms)','Total DL (Bytes)','Total UL (Bytes)','Social Media','Google','Email','Youtube','Netflix','Gaming','Other']].describe()"
   ]
  },
  {
   "cell_type": "markdown",
   "id": "31e12d59-fd5d-4bbc-8a1e-a70be97c84f7",
   "metadata": {},
   "source": [
    "#### Graphical Univariate Analysis\n",
    "We conduct a graphical univariate analysis by identifying the most suitable plotting option for each variable and interpret the findings. We will use a distplot to visualize the distribution of each of the numerical variable in our dataset"
   ]
  },
  {
   "cell_type": "code",
   "execution_count": 22,
   "id": "09d565f4-11c9-4cf5-818b-3c0c7730dec8",
   "metadata": {},
   "outputs": [
    {
     "name": "stderr",
     "output_type": "stream",
     "text": [
      "C:\\Users\\User\\anaconda3\\envs\\envMysql\\lib\\site-packages\\seaborn\\distributions.py:2619: FutureWarning: `distplot` is a deprecated function and will be removed in a future version. Please adapt your code to use either `displot` (a figure-level function with similar flexibility) or `kdeplot` (an axes-level function for kernel density plots).\n",
      "  warnings.warn(msg, FutureWarning)\n"
     ]
    },
    {
     "data": {
      "text/plain": [
       "Text(0.5, 0, 'Social Media (Bytes)')"
      ]
     },
     "execution_count": 22,
     "metadata": {},
     "output_type": "execute_result"
    },
    {
     "data": {
      "image/png": "[encoded data removed]",
      "text/plain": [
       "<Figure size 432x288 with 1 Axes>"
      ]
     },
     "metadata": {
      "needs_background": "light"
     },
     "output_type": "display_data"
    }
   ],
   "source": [
    "sns.distplot(x = user_info['Social Media'], hist=False)\n",
    "plt.title('Social Media Data Volumes')\n",
    "# Set x-axis label\n",
    "plt.xlabel('Social Media (Bytes)')"
   ]
  },
  {
   "cell_type": "code",
   "execution_count": 23,
   "id": "8ccfef78-da4a-4ea8-8f47-c70ebb1e2968",
   "metadata": {},
   "outputs": [
    {
     "name": "stderr",
     "output_type": "stream",
     "text": [
      "C:\\Users\\User\\anaconda3\\envs\\envMysql\\lib\\site-packages\\seaborn\\distributions.py:2619: FutureWarning: `distplot` is a deprecated function and will be removed in a future version. Please adapt your code to use either `displot` (a figure-level function with similar flexibility) or `kdeplot` (an axes-level function for kernel density plots).\n",
      "  warnings.warn(msg, FutureWarning)\n"
     ]
    },
    {
     "data": {
      "text/plain": [
       "Text(0.5, 0, 'Google (Bytes)')"
      ]
     },
     "execution_count": 23,
     "metadata": {},
     "output_type": "execute_result"
    },
    {
     "data": {
      "image/png": "[encoded data removed]",
      "text/plain": [
       "<Figure size 432x288 with 1 Axes>"
      ]
     },
     "metadata": {
      "needs_background": "light"
     },
     "output_type": "display_data"
    }
   ],
   "source": [
    "sns.distplot(x = user_info['Google'], hist=False)\n",
    "plt.title('Google Data volumes')\n",
    "# Set x-axis label\n",
    "plt.xlabel('Google (Bytes)')"
   ]
  },
  {
   "cell_type": "code",
   "execution_count": 24,
   "id": "adde0675-24d6-4253-b6c6-9f4b6a731eda",
   "metadata": {},
   "outputs": [
    {
     "name": "stderr",
     "output_type": "stream",
     "text": [
      "C:\\Users\\User\\anaconda3\\envs\\envMysql\\lib\\site-packages\\seaborn\\distributions.py:2619: FutureWarning: `distplot` is a deprecated function and will be removed in a future version. Please adapt your code to use either `displot` (a figure-level function with similar flexibility) or `kdeplot` (an axes-level function for kernel density plots).\n",
      "  warnings.warn(msg, FutureWarning)\n"
     ]
    },
    {
     "data": {
      "text/plain": [
       "Text(0.5, 0, 'Email (Bytes)')"
      ]
     },
     "execution_count": 24,
     "metadata": {},
     "output_type": "execute_result"
    },
    {
     "data": {
      "image/png": "[encoded data removed]",
      "text/plain": [
       "<Figure size 432x288 with 1 Axes>"
      ]
     },
     "metadata": {
      "needs_background": "light"
     },
     "output_type": "display_data"
    }
   ],
   "source": [
    "sns.distplot(x = user_info['Email'], hist=False)\n",
    "plt.title('Email Data Volumes')\n",
    "# Set x-axis label\n",
    "plt.xlabel('Email (Bytes)')"
   ]
  },
  {
   "cell_type": "code",
   "execution_count": 25,
   "id": "db342a42-05a4-4ac1-9859-0a5219f85fc7",
   "metadata": {},
   "outputs": [
    {
     "name": "stderr",
     "output_type": "stream",
     "text": [
      "C:\\Users\\User\\anaconda3\\envs\\envMysql\\lib\\site-packages\\seaborn\\distributions.py:2619: FutureWarning: `distplot` is a deprecated function and will be removed in a future version. Please adapt your code to use either `displot` (a figure-level function with similar flexibility) or `kdeplot` (an axes-level function for kernel density plots).\n",
      "  warnings.warn(msg, FutureWarning)\n"
     ]
    },
    {
     "data": {
      "text/plain": [
       "Text(0.5, 0, 'Youtube (Bytes)')"
      ]
     },
     "execution_count": 25,
     "metadata": {},
     "output_type": "execute_result"
    },
    {
     "data": {
      "image/png": "[encoded data removed]",
      "text/plain": [
       "<Figure size 432x288 with 1 Axes>"
      ]
     },
     "metadata": {
      "needs_background": "light"
     },
     "output_type": "display_data"
    }
   ],
   "source": [
    "sns.distplot(x = user_info['Youtube'], hist=False)\n",
    "plt.title('Youtube Data Volumes')\n",
    "# Set x-axis label\n",
    "plt.xlabel('Youtube (Bytes)')"
   ]
  },
  {
   "cell_type": "code",
   "execution_count": 26,
   "id": "c8ed3aa7-965b-4cf8-b0a6-5b1e85503efb",
   "metadata": {},
   "outputs": [
    {
     "name": "stderr",
     "output_type": "stream",
     "text": [
      "C:\\Users\\User\\anaconda3\\envs\\envMysql\\lib\\site-packages\\seaborn\\distributions.py:2619: FutureWarning: `distplot` is a deprecated function and will be removed in a future version. Please adapt your code to use either `displot` (a figure-level function with similar flexibility) or `kdeplot` (an axes-level function for kernel density plots).\n",
      "  warnings.warn(msg, FutureWarning)\n"
     ]
    },
    {
     "data": {
      "text/plain": [
       "Text(0.5, 0, 'Gaming (Bytes)')"
      ]
     },
     "execution_count": 26,
     "metadata": {},
     "output_type": "execute_result"
    },
    {
     "data": {
      "image/png": "[encoded data removed]",
      "text/plain": [
       "<Figure size 432x288 with 1 Axes>"
      ]
     },
     "metadata": {
      "needs_background": "light"
     },
     "output_type": "display_data"
    }
   ],
   "source": [
    "sns.distplot(x = user_info['Gaming'], hist=False)\n",
    "plt.title('Gaming Data Volumes')\n",
    "# Set x-axis label\n",
    "plt.xlabel('Gaming (Bytes)')"
   ]
  },
  {
   "cell_type": "code",
   "execution_count": 27,
   "id": "28f67c81-7391-4c23-9bef-d121668d555b",
   "metadata": {},
   "outputs": [
    {
     "name": "stderr",
     "output_type": "stream",
     "text": [
      "C:\\Users\\User\\anaconda3\\envs\\envMysql\\lib\\site-packages\\seaborn\\distributions.py:2619: FutureWarning: `distplot` is a deprecated function and will be removed in a future version. Please adapt your code to use either `displot` (a figure-level function with similar flexibility) or `kdeplot` (an axes-level function for kernel density plots).\n",
      "  warnings.warn(msg, FutureWarning)\n"
     ]
    },
    {
     "data": {
      "text/plain": [
       "Text(0.5, 0, 'Netflixj (Bytes)')"
      ]
     },
     "execution_count": 27,
     "metadata": {},
     "output_type": "execute_result"
    },
    {
     "data": {
      "image/png": "[encoded data removed]",
      "text/plain": [
       "<Figure size 432x288 with 1 Axes>"
      ]
     },
     "metadata": {
      "needs_background": "light"
     },
     "output_type": "display_data"
    }
   ],
   "source": [
    "sns.distplot(x = user_info['Netflix'], hist=False)\n",
    "plt.title('Netflix data volumes distribution')\n",
    "# Set x-axis label\n",
    "plt.xlabel('Netflixj (Bytes)')"
   ]
  },
  {
   "cell_type": "code",
   "execution_count": 28,
   "id": "42ac0626-3389-4cfd-9b50-e3013dbd7cd7",
   "metadata": {},
   "outputs": [
    {
     "name": "stderr",
     "output_type": "stream",
     "text": [
      "C:\\Users\\User\\anaconda3\\envs\\envMysql\\lib\\site-packages\\seaborn\\distributions.py:2619: FutureWarning: `distplot` is a deprecated function and will be removed in a future version. Please adapt your code to use either `displot` (a figure-level function with similar flexibility) or `kdeplot` (an axes-level function for kernel density plots).\n",
      "  warnings.warn(msg, FutureWarning)\n"
     ]
    },
    {
     "data": {
      "text/plain": [
       "Text(0.5, 0, 'Other Applications')"
      ]
     },
     "execution_count": 28,
     "metadata": {},
     "output_type": "execute_result"
    },
    {
     "data": {
      "image/png": "[encoded data removed]",
      "text/plain": [
       "<Figure size 432x288 with 1 Axes>"
      ]
     },
     "metadata": {
      "needs_background": "light"
     },
     "output_type": "display_data"
    }
   ],
   "source": [
    "sns.distplot(x = user_info['Other'], hist=False)\n",
    "plt.title('Other Applications Univariate analysis')\n",
    "# Set x-axis label\n",
    "plt.xlabel('Other Applications')\n",
    "\n"
   ]
  },
  {
   "cell_type": "code",
   "execution_count": 29,
   "id": "76fb9682-6a36-4f7c-a38b-ce73f2e710c0",
   "metadata": {
    "tags": []
   },
   "outputs": [
    {
     "ename": "ValueError",
     "evalue": "num must be 1 <= num <= 9, not 10",
     "output_type": "error",
     "traceback": [
      "\u001b[1;31m---------------------------------------------------------------------------\u001b[0m",
      "\u001b[1;31mValueError\u001b[0m                                Traceback (most recent call last)",
      "\u001b[1;32m<ipython-input-29-46263657e854>\u001b[0m in \u001b[0;36m<module>\u001b[1;34m\u001b[0m\n\u001b[0;32m      5\u001b[0m \u001b[1;32mfor\u001b[0m \u001b[0mi\u001b[0m\u001b[1;33m,\u001b[0m \u001b[0mcol\u001b[0m \u001b[1;32min\u001b[0m \u001b[0menumerate\u001b[0m\u001b[1;33m(\u001b[0m\u001b[0mnum_cols\u001b[0m\u001b[1;33m)\u001b[0m\u001b[1;33m:\u001b[0m\u001b[1;33m\u001b[0m\u001b[1;33m\u001b[0m\u001b[0m\n\u001b[0;32m      6\u001b[0m \u001b[1;33m\u001b[0m\u001b[0m\n\u001b[1;32m----> 7\u001b[1;33m     \u001b[0max\u001b[0m\u001b[1;33m=\u001b[0m\u001b[0mfig\u001b[0m\u001b[1;33m.\u001b[0m\u001b[0madd_subplot\u001b[0m\u001b[1;33m(\u001b[0m\u001b[0mrows\u001b[0m\u001b[1;33m,\u001b[0m\u001b[0mcols\u001b[0m\u001b[1;33m,\u001b[0m\u001b[0mi\u001b[0m\u001b[1;33m+\u001b[0m\u001b[1;36m1\u001b[0m\u001b[1;33m)\u001b[0m\u001b[1;33m\u001b[0m\u001b[1;33m\u001b[0m\u001b[0m\n\u001b[0m\u001b[0;32m      8\u001b[0m \u001b[1;33m\u001b[0m\u001b[0m\n\u001b[0;32m      9\u001b[0m     \u001b[0msns\u001b[0m\u001b[1;33m.\u001b[0m\u001b[0mhistplot\u001b[0m\u001b[1;33m(\u001b[0m\u001b[0mx\u001b[0m \u001b[1;33m=\u001b[0m \u001b[0muser_info\u001b[0m\u001b[1;33m[\u001b[0m\u001b[0mcol\u001b[0m\u001b[1;33m]\u001b[0m\u001b[1;33m,\u001b[0m \u001b[0max\u001b[0m \u001b[1;33m=\u001b[0m \u001b[0max\u001b[0m\u001b[1;33m)\u001b[0m\u001b[1;33m\u001b[0m\u001b[1;33m\u001b[0m\u001b[0m\n",
      "\u001b[1;32m~\\anaconda3\\envs\\envMysql\\lib\\site-packages\\matplotlib\\figure.py\u001b[0m in \u001b[0;36madd_subplot\u001b[1;34m(self, *args, **kwargs)\u001b[0m\n\u001b[0;32m   1400\u001b[0m                     \u001b[1;31m# more similar to add_axes.\u001b[0m\u001b[1;33m\u001b[0m\u001b[1;33m\u001b[0m\u001b[1;33m\u001b[0m\u001b[0m\n\u001b[0;32m   1401\u001b[0m                     \u001b[0mself\u001b[0m\u001b[1;33m.\u001b[0m\u001b[0m_axstack\u001b[0m\u001b[1;33m.\u001b[0m\u001b[0mremove\u001b[0m\u001b[1;33m(\u001b[0m\u001b[0max\u001b[0m\u001b[1;33m)\u001b[0m\u001b[1;33m\u001b[0m\u001b[1;33m\u001b[0m\u001b[0m\n\u001b[1;32m-> 1402\u001b[1;33m             \u001b[0max\u001b[0m \u001b[1;33m=\u001b[0m \u001b[0msubplot_class_factory\u001b[0m\u001b[1;33m(\u001b[0m\u001b[0mprojection_class\u001b[0m\u001b[1;33m)\u001b[0m\u001b[1;33m(\u001b[0m\u001b[0mself\u001b[0m\u001b[1;33m,\u001b[0m \u001b[1;33m*\u001b[0m\u001b[0margs\u001b[0m\u001b[1;33m,\u001b[0m \u001b[1;33m**\u001b[0m\u001b[0mkwargs\u001b[0m\u001b[1;33m)\u001b[0m\u001b[1;33m\u001b[0m\u001b[1;33m\u001b[0m\u001b[0m\n\u001b[0m\u001b[0;32m   1403\u001b[0m \u001b[1;33m\u001b[0m\u001b[0m\n\u001b[0;32m   1404\u001b[0m         \u001b[1;32mreturn\u001b[0m \u001b[0mself\u001b[0m\u001b[1;33m.\u001b[0m\u001b[0m_add_axes_internal\u001b[0m\u001b[1;33m(\u001b[0m\u001b[0mkey\u001b[0m\u001b[1;33m,\u001b[0m \u001b[0max\u001b[0m\u001b[1;33m)\u001b[0m\u001b[1;33m\u001b[0m\u001b[1;33m\u001b[0m\u001b[0m\n",
      "\u001b[1;32m~\\anaconda3\\envs\\envMysql\\lib\\site-packages\\matplotlib\\axes\\_subplots.py\u001b[0m in \u001b[0;36m__init__\u001b[1;34m(self, fig, *args, **kwargs)\u001b[0m\n\u001b[0;32m     37\u001b[0m \u001b[1;33m\u001b[0m\u001b[0m\n\u001b[0;32m     38\u001b[0m         \u001b[0mself\u001b[0m\u001b[1;33m.\u001b[0m\u001b[0mfigure\u001b[0m \u001b[1;33m=\u001b[0m \u001b[0mfig\u001b[0m\u001b[1;33m\u001b[0m\u001b[1;33m\u001b[0m\u001b[0m\n\u001b[1;32m---> 39\u001b[1;33m         \u001b[0mself\u001b[0m\u001b[1;33m.\u001b[0m\u001b[0m_subplotspec\u001b[0m \u001b[1;33m=\u001b[0m \u001b[0mSubplotSpec\u001b[0m\u001b[1;33m.\u001b[0m\u001b[0m_from_subplot_args\u001b[0m\u001b[1;33m(\u001b[0m\u001b[0mfig\u001b[0m\u001b[1;33m,\u001b[0m \u001b[0margs\u001b[0m\u001b[1;33m)\u001b[0m\u001b[1;33m\u001b[0m\u001b[1;33m\u001b[0m\u001b[0m\n\u001b[0m\u001b[0;32m     40\u001b[0m         \u001b[0mself\u001b[0m\u001b[1;33m.\u001b[0m\u001b[0mupdate_params\u001b[0m\u001b[1;33m(\u001b[0m\u001b[1;33m)\u001b[0m\u001b[1;33m\u001b[0m\u001b[1;33m\u001b[0m\u001b[0m\n\u001b[0;32m     41\u001b[0m         \u001b[1;31m# _axes_class is set in the subplot_class_factory\u001b[0m\u001b[1;33m\u001b[0m\u001b[1;33m\u001b[0m\u001b[1;33m\u001b[0m\u001b[0m\n",
      "\u001b[1;32m~\\anaconda3\\envs\\envMysql\\lib\\site-packages\\matplotlib\\gridspec.py\u001b[0m in \u001b[0;36m_from_subplot_args\u001b[1;34m(figure, args)\u001b[0m\n\u001b[0;32m    688\u001b[0m                 \u001b[1;32mif\u001b[0m \u001b[0mnum\u001b[0m \u001b[1;33m<\u001b[0m \u001b[1;36m1\u001b[0m \u001b[1;32mor\u001b[0m \u001b[0mnum\u001b[0m \u001b[1;33m>\u001b[0m \u001b[0mrows\u001b[0m\u001b[1;33m*\u001b[0m\u001b[0mcols\u001b[0m\u001b[1;33m:\u001b[0m\u001b[1;33m\u001b[0m\u001b[1;33m\u001b[0m\u001b[0m\n\u001b[0;32m    689\u001b[0m                     raise ValueError(\n\u001b[1;32m--> 690\u001b[1;33m                         f\"num must be 1 <= num <= {rows*cols}, not {num}\")\n\u001b[0m\u001b[0;32m    691\u001b[0m                 \u001b[1;32mreturn\u001b[0m \u001b[0mgs\u001b[0m\u001b[1;33m[\u001b[0m\u001b[0mnum\u001b[0m \u001b[1;33m-\u001b[0m \u001b[1;36m1\u001b[0m\u001b[1;33m]\u001b[0m   \u001b[1;31m# -1 due to MATLAB indexing.\u001b[0m\u001b[1;33m\u001b[0m\u001b[1;33m\u001b[0m\u001b[0m\n\u001b[0;32m    692\u001b[0m         \u001b[1;32melse\u001b[0m\u001b[1;33m:\u001b[0m\u001b[1;33m\u001b[0m\u001b[1;33m\u001b[0m\u001b[0m\n",
      "\u001b[1;31mValueError\u001b[0m: num must be 1 <= num <= 9, not 10"
     ]
    },
    {
     "data": {
      "image/png": "[encoded data removed]",
      "text/plain": [
       "<Figure size 1080x1080 with 9 Axes>"
      ]
     },
     "metadata": {
      "needs_background": "light"
     },
     "output_type": "display_data"
    }
   ],
   "source": [
    "cols = 3\n",
    "rows = 3\n",
    "num_cols =user_info.select_dtypes(exclude='object').columns\n",
    "fig = plt.figure( figsize=(cols*5, rows*5))\n",
    "for i, col in enumerate(num_cols):\n",
    "    \n",
    "    ax=fig.add_subplot(rows,cols,i+1)\n",
    "    \n",
    "    sns.histplot(x = user_info[col], ax = ax)\n",
    "    \n",
    "fig.tight_layout()  \n",
    "plt.show()"
   ]
  },
  {
   "cell_type": "markdown",
   "id": "54bfdab2-7c79-4d84-b2b4-49b742001cae",
   "metadata": {},
   "source": [
    "#### Bivariete Analysis\n",
    "We explore the relationship between each application and the total downlink (DL) + uplink (UL) data using a scatter plot"
   ]
  },
  {
   "cell_type": "code",
   "execution_count": 30,
   "id": "c3901c90-ce76-41d2-bea9-ffec9adee250",
   "metadata": {},
   "outputs": [
    {
     "data": {
      "text/html": [
       "<div>\n",
       "<style scoped>\n",
       "    .dataframe tbody tr th:only-of-type {\n",
       "        vertical-align: middle;\n",
       "    }\n",
       "\n",
       "    .dataframe tbody tr th {\n",
       "        vertical-align: top;\n",
       "    }\n",
       "\n",
       "    .dataframe thead th {\n",
       "        text-align: right;\n",
       "    }\n",
       "</style>\n",
       "<table border=\"1\" class=\"dataframe\">\n",
       "  <thead>\n",
       "    <tr style=\"text-align: right;\">\n",
       "      <th></th>\n",
       "      <th>IMSI</th>\n",
       "      <th>Bearer Id</th>\n",
       "      <th>Dur. (ms)</th>\n",
       "      <th>Total DL (Bytes)</th>\n",
       "      <th>Total UL (Bytes)</th>\n",
       "      <th>Social Media</th>\n",
       "      <th>Google</th>\n",
       "      <th>Email</th>\n",
       "      <th>Youtube</th>\n",
       "      <th>Netflix</th>\n",
       "      <th>Gaming</th>\n",
       "      <th>Other</th>\n",
       "      <th>Total Data(Bytes)</th>\n",
       "    </tr>\n",
       "  </thead>\n",
       "  <tbody>\n",
       "    <tr>\n",
       "      <th>0</th>\n",
       "      <td>2.040471e+14</td>\n",
       "      <td>1</td>\n",
       "      <td>869844.0</td>\n",
       "      <td>78697597.0</td>\n",
       "      <td>60456049.0</td>\n",
       "      <td>1546088.0</td>\n",
       "      <td>9218647.0</td>\n",
       "      <td>3330974.0</td>\n",
       "      <td>40940710.0</td>\n",
       "      <td>28846230.0</td>\n",
       "      <td>43070260.0</td>\n",
       "      <td>4.013605e+08</td>\n",
       "      <td>1.391536e+08</td>\n",
       "    </tr>\n",
       "    <tr>\n",
       "      <th>1</th>\n",
       "      <td>2.040808e+14</td>\n",
       "      <td>1</td>\n",
       "      <td>877385.0</td>\n",
       "      <td>194828056.0</td>\n",
       "      <td>37295915.0</td>\n",
       "      <td>715224.0</td>\n",
       "      <td>10438660.0</td>\n",
       "      <td>1520771.0</td>\n",
       "      <td>11959905.0</td>\n",
       "      <td>26592300.0</td>\n",
       "      <td>178048738.0</td>\n",
       "      <td>4.705265e+08</td>\n",
       "      <td>2.321240e+08</td>\n",
       "    </tr>\n",
       "    <tr>\n",
       "      <th>2</th>\n",
       "      <td>2.082001e+14</td>\n",
       "      <td>1</td>\n",
       "      <td>86019.0</td>\n",
       "      <td>31376981.0</td>\n",
       "      <td>53794658.0</td>\n",
       "      <td>3122781.0</td>\n",
       "      <td>1624662.0</td>\n",
       "      <td>3657501.0</td>\n",
       "      <td>19882439.0</td>\n",
       "      <td>31830562.0</td>\n",
       "      <td>9124516.0</td>\n",
       "      <td>5.159737e+08</td>\n",
       "      <td>8.517164e+07</td>\n",
       "    </tr>\n",
       "    <tr>\n",
       "      <th>3</th>\n",
       "      <td>2.082001e+14</td>\n",
       "      <td>1</td>\n",
       "      <td>86254.0</td>\n",
       "      <td>392918313.0</td>\n",
       "      <td>33583272.0</td>\n",
       "      <td>2577104.0</td>\n",
       "      <td>13811478.0</td>\n",
       "      <td>3855734.0</td>\n",
       "      <td>25657632.0</td>\n",
       "      <td>27785852.0</td>\n",
       "      <td>344105897.0</td>\n",
       "      <td>3.096107e+08</td>\n",
       "      <td>4.265016e+08</td>\n",
       "    </tr>\n",
       "    <tr>\n",
       "      <th>4</th>\n",
       "      <td>2.082001e+14</td>\n",
       "      <td>2</td>\n",
       "      <td>573923.0</td>\n",
       "      <td>961767023.0</td>\n",
       "      <td>71325004.0</td>\n",
       "      <td>3426716.0</td>\n",
       "      <td>11665887.0</td>\n",
       "      <td>5564462.0</td>\n",
       "      <td>13840201.0</td>\n",
       "      <td>57343415.0</td>\n",
       "      <td>917684766.0</td>\n",
       "      <td>1.079435e+09</td>\n",
       "      <td>1.033092e+09</td>\n",
       "    </tr>\n",
       "  </tbody>\n",
       "</table>\n",
       "</div>"
      ],
      "text/plain": [
       "           IMSI  Bearer Id  Dur. (ms)  Total DL (Bytes)  Total UL (Bytes)  \\\n",
       "0  2.040471e+14          1   869844.0        78697597.0        60456049.0   \n",
       "1  2.040808e+14          1   877385.0       194828056.0        37295915.0   \n",
       "2  2.082001e+14          1    86019.0        31376981.0        53794658.0   \n",
       "3  2.082001e+14          1    86254.0       392918313.0        33583272.0   \n",
       "4  2.082001e+14          2   573923.0       961767023.0        71325004.0   \n",
       "\n",
       "   Social Media      Google      Email     Youtube     Netflix       Gaming  \\\n",
       "0     1546088.0   9218647.0  3330974.0  40940710.0  28846230.0   43070260.0   \n",
       "1      715224.0  10438660.0  1520771.0  11959905.0  26592300.0  178048738.0   \n",
       "2     3122781.0   1624662.0  3657501.0  19882439.0  31830562.0    9124516.0   \n",
       "3     2577104.0  13811478.0  3855734.0  25657632.0  27785852.0  344105897.0   \n",
       "4     3426716.0  11665887.0  5564462.0  13840201.0  57343415.0  917684766.0   \n",
       "\n",
       "          Other  Total Data(Bytes)  \n",
       "0  4.013605e+08       1.391536e+08  \n",
       "1  4.705265e+08       2.321240e+08  \n",
       "2  5.159737e+08       8.517164e+07  \n",
       "3  3.096107e+08       4.265016e+08  \n",
       "4  1.079435e+09       1.033092e+09  "
      ]
     },
     "execution_count": 30,
     "metadata": {},
     "output_type": "execute_result"
    }
   ],
   "source": [
    "user_info['Total Data(Bytes)']=user_info['Total DL (Bytes)']+user_info['Total UL (Bytes)']\n",
    "user_info.head()"
   ]
  },
  {
   "cell_type": "code",
   "execution_count": 31,
   "id": "cf979ee9-a22f-44cd-ab64-199959bfad8c",
   "metadata": {},
   "outputs": [
    {
     "data": {
      "text/plain": [
       "Text(0, 0.5, 'Total Data(Bytes)')"
      ]
     },
     "execution_count": 31,
     "metadata": {},
     "output_type": "execute_result"
    },
    {
     "data": {
      "image/png": "[encoded data removed]",
      "text/plain": [
       "<Figure size 432x288 with 1 Axes>"
      ]
     },
     "metadata": {
      "needs_background": "light"
     },
     "output_type": "display_data"
    }
   ],
   "source": [
    "#Total Data(Bytes) against Google\n",
    "plt.scatter(user_info['Google'], user_info['Total Data(Bytes)'])\n",
    "plt.title('Total Data (Bytes) vs. Google')\n",
    "plt.xlabel('Google')\n",
    "plt.ylabel('Total Data(Bytes)')"
   ]
  },
  {
   "cell_type": "code",
   "execution_count": 32,
   "id": "68ec8e82-9348-4506-bd3b-352b5ecf624f",
   "metadata": {},
   "outputs": [
    {
     "data": {
      "text/plain": [
       "Text(0, 0.5, 'Total Data(Bytes)')"
      ]
     },
     "execution_count": 32,
     "metadata": {},
     "output_type": "execute_result"
    },
    {
     "data": {
      "image/png": "[encoded data removed]",
      "text/plain": [
       "<Figure size 432x288 with 1 Axes>"
      ]
     },
     "metadata": {
      "needs_background": "light"
     },
     "output_type": "display_data"
    }
   ],
   "source": [
    "#Total Data(Bytes) against Google\n",
    "plt.scatter(user_info['Youtube'], user_info['Total Data(Bytes)'])\n",
    "plt.title('Total Data (Bytes) vs. Youtube')\n",
    "plt.xlabel('Youtube')\n",
    "plt.ylabel('Total Data(Bytes)')"
   ]
  },
  {
   "cell_type": "code",
   "execution_count": 33,
   "id": "340489b3-23f1-49eb-a0bd-bd0ad4823511",
   "metadata": {},
   "outputs": [
    {
     "data": {
      "text/plain": [
       "Text(0, 0.5, 'Total Data(Bytes)')"
      ]
     },
     "execution_count": 33,
     "metadata": {},
     "output_type": "execute_result"
    },
    {
     "data": {
      "image/png": "[encoded data removed]",
      "text/plain": [
       "<Figure size 432x288 with 1 Axes>"
      ]
     },
     "metadata": {
      "needs_background": "light"
     },
     "output_type": "display_data"
    }
   ],
   "source": [
    "#Total Data(Bytes) against Netflix\n",
    "plt.scatter(user_info['Netflix'], user_info['Total Data(Bytes)'])\n",
    "plt.title('Total Data (Bytes) vs. Netflix')\n",
    "plt.xlabel('Netflix')\n",
    "plt.ylabel('Total Data(Bytes)')"
   ]
  },
  {
   "cell_type": "code",
   "execution_count": 34,
   "id": "4edbe773-0ee4-4170-9061-37ebb0038af5",
   "metadata": {},
   "outputs": [
    {
     "data": {
      "text/plain": [
       "Text(0, 0.5, 'Total Data(Bytes)')"
      ]
     },
     "execution_count": 34,
     "metadata": {},
     "output_type": "execute_result"
    },
    {
     "data": {
      "image/png": "[encoded data removed]",
      "text/plain": [
       "<Figure size 432x288 with 1 Axes>"
      ]
     },
     "metadata": {
      "needs_background": "light"
     },
     "output_type": "display_data"
    }
   ],
   "source": [
    "#Total Data(Bytes) against Gaming\n",
    "plt.scatter(user_info['Gaming'], user_info['Total Data(Bytes)'])\n",
    "plt.title('Total Data (Bytes) vs.Gaming')\n",
    "plt.xlabel('Gaming')\n",
    "plt.ylabel('Total Data(Bytes)')"
   ]
  },
  {
   "cell_type": "code",
   "execution_count": 35,
   "id": "f65eaa17-2fdd-45ac-a3cb-504f0a01d5c4",
   "metadata": {},
   "outputs": [
    {
     "data": {
      "text/plain": [
       "Text(0, 0.5, 'Total Data(Bytes)')"
      ]
     },
     "execution_count": 35,
     "metadata": {},
     "output_type": "execute_result"
    },
    {
     "data": {
      "image/png": "[encoded data removed]",
      "text/plain": [
       "<Figure size 432x288 with 1 Axes>"
      ]
     },
     "metadata": {
      "needs_background": "light"
     },
     "output_type": "display_data"
    }
   ],
   "source": [
    "#Total Data(Bytes) against Google\n",
    "plt.scatter(user_info['Other'], user_info['Total Data(Bytes)'])\n",
    "plt.title('Total Data (Bytes) vs. Other Applications')\n",
    "plt.xlabel('Other Applications')\n",
    "plt.ylabel('Total Data(Bytes)')"
   ]
  },
  {
   "cell_type": "markdown",
   "id": "d14c4582-4ce7-44bc-9a53-766bdc3d40d0",
   "metadata": {
    "tags": []
   },
   "source": [
    "#### Variables Transformation\n",
    "We segment the users into top five decile classes based on the total duration for all session and compute the total data downlink (DL) + uplink (UP) per decile class"
   ]
  },
  {
   "cell_type": "code",
   "execution_count": 36,
   "id": "73f22b98-770a-4910-be54-1a43d24faf6f",
   "metadata": {},
   "outputs": [
    {
     "data": {
      "text/html": [
       "<div>\n",
       "<style scoped>\n",
       "    .dataframe tbody tr th:only-of-type {\n",
       "        vertical-align: middle;\n",
       "    }\n",
       "\n",
       "    .dataframe tbody tr th {\n",
       "        vertical-align: top;\n",
       "    }\n",
       "\n",
       "    .dataframe thead th {\n",
       "        text-align: right;\n",
       "    }\n",
       "</style>\n",
       "<table border=\"1\" class=\"dataframe\">\n",
       "  <thead>\n",
       "    <tr style=\"text-align: right;\">\n",
       "      <th></th>\n",
       "      <th>IMSI</th>\n",
       "      <th>Bearer Id</th>\n",
       "      <th>Dur. (ms)</th>\n",
       "      <th>Total DL (Bytes)</th>\n",
       "      <th>Total UL (Bytes)</th>\n",
       "      <th>Social Media</th>\n",
       "      <th>Google</th>\n",
       "      <th>Email</th>\n",
       "      <th>Youtube</th>\n",
       "      <th>Netflix</th>\n",
       "      <th>Gaming</th>\n",
       "      <th>Other</th>\n",
       "      <th>Total Data(Bytes)</th>\n",
       "      <th>segment</th>\n",
       "    </tr>\n",
       "  </thead>\n",
       "  <tbody>\n",
       "    <tr>\n",
       "      <th>0</th>\n",
       "      <td>2.040471e+14</td>\n",
       "      <td>1</td>\n",
       "      <td>869844.0</td>\n",
       "      <td>78697597.0</td>\n",
       "      <td>60456049.0</td>\n",
       "      <td>1546088.0</td>\n",
       "      <td>9218647.0</td>\n",
       "      <td>3330974.0</td>\n",
       "      <td>40940710.0</td>\n",
       "      <td>28846230.0</td>\n",
       "      <td>43070260.0</td>\n",
       "      <td>4.013605e+08</td>\n",
       "      <td>1.391536e+08</td>\n",
       "      <td>class 5</td>\n",
       "    </tr>\n",
       "    <tr>\n",
       "      <th>1</th>\n",
       "      <td>2.040808e+14</td>\n",
       "      <td>1</td>\n",
       "      <td>877385.0</td>\n",
       "      <td>194828056.0</td>\n",
       "      <td>37295915.0</td>\n",
       "      <td>715224.0</td>\n",
       "      <td>10438660.0</td>\n",
       "      <td>1520771.0</td>\n",
       "      <td>11959905.0</td>\n",
       "      <td>26592300.0</td>\n",
       "      <td>178048738.0</td>\n",
       "      <td>4.705265e+08</td>\n",
       "      <td>2.321240e+08</td>\n",
       "      <td>class 5</td>\n",
       "    </tr>\n",
       "    <tr>\n",
       "      <th>2</th>\n",
       "      <td>2.082001e+14</td>\n",
       "      <td>1</td>\n",
       "      <td>86019.0</td>\n",
       "      <td>31376981.0</td>\n",
       "      <td>53794658.0</td>\n",
       "      <td>3122781.0</td>\n",
       "      <td>1624662.0</td>\n",
       "      <td>3657501.0</td>\n",
       "      <td>19882439.0</td>\n",
       "      <td>31830562.0</td>\n",
       "      <td>9124516.0</td>\n",
       "      <td>5.159737e+08</td>\n",
       "      <td>8.517164e+07</td>\n",
       "      <td>class 2</td>\n",
       "    </tr>\n",
       "    <tr>\n",
       "      <th>3</th>\n",
       "      <td>2.082001e+14</td>\n",
       "      <td>1</td>\n",
       "      <td>86254.0</td>\n",
       "      <td>392918313.0</td>\n",
       "      <td>33583272.0</td>\n",
       "      <td>2577104.0</td>\n",
       "      <td>13811478.0</td>\n",
       "      <td>3855734.0</td>\n",
       "      <td>25657632.0</td>\n",
       "      <td>27785852.0</td>\n",
       "      <td>344105897.0</td>\n",
       "      <td>3.096107e+08</td>\n",
       "      <td>4.265016e+08</td>\n",
       "      <td>class 2</td>\n",
       "    </tr>\n",
       "    <tr>\n",
       "      <th>4</th>\n",
       "      <td>2.082001e+14</td>\n",
       "      <td>2</td>\n",
       "      <td>573923.0</td>\n",
       "      <td>961767023.0</td>\n",
       "      <td>71325004.0</td>\n",
       "      <td>3426716.0</td>\n",
       "      <td>11665887.0</td>\n",
       "      <td>5564462.0</td>\n",
       "      <td>13840201.0</td>\n",
       "      <td>57343415.0</td>\n",
       "      <td>917684766.0</td>\n",
       "      <td>1.079435e+09</td>\n",
       "      <td>1.033092e+09</td>\n",
       "      <td>class 5</td>\n",
       "    </tr>\n",
       "  </tbody>\n",
       "</table>\n",
       "</div>"
      ],
      "text/plain": [
       "           IMSI  Bearer Id  Dur. (ms)  Total DL (Bytes)  Total UL (Bytes)  \\\n",
       "0  2.040471e+14          1   869844.0        78697597.0        60456049.0   \n",
       "1  2.040808e+14          1   877385.0       194828056.0        37295915.0   \n",
       "2  2.082001e+14          1    86019.0        31376981.0        53794658.0   \n",
       "3  2.082001e+14          1    86254.0       392918313.0        33583272.0   \n",
       "4  2.082001e+14          2   573923.0       961767023.0        71325004.0   \n",
       "\n",
       "   Social Media      Google      Email     Youtube     Netflix       Gaming  \\\n",
       "0     1546088.0   9218647.0  3330974.0  40940710.0  28846230.0   43070260.0   \n",
       "1      715224.0  10438660.0  1520771.0  11959905.0  26592300.0  178048738.0   \n",
       "2     3122781.0   1624662.0  3657501.0  19882439.0  31830562.0    9124516.0   \n",
       "3     2577104.0  13811478.0  3855734.0  25657632.0  27785852.0  344105897.0   \n",
       "4     3426716.0  11665887.0  5564462.0  13840201.0  57343415.0  917684766.0   \n",
       "\n",
       "          Other  Total Data(Bytes)  segment  \n",
       "0  4.013605e+08       1.391536e+08  class 5  \n",
       "1  4.705265e+08       2.321240e+08  class 5  \n",
       "2  5.159737e+08       8.517164e+07  class 2  \n",
       "3  3.096107e+08       4.265016e+08  class 2  \n",
       "4  1.079435e+09       1.033092e+09  class 5  "
      ]
     },
     "execution_count": 36,
     "metadata": {},
     "output_type": "execute_result"
    }
   ],
   "source": [
    "#Segment users into 5 decile classes based on total duration for all sessions\n",
    "user_info['segment'] = pd.qcut(user_info['Dur. (ms)'], q=5, labels=['class 1', 'class 2', 'class 3', 'class 4', 'class 5'])\n",
    "user_info.head()"
   ]
  },
  {
   "cell_type": "code",
   "execution_count": 37,
   "id": "f8a0c20b-9c9d-46bf-b181-fb12c58dcf63",
   "metadata": {},
   "outputs": [
    {
     "data": {
      "image/png": "[encoded data removed]",
      "text/plain": [
       "<Figure size 432x288 with 1 Axes>"
      ]
     },
     "metadata": {
      "needs_background": "light"
     },
     "output_type": "display_data"
    }
   ],
   "source": [
    "# Visualize the segments in a bar chart\n",
    "user_info['segment'].value_counts().plot(kind='barh')\n",
    "plt.title('User segments based on the total duration for all sessions')\n",
    "plt.xlabel('Sessions duration')\n",
    "plt.ylabel('User class')\n",
    "plt.show()"
   ]
  },
  {
   "cell_type": "code",
   "execution_count": 38,
   "id": "9dd208b6-0f01-450c-a1d2-d52344148fe8",
   "metadata": {},
   "outputs": [
    {
     "data": {
      "text/plain": [
       "Dur. (ms)\n",
       "class 1    1.152440e+13\n",
       "class 2    1.233818e+13\n",
       "class 3    1.167412e+13\n",
       "class 4    1.391849e+13\n",
       "class 5    2.409768e+13\n",
       "Name: Total Data(Bytes), dtype: float64"
      ]
     },
     "execution_count": 38,
     "metadata": {},
     "output_type": "execute_result"
    }
   ],
   "source": [
    "# compute the total data volume (in Bytes) per decile class\n",
    "user_segment = user_info.groupby(pd.qcut(user_info['Dur. (ms)'], q=5, labels=['class 1', 'class 2', 'class 3', 'class 4', 'class 5']))['Total Data(Bytes)'].sum()\n",
    "user_segment"
   ]
  },
  {
   "cell_type": "markdown",
   "id": "a0ff0e00-070e-4711-ad8b-70f91eac720f",
   "metadata": {},
   "source": [
    "#### Correlation Analysis\n",
    "We compute the correlation matrix for the following variables:\n",
    "<ul>\n",
    "    <li>Social Media data</li>\n",
    "    <li>Google data </li>\n",
    "    <li>Email data</li>\n",
    "    <li>Youtube data</li>\n",
    "    <li>Netflix data</li>\n",
    "    <li>Gaming data</li>\n",
    "    <li>Other data</li>\n",
    " </ul>"
   ]
  },
  {
   "cell_type": "code",
   "execution_count": 39,
   "id": "99b148e4-61f9-4c90-87d7-55bb75ef853a",
   "metadata": {},
   "outputs": [
    {
     "data": {
      "text/html": [
       "<div>\n",
       "<style scoped>\n",
       "    .dataframe tbody tr th:only-of-type {\n",
       "        vertical-align: middle;\n",
       "    }\n",
       "\n",
       "    .dataframe tbody tr th {\n",
       "        vertical-align: top;\n",
       "    }\n",
       "\n",
       "    .dataframe thead th {\n",
       "        text-align: right;\n",
       "    }\n",
       "</style>\n",
       "<table border=\"1\" class=\"dataframe\">\n",
       "  <thead>\n",
       "    <tr style=\"text-align: right;\">\n",
       "      <th></th>\n",
       "      <th>Social Media</th>\n",
       "      <th>Google</th>\n",
       "      <th>Email</th>\n",
       "      <th>Youtube</th>\n",
       "      <th>Netflix</th>\n",
       "      <th>Gaming</th>\n",
       "      <th>Other</th>\n",
       "    </tr>\n",
       "  </thead>\n",
       "  <tbody>\n",
       "    <tr>\n",
       "      <th>Social Media</th>\n",
       "      <td>1.000000</td>\n",
       "      <td>0.643289</td>\n",
       "      <td>0.634276</td>\n",
       "      <td>0.659589</td>\n",
       "      <td>0.660080</td>\n",
       "      <td>0.590574</td>\n",
       "      <td>0.591662</td>\n",
       "    </tr>\n",
       "    <tr>\n",
       "      <th>Google</th>\n",
       "      <td>0.643289</td>\n",
       "      <td>1.000000</td>\n",
       "      <td>0.688695</td>\n",
       "      <td>0.718857</td>\n",
       "      <td>0.716468</td>\n",
       "      <td>0.642482</td>\n",
       "      <td>0.642987</td>\n",
       "    </tr>\n",
       "    <tr>\n",
       "      <th>Email</th>\n",
       "      <td>0.634276</td>\n",
       "      <td>0.688695</td>\n",
       "      <td>1.000000</td>\n",
       "      <td>0.704919</td>\n",
       "      <td>0.705730</td>\n",
       "      <td>0.627854</td>\n",
       "      <td>0.631347</td>\n",
       "    </tr>\n",
       "    <tr>\n",
       "      <th>Youtube</th>\n",
       "      <td>0.659589</td>\n",
       "      <td>0.718857</td>\n",
       "      <td>0.704919</td>\n",
       "      <td>1.000000</td>\n",
       "      <td>0.738643</td>\n",
       "      <td>0.657713</td>\n",
       "      <td>0.660620</td>\n",
       "    </tr>\n",
       "    <tr>\n",
       "      <th>Netflix</th>\n",
       "      <td>0.660080</td>\n",
       "      <td>0.716468</td>\n",
       "      <td>0.705730</td>\n",
       "      <td>0.738643</td>\n",
       "      <td>1.000000</td>\n",
       "      <td>0.657634</td>\n",
       "      <td>0.656074</td>\n",
       "    </tr>\n",
       "    <tr>\n",
       "      <th>Gaming</th>\n",
       "      <td>0.590574</td>\n",
       "      <td>0.642482</td>\n",
       "      <td>0.627854</td>\n",
       "      <td>0.657713</td>\n",
       "      <td>0.657634</td>\n",
       "      <td>1.000000</td>\n",
       "      <td>0.586691</td>\n",
       "    </tr>\n",
       "    <tr>\n",
       "      <th>Other</th>\n",
       "      <td>0.591662</td>\n",
       "      <td>0.642987</td>\n",
       "      <td>0.631347</td>\n",
       "      <td>0.660620</td>\n",
       "      <td>0.656074</td>\n",
       "      <td>0.586691</td>\n",
       "      <td>1.000000</td>\n",
       "    </tr>\n",
       "  </tbody>\n",
       "</table>\n",
       "</div>"
      ],
      "text/plain": [
       "              Social Media    Google     Email   Youtube   Netflix    Gaming  \\\n",
       "Social Media      1.000000  0.643289  0.634276  0.659589  0.660080  0.590574   \n",
       "Google            0.643289  1.000000  0.688695  0.718857  0.716468  0.642482   \n",
       "Email             0.634276  0.688695  1.000000  0.704919  0.705730  0.627854   \n",
       "Youtube           0.659589  0.718857  0.704919  1.000000  0.738643  0.657713   \n",
       "Netflix           0.660080  0.716468  0.705730  0.738643  1.000000  0.657634   \n",
       "Gaming            0.590574  0.642482  0.627854  0.657713  0.657634  1.000000   \n",
       "Other             0.591662  0.642987  0.631347  0.660620  0.656074  0.586691   \n",
       "\n",
       "                 Other  \n",
       "Social Media  0.591662  \n",
       "Google        0.642987  \n",
       "Email         0.631347  \n",
       "Youtube       0.660620  \n",
       "Netflix       0.656074  \n",
       "Gaming        0.586691  \n",
       "Other         1.000000  "
      ]
     },
     "execution_count": 39,
     "metadata": {},
     "output_type": "execute_result"
    }
   ],
   "source": [
    "#computing the correlation of the above variables\n",
    "corr = user_info.corr()\n",
    "corr=corr.drop(columns = ['IMSI', 'Bearer Id', 'Dur. (ms)', 'Total DL (Bytes)', 'Total UL (Bytes)', 'Total Data(Bytes)'], axis=0)\n",
    "corr=corr.drop(['IMSI', 'Bearer Id', 'Dur. (ms)', 'Total DL (Bytes)', 'Total UL (Bytes)', 'Total Data(Bytes)'])\n",
    "corr"
   ]
  },
  {
   "cell_type": "code",
   "execution_count": 40,
   "id": "30fa99a9-206e-47bb-93b8-a881a1eee8b0",
   "metadata": {},
   "outputs": [
    {
     "data": {
      "text/plain": [
       "7"
      ]
     },
     "execution_count": 40,
     "metadata": {},
     "output_type": "execute_result"
    }
   ],
   "source": [
    "len(corr.columns)"
   ]
  },
  {
   "cell_type": "code",
   "execution_count": 41,
   "id": "5cd8bbcc-a9a4-4f4f-8767-43e857b3a125",
   "metadata": {},
   "outputs": [
    {
     "data": {
      "image/png": "[encoded data removed]",
      "text/plain": [
       "<Figure size 432x288 with 2 Axes>"
      ]
     },
     "metadata": {
      "needs_background": "light"
     },
     "output_type": "display_data"
    }
   ],
   "source": [
    "#Visualizing the correlation using a correlation matrix plot\n",
    "fig = plt.figure()\n",
    "ax = fig.add_subplot(111)\n",
    "cax = ax.matshow(corr,cmap='coolwarm', vmin=-1, vmax=1)\n",
    "fig.colorbar(cax)\n",
    "ticks = np.arange(0,len(corr.columns),1)\n",
    "ax.set_xticks(ticks)\n",
    "plt.xticks(rotation=90)\n",
    "ax.set_yticks(ticks)\n",
    "ax.set_xticklabels(corr.columns)\n",
    "ax.set_yticklabels(corr.columns)\n",
    "plt.show()"
   ]
  },
  {
   "cell_type": "markdown",
   "id": "9c9cd2fc-eedb-484d-9832-9e34b66fe8a6",
   "metadata": {},
   "source": [
    "#### Dimensionality Reduction\n",
    "We perform a principal component analysis (PCA) on the dataset to reduce the dimensions of our data"
   ]
  },
  {
   "cell_type": "code",
   "execution_count": 42,
   "id": "27d47f82-15f3-4537-98ef-fe84810f5494",
   "metadata": {},
   "outputs": [],
   "source": [
    "from sklearn.decomposition import PCA"
   ]
  },
  {
   "cell_type": "code",
   "execution_count": 43,
   "id": "51a53702-ea7f-4d56-81b2-18afb98668b3",
   "metadata": {
    "collapsed": true,
    "jupyter": {
     "outputs_hidden": true
    },
    "tags": []
   },
   "outputs": [
    {
     "ename": "KeyError",
     "evalue": "'0'",
     "output_type": "error",
     "traceback": [
      "\u001b[1;31m---------------------------------------------------------------------------\u001b[0m",
      "\u001b[1;31mKeyError\u001b[0m                                  Traceback (most recent call last)",
      "\u001b[1;32m~\\anaconda3\\envs\\envMysql\\lib\\site-packages\\pandas\\core\\indexes\\base.py\u001b[0m in \u001b[0;36mget_loc\u001b[1;34m(self, key, method, tolerance)\u001b[0m\n\u001b[0;32m   2897\u001b[0m             \u001b[1;32mtry\u001b[0m\u001b[1;33m:\u001b[0m\u001b[1;33m\u001b[0m\u001b[1;33m\u001b[0m\u001b[0m\n\u001b[1;32m-> 2898\u001b[1;33m                 \u001b[1;32mreturn\u001b[0m \u001b[0mself\u001b[0m\u001b[1;33m.\u001b[0m\u001b[0m_engine\u001b[0m\u001b[1;33m.\u001b[0m\u001b[0mget_loc\u001b[0m\u001b[1;33m(\u001b[0m\u001b[0mcasted_key\u001b[0m\u001b[1;33m)\u001b[0m\u001b[1;33m\u001b[0m\u001b[1;33m\u001b[0m\u001b[0m\n\u001b[0m\u001b[0;32m   2899\u001b[0m             \u001b[1;32mexcept\u001b[0m \u001b[0mKeyError\u001b[0m \u001b[1;32mas\u001b[0m \u001b[0merr\u001b[0m\u001b[1;33m:\u001b[0m\u001b[1;33m\u001b[0m\u001b[1;33m\u001b[0m\u001b[0m\n",
      "\u001b[1;32mpandas\\_libs\\index.pyx\u001b[0m in \u001b[0;36mpandas._libs.index.IndexEngine.get_loc\u001b[1;34m()\u001b[0m\n",
      "\u001b[1;32mpandas\\_libs\\index.pyx\u001b[0m in \u001b[0;36mpandas._libs.index.IndexEngine.get_loc\u001b[1;34m()\u001b[0m\n",
      "\u001b[1;32mpandas\\_libs\\hashtable_class_helper.pxi\u001b[0m in \u001b[0;36mpandas._libs.hashtable.PyObjectHashTable.get_item\u001b[1;34m()\u001b[0m\n",
      "\u001b[1;32mpandas\\_libs\\hashtable_class_helper.pxi\u001b[0m in \u001b[0;36mpandas._libs.hashtable.PyObjectHashTable.get_item\u001b[1;34m()\u001b[0m\n",
      "\u001b[1;31mKeyError\u001b[0m: '0'",
      "\nThe above exception was the direct cause of the following exception:\n",
      "\u001b[1;31mKeyError\u001b[0m                                  Traceback (most recent call last)",
      "\u001b[1;32m<ipython-input-43-d5454f76398e>\u001b[0m in \u001b[0;36m<module>\u001b[1;34m\u001b[0m\n\u001b[0;32m      2\u001b[0m \u001b[1;33m\u001b[0m\u001b[0m\n\u001b[0;32m      3\u001b[0m \u001b[1;31m# Prepare X and Y\u001b[0m\u001b[1;33m\u001b[0m\u001b[1;33m\u001b[0m\u001b[1;33m\u001b[0m\u001b[0m\n\u001b[1;32m----> 4\u001b[1;33m \u001b[0mY\u001b[0m \u001b[1;33m=\u001b[0m \u001b[0muser_info\u001b[0m\u001b[1;33m.\u001b[0m\u001b[0mloc\u001b[0m\u001b[1;33m[\u001b[0m\u001b[1;33m:\u001b[0m\u001b[1;33m,\u001b[0m \u001b[1;34m'0'\u001b[0m\u001b[1;33m]\u001b[0m\u001b[1;33m\u001b[0m\u001b[1;33m\u001b[0m\u001b[0m\n\u001b[0m\u001b[0;32m      5\u001b[0m \u001b[0mX\u001b[0m \u001b[1;33m=\u001b[0m \u001b[0muser_info\u001b[0m\u001b[1;33m.\u001b[0m\u001b[0mdrop\u001b[0m\u001b[1;33m(\u001b[0m\u001b[1;33m[\u001b[0m\u001b[1;34m'0'\u001b[0m\u001b[1;33m]\u001b[0m\u001b[1;33m,\u001b[0m \u001b[0maxis\u001b[0m\u001b[1;33m=\u001b[0m\u001b[1;36m1\u001b[0m\u001b[1;33m)\u001b[0m\u001b[1;33m\u001b[0m\u001b[1;33m\u001b[0m\u001b[0m\n\u001b[0;32m      6\u001b[0m \u001b[0mpca\u001b[0m \u001b[1;33m=\u001b[0m \u001b[0mPCA\u001b[0m\u001b[1;33m(\u001b[0m\u001b[1;33m)\u001b[0m\u001b[1;33m\u001b[0m\u001b[1;33m\u001b[0m\u001b[0m\n",
      "\u001b[1;32m~\\anaconda3\\envs\\envMysql\\lib\\site-packages\\pandas\\core\\indexing.py\u001b[0m in \u001b[0;36m__getitem__\u001b[1;34m(self, key)\u001b[0m\n\u001b[0;32m    871\u001b[0m                     \u001b[1;31m# AttributeError for IntervalTree get_value\u001b[0m\u001b[1;33m\u001b[0m\u001b[1;33m\u001b[0m\u001b[1;33m\u001b[0m\u001b[0m\n\u001b[0;32m    872\u001b[0m                     \u001b[1;32mpass\u001b[0m\u001b[1;33m\u001b[0m\u001b[1;33m\u001b[0m\u001b[0m\n\u001b[1;32m--> 873\u001b[1;33m             \u001b[1;32mreturn\u001b[0m \u001b[0mself\u001b[0m\u001b[1;33m.\u001b[0m\u001b[0m_getitem_tuple\u001b[0m\u001b[1;33m(\u001b[0m\u001b[0mkey\u001b[0m\u001b[1;33m)\u001b[0m\u001b[1;33m\u001b[0m\u001b[1;33m\u001b[0m\u001b[0m\n\u001b[0m\u001b[0;32m    874\u001b[0m         \u001b[1;32melse\u001b[0m\u001b[1;33m:\u001b[0m\u001b[1;33m\u001b[0m\u001b[1;33m\u001b[0m\u001b[0m\n\u001b[0;32m    875\u001b[0m             \u001b[1;31m# we by definition only have the 0th axis\u001b[0m\u001b[1;33m\u001b[0m\u001b[1;33m\u001b[0m\u001b[1;33m\u001b[0m\u001b[0m\n",
      "\u001b[1;32m~\\anaconda3\\envs\\envMysql\\lib\\site-packages\\pandas\\core\\indexing.py\u001b[0m in \u001b[0;36m_getitem_tuple\u001b[1;34m(self, tup)\u001b[0m\n\u001b[0;32m   1042\u001b[0m     \u001b[1;32mdef\u001b[0m \u001b[0m_getitem_tuple\u001b[0m\u001b[1;33m(\u001b[0m\u001b[0mself\u001b[0m\u001b[1;33m,\u001b[0m \u001b[0mtup\u001b[0m\u001b[1;33m:\u001b[0m \u001b[0mTuple\u001b[0m\u001b[1;33m)\u001b[0m\u001b[1;33m:\u001b[0m\u001b[1;33m\u001b[0m\u001b[1;33m\u001b[0m\u001b[0m\n\u001b[0;32m   1043\u001b[0m         \u001b[1;32mtry\u001b[0m\u001b[1;33m:\u001b[0m\u001b[1;33m\u001b[0m\u001b[1;33m\u001b[0m\u001b[0m\n\u001b[1;32m-> 1044\u001b[1;33m             \u001b[1;32mreturn\u001b[0m \u001b[0mself\u001b[0m\u001b[1;33m.\u001b[0m\u001b[0m_getitem_lowerdim\u001b[0m\u001b[1;33m(\u001b[0m\u001b[0mtup\u001b[0m\u001b[1;33m)\u001b[0m\u001b[1;33m\u001b[0m\u001b[1;33m\u001b[0m\u001b[0m\n\u001b[0m\u001b[0;32m   1045\u001b[0m         \u001b[1;32mexcept\u001b[0m \u001b[0mIndexingError\u001b[0m\u001b[1;33m:\u001b[0m\u001b[1;33m\u001b[0m\u001b[1;33m\u001b[0m\u001b[0m\n\u001b[0;32m   1046\u001b[0m             \u001b[1;32mpass\u001b[0m\u001b[1;33m\u001b[0m\u001b[1;33m\u001b[0m\u001b[0m\n",
      "\u001b[1;32m~\\anaconda3\\envs\\envMysql\\lib\\site-packages\\pandas\\core\\indexing.py\u001b[0m in \u001b[0;36m_getitem_lowerdim\u001b[1;34m(self, tup)\u001b[0m\n\u001b[0;32m    784\u001b[0m                 \u001b[1;31m# We don't need to check for tuples here because those are\u001b[0m\u001b[1;33m\u001b[0m\u001b[1;33m\u001b[0m\u001b[1;33m\u001b[0m\u001b[0m\n\u001b[0;32m    785\u001b[0m                 \u001b[1;31m#  caught by the _is_nested_tuple_indexer check above.\u001b[0m\u001b[1;33m\u001b[0m\u001b[1;33m\u001b[0m\u001b[1;33m\u001b[0m\u001b[0m\n\u001b[1;32m--> 786\u001b[1;33m                 \u001b[0msection\u001b[0m \u001b[1;33m=\u001b[0m \u001b[0mself\u001b[0m\u001b[1;33m.\u001b[0m\u001b[0m_getitem_axis\u001b[0m\u001b[1;33m(\u001b[0m\u001b[0mkey\u001b[0m\u001b[1;33m,\u001b[0m \u001b[0maxis\u001b[0m\u001b[1;33m=\u001b[0m\u001b[0mi\u001b[0m\u001b[1;33m)\u001b[0m\u001b[1;33m\u001b[0m\u001b[1;33m\u001b[0m\u001b[0m\n\u001b[0m\u001b[0;32m    787\u001b[0m \u001b[1;33m\u001b[0m\u001b[0m\n\u001b[0;32m    788\u001b[0m                 \u001b[1;31m# We should never have a scalar section here, because\u001b[0m\u001b[1;33m\u001b[0m\u001b[1;33m\u001b[0m\u001b[1;33m\u001b[0m\u001b[0m\n",
      "\u001b[1;32m~\\anaconda3\\envs\\envMysql\\lib\\site-packages\\pandas\\core\\indexing.py\u001b[0m in \u001b[0;36m_getitem_axis\u001b[1;34m(self, key, axis)\u001b[0m\n\u001b[0;32m   1108\u001b[0m         \u001b[1;31m# fall thru to straight lookup\u001b[0m\u001b[1;33m\u001b[0m\u001b[1;33m\u001b[0m\u001b[1;33m\u001b[0m\u001b[0m\n\u001b[0;32m   1109\u001b[0m         \u001b[0mself\u001b[0m\u001b[1;33m.\u001b[0m\u001b[0m_validate_key\u001b[0m\u001b[1;33m(\u001b[0m\u001b[0mkey\u001b[0m\u001b[1;33m,\u001b[0m \u001b[0maxis\u001b[0m\u001b[1;33m)\u001b[0m\u001b[1;33m\u001b[0m\u001b[1;33m\u001b[0m\u001b[0m\n\u001b[1;32m-> 1110\u001b[1;33m         \u001b[1;32mreturn\u001b[0m \u001b[0mself\u001b[0m\u001b[1;33m.\u001b[0m\u001b[0m_get_label\u001b[0m\u001b[1;33m(\u001b[0m\u001b[0mkey\u001b[0m\u001b[1;33m,\u001b[0m \u001b[0maxis\u001b[0m\u001b[1;33m=\u001b[0m\u001b[0maxis\u001b[0m\u001b[1;33m)\u001b[0m\u001b[1;33m\u001b[0m\u001b[1;33m\u001b[0m\u001b[0m\n\u001b[0m\u001b[0;32m   1111\u001b[0m \u001b[1;33m\u001b[0m\u001b[0m\n\u001b[0;32m   1112\u001b[0m     \u001b[1;32mdef\u001b[0m \u001b[0m_get_slice_axis\u001b[0m\u001b[1;33m(\u001b[0m\u001b[0mself\u001b[0m\u001b[1;33m,\u001b[0m \u001b[0mslice_obj\u001b[0m\u001b[1;33m:\u001b[0m \u001b[0mslice\u001b[0m\u001b[1;33m,\u001b[0m \u001b[0maxis\u001b[0m\u001b[1;33m:\u001b[0m \u001b[0mint\u001b[0m\u001b[1;33m)\u001b[0m\u001b[1;33m:\u001b[0m\u001b[1;33m\u001b[0m\u001b[1;33m\u001b[0m\u001b[0m\n",
      "\u001b[1;32m~\\anaconda3\\envs\\envMysql\\lib\\site-packages\\pandas\\core\\indexing.py\u001b[0m in \u001b[0;36m_get_label\u001b[1;34m(self, label, axis)\u001b[0m\n\u001b[0;32m   1057\u001b[0m     \u001b[1;32mdef\u001b[0m \u001b[0m_get_label\u001b[0m\u001b[1;33m(\u001b[0m\u001b[0mself\u001b[0m\u001b[1;33m,\u001b[0m \u001b[0mlabel\u001b[0m\u001b[1;33m,\u001b[0m \u001b[0maxis\u001b[0m\u001b[1;33m:\u001b[0m \u001b[0mint\u001b[0m\u001b[1;33m)\u001b[0m\u001b[1;33m:\u001b[0m\u001b[1;33m\u001b[0m\u001b[1;33m\u001b[0m\u001b[0m\n\u001b[0;32m   1058\u001b[0m         \u001b[1;31m# GH#5667 this will fail if the label is not present in the axis.\u001b[0m\u001b[1;33m\u001b[0m\u001b[1;33m\u001b[0m\u001b[1;33m\u001b[0m\u001b[0m\n\u001b[1;32m-> 1059\u001b[1;33m         \u001b[1;32mreturn\u001b[0m \u001b[0mself\u001b[0m\u001b[1;33m.\u001b[0m\u001b[0mobj\u001b[0m\u001b[1;33m.\u001b[0m\u001b[0mxs\u001b[0m\u001b[1;33m(\u001b[0m\u001b[0mlabel\u001b[0m\u001b[1;33m,\u001b[0m \u001b[0maxis\u001b[0m\u001b[1;33m=\u001b[0m\u001b[0maxis\u001b[0m\u001b[1;33m)\u001b[0m\u001b[1;33m\u001b[0m\u001b[1;33m\u001b[0m\u001b[0m\n\u001b[0m\u001b[0;32m   1060\u001b[0m \u001b[1;33m\u001b[0m\u001b[0m\n\u001b[0;32m   1061\u001b[0m     \u001b[1;32mdef\u001b[0m \u001b[0m_handle_lowerdim_multi_index_axis0\u001b[0m\u001b[1;33m(\u001b[0m\u001b[0mself\u001b[0m\u001b[1;33m,\u001b[0m \u001b[0mtup\u001b[0m\u001b[1;33m:\u001b[0m \u001b[0mTuple\u001b[0m\u001b[1;33m)\u001b[0m\u001b[1;33m:\u001b[0m\u001b[1;33m\u001b[0m\u001b[1;33m\u001b[0m\u001b[0m\n",
      "\u001b[1;32m~\\anaconda3\\envs\\envMysql\\lib\\site-packages\\pandas\\core\\generic.py\u001b[0m in \u001b[0;36mxs\u001b[1;34m(self, key, axis, level, drop_level)\u001b[0m\n\u001b[0;32m   3483\u001b[0m \u001b[1;33m\u001b[0m\u001b[0m\n\u001b[0;32m   3484\u001b[0m         \u001b[1;32mif\u001b[0m \u001b[0maxis\u001b[0m \u001b[1;33m==\u001b[0m \u001b[1;36m1\u001b[0m\u001b[1;33m:\u001b[0m\u001b[1;33m\u001b[0m\u001b[1;33m\u001b[0m\u001b[0m\n\u001b[1;32m-> 3485\u001b[1;33m             \u001b[1;32mreturn\u001b[0m \u001b[0mself\u001b[0m\u001b[1;33m[\u001b[0m\u001b[0mkey\u001b[0m\u001b[1;33m]\u001b[0m\u001b[1;33m\u001b[0m\u001b[1;33m\u001b[0m\u001b[0m\n\u001b[0m\u001b[0;32m   3486\u001b[0m \u001b[1;33m\u001b[0m\u001b[0m\n\u001b[0;32m   3487\u001b[0m         \u001b[0mself\u001b[0m\u001b[1;33m.\u001b[0m\u001b[0m_consolidate_inplace\u001b[0m\u001b[1;33m(\u001b[0m\u001b[1;33m)\u001b[0m\u001b[1;33m\u001b[0m\u001b[1;33m\u001b[0m\u001b[0m\n",
      "\u001b[1;32m~\\anaconda3\\envs\\envMysql\\lib\\site-packages\\pandas\\core\\frame.py\u001b[0m in \u001b[0;36m__getitem__\u001b[1;34m(self, key)\u001b[0m\n\u001b[0;32m   2904\u001b[0m             \u001b[1;32mif\u001b[0m \u001b[0mself\u001b[0m\u001b[1;33m.\u001b[0m\u001b[0mcolumns\u001b[0m\u001b[1;33m.\u001b[0m\u001b[0mnlevels\u001b[0m \u001b[1;33m>\u001b[0m \u001b[1;36m1\u001b[0m\u001b[1;33m:\u001b[0m\u001b[1;33m\u001b[0m\u001b[1;33m\u001b[0m\u001b[0m\n\u001b[0;32m   2905\u001b[0m                 \u001b[1;32mreturn\u001b[0m \u001b[0mself\u001b[0m\u001b[1;33m.\u001b[0m\u001b[0m_getitem_multilevel\u001b[0m\u001b[1;33m(\u001b[0m\u001b[0mkey\u001b[0m\u001b[1;33m)\u001b[0m\u001b[1;33m\u001b[0m\u001b[1;33m\u001b[0m\u001b[0m\n\u001b[1;32m-> 2906\u001b[1;33m             \u001b[0mindexer\u001b[0m \u001b[1;33m=\u001b[0m \u001b[0mself\u001b[0m\u001b[1;33m.\u001b[0m\u001b[0mcolumns\u001b[0m\u001b[1;33m.\u001b[0m\u001b[0mget_loc\u001b[0m\u001b[1;33m(\u001b[0m\u001b[0mkey\u001b[0m\u001b[1;33m)\u001b[0m\u001b[1;33m\u001b[0m\u001b[1;33m\u001b[0m\u001b[0m\n\u001b[0m\u001b[0;32m   2907\u001b[0m             \u001b[1;32mif\u001b[0m \u001b[0mis_integer\u001b[0m\u001b[1;33m(\u001b[0m\u001b[0mindexer\u001b[0m\u001b[1;33m)\u001b[0m\u001b[1;33m:\u001b[0m\u001b[1;33m\u001b[0m\u001b[1;33m\u001b[0m\u001b[0m\n\u001b[0;32m   2908\u001b[0m                 \u001b[0mindexer\u001b[0m \u001b[1;33m=\u001b[0m \u001b[1;33m[\u001b[0m\u001b[0mindexer\u001b[0m\u001b[1;33m]\u001b[0m\u001b[1;33m\u001b[0m\u001b[1;33m\u001b[0m\u001b[0m\n",
      "\u001b[1;32m~\\anaconda3\\envs\\envMysql\\lib\\site-packages\\pandas\\core\\indexes\\base.py\u001b[0m in \u001b[0;36mget_loc\u001b[1;34m(self, key, method, tolerance)\u001b[0m\n\u001b[0;32m   2898\u001b[0m                 \u001b[1;32mreturn\u001b[0m \u001b[0mself\u001b[0m\u001b[1;33m.\u001b[0m\u001b[0m_engine\u001b[0m\u001b[1;33m.\u001b[0m\u001b[0mget_loc\u001b[0m\u001b[1;33m(\u001b[0m\u001b[0mcasted_key\u001b[0m\u001b[1;33m)\u001b[0m\u001b[1;33m\u001b[0m\u001b[1;33m\u001b[0m\u001b[0m\n\u001b[0;32m   2899\u001b[0m             \u001b[1;32mexcept\u001b[0m \u001b[0mKeyError\u001b[0m \u001b[1;32mas\u001b[0m \u001b[0merr\u001b[0m\u001b[1;33m:\u001b[0m\u001b[1;33m\u001b[0m\u001b[1;33m\u001b[0m\u001b[0m\n\u001b[1;32m-> 2900\u001b[1;33m                 \u001b[1;32mraise\u001b[0m \u001b[0mKeyError\u001b[0m\u001b[1;33m(\u001b[0m\u001b[0mkey\u001b[0m\u001b[1;33m)\u001b[0m \u001b[1;32mfrom\u001b[0m \u001b[0merr\u001b[0m\u001b[1;33m\u001b[0m\u001b[1;33m\u001b[0m\u001b[0m\n\u001b[0m\u001b[0;32m   2901\u001b[0m \u001b[1;33m\u001b[0m\u001b[0m\n\u001b[0;32m   2902\u001b[0m         \u001b[1;32mif\u001b[0m \u001b[0mtolerance\u001b[0m \u001b[1;32mis\u001b[0m \u001b[1;32mnot\u001b[0m \u001b[1;32mNone\u001b[0m\u001b[1;33m:\u001b[0m\u001b[1;33m\u001b[0m\u001b[1;33m\u001b[0m\u001b[0m\n",
      "\u001b[1;31mKeyError\u001b[0m: '0'"
     ]
    }
   ],
   "source": [
    "# PCA\n",
    "\n",
    "# Prepare X and Y\n",
    "Y = user_info.loc[:, '0']\n",
    "X = user_info.drop(['0'], axis=1)\n",
    "pca = PCA()\n",
    "user_info_pca= pca.fit_transform(X=X)\n",
    "\n",
    "# Store as dataframe and print\n",
    "df_pca = pd.DataFrame(df_pca)\n",
    "print(df_pca.shape)  #> (3147, 784)\n",
    "df_pca.round(2).head()"
   ]
  },
  {
   "cell_type": "markdown",
   "id": "c4ae8e10-2452-42db-aa26-65354d1d5aa4",
   "metadata": {},
   "source": [
    "### 2. User Engagement Analysis"
   ]
  },
  {
   "cell_type": "code",
   "execution_count": 45,
   "id": "b8d0f293-7232-4c5c-acec-bf294a1bf064",
   "metadata": {},
   "outputs": [
    {
     "data": {
      "text/html": [
       "<div>\n",
       "<style scoped>\n",
       "    .dataframe tbody tr th:only-of-type {\n",
       "        vertical-align: middle;\n",
       "    }\n",
       "\n",
       "    .dataframe tbody tr th {\n",
       "        vertical-align: top;\n",
       "    }\n",
       "\n",
       "    .dataframe thead th {\n",
       "        text-align: right;\n",
       "    }\n",
       "</style>\n",
       "<table border=\"1\" class=\"dataframe\">\n",
       "  <thead>\n",
       "    <tr style=\"text-align: right;\">\n",
       "      <th></th>\n",
       "      <th>Bearer Id</th>\n",
       "      <th>Start</th>\n",
       "      <th>Start ms</th>\n",
       "      <th>End</th>\n",
       "      <th>End ms</th>\n",
       "      <th>Dur. (ms)</th>\n",
       "      <th>IMSI</th>\n",
       "      <th>MSISDN/Number</th>\n",
       "      <th>IMEI</th>\n",
       "      <th>Last Location Name</th>\n",
       "      <th>...</th>\n",
       "      <th>Youtube DL (Bytes)</th>\n",
       "      <th>Youtube UL (Bytes)</th>\n",
       "      <th>Netflix DL (Bytes)</th>\n",
       "      <th>Netflix UL (Bytes)</th>\n",
       "      <th>Gaming DL (Bytes)</th>\n",
       "      <th>Gaming UL (Bytes)</th>\n",
       "      <th>Other DL (Bytes)</th>\n",
       "      <th>Other UL (Bytes)</th>\n",
       "      <th>Total UL (Bytes)</th>\n",
       "      <th>Total DL (Bytes)</th>\n",
       "    </tr>\n",
       "  </thead>\n",
       "  <tbody>\n",
       "    <tr>\n",
       "      <th>0</th>\n",
       "      <td>13114483460844900352</td>\n",
       "      <td>2019-04-04 12:01:18</td>\n",
       "      <td>770.0</td>\n",
       "      <td>2019-04-25 14:35:31</td>\n",
       "      <td>662.0</td>\n",
       "      <td>1823652.0</td>\n",
       "      <td>2.082014e+14</td>\n",
       "      <td>3.366496e+10</td>\n",
       "      <td>3.552121e+13</td>\n",
       "      <td>9164566995485190</td>\n",
       "      <td>...</td>\n",
       "      <td>15854611.0</td>\n",
       "      <td>2501332.0</td>\n",
       "      <td>8198936.0</td>\n",
       "      <td>9656251.0</td>\n",
       "      <td>278082303.0</td>\n",
       "      <td>14344150.0</td>\n",
       "      <td>171744450.0</td>\n",
       "      <td>8814393.0</td>\n",
       "      <td>36749741.0</td>\n",
       "      <td>308879636.0</td>\n",
       "    </tr>\n",
       "    <tr>\n",
       "      <th>1</th>\n",
       "      <td>13114483482878900224</td>\n",
       "      <td>2019-04-09 13:04:04</td>\n",
       "      <td>235.0</td>\n",
       "      <td>2019-04-25 08:15:48</td>\n",
       "      <td>606.0</td>\n",
       "      <td>1365104.0</td>\n",
       "      <td>2.082019e+14</td>\n",
       "      <td>3.368185e+10</td>\n",
       "      <td>3.579401e+13</td>\n",
       "      <td>L77566A</td>\n",
       "      <td>...</td>\n",
       "      <td>20247395.0</td>\n",
       "      <td>19111729.0</td>\n",
       "      <td>18338413.0</td>\n",
       "      <td>17227132.0</td>\n",
       "      <td>608750074.0</td>\n",
       "      <td>1170709.0</td>\n",
       "      <td>526904238.0</td>\n",
       "      <td>15055145.0</td>\n",
       "      <td>53800391.0</td>\n",
       "      <td>653384965.0</td>\n",
       "    </tr>\n",
       "    <tr>\n",
       "      <th>2</th>\n",
       "      <td>13114483484080500736</td>\n",
       "      <td>2019-04-09 17:42:11</td>\n",
       "      <td>1.0</td>\n",
       "      <td>2019-04-25 11:58:13</td>\n",
       "      <td>652.0</td>\n",
       "      <td>1361762.0</td>\n",
       "      <td>2.082003e+14</td>\n",
       "      <td>3.376063e+10</td>\n",
       "      <td>3.528151e+13</td>\n",
       "      <td>D42335A</td>\n",
       "      <td>...</td>\n",
       "      <td>19725661.0</td>\n",
       "      <td>14699576.0</td>\n",
       "      <td>17587794.0</td>\n",
       "      <td>6163408.0</td>\n",
       "      <td>229584621.0</td>\n",
       "      <td>395630.0</td>\n",
       "      <td>410692588.0</td>\n",
       "      <td>4215763.0</td>\n",
       "      <td>27883638.0</td>\n",
       "      <td>279807335.0</td>\n",
       "    </tr>\n",
       "    <tr>\n",
       "      <th>3</th>\n",
       "      <td>13114483485442799616</td>\n",
       "      <td>2019-04-10 00:31:25</td>\n",
       "      <td>486.0</td>\n",
       "      <td>2019-04-25 07:36:35</td>\n",
       "      <td>171.0</td>\n",
       "      <td>1321509.0</td>\n",
       "      <td>2.082014e+14</td>\n",
       "      <td>3.375034e+10</td>\n",
       "      <td>3.535661e+13</td>\n",
       "      <td>T21824A</td>\n",
       "      <td>...</td>\n",
       "      <td>21388122.0</td>\n",
       "      <td>15146643.0</td>\n",
       "      <td>13994646.0</td>\n",
       "      <td>1097942.0</td>\n",
       "      <td>799538153.0</td>\n",
       "      <td>10849722.0</td>\n",
       "      <td>749039933.0</td>\n",
       "      <td>12797283.0</td>\n",
       "      <td>43324218.0</td>\n",
       "      <td>846028530.0</td>\n",
       "    </tr>\n",
       "    <tr>\n",
       "      <th>4</th>\n",
       "      <td>13114483499480700928</td>\n",
       "      <td>2019-04-12 20:10:23</td>\n",
       "      <td>565.0</td>\n",
       "      <td>2019-04-25 10:40:32</td>\n",
       "      <td>954.0</td>\n",
       "      <td>1089009.0</td>\n",
       "      <td>2.082014e+14</td>\n",
       "      <td>3.369980e+10</td>\n",
       "      <td>3.540701e+13</td>\n",
       "      <td>D88865A</td>\n",
       "      <td>...</td>\n",
       "      <td>15259380.0</td>\n",
       "      <td>18962873.0</td>\n",
       "      <td>17124581.0</td>\n",
       "      <td>415218.0</td>\n",
       "      <td>527707248.0</td>\n",
       "      <td>3529801.0</td>\n",
       "      <td>550709500.0</td>\n",
       "      <td>13910322.0</td>\n",
       "      <td>38542814.0</td>\n",
       "      <td>569138589.0</td>\n",
       "    </tr>\n",
       "  </tbody>\n",
       "</table>\n",
       "<p>5 rows × 55 columns</p>\n",
       "</div>"
      ],
      "text/plain": [
       "              Bearer Id               Start  Start ms                 End  \\\n",
       "0  13114483460844900352 2019-04-04 12:01:18     770.0 2019-04-25 14:35:31   \n",
       "1  13114483482878900224 2019-04-09 13:04:04     235.0 2019-04-25 08:15:48   \n",
       "2  13114483484080500736 2019-04-09 17:42:11       1.0 2019-04-25 11:58:13   \n",
       "3  13114483485442799616 2019-04-10 00:31:25     486.0 2019-04-25 07:36:35   \n",
       "4  13114483499480700928 2019-04-12 20:10:23     565.0 2019-04-25 10:40:32   \n",
       "\n",
       "   End ms  Dur. (ms)          IMSI  MSISDN/Number          IMEI  \\\n",
       "0   662.0  1823652.0  2.082014e+14   3.366496e+10  3.552121e+13   \n",
       "1   606.0  1365104.0  2.082019e+14   3.368185e+10  3.579401e+13   \n",
       "2   652.0  1361762.0  2.082003e+14   3.376063e+10  3.528151e+13   \n",
       "3   171.0  1321509.0  2.082014e+14   3.375034e+10  3.535661e+13   \n",
       "4   954.0  1089009.0  2.082014e+14   3.369980e+10  3.540701e+13   \n",
       "\n",
       "  Last Location Name  ...  Youtube DL (Bytes)  Youtube UL (Bytes)  \\\n",
       "0   9164566995485190  ...          15854611.0           2501332.0   \n",
       "1            L77566A  ...          20247395.0          19111729.0   \n",
       "2            D42335A  ...          19725661.0          14699576.0   \n",
       "3            T21824A  ...          21388122.0          15146643.0   \n",
       "4            D88865A  ...          15259380.0          18962873.0   \n",
       "\n",
       "   Netflix DL (Bytes)  Netflix UL (Bytes)  Gaming DL (Bytes)  \\\n",
       "0           8198936.0           9656251.0        278082303.0   \n",
       "1          18338413.0          17227132.0        608750074.0   \n",
       "2          17587794.0           6163408.0        229584621.0   \n",
       "3          13994646.0           1097942.0        799538153.0   \n",
       "4          17124581.0            415218.0        527707248.0   \n",
       "\n",
       "   Gaming UL (Bytes)  Other DL (Bytes)  Other UL (Bytes)  Total UL (Bytes)  \\\n",
       "0         14344150.0       171744450.0         8814393.0        36749741.0   \n",
       "1          1170709.0       526904238.0        15055145.0        53800391.0   \n",
       "2           395630.0       410692588.0         4215763.0        27883638.0   \n",
       "3         10849722.0       749039933.0        12797283.0        43324218.0   \n",
       "4          3529801.0       550709500.0        13910322.0        38542814.0   \n",
       "\n",
       "   Total DL (Bytes)  \n",
       "0       308879636.0  \n",
       "1       653384965.0  \n",
       "2       279807335.0  \n",
       "3       846028530.0  \n",
       "4       569138589.0  \n",
       "\n",
       "[5 rows x 55 columns]"
      ]
     },
     "execution_count": 45,
     "metadata": {},
     "output_type": "execute_result"
    }
   ],
   "source": [
    "telco_clean.head()"
   ]
  },
  {
   "cell_type": "code",
   "execution_count": 46,
   "id": "b43cdc6c-c8e1-4d0a-b393-f63ae4f7b940",
   "metadata": {},
   "outputs": [
    {
     "data": {
      "text/html": [
       "<div>\n",
       "<style scoped>\n",
       "    .dataframe tbody tr th:only-of-type {\n",
       "        vertical-align: middle;\n",
       "    }\n",
       "\n",
       "    .dataframe tbody tr th {\n",
       "        vertical-align: top;\n",
       "    }\n",
       "\n",
       "    .dataframe thead th {\n",
       "        text-align: right;\n",
       "    }\n",
       "</style>\n",
       "<table border=\"1\" class=\"dataframe\">\n",
       "  <thead>\n",
       "    <tr style=\"text-align: right;\">\n",
       "      <th></th>\n",
       "      <th>MSISDN/Number</th>\n",
       "      <th>Dur. (ms)</th>\n",
       "      <th>Total UL (Bytes)</th>\n",
       "      <th>Total DL (Bytes)</th>\n",
       "    </tr>\n",
       "  </thead>\n",
       "  <tbody>\n",
       "    <tr>\n",
       "      <th>0</th>\n",
       "      <td>3.360100e+10</td>\n",
       "      <td>116720.0</td>\n",
       "      <td>36053108.0</td>\n",
       "      <td>8.426375e+08</td>\n",
       "    </tr>\n",
       "    <tr>\n",
       "      <th>1</th>\n",
       "      <td>3.360100e+10</td>\n",
       "      <td>181230.0</td>\n",
       "      <td>36104459.0</td>\n",
       "      <td>1.207552e+08</td>\n",
       "    </tr>\n",
       "    <tr>\n",
       "      <th>2</th>\n",
       "      <td>3.360100e+10</td>\n",
       "      <td>134969.0</td>\n",
       "      <td>39306820.0</td>\n",
       "      <td>5.566597e+08</td>\n",
       "    </tr>\n",
       "    <tr>\n",
       "      <th>3</th>\n",
       "      <td>3.360101e+10</td>\n",
       "      <td>49878.0</td>\n",
       "      <td>20327526.0</td>\n",
       "      <td>4.019932e+08</td>\n",
       "    </tr>\n",
       "    <tr>\n",
       "      <th>4</th>\n",
       "      <td>3.360101e+10</td>\n",
       "      <td>37104.0</td>\n",
       "      <td>94280527.0</td>\n",
       "      <td>1.363130e+09</td>\n",
       "    </tr>\n",
       "  </tbody>\n",
       "</table>\n",
       "</div>"
      ],
      "text/plain": [
       "   MSISDN/Number  Dur. (ms)  Total UL (Bytes)  Total DL (Bytes)\n",
       "0   3.360100e+10   116720.0        36053108.0      8.426375e+08\n",
       "1   3.360100e+10   181230.0        36104459.0      1.207552e+08\n",
       "2   3.360100e+10   134969.0        39306820.0      5.566597e+08\n",
       "3   3.360101e+10    49878.0        20327526.0      4.019932e+08\n",
       "4   3.360101e+10    37104.0        94280527.0      1.363130e+09"
      ]
     },
     "execution_count": 46,
     "metadata": {},
     "output_type": "execute_result"
    }
   ],
   "source": [
    "df = telco_clean.groupby('MSISDN/Number').aggregate({'Dur. (ms)': 'sum', \n",
    "                                                     'Total UL (Bytes)': 'sum',\n",
    "                                                     'Total DL (Bytes)': 'sum',\n",
    "                                 }).reset_index()\n",
    "df.head()"
   ]
  },
  {
   "cell_type": "code",
   "execution_count": 47,
   "id": "ff54d756-ffbb-4e10-87f2-cccdcfc562c3",
   "metadata": {},
   "outputs": [
    {
     "data": {
      "text/html": [
       "<div>\n",
       "<style scoped>\n",
       "    .dataframe tbody tr th:only-of-type {\n",
       "        vertical-align: middle;\n",
       "    }\n",
       "\n",
       "    .dataframe tbody tr th {\n",
       "        vertical-align: top;\n",
       "    }\n",
       "\n",
       "    .dataframe thead th {\n",
       "        text-align: right;\n",
       "    }\n",
       "</style>\n",
       "<table border=\"1\" class=\"dataframe\">\n",
       "  <thead>\n",
       "    <tr style=\"text-align: right;\">\n",
       "      <th></th>\n",
       "      <th>MSISDN/Number</th>\n",
       "      <th>Dur. (ms)</th>\n",
       "      <th>Total UL (Bytes)</th>\n",
       "      <th>Total DL (Bytes)</th>\n",
       "      <th>Total Traffic (Bytes)</th>\n",
       "    </tr>\n",
       "  </thead>\n",
       "  <tbody>\n",
       "    <tr>\n",
       "      <th>0</th>\n",
       "      <td>3.360100e+10</td>\n",
       "      <td>116720.0</td>\n",
       "      <td>36053108.0</td>\n",
       "      <td>8.426375e+08</td>\n",
       "      <td>8.786906e+08</td>\n",
       "    </tr>\n",
       "    <tr>\n",
       "      <th>1</th>\n",
       "      <td>3.360100e+10</td>\n",
       "      <td>181230.0</td>\n",
       "      <td>36104459.0</td>\n",
       "      <td>1.207552e+08</td>\n",
       "      <td>1.568596e+08</td>\n",
       "    </tr>\n",
       "    <tr>\n",
       "      <th>2</th>\n",
       "      <td>3.360100e+10</td>\n",
       "      <td>134969.0</td>\n",
       "      <td>39306820.0</td>\n",
       "      <td>5.566597e+08</td>\n",
       "      <td>5.959665e+08</td>\n",
       "    </tr>\n",
       "    <tr>\n",
       "      <th>3</th>\n",
       "      <td>3.360101e+10</td>\n",
       "      <td>49878.0</td>\n",
       "      <td>20327526.0</td>\n",
       "      <td>4.019932e+08</td>\n",
       "      <td>4.223207e+08</td>\n",
       "    </tr>\n",
       "    <tr>\n",
       "      <th>4</th>\n",
       "      <td>3.360101e+10</td>\n",
       "      <td>37104.0</td>\n",
       "      <td>94280527.0</td>\n",
       "      <td>1.363130e+09</td>\n",
       "      <td>1.457411e+09</td>\n",
       "    </tr>\n",
       "  </tbody>\n",
       "</table>\n",
       "</div>"
      ],
      "text/plain": [
       "   MSISDN/Number  Dur. (ms)  Total UL (Bytes)  Total DL (Bytes)  \\\n",
       "0   3.360100e+10   116720.0        36053108.0      8.426375e+08   \n",
       "1   3.360100e+10   181230.0        36104459.0      1.207552e+08   \n",
       "2   3.360100e+10   134969.0        39306820.0      5.566597e+08   \n",
       "3   3.360101e+10    49878.0        20327526.0      4.019932e+08   \n",
       "4   3.360101e+10    37104.0        94280527.0      1.363130e+09   \n",
       "\n",
       "   Total Traffic (Bytes)  \n",
       "0           8.786906e+08  \n",
       "1           1.568596e+08  \n",
       "2           5.959665e+08  \n",
       "3           4.223207e+08  \n",
       "4           1.457411e+09  "
      ]
     },
     "execution_count": 47,
     "metadata": {},
     "output_type": "execute_result"
    }
   ],
   "source": [
    "df['Total Traffic (Bytes)']=df['Total UL (Bytes)'] + df['Total DL (Bytes)']\n",
    "df.head()"
   ]
  },
  {
   "cell_type": "code",
   "execution_count": 49,
   "id": "db8b1a23-ba99-4ed6-a722-c79bc8d6b571",
   "metadata": {},
   "outputs": [
    {
     "data": {
      "text/html": [
       "<div>\n",
       "<style scoped>\n",
       "    .dataframe tbody tr th:only-of-type {\n",
       "        vertical-align: middle;\n",
       "    }\n",
       "\n",
       "    .dataframe tbody tr th {\n",
       "        vertical-align: top;\n",
       "    }\n",
       "\n",
       "    .dataframe thead th {\n",
       "        text-align: right;\n",
       "    }\n",
       "</style>\n",
       "<table border=\"1\" class=\"dataframe\">\n",
       "  <thead>\n",
       "    <tr style=\"text-align: right;\">\n",
       "      <th></th>\n",
       "      <th>MSISDN/Number</th>\n",
       "      <th>Dur. (ms)</th>\n",
       "      <th>Total UL (Bytes)</th>\n",
       "      <th>Total DL (Bytes)</th>\n",
       "      <th>Total Traffic (Bytes)</th>\n",
       "    </tr>\n",
       "  </thead>\n",
       "  <tbody>\n",
       "    <tr>\n",
       "      <th>13107</th>\n",
       "      <td>3.362578e+10</td>\n",
       "      <td>18553754.0</td>\n",
       "      <td>729577380.0</td>\n",
       "      <td>7.770043e+09</td>\n",
       "      <td>8.499621e+09</td>\n",
       "    </tr>\n",
       "    <tr>\n",
       "      <th>6394</th>\n",
       "      <td>3.361489e+10</td>\n",
       "      <td>9966898.0</td>\n",
       "      <td>689483001.0</td>\n",
       "      <td>8.156743e+09</td>\n",
       "      <td>8.846226e+09</td>\n",
       "    </tr>\n",
       "    <tr>\n",
       "      <th>92486</th>\n",
       "      <td>3.376054e+10</td>\n",
       "      <td>9279434.0</td>\n",
       "      <td>703478581.0</td>\n",
       "      <td>7.811295e+09</td>\n",
       "      <td>8.514774e+09</td>\n",
       "    </tr>\n",
       "    <tr>\n",
       "      <th>13451</th>\n",
       "      <td>3.362632e+10</td>\n",
       "      <td>8791927.0</td>\n",
       "      <td>669650721.0</td>\n",
       "      <td>7.301517e+09</td>\n",
       "      <td>7.971167e+09</td>\n",
       "    </tr>\n",
       "    <tr>\n",
       "      <th>64825</th>\n",
       "      <td>3.366716e+10</td>\n",
       "      <td>8744914.0</td>\n",
       "      <td>566326364.0</td>\n",
       "      <td>5.052068e+09</td>\n",
       "      <td>5.618394e+09</td>\n",
       "    </tr>\n",
       "    <tr>\n",
       "      <th>56896</th>\n",
       "      <td>3.366469e+10</td>\n",
       "      <td>6288730.0</td>\n",
       "      <td>402180804.0</td>\n",
       "      <td>5.279827e+09</td>\n",
       "      <td>5.682007e+09</td>\n",
       "    </tr>\n",
       "    <tr>\n",
       "      <th>656</th>\n",
       "      <td>3.360313e+10</td>\n",
       "      <td>6287761.0</td>\n",
       "      <td>435587631.0</td>\n",
       "      <td>4.540607e+09</td>\n",
       "      <td>4.976195e+09</td>\n",
       "    </tr>\n",
       "    <tr>\n",
       "      <th>50046</th>\n",
       "      <td>3.366284e+10</td>\n",
       "      <td>5659733.0</td>\n",
       "      <td>365404250.0</td>\n",
       "      <td>3.490821e+09</td>\n",
       "      <td>3.856225e+09</td>\n",
       "    </tr>\n",
       "    <tr>\n",
       "      <th>65725</th>\n",
       "      <td>3.366746e+10</td>\n",
       "      <td>5649882.0</td>\n",
       "      <td>266222647.0</td>\n",
       "      <td>2.334299e+09</td>\n",
       "      <td>2.600522e+09</td>\n",
       "    </tr>\n",
       "    <tr>\n",
       "      <th>92141</th>\n",
       "      <td>3.376041e+10</td>\n",
       "      <td>5321667.0</td>\n",
       "      <td>521518890.0</td>\n",
       "      <td>6.610852e+09</td>\n",
       "      <td>7.132371e+09</td>\n",
       "    </tr>\n",
       "  </tbody>\n",
       "</table>\n",
       "</div>"
      ],
      "text/plain": [
       "       MSISDN/Number   Dur. (ms)  Total UL (Bytes)  Total DL (Bytes)  \\\n",
       "13107   3.362578e+10  18553754.0       729577380.0      7.770043e+09   \n",
       "6394    3.361489e+10   9966898.0       689483001.0      8.156743e+09   \n",
       "92486   3.376054e+10   9279434.0       703478581.0      7.811295e+09   \n",
       "13451   3.362632e+10   8791927.0       669650721.0      7.301517e+09   \n",
       "64825   3.366716e+10   8744914.0       566326364.0      5.052068e+09   \n",
       "56896   3.366469e+10   6288730.0       402180804.0      5.279827e+09   \n",
       "656     3.360313e+10   6287761.0       435587631.0      4.540607e+09   \n",
       "50046   3.366284e+10   5659733.0       365404250.0      3.490821e+09   \n",
       "65725   3.366746e+10   5649882.0       266222647.0      2.334299e+09   \n",
       "92141   3.376041e+10   5321667.0       521518890.0      6.610852e+09   \n",
       "\n",
       "       Total Traffic (Bytes)  \n",
       "13107           8.499621e+09  \n",
       "6394            8.846226e+09  \n",
       "92486           8.514774e+09  \n",
       "13451           7.971167e+09  \n",
       "64825           5.618394e+09  \n",
       "56896           5.682007e+09  \n",
       "656             4.976195e+09  \n",
       "50046           3.856225e+09  \n",
       "65725           2.600522e+09  \n",
       "92141           7.132371e+09  "
      ]
     },
     "execution_count": 49,
     "metadata": {},
     "output_type": "execute_result"
    }
   ],
   "source": [
    "# Top 10 customers per  total duration\n",
    "dur_df = df.sort_values(by='Dur. (ms)', ascending=False)\n",
    "dur_df.head(10)\n",
    "           "
   ]
  },
  {
   "cell_type": "code",
   "execution_count": 50,
   "id": "666269ea-2d6f-4579-9a6e-7f4c2241d015",
   "metadata": {},
   "outputs": [
    {
     "data": {
      "text/html": [
       "<div>\n",
       "<style scoped>\n",
       "    .dataframe tbody tr th:only-of-type {\n",
       "        vertical-align: middle;\n",
       "    }\n",
       "\n",
       "    .dataframe tbody tr th {\n",
       "        vertical-align: top;\n",
       "    }\n",
       "\n",
       "    .dataframe thead th {\n",
       "        text-align: right;\n",
       "    }\n",
       "</style>\n",
       "<table border=\"1\" class=\"dataframe\">\n",
       "  <thead>\n",
       "    <tr style=\"text-align: right;\">\n",
       "      <th></th>\n",
       "      <th>MSISDN/Number</th>\n",
       "      <th>Dur. (ms)</th>\n",
       "      <th>Total UL (Bytes)</th>\n",
       "      <th>Total DL (Bytes)</th>\n",
       "      <th>Total Traffic (Bytes)</th>\n",
       "    </tr>\n",
       "  </thead>\n",
       "  <tbody>\n",
       "    <tr>\n",
       "      <th>13107</th>\n",
       "      <td>3.362578e+10</td>\n",
       "      <td>18553754.0</td>\n",
       "      <td>729577380.0</td>\n",
       "      <td>7.770043e+09</td>\n",
       "      <td>8.499621e+09</td>\n",
       "    </tr>\n",
       "    <tr>\n",
       "      <th>6394</th>\n",
       "      <td>3.361489e+10</td>\n",
       "      <td>9966898.0</td>\n",
       "      <td>689483001.0</td>\n",
       "      <td>8.156743e+09</td>\n",
       "      <td>8.846226e+09</td>\n",
       "    </tr>\n",
       "    <tr>\n",
       "      <th>92486</th>\n",
       "      <td>3.376054e+10</td>\n",
       "      <td>9279434.0</td>\n",
       "      <td>703478581.0</td>\n",
       "      <td>7.811295e+09</td>\n",
       "      <td>8.514774e+09</td>\n",
       "    </tr>\n",
       "    <tr>\n",
       "      <th>13451</th>\n",
       "      <td>3.362632e+10</td>\n",
       "      <td>8791927.0</td>\n",
       "      <td>669650721.0</td>\n",
       "      <td>7.301517e+09</td>\n",
       "      <td>7.971167e+09</td>\n",
       "    </tr>\n",
       "    <tr>\n",
       "      <th>64825</th>\n",
       "      <td>3.366716e+10</td>\n",
       "      <td>8744914.0</td>\n",
       "      <td>566326364.0</td>\n",
       "      <td>5.052068e+09</td>\n",
       "      <td>5.618394e+09</td>\n",
       "    </tr>\n",
       "    <tr>\n",
       "      <th>56896</th>\n",
       "      <td>3.366469e+10</td>\n",
       "      <td>6288730.0</td>\n",
       "      <td>402180804.0</td>\n",
       "      <td>5.279827e+09</td>\n",
       "      <td>5.682007e+09</td>\n",
       "    </tr>\n",
       "    <tr>\n",
       "      <th>656</th>\n",
       "      <td>3.360313e+10</td>\n",
       "      <td>6287761.0</td>\n",
       "      <td>435587631.0</td>\n",
       "      <td>4.540607e+09</td>\n",
       "      <td>4.976195e+09</td>\n",
       "    </tr>\n",
       "    <tr>\n",
       "      <th>50046</th>\n",
       "      <td>3.366284e+10</td>\n",
       "      <td>5659733.0</td>\n",
       "      <td>365404250.0</td>\n",
       "      <td>3.490821e+09</td>\n",
       "      <td>3.856225e+09</td>\n",
       "    </tr>\n",
       "    <tr>\n",
       "      <th>65725</th>\n",
       "      <td>3.366746e+10</td>\n",
       "      <td>5649882.0</td>\n",
       "      <td>266222647.0</td>\n",
       "      <td>2.334299e+09</td>\n",
       "      <td>2.600522e+09</td>\n",
       "    </tr>\n",
       "    <tr>\n",
       "      <th>92141</th>\n",
       "      <td>3.376041e+10</td>\n",
       "      <td>5321667.0</td>\n",
       "      <td>521518890.0</td>\n",
       "      <td>6.610852e+09</td>\n",
       "      <td>7.132371e+09</td>\n",
       "    </tr>\n",
       "  </tbody>\n",
       "</table>\n",
       "</div>"
      ],
      "text/plain": [
       "       MSISDN/Number   Dur. (ms)  Total UL (Bytes)  Total DL (Bytes)  \\\n",
       "13107   3.362578e+10  18553754.0       729577380.0      7.770043e+09   \n",
       "6394    3.361489e+10   9966898.0       689483001.0      8.156743e+09   \n",
       "92486   3.376054e+10   9279434.0       703478581.0      7.811295e+09   \n",
       "13451   3.362632e+10   8791927.0       669650721.0      7.301517e+09   \n",
       "64825   3.366716e+10   8744914.0       566326364.0      5.052068e+09   \n",
       "56896   3.366469e+10   6288730.0       402180804.0      5.279827e+09   \n",
       "656     3.360313e+10   6287761.0       435587631.0      4.540607e+09   \n",
       "50046   3.366284e+10   5659733.0       365404250.0      3.490821e+09   \n",
       "65725   3.366746e+10   5649882.0       266222647.0      2.334299e+09   \n",
       "92141   3.376041e+10   5321667.0       521518890.0      6.610852e+09   \n",
       "\n",
       "       Total Traffic (Bytes)  \n",
       "13107           8.499621e+09  \n",
       "6394            8.846226e+09  \n",
       "92486           8.514774e+09  \n",
       "13451           7.971167e+09  \n",
       "64825           5.618394e+09  \n",
       "56896           5.682007e+09  \n",
       "656             4.976195e+09  \n",
       "50046           3.856225e+09  \n",
       "65725           2.600522e+09  \n",
       "92141           7.132371e+09  "
      ]
     },
     "execution_count": 50,
     "metadata": {},
     "output_type": "execute_result"
    }
   ],
   "source": [
    "# Top 10 customers per  total traffic \n",
    "traffic_df = df.sort_values(by='Dur. (ms)', ascending=False)\n",
    "traffic_df.head(10)"
   ]
  },
  {
   "cell_type": "code",
   "execution_count": 51,
   "id": "27bfc1bd-f199-4ef4-9ddf-2bc7dd632491",
   "metadata": {},
   "outputs": [
    {
     "data": {
      "text/html": [
       "<div>\n",
       "<style scoped>\n",
       "    .dataframe tbody tr th:only-of-type {\n",
       "        vertical-align: middle;\n",
       "    }\n",
       "\n",
       "    .dataframe tbody tr th {\n",
       "        vertical-align: top;\n",
       "    }\n",
       "\n",
       "    .dataframe thead th {\n",
       "        text-align: right;\n",
       "    }\n",
       "</style>\n",
       "<table border=\"1\" class=\"dataframe\">\n",
       "  <thead>\n",
       "    <tr style=\"text-align: right;\">\n",
       "      <th></th>\n",
       "      <th>MSISDN/Number</th>\n",
       "      <th>Dur. (ms)</th>\n",
       "      <th>Total UL (Bytes)</th>\n",
       "      <th>Total DL (Bytes)</th>\n",
       "      <th>Total Traffic (Bytes)</th>\n",
       "    </tr>\n",
       "  </thead>\n",
       "  <tbody>\n",
       "    <tr>\n",
       "      <th>0</th>\n",
       "      <td>-0.003994</td>\n",
       "      <td>-0.160763</td>\n",
       "      <td>-0.596979</td>\n",
       "      <td>0.448148</td>\n",
       "      <td>0.380618</td>\n",
       "    </tr>\n",
       "    <tr>\n",
       "      <th>1</th>\n",
       "      <td>-0.003994</td>\n",
       "      <td>0.185848</td>\n",
       "      <td>-0.595540</td>\n",
       "      <td>-1.104236</td>\n",
       "      <td>-1.087865</td>\n",
       "    </tr>\n",
       "    <tr>\n",
       "      <th>2</th>\n",
       "      <td>-0.003994</td>\n",
       "      <td>-0.062711</td>\n",
       "      <td>-0.505802</td>\n",
       "      <td>-0.166837</td>\n",
       "      <td>-0.194552</td>\n",
       "    </tr>\n",
       "    <tr>\n",
       "      <th>3</th>\n",
       "      <td>-0.003994</td>\n",
       "      <td>-0.519903</td>\n",
       "      <td>-1.037646</td>\n",
       "      <td>-0.499443</td>\n",
       "      <td>-0.547815</td>\n",
       "    </tr>\n",
       "    <tr>\n",
       "      <th>4</th>\n",
       "      <td>-0.003994</td>\n",
       "      <td>-0.588537</td>\n",
       "      <td>1.034688</td>\n",
       "      <td>1.567451</td>\n",
       "      <td>1.557959</td>\n",
       "    </tr>\n",
       "  </tbody>\n",
       "</table>\n",
       "</div>"
      ],
      "text/plain": [
       "   MSISDN/Number  Dur. (ms)  Total UL (Bytes)  Total DL (Bytes)  \\\n",
       "0      -0.003994  -0.160763         -0.596979          0.448148   \n",
       "1      -0.003994   0.185848         -0.595540         -1.104236   \n",
       "2      -0.003994  -0.062711         -0.505802         -0.166837   \n",
       "3      -0.003994  -0.519903         -1.037646         -0.499443   \n",
       "4      -0.003994  -0.588537          1.034688          1.567451   \n",
       "\n",
       "   Total Traffic (Bytes)  \n",
       "0               0.380618  \n",
       "1              -1.087865  \n",
       "2              -0.194552  \n",
       "3              -0.547815  \n",
       "4               1.557959  "
      ]
     },
     "execution_count": 51,
     "metadata": {},
     "output_type": "execute_result"
    }
   ],
   "source": [
    "# Normalize Dur. (ms) column\n",
    "normalized_df=(df-df.mean())/df.std()\n",
    "normalized_df.head()\n"
   ]
  },
  {
   "cell_type": "code",
   "execution_count": 52,
   "id": "6f1a3ce0-cbd9-4762-8945-71ffedd5faa5",
   "metadata": {},
   "outputs": [],
   "source": [
    "# apply normalization using sklearn\n",
    "def data_normalizer(df, columns):\n",
    "    \"\"\"\n",
    "    Normalize the columns in the dataframe and return a normalized dataframe\n",
    "    \"\"\"\n",
    "    for col in columns:\n",
    "        df[col] = MinMaxScaler().fit_transform(np.array(df[col]).reshape(-1,1))\n",
    "    return df\n",
    "    "
   ]
  },
  {
   "cell_type": "code",
   "execution_count": 53,
   "id": "53a3c655-c777-4b6b-99b7-c2727944d7ab",
   "metadata": {},
   "outputs": [
    {
     "data": {
      "text/html": [
       "<div>\n",
       "<style scoped>\n",
       "    .dataframe tbody tr th:only-of-type {\n",
       "        vertical-align: middle;\n",
       "    }\n",
       "\n",
       "    .dataframe tbody tr th {\n",
       "        vertical-align: top;\n",
       "    }\n",
       "\n",
       "    .dataframe thead th {\n",
       "        text-align: right;\n",
       "    }\n",
       "</style>\n",
       "<table border=\"1\" class=\"dataframe\">\n",
       "  <thead>\n",
       "    <tr style=\"text-align: right;\">\n",
       "      <th></th>\n",
       "      <th>MSISDN/Number</th>\n",
       "      <th>Dur. (ms)</th>\n",
       "      <th>Total UL (Bytes)</th>\n",
       "      <th>Total DL (Bytes)</th>\n",
       "      <th>Total Traffic (Bytes)</th>\n",
       "    </tr>\n",
       "  </thead>\n",
       "  <tbody>\n",
       "    <tr>\n",
       "      <th>0</th>\n",
       "      <td>3.360100e+10</td>\n",
       "      <td>0.005908</td>\n",
       "      <td>36053108.0</td>\n",
       "      <td>8.426375e+08</td>\n",
       "      <td>0.095931</td>\n",
       "    </tr>\n",
       "    <tr>\n",
       "      <th>1</th>\n",
       "      <td>3.360100e+10</td>\n",
       "      <td>0.009387</td>\n",
       "      <td>36104459.0</td>\n",
       "      <td>1.207552e+08</td>\n",
       "      <td>0.014026</td>\n",
       "    </tr>\n",
       "    <tr>\n",
       "      <th>2</th>\n",
       "      <td>3.360100e+10</td>\n",
       "      <td>0.006892</td>\n",
       "      <td>39306820.0</td>\n",
       "      <td>5.566597e+08</td>\n",
       "      <td>0.063851</td>\n",
       "    </tr>\n",
       "    <tr>\n",
       "      <th>3</th>\n",
       "      <td>3.360101e+10</td>\n",
       "      <td>0.002304</td>\n",
       "      <td>20327526.0</td>\n",
       "      <td>4.019932e+08</td>\n",
       "      <td>0.044148</td>\n",
       "    </tr>\n",
       "    <tr>\n",
       "      <th>4</th>\n",
       "      <td>3.360101e+10</td>\n",
       "      <td>0.001615</td>\n",
       "      <td>94280527.0</td>\n",
       "      <td>1.363130e+09</td>\n",
       "      <td>0.161598</td>\n",
       "    </tr>\n",
       "  </tbody>\n",
       "</table>\n",
       "</div>"
      ],
      "text/plain": [
       "   MSISDN/Number  Dur. (ms)  Total UL (Bytes)  Total DL (Bytes)  \\\n",
       "0   3.360100e+10   0.005908        36053108.0      8.426375e+08   \n",
       "1   3.360100e+10   0.009387        36104459.0      1.207552e+08   \n",
       "2   3.360100e+10   0.006892        39306820.0      5.566597e+08   \n",
       "3   3.360101e+10   0.002304        20327526.0      4.019932e+08   \n",
       "4   3.360101e+10   0.001615        94280527.0      1.363130e+09   \n",
       "\n",
       "   Total Traffic (Bytes)  \n",
       "0               0.095931  \n",
       "1               0.014026  \n",
       "2               0.063851  \n",
       "3               0.044148  \n",
       "4               0.161598  "
      ]
     },
     "execution_count": 53,
     "metadata": {},
     "output_type": "execute_result"
    }
   ],
   "source": [
    "normalized_df=data_normalizer(df, ['Dur. (ms)', 'Total Traffic (Bytes)'])\n",
    "normalized_df.head()"
   ]
  },
  {
   "cell_type": "code",
   "execution_count": 54,
   "id": "2033fd66-7496-43a8-bfb6-0ce92552d37d",
   "metadata": {},
   "outputs": [],
   "source": [
    "normalized_df.drop(columns=['Total UL (Bytes)', 'Total DL (Bytes)'], inplace=True)\n"
   ]
  },
  {
   "cell_type": "code",
   "execution_count": 55,
   "id": "1afea3ab-1b5c-47c5-a842-52d76c7f0b08",
   "metadata": {},
   "outputs": [
    {
     "data": {
      "text/html": [
       "<div>\n",
       "<style scoped>\n",
       "    .dataframe tbody tr th:only-of-type {\n",
       "        vertical-align: middle;\n",
       "    }\n",
       "\n",
       "    .dataframe tbody tr th {\n",
       "        vertical-align: top;\n",
       "    }\n",
       "\n",
       "    .dataframe thead th {\n",
       "        text-align: right;\n",
       "    }\n",
       "</style>\n",
       "<table border=\"1\" class=\"dataframe\">\n",
       "  <thead>\n",
       "    <tr style=\"text-align: right;\">\n",
       "      <th></th>\n",
       "      <th>MSISDN/Number</th>\n",
       "      <th>Dur. (ms)</th>\n",
       "      <th>Total Traffic (Bytes)</th>\n",
       "    </tr>\n",
       "  </thead>\n",
       "  <tbody>\n",
       "    <tr>\n",
       "      <th>0</th>\n",
       "      <td>3.360100e+10</td>\n",
       "      <td>0.005908</td>\n",
       "      <td>0.095931</td>\n",
       "    </tr>\n",
       "    <tr>\n",
       "      <th>1</th>\n",
       "      <td>3.360100e+10</td>\n",
       "      <td>0.009387</td>\n",
       "      <td>0.014026</td>\n",
       "    </tr>\n",
       "    <tr>\n",
       "      <th>2</th>\n",
       "      <td>3.360100e+10</td>\n",
       "      <td>0.006892</td>\n",
       "      <td>0.063851</td>\n",
       "    </tr>\n",
       "    <tr>\n",
       "      <th>3</th>\n",
       "      <td>3.360101e+10</td>\n",
       "      <td>0.002304</td>\n",
       "      <td>0.044148</td>\n",
       "    </tr>\n",
       "    <tr>\n",
       "      <th>4</th>\n",
       "      <td>3.360101e+10</td>\n",
       "      <td>0.001615</td>\n",
       "      <td>0.161598</td>\n",
       "    </tr>\n",
       "  </tbody>\n",
       "</table>\n",
       "</div>"
      ],
      "text/plain": [
       "   MSISDN/Number  Dur. (ms)  Total Traffic (Bytes)\n",
       "0   3.360100e+10   0.005908               0.095931\n",
       "1   3.360100e+10   0.009387               0.014026\n",
       "2   3.360100e+10   0.006892               0.063851\n",
       "3   3.360101e+10   0.002304               0.044148\n",
       "4   3.360101e+10   0.001615               0.161598"
      ]
     },
     "execution_count": 55,
     "metadata": {},
     "output_type": "execute_result"
    }
   ],
   "source": [
    "normalized_df.head()"
   ]
  },
  {
   "cell_type": "code",
   "execution_count": 56,
   "id": "f64f61e8-2781-45c7-be6e-9f73d17917ed",
   "metadata": {},
   "outputs": [
    {
     "name": "stdout",
     "output_type": "stream",
     "text": [
      "[[0.0054871  0.03455792]\n",
      " [0.00716556 0.09112676]\n",
      " [0.02031553 0.20757997]]\n"
     ]
    }
   ],
   "source": [
    "#Run k-3 cluster of the 2 metrics\n",
    "df_new = df[['Dur. (ms)', 'Total Traffic (Bytes)']].copy()\n",
    "kmeans = KMeans(n_clusters=3).fit(df_new)\n",
    "centroids = kmeans.cluster_centers_\n",
    "print(centroids)"
   ]
  },
  {
   "cell_type": "code",
   "execution_count": 57,
   "id": "f1cc5bf7-8039-46eb-9cee-6aaa47e4e4df",
   "metadata": {},
   "outputs": [
    {
     "data": {
      "image/png": "[encoded data removed]",
      "text/plain": [
       "<Figure size 432x288 with 1 Axes>"
      ]
     },
     "metadata": {
      "needs_background": "light"
     },
     "output_type": "display_data"
    }
   ],
   "source": [
    "plt.scatter(df_new['Dur. (ms)'], df_new['Total Traffic (Bytes)'], c= kmeans.labels_.astype(float), s=50, alpha=0.5)\n",
    "plt.scatter(centroids[:, 0], centroids[:, 1], c='red', s=50)\n",
    "plt.show()"
   ]
  },
  {
   "cell_type": "code",
   "execution_count": 58,
   "id": "bb91030b-a021-4b1e-afe9-b169c3069f16",
   "metadata": {},
   "outputs": [
    {
     "data": {
      "text/html": [
       "<div>\n",
       "<style scoped>\n",
       "    .dataframe tbody tr th:only-of-type {\n",
       "        vertical-align: middle;\n",
       "    }\n",
       "\n",
       "    .dataframe tbody tr th {\n",
       "        vertical-align: top;\n",
       "    }\n",
       "\n",
       "    .dataframe thead th {\n",
       "        text-align: right;\n",
       "    }\n",
       "</style>\n",
       "<table border=\"1\" class=\"dataframe\">\n",
       "  <thead>\n",
       "    <tr style=\"text-align: right;\">\n",
       "      <th></th>\n",
       "      <th>Dur. (ms)</th>\n",
       "      <th>Total Traffic (Bytes)</th>\n",
       "    </tr>\n",
       "  </thead>\n",
       "  <tbody>\n",
       "    <tr>\n",
       "      <th>count</th>\n",
       "      <td>106352.000000</td>\n",
       "      <td>106352.000000</td>\n",
       "    </tr>\n",
       "    <tr>\n",
       "      <th>mean</th>\n",
       "      <td>0.007522</td>\n",
       "      <td>0.074702</td>\n",
       "    </tr>\n",
       "    <tr>\n",
       "      <th>std</th>\n",
       "      <td>0.010035</td>\n",
       "      <td>0.055776</td>\n",
       "    </tr>\n",
       "    <tr>\n",
       "      <th>min</th>\n",
       "      <td>0.000000</td>\n",
       "      <td>0.000000</td>\n",
       "    </tr>\n",
       "    <tr>\n",
       "      <th>25%</th>\n",
       "      <td>0.003536</td>\n",
       "      <td>0.036945</td>\n",
       "    </tr>\n",
       "    <tr>\n",
       "      <th>50%</th>\n",
       "      <td>0.005182</td>\n",
       "      <td>0.066396</td>\n",
       "    </tr>\n",
       "    <tr>\n",
       "      <th>75%</th>\n",
       "      <td>0.008932</td>\n",
       "      <td>0.093577</td>\n",
       "    </tr>\n",
       "    <tr>\n",
       "      <th>max</th>\n",
       "      <td>1.000000</td>\n",
       "      <td>1.000000</td>\n",
       "    </tr>\n",
       "  </tbody>\n",
       "</table>\n",
       "</div>"
      ],
      "text/plain": [
       "           Dur. (ms)  Total Traffic (Bytes)\n",
       "count  106352.000000          106352.000000\n",
       "mean        0.007522               0.074702\n",
       "std         0.010035               0.055776\n",
       "min         0.000000               0.000000\n",
       "25%         0.003536               0.036945\n",
       "50%         0.005182               0.066396\n",
       "75%         0.008932               0.093577\n",
       "max         1.000000               1.000000"
      ]
     },
     "execution_count": 58,
     "metadata": {},
     "output_type": "execute_result"
    }
   ],
   "source": [
    "df_new.describe()"
   ]
  },
  {
   "cell_type": "markdown",
   "id": "683d58c3-2ef8-4fed-a476-ed7078d51aba",
   "metadata": {},
   "source": [
    "#### Analyzing Total User Traffic Per Application"
   ]
  },
  {
   "cell_type": "code",
   "execution_count": 60,
   "id": "d5740511-335d-4db2-9dc4-37632bdf5d25",
   "metadata": {},
   "outputs": [],
   "source": [
    "#Aggregate the dataset based on user's MSISDN/Number and the total data traffic for each application\n",
    "app_traffic=telco_clean.groupby('MSISDN/Number').aggregate({'Social Media DL (Bytes)':'sum',\n",
    "                                                            'Social Media UL (Bytes)':'sum',\n",
    "                                                            'Google DL (Bytes)':'sum',\n",
    "                                                            'Google UL (Bytes)':'sum',\n",
    "                                                            'Email DL (Bytes)':'sum',\n",
    "                                                            'Email UL (Bytes)':'sum',\n",
    "                                                            'Youtube DL (Bytes)':'sum',\n",
    "                                                            'Youtube UL (Bytes)':'sum',\n",
    "                                                            'Netflix DL (Bytes)':'sum',\n",
    "                                                            'Netflix UL (Bytes)':'sum',\n",
    "                                                            'Gaming DL (Bytes)':'sum',\n",
    "                                                            'Gaming UL (Bytes)':'sum',\n",
    "                                                            'Other DL (Bytes)':'sum',\n",
    "                                                            'Other UL (Bytes)':'sum'\n",
    "                                                            }).reset_index()"
   ]
  },
  {
   "cell_type": "code",
   "execution_count": 64,
   "id": "d9041bf5-1710-4fcc-8399-6d91d4f15c63",
   "metadata": {},
   "outputs": [
    {
     "data": {
      "text/html": [
       "<div>\n",
       "<style scoped>\n",
       "    .dataframe tbody tr th:only-of-type {\n",
       "        vertical-align: middle;\n",
       "    }\n",
       "\n",
       "    .dataframe tbody tr th {\n",
       "        vertical-align: top;\n",
       "    }\n",
       "\n",
       "    .dataframe thead th {\n",
       "        text-align: right;\n",
       "    }\n",
       "</style>\n",
       "<table border=\"1\" class=\"dataframe\">\n",
       "  <thead>\n",
       "    <tr style=\"text-align: right;\">\n",
       "      <th></th>\n",
       "      <th>MSISDN/Number</th>\n",
       "      <th>Social media</th>\n",
       "      <th>Google</th>\n",
       "      <th>Email</th>\n",
       "      <th>Youtube</th>\n",
       "      <th>Netflix</th>\n",
       "      <th>Gaming</th>\n",
       "      <th>Other Apps</th>\n",
       "    </tr>\n",
       "  </thead>\n",
       "  <tbody>\n",
       "    <tr>\n",
       "      <th>0</th>\n",
       "      <td>3.360100e+10</td>\n",
       "      <td>2232135.0</td>\n",
       "      <td>4389005.0</td>\n",
       "      <td>1331362.0</td>\n",
       "      <td>21624548.0</td>\n",
       "      <td>27180981.0</td>\n",
       "      <td>8.124587e+08</td>\n",
       "      <td>386570872.0</td>\n",
       "    </tr>\n",
       "    <tr>\n",
       "      <th>1</th>\n",
       "      <td>3.360100e+10</td>\n",
       "      <td>2660565.0</td>\n",
       "      <td>5334863.0</td>\n",
       "      <td>3307781.0</td>\n",
       "      <td>12432223.0</td>\n",
       "      <td>11221763.0</td>\n",
       "      <td>1.197501e+08</td>\n",
       "      <td>281710071.0</td>\n",
       "    </tr>\n",
       "    <tr>\n",
       "      <th>2</th>\n",
       "      <td>3.360100e+10</td>\n",
       "      <td>3195623.0</td>\n",
       "      <td>3443126.0</td>\n",
       "      <td>3205380.0</td>\n",
       "      <td>21333570.0</td>\n",
       "      <td>19353900.0</td>\n",
       "      <td>5.388277e+08</td>\n",
       "      <td>501693672.0</td>\n",
       "    </tr>\n",
       "    <tr>\n",
       "      <th>3</th>\n",
       "      <td>3.360101e+10</td>\n",
       "      <td>280294.0</td>\n",
       "      <td>9678493.0</td>\n",
       "      <td>2284670.0</td>\n",
       "      <td>6977321.0</td>\n",
       "      <td>1942092.0</td>\n",
       "      <td>3.911261e+08</td>\n",
       "      <td>35279702.0</td>\n",
       "    </tr>\n",
       "    <tr>\n",
       "      <th>4</th>\n",
       "      <td>3.360101e+10</td>\n",
       "      <td>2912542.0</td>\n",
       "      <td>18499616.0</td>\n",
       "      <td>3305469.0</td>\n",
       "      <td>41533002.0</td>\n",
       "      <td>49201724.0</td>\n",
       "      <td>1.314798e+09</td>\n",
       "      <td>804804484.0</td>\n",
       "    </tr>\n",
       "  </tbody>\n",
       "</table>\n",
       "</div>"
      ],
      "text/plain": [
       "   MSISDN/Number  Social media      Google      Email     Youtube     Netflix  \\\n",
       "0   3.360100e+10     2232135.0   4389005.0  1331362.0  21624548.0  27180981.0   \n",
       "1   3.360100e+10     2660565.0   5334863.0  3307781.0  12432223.0  11221763.0   \n",
       "2   3.360100e+10     3195623.0   3443126.0  3205380.0  21333570.0  19353900.0   \n",
       "3   3.360101e+10      280294.0   9678493.0  2284670.0   6977321.0   1942092.0   \n",
       "4   3.360101e+10     2912542.0  18499616.0  3305469.0  41533002.0  49201724.0   \n",
       "\n",
       "         Gaming   Other Apps  \n",
       "0  8.124587e+08  386570872.0  \n",
       "1  1.197501e+08  281710071.0  \n",
       "2  5.388277e+08  501693672.0  \n",
       "3  3.911261e+08   35279702.0  \n",
       "4  1.314798e+09  804804484.0  "
      ]
     },
     "execution_count": 64,
     "metadata": {},
     "output_type": "execute_result"
    }
   ],
   "source": [
    "#Combine the uplink and downlink data volumes for each application\n",
    "columns = {'Social media':['Social Media DL (Bytes)','Social Media UL (Bytes)'],\n",
    "           'Google':['Google DL (Bytes)', 'Google UL (Bytes)'],\n",
    "           'Email':['Email DL (Bytes)', 'Email UL (Bytes)'],\n",
    "           'Youtube':['Youtube DL (Bytes)', 'Youtube UL (Bytes)'],\n",
    "           'Netflix':['Netflix DL (Bytes)', 'Netflix UL (Bytes)'],\n",
    "           'Gaming':['Gaming DL (Bytes)', 'Gaming UL (Bytes)'],\n",
    "           'Other Apps':['Other DL (Bytes)', 'Other UL (Bytes)']\n",
    "          }\n",
    "app_traffic= combineColumns(app_traffic, columns)\n",
    "app_traffic.head()"
   ]
  },
  {
   "cell_type": "markdown",
   "id": "fb8ba887-1e46-44c6-9b1c-0fba14117c0a",
   "metadata": {},
   "source": [
    "##### Top 10 most engaged users per application\n"
   ]
  },
  {
   "cell_type": "code",
   "execution_count": 67,
   "id": "3f2d4003-b3e9-4451-8bdb-4e2413d5eb44",
   "metadata": {},
   "outputs": [
    {
     "data": {
      "text/html": [
       "<div>\n",
       "<style scoped>\n",
       "    .dataframe tbody tr th:only-of-type {\n",
       "        vertical-align: middle;\n",
       "    }\n",
       "\n",
       "    .dataframe tbody tr th {\n",
       "        vertical-align: top;\n",
       "    }\n",
       "\n",
       "    .dataframe thead th {\n",
       "        text-align: right;\n",
       "    }\n",
       "</style>\n",
       "<table border=\"1\" class=\"dataframe\">\n",
       "  <thead>\n",
       "    <tr style=\"text-align: right;\">\n",
       "      <th></th>\n",
       "      <th>MSISDN/Number</th>\n",
       "      <th>Social media</th>\n",
       "    </tr>\n",
       "  </thead>\n",
       "  <tbody>\n",
       "    <tr>\n",
       "      <th>13451</th>\n",
       "      <td>3.362632e+10</td>\n",
       "      <td>43374779.0</td>\n",
       "    </tr>\n",
       "    <tr>\n",
       "      <th>92486</th>\n",
       "      <td>3.376054e+10</td>\n",
       "      <td>39783189.0</td>\n",
       "    </tr>\n",
       "    <tr>\n",
       "      <th>36867</th>\n",
       "      <td>3.365973e+10</td>\n",
       "      <td>35412358.0</td>\n",
       "    </tr>\n",
       "    <tr>\n",
       "      <th>6394</th>\n",
       "      <td>3.361489e+10</td>\n",
       "      <td>28294544.0</td>\n",
       "    </tr>\n",
       "    <tr>\n",
       "      <th>13107</th>\n",
       "      <td>3.362578e+10</td>\n",
       "      <td>27135500.0</td>\n",
       "    </tr>\n",
       "    <tr>\n",
       "      <th>64825</th>\n",
       "      <td>3.366716e+10</td>\n",
       "      <td>24247850.0</td>\n",
       "    </tr>\n",
       "    <tr>\n",
       "      <th>105638</th>\n",
       "      <td>3.378632e+10</td>\n",
       "      <td>23974919.0</td>\n",
       "    </tr>\n",
       "    <tr>\n",
       "      <th>70635</th>\n",
       "      <td>3.366907e+10</td>\n",
       "      <td>23800834.0</td>\n",
       "    </tr>\n",
       "    <tr>\n",
       "      <th>656</th>\n",
       "      <td>3.360313e+10</td>\n",
       "      <td>23077825.0</td>\n",
       "    </tr>\n",
       "    <tr>\n",
       "      <th>60067</th>\n",
       "      <td>3.366553e+10</td>\n",
       "      <td>22586033.0</td>\n",
       "    </tr>\n",
       "  </tbody>\n",
       "</table>\n",
       "</div>"
      ],
      "text/plain": [
       "        MSISDN/Number  Social media\n",
       "13451    3.362632e+10    43374779.0\n",
       "92486    3.376054e+10    39783189.0\n",
       "36867    3.365973e+10    35412358.0\n",
       "6394     3.361489e+10    28294544.0\n",
       "13107    3.362578e+10    27135500.0\n",
       "64825    3.366716e+10    24247850.0\n",
       "105638   3.378632e+10    23974919.0\n",
       "70635    3.366907e+10    23800834.0\n",
       "656      3.360313e+10    23077825.0\n",
       "60067    3.366553e+10    22586033.0"
      ]
     },
     "execution_count": 67,
     "metadata": {},
     "output_type": "execute_result"
    }
   ],
   "source": [
    "#Social Media\n",
    "app_traffic[['MSISDN/Number','Social media']].sort_values(by = 'Social media', ascending=False).head(10)"
   ]
  },
  {
   "cell_type": "code",
   "execution_count": 69,
   "id": "2b3ce3c5-336b-4af1-b0b4-28345769e4f9",
   "metadata": {},
   "outputs": [
    {
     "data": {
      "text/html": [
       "<div>\n",
       "<style scoped>\n",
       "    .dataframe tbody tr th:only-of-type {\n",
       "        vertical-align: middle;\n",
       "    }\n",
       "\n",
       "    .dataframe tbody tr th {\n",
       "        vertical-align: top;\n",
       "    }\n",
       "\n",
       "    .dataframe thead th {\n",
       "        text-align: right;\n",
       "    }\n",
       "</style>\n",
       "<table border=\"1\" class=\"dataframe\">\n",
       "  <thead>\n",
       "    <tr style=\"text-align: right;\">\n",
       "      <th></th>\n",
       "      <th>MSISDN/Number</th>\n",
       "      <th>Google</th>\n",
       "    </tr>\n",
       "  </thead>\n",
       "  <tbody>\n",
       "    <tr>\n",
       "      <th>13451</th>\n",
       "      <td>3.362632e+10</td>\n",
       "      <td>152191852.0</td>\n",
       "    </tr>\n",
       "    <tr>\n",
       "      <th>13107</th>\n",
       "      <td>3.362578e+10</td>\n",
       "      <td>142307915.0</td>\n",
       "    </tr>\n",
       "    <tr>\n",
       "      <th>6394</th>\n",
       "      <td>3.361489e+10</td>\n",
       "      <td>127973787.0</td>\n",
       "    </tr>\n",
       "    <tr>\n",
       "      <th>92486</th>\n",
       "      <td>3.376054e+10</td>\n",
       "      <td>123223099.0</td>\n",
       "    </tr>\n",
       "    <tr>\n",
       "      <th>36867</th>\n",
       "      <td>3.365973e+10</td>\n",
       "      <td>116516345.0</td>\n",
       "    </tr>\n",
       "    <tr>\n",
       "      <th>105638</th>\n",
       "      <td>3.378632e+10</td>\n",
       "      <td>110254484.0</td>\n",
       "    </tr>\n",
       "    <tr>\n",
       "      <th>75999</th>\n",
       "      <td>3.367588e+10</td>\n",
       "      <td>109860502.0</td>\n",
       "    </tr>\n",
       "    <tr>\n",
       "      <th>64825</th>\n",
       "      <td>3.366716e+10</td>\n",
       "      <td>105032696.0</td>\n",
       "    </tr>\n",
       "    <tr>\n",
       "      <th>94208</th>\n",
       "      <td>3.376127e+10</td>\n",
       "      <td>97089988.0</td>\n",
       "    </tr>\n",
       "    <tr>\n",
       "      <th>85904</th>\n",
       "      <td>3.369876e+10</td>\n",
       "      <td>91935151.0</td>\n",
       "    </tr>\n",
       "  </tbody>\n",
       "</table>\n",
       "</div>"
      ],
      "text/plain": [
       "        MSISDN/Number       Google\n",
       "13451    3.362632e+10  152191852.0\n",
       "13107    3.362578e+10  142307915.0\n",
       "6394     3.361489e+10  127973787.0\n",
       "92486    3.376054e+10  123223099.0\n",
       "36867    3.365973e+10  116516345.0\n",
       "105638   3.378632e+10  110254484.0\n",
       "75999    3.367588e+10  109860502.0\n",
       "64825    3.366716e+10  105032696.0\n",
       "94208    3.376127e+10   97089988.0\n",
       "85904    3.369876e+10   91935151.0"
      ]
     },
     "execution_count": 69,
     "metadata": {},
     "output_type": "execute_result"
    }
   ],
   "source": [
    "#Google\n",
    "app_traffic[['MSISDN/Number','Google']].sort_values(by = 'Google', ascending=False).head(10)"
   ]
  },
  {
   "cell_type": "code",
   "execution_count": 70,
   "id": "aa40f091-6c28-4f76-ae74-98199b823aab",
   "metadata": {},
   "outputs": [
    {
     "data": {
      "text/html": [
       "<div>\n",
       "<style scoped>\n",
       "    .dataframe tbody tr th:only-of-type {\n",
       "        vertical-align: middle;\n",
       "    }\n",
       "\n",
       "    .dataframe tbody tr th {\n",
       "        vertical-align: top;\n",
       "    }\n",
       "\n",
       "    .dataframe thead th {\n",
       "        text-align: right;\n",
       "    }\n",
       "</style>\n",
       "<table border=\"1\" class=\"dataframe\">\n",
       "  <thead>\n",
       "    <tr style=\"text-align: right;\">\n",
       "      <th></th>\n",
       "      <th>MSISDN/Number</th>\n",
       "      <th>Email</th>\n",
       "    </tr>\n",
       "  </thead>\n",
       "  <tbody>\n",
       "    <tr>\n",
       "      <th>13451</th>\n",
       "      <td>3.362632e+10</td>\n",
       "      <td>42418782.0</td>\n",
       "    </tr>\n",
       "    <tr>\n",
       "      <th>6394</th>\n",
       "      <td>3.361489e+10</td>\n",
       "      <td>40788634.0</td>\n",
       "    </tr>\n",
       "    <tr>\n",
       "      <th>13107</th>\n",
       "      <td>3.362578e+10</td>\n",
       "      <td>40633966.0</td>\n",
       "    </tr>\n",
       "    <tr>\n",
       "      <th>105638</th>\n",
       "      <td>3.378632e+10</td>\n",
       "      <td>36310123.0</td>\n",
       "    </tr>\n",
       "    <tr>\n",
       "      <th>36867</th>\n",
       "      <td>3.365973e+10</td>\n",
       "      <td>35999792.0</td>\n",
       "    </tr>\n",
       "    <tr>\n",
       "      <th>92486</th>\n",
       "      <td>3.376054e+10</td>\n",
       "      <td>33693767.0</td>\n",
       "    </tr>\n",
       "    <tr>\n",
       "      <th>75999</th>\n",
       "      <td>3.367588e+10</td>\n",
       "      <td>31514421.0</td>\n",
       "    </tr>\n",
       "    <tr>\n",
       "      <th>59816</th>\n",
       "      <td>3.366546e+10</td>\n",
       "      <td>30417885.0</td>\n",
       "    </tr>\n",
       "    <tr>\n",
       "      <th>64825</th>\n",
       "      <td>3.366716e+10</td>\n",
       "      <td>30335796.0</td>\n",
       "    </tr>\n",
       "    <tr>\n",
       "      <th>86045</th>\n",
       "      <td>3.369879e+10</td>\n",
       "      <td>29059042.0</td>\n",
       "    </tr>\n",
       "  </tbody>\n",
       "</table>\n",
       "</div>"
      ],
      "text/plain": [
       "        MSISDN/Number       Email\n",
       "13451    3.362632e+10  42418782.0\n",
       "6394     3.361489e+10  40788634.0\n",
       "13107    3.362578e+10  40633966.0\n",
       "105638   3.378632e+10  36310123.0\n",
       "36867    3.365973e+10  35999792.0\n",
       "92486    3.376054e+10  33693767.0\n",
       "75999    3.367588e+10  31514421.0\n",
       "59816    3.366546e+10  30417885.0\n",
       "64825    3.366716e+10  30335796.0\n",
       "86045    3.369879e+10  29059042.0"
      ]
     },
     "execution_count": 70,
     "metadata": {},
     "output_type": "execute_result"
    }
   ],
   "source": [
    "#Email\n",
    "app_traffic[['MSISDN/Number','Email']].sort_values(by = 'Email', ascending=False).head(10)"
   ]
  },
  {
   "cell_type": "code",
   "execution_count": 72,
   "id": "1c3e1181-0ffb-45f5-b1b4-ab4cd298e131",
   "metadata": {},
   "outputs": [
    {
     "data": {
      "text/html": [
       "<div>\n",
       "<style scoped>\n",
       "    .dataframe tbody tr th:only-of-type {\n",
       "        vertical-align: middle;\n",
       "    }\n",
       "\n",
       "    .dataframe tbody tr th {\n",
       "        vertical-align: top;\n",
       "    }\n",
       "\n",
       "    .dataframe thead th {\n",
       "        text-align: right;\n",
       "    }\n",
       "</style>\n",
       "<table border=\"1\" class=\"dataframe\">\n",
       "  <thead>\n",
       "    <tr style=\"text-align: right;\">\n",
       "      <th></th>\n",
       "      <th>MSISDN/Number</th>\n",
       "      <th>Youtube</th>\n",
       "    </tr>\n",
       "  </thead>\n",
       "  <tbody>\n",
       "    <tr>\n",
       "      <th>13107</th>\n",
       "      <td>3.362578e+10</td>\n",
       "      <td>452958769.0</td>\n",
       "    </tr>\n",
       "    <tr>\n",
       "      <th>92486</th>\n",
       "      <td>3.376054e+10</td>\n",
       "      <td>396289198.0</td>\n",
       "    </tr>\n",
       "    <tr>\n",
       "      <th>6394</th>\n",
       "      <td>3.361489e+10</td>\n",
       "      <td>394370218.0</td>\n",
       "    </tr>\n",
       "    <tr>\n",
       "      <th>13451</th>\n",
       "      <td>3.362632e+10</td>\n",
       "      <td>374483047.0</td>\n",
       "    </tr>\n",
       "    <tr>\n",
       "      <th>75999</th>\n",
       "      <td>3.367588e+10</td>\n",
       "      <td>317410572.0</td>\n",
       "    </tr>\n",
       "    <tr>\n",
       "      <th>64825</th>\n",
       "      <td>3.366716e+10</td>\n",
       "      <td>315231310.0</td>\n",
       "    </tr>\n",
       "    <tr>\n",
       "      <th>13918</th>\n",
       "      <td>3.362708e+10</td>\n",
       "      <td>308790774.0</td>\n",
       "    </tr>\n",
       "    <tr>\n",
       "      <th>92141</th>\n",
       "      <td>3.376041e+10</td>\n",
       "      <td>303169107.0</td>\n",
       "    </tr>\n",
       "    <tr>\n",
       "      <th>86045</th>\n",
       "      <td>3.369879e+10</td>\n",
       "      <td>302661958.0</td>\n",
       "    </tr>\n",
       "    <tr>\n",
       "      <th>656</th>\n",
       "      <td>3.360313e+10</td>\n",
       "      <td>284090139.0</td>\n",
       "    </tr>\n",
       "  </tbody>\n",
       "</table>\n",
       "</div>"
      ],
      "text/plain": [
       "       MSISDN/Number      Youtube\n",
       "13107   3.362578e+10  452958769.0\n",
       "92486   3.376054e+10  396289198.0\n",
       "6394    3.361489e+10  394370218.0\n",
       "13451   3.362632e+10  374483047.0\n",
       "75999   3.367588e+10  317410572.0\n",
       "64825   3.366716e+10  315231310.0\n",
       "13918   3.362708e+10  308790774.0\n",
       "92141   3.376041e+10  303169107.0\n",
       "86045   3.369879e+10  302661958.0\n",
       "656     3.360313e+10  284090139.0"
      ]
     },
     "execution_count": 72,
     "metadata": {},
     "output_type": "execute_result"
    }
   ],
   "source": [
    "#Youtuve\n",
    "app_traffic[['MSISDN/Number','Youtube']].sort_values(by = 'Youtube', ascending=False).head(10)"
   ]
  },
  {
   "cell_type": "code",
   "execution_count": 73,
   "id": "66307e7c-78fe-4c02-a3fa-3addd253db1e",
   "metadata": {},
   "outputs": [
    {
     "data": {
      "text/html": [
       "<div>\n",
       "<style scoped>\n",
       "    .dataframe tbody tr th:only-of-type {\n",
       "        vertical-align: middle;\n",
       "    }\n",
       "\n",
       "    .dataframe tbody tr th {\n",
       "        vertical-align: top;\n",
       "    }\n",
       "\n",
       "    .dataframe thead th {\n",
       "        text-align: right;\n",
       "    }\n",
       "</style>\n",
       "<table border=\"1\" class=\"dataframe\">\n",
       "  <thead>\n",
       "    <tr style=\"text-align: right;\">\n",
       "      <th></th>\n",
       "      <th>MSISDN/Number</th>\n",
       "      <th>Netflix</th>\n",
       "    </tr>\n",
       "  </thead>\n",
       "  <tbody>\n",
       "    <tr>\n",
       "      <th>36867</th>\n",
       "      <td>3.365973e+10</td>\n",
       "      <td>399519079.0</td>\n",
       "    </tr>\n",
       "    <tr>\n",
       "      <th>6394</th>\n",
       "      <td>3.361489e+10</td>\n",
       "      <td>361401046.0</td>\n",
       "    </tr>\n",
       "    <tr>\n",
       "      <th>13107</th>\n",
       "      <td>3.362578e+10</td>\n",
       "      <td>356980607.0</td>\n",
       "    </tr>\n",
       "    <tr>\n",
       "      <th>92486</th>\n",
       "      <td>3.376054e+10</td>\n",
       "      <td>334643269.0</td>\n",
       "    </tr>\n",
       "    <tr>\n",
       "      <th>13451</th>\n",
       "      <td>3.362632e+10</td>\n",
       "      <td>328725740.0</td>\n",
       "    </tr>\n",
       "    <tr>\n",
       "      <th>92141</th>\n",
       "      <td>3.376041e+10</td>\n",
       "      <td>318347546.0</td>\n",
       "    </tr>\n",
       "    <tr>\n",
       "      <th>64825</th>\n",
       "      <td>3.366716e+10</td>\n",
       "      <td>313939488.0</td>\n",
       "    </tr>\n",
       "    <tr>\n",
       "      <th>75999</th>\n",
       "      <td>3.367588e+10</td>\n",
       "      <td>309093159.0</td>\n",
       "    </tr>\n",
       "    <tr>\n",
       "      <th>105638</th>\n",
       "      <td>3.378632e+10</td>\n",
       "      <td>305939790.0</td>\n",
       "    </tr>\n",
       "    <tr>\n",
       "      <th>94208</th>\n",
       "      <td>3.376127e+10</td>\n",
       "      <td>292091341.0</td>\n",
       "    </tr>\n",
       "  </tbody>\n",
       "</table>\n",
       "</div>"
      ],
      "text/plain": [
       "        MSISDN/Number      Netflix\n",
       "36867    3.365973e+10  399519079.0\n",
       "6394     3.361489e+10  361401046.0\n",
       "13107    3.362578e+10  356980607.0\n",
       "92486    3.376054e+10  334643269.0\n",
       "13451    3.362632e+10  328725740.0\n",
       "92141    3.376041e+10  318347546.0\n",
       "64825    3.366716e+10  313939488.0\n",
       "75999    3.367588e+10  309093159.0\n",
       "105638   3.378632e+10  305939790.0\n",
       "94208    3.376127e+10  292091341.0"
      ]
     },
     "execution_count": 73,
     "metadata": {},
     "output_type": "execute_result"
    }
   ],
   "source": [
    "#Netflix\n",
    "app_traffic[['MSISDN/Number','Netflix']].sort_values(by = 'Netflix', ascending=False).head(10)"
   ]
  },
  {
   "cell_type": "code",
   "execution_count": 74,
   "id": "eb8d864a-8ee4-4e32-8166-6c3daab05ac6",
   "metadata": {},
   "outputs": [
    {
     "data": {
      "text/html": [
       "<div>\n",
       "<style scoped>\n",
       "    .dataframe tbody tr th:only-of-type {\n",
       "        vertical-align: middle;\n",
       "    }\n",
       "\n",
       "    .dataframe tbody tr th {\n",
       "        vertical-align: top;\n",
       "    }\n",
       "\n",
       "    .dataframe thead th {\n",
       "        text-align: right;\n",
       "    }\n",
       "</style>\n",
       "<table border=\"1\" class=\"dataframe\">\n",
       "  <thead>\n",
       "    <tr style=\"text-align: right;\">\n",
       "      <th></th>\n",
       "      <th>MSISDN/Number</th>\n",
       "      <th>Gaming</th>\n",
       "    </tr>\n",
       "  </thead>\n",
       "  <tbody>\n",
       "    <tr>\n",
       "      <th>6394</th>\n",
       "      <td>3.361489e+10</td>\n",
       "      <td>7.749432e+09</td>\n",
       "    </tr>\n",
       "    <tr>\n",
       "      <th>92486</th>\n",
       "      <td>3.376054e+10</td>\n",
       "      <td>7.461045e+09</td>\n",
       "    </tr>\n",
       "    <tr>\n",
       "      <th>13107</th>\n",
       "      <td>3.362578e+10</td>\n",
       "      <td>7.326673e+09</td>\n",
       "    </tr>\n",
       "    <tr>\n",
       "      <th>75999</th>\n",
       "      <td>3.367588e+10</td>\n",
       "      <td>6.970568e+09</td>\n",
       "    </tr>\n",
       "    <tr>\n",
       "      <th>13451</th>\n",
       "      <td>3.362632e+10</td>\n",
       "      <td>6.887572e+09</td>\n",
       "    </tr>\n",
       "    <tr>\n",
       "      <th>36867</th>\n",
       "      <td>3.365973e+10</td>\n",
       "      <td>6.725559e+09</td>\n",
       "    </tr>\n",
       "    <tr>\n",
       "      <th>62746</th>\n",
       "      <td>3.366646e+10</td>\n",
       "      <td>6.646303e+09</td>\n",
       "    </tr>\n",
       "    <tr>\n",
       "      <th>92141</th>\n",
       "      <td>3.376041e+10</td>\n",
       "      <td>6.268620e+09</td>\n",
       "    </tr>\n",
       "    <tr>\n",
       "      <th>56977</th>\n",
       "      <td>3.366471e+10</td>\n",
       "      <td>6.103856e+09</td>\n",
       "    </tr>\n",
       "    <tr>\n",
       "      <th>86045</th>\n",
       "      <td>3.369879e+10</td>\n",
       "      <td>5.753743e+09</td>\n",
       "    </tr>\n",
       "  </tbody>\n",
       "</table>\n",
       "</div>"
      ],
      "text/plain": [
       "       MSISDN/Number        Gaming\n",
       "6394    3.361489e+10  7.749432e+09\n",
       "92486   3.376054e+10  7.461045e+09\n",
       "13107   3.362578e+10  7.326673e+09\n",
       "75999   3.367588e+10  6.970568e+09\n",
       "13451   3.362632e+10  6.887572e+09\n",
       "36867   3.365973e+10  6.725559e+09\n",
       "62746   3.366646e+10  6.646303e+09\n",
       "92141   3.376041e+10  6.268620e+09\n",
       "56977   3.366471e+10  6.103856e+09\n",
       "86045   3.369879e+10  5.753743e+09"
      ]
     },
     "execution_count": 74,
     "metadata": {},
     "output_type": "execute_result"
    }
   ],
   "source": [
    "#Gaming\n",
    "app_traffic[['MSISDN/Number','Gaming']].sort_values(by = 'Gaming', ascending=False).head(10)"
   ]
  },
  {
   "cell_type": "code",
   "execution_count": 75,
   "id": "1f6afeae-4f27-4b61-a128-355458d7a2d6",
   "metadata": {},
   "outputs": [
    {
     "data": {
      "text/html": [
       "<div>\n",
       "<style scoped>\n",
       "    .dataframe tbody tr th:only-of-type {\n",
       "        vertical-align: middle;\n",
       "    }\n",
       "\n",
       "    .dataframe tbody tr th {\n",
       "        vertical-align: top;\n",
       "    }\n",
       "\n",
       "    .dataframe thead th {\n",
       "        text-align: right;\n",
       "    }\n",
       "</style>\n",
       "<table border=\"1\" class=\"dataframe\">\n",
       "  <thead>\n",
       "    <tr style=\"text-align: right;\">\n",
       "      <th></th>\n",
       "      <th>MSISDN/Number</th>\n",
       "      <th>Other Apps</th>\n",
       "    </tr>\n",
       "  </thead>\n",
       "  <tbody>\n",
       "    <tr>\n",
       "      <th>13451</th>\n",
       "      <td>3.362632e+10</td>\n",
       "      <td>8.167878e+09</td>\n",
       "    </tr>\n",
       "    <tr>\n",
       "      <th>6394</th>\n",
       "      <td>3.361489e+10</td>\n",
       "      <td>7.639264e+09</td>\n",
       "    </tr>\n",
       "    <tr>\n",
       "      <th>75999</th>\n",
       "      <td>3.367588e+10</td>\n",
       "      <td>6.798515e+09</td>\n",
       "    </tr>\n",
       "    <tr>\n",
       "      <th>13107</th>\n",
       "      <td>3.362578e+10</td>\n",
       "      <td>6.354583e+09</td>\n",
       "    </tr>\n",
       "    <tr>\n",
       "      <th>656</th>\n",
       "      <td>3.360313e+10</td>\n",
       "      <td>6.326671e+09</td>\n",
       "    </tr>\n",
       "    <tr>\n",
       "      <th>36867</th>\n",
       "      <td>3.365973e+10</td>\n",
       "      <td>6.317415e+09</td>\n",
       "    </tr>\n",
       "    <tr>\n",
       "      <th>13861</th>\n",
       "      <td>3.362695e+10</td>\n",
       "      <td>5.305448e+09</td>\n",
       "    </tr>\n",
       "    <tr>\n",
       "      <th>13918</th>\n",
       "      <td>3.362708e+10</td>\n",
       "      <td>5.117791e+09</td>\n",
       "    </tr>\n",
       "    <tr>\n",
       "      <th>94208</th>\n",
       "      <td>3.376127e+10</td>\n",
       "      <td>5.077779e+09</td>\n",
       "    </tr>\n",
       "    <tr>\n",
       "      <th>30555</th>\n",
       "      <td>3.365836e+10</td>\n",
       "      <td>5.013651e+09</td>\n",
       "    </tr>\n",
       "  </tbody>\n",
       "</table>\n",
       "</div>"
      ],
      "text/plain": [
       "       MSISDN/Number    Other Apps\n",
       "13451   3.362632e+10  8.167878e+09\n",
       "6394    3.361489e+10  7.639264e+09\n",
       "75999   3.367588e+10  6.798515e+09\n",
       "13107   3.362578e+10  6.354583e+09\n",
       "656     3.360313e+10  6.326671e+09\n",
       "36867   3.365973e+10  6.317415e+09\n",
       "13861   3.362695e+10  5.305448e+09\n",
       "13918   3.362708e+10  5.117791e+09\n",
       "94208   3.376127e+10  5.077779e+09\n",
       "30555   3.365836e+10  5.013651e+09"
      ]
     },
     "execution_count": 75,
     "metadata": {},
     "output_type": "execute_result"
    }
   ],
   "source": [
    "#Other Apps\n",
    "app_traffic[['MSISDN/Number','Other Apps']].sort_values(by = 'Other Apps', ascending=False).head(10)"
   ]
  },
  {
   "cell_type": "markdown",
   "id": "623aa567-c6a4-4041-9fcb-3b14e1201130",
   "metadata": {},
   "source": [
    "##### Top 3 most used applications"
   ]
  },
  {
   "cell_type": "code",
   "execution_count": 78,
   "id": "7b76e154-999c-46d8-bb5c-c995dde43c2e",
   "metadata": {},
   "outputs": [
    {
     "data": {
      "text/plain": [
       "Gaming        6.384655e+13\n",
       "Other Apps    6.370400e+13\n",
       "Youtube       3.359002e+12\n",
       "dtype: float64"
      ]
     },
     "execution_count": 78,
     "metadata": {},
     "output_type": "execute_result"
    }
   ],
   "source": [
    "app_traffic[['Social media', 'Google', 'Email', 'Youtube', 'Netflix', 'Gaming', 'Other Apps']].sum().sort_values(ascending=False).head(3)"
   ]
  },
  {
   "cell_type": "markdown",
   "id": "0197d4e2-a527-433f-a31c-0020af389c53",
   "metadata": {},
   "source": [
    "##### Ploting the top 3 application total traffic"
   ]
  },
  {
   "cell_type": "code",
   "execution_count": 80,
   "id": "a08a9c6b-ba52-433a-babe-74b17de18f41",
   "metadata": {},
   "outputs": [
    {
     "name": "stderr",
     "output_type": "stream",
     "text": [
      "C:\\Users\\User\\anaconda3\\envs\\envMysql\\lib\\site-packages\\seaborn\\distributions.py:2619: FutureWarning: `distplot` is a deprecated function and will be removed in a future version. Please adapt your code to use either `displot` (a figure-level function with similar flexibility) or `kdeplot` (an axes-level function for kernel density plots).\n",
      "  warnings.warn(msg, FutureWarning)\n"
     ]
    },
    {
     "data": {
      "text/plain": [
       "<AxesSubplot:ylabel='Density'>"
      ]
     },
     "execution_count": 80,
     "metadata": {},
     "output_type": "execute_result"
    },
    {
     "data": {
      "image/png": "[encoded data removed]",
      "text/plain": [
       "<Figure size 432x288 with 1 Axes>"
      ]
     },
     "metadata": {
      "needs_background": "light"
     },
     "output_type": "display_data"
    }
   ],
   "source": [
    "#Gaming\n",
    "sns.distplot(x= app_traffic['Gaming'], hist=False)"
   ]
  },
  {
   "cell_type": "code",
   "execution_count": 81,
   "id": "ac87a0a9-3167-4ac7-9d75-2c71b77b44a8",
   "metadata": {},
   "outputs": [
    {
     "name": "stderr",
     "output_type": "stream",
     "text": [
      "C:\\Users\\User\\anaconda3\\envs\\envMysql\\lib\\site-packages\\seaborn\\distributions.py:2619: FutureWarning: `distplot` is a deprecated function and will be removed in a future version. Please adapt your code to use either `displot` (a figure-level function with similar flexibility) or `kdeplot` (an axes-level function for kernel density plots).\n",
      "  warnings.warn(msg, FutureWarning)\n"
     ]
    },
    {
     "data": {
      "text/plain": [
       "<AxesSubplot:ylabel='Density'>"
      ]
     },
     "execution_count": 81,
     "metadata": {},
     "output_type": "execute_result"
    },
    {
     "data": {
      "image/png": "[encoded data removed]",
      "text/plain": [
       "<Figure size 432x288 with 1 Axes>"
      ]
     },
     "metadata": {
      "needs_background": "light"
     },
     "output_type": "display_data"
    }
   ],
   "source": [
    "#Other apps\n",
    "sns.distplot(x= app_traffic['Other Apps'], hist=False)"
   ]
  },
  {
   "cell_type": "code",
   "execution_count": 82,
   "id": "091ab131-eb20-42e8-9277-099d4c41ebb4",
   "metadata": {},
   "outputs": [
    {
     "name": "stderr",
     "output_type": "stream",
     "text": [
      "C:\\Users\\User\\anaconda3\\envs\\envMysql\\lib\\site-packages\\seaborn\\distributions.py:2619: FutureWarning: `distplot` is a deprecated function and will be removed in a future version. Please adapt your code to use either `displot` (a figure-level function with similar flexibility) or `kdeplot` (an axes-level function for kernel density plots).\n",
      "  warnings.warn(msg, FutureWarning)\n"
     ]
    },
    {
     "data": {
      "text/plain": [
       "<AxesSubplot:ylabel='Density'>"
      ]
     },
     "execution_count": 82,
     "metadata": {},
     "output_type": "execute_result"
    },
    {
     "data": {
      "image/png": "[encoded data removed]",
      "text/plain": [
       "<Figure size 432x288 with 1 Axes>"
      ]
     },
     "metadata": {
      "needs_background": "light"
     },
     "output_type": "display_data"
    }
   ],
   "source": [
    "#Youtube\n",
    "sns.distplot(x= app_traffic['Youtube'], hist=False)"
   ]
  },
  {
   "cell_type": "markdown",
   "id": "af2244d7-d915-4d7b-ab16-9a9181d56ba2",
   "metadata": {},
   "source": [
    "#### K-means clustering using Elbow method"
   ]
  },
  {
   "cell_type": "code",
   "execution_count": 93,
   "id": "990edf3f-0dcb-4725-ac13-bc36d8db478d",
   "metadata": {},
   "outputs": [],
   "source": [
    "X =app_traffic\n",
    "\n",
    "distortions = []\n",
    "inertias = []\n",
    "mapping1 = {}\n",
    "mapping2 = {}\n",
    "K = range(1, 10)\n",
    " \n",
    "for k in K:\n",
    "    # Building and fitting the model\n",
    "    kmeanModel = KMeans(n_clusters=k).fit(X)\n",
    "    kmeanModel.fit(X)\n",
    " \n",
    "    distortions.append(sum(np.min(cdist(X, kmeanModel.cluster_centers_,\n",
    "                                        'euclidean'), axis=1)) / X.shape[0])\n",
    "    inertias.append(kmeanModel.inertia_)\n",
    " \n",
    "    mapping1[k] = sum(np.min(cdist(X, kmeanModel.cluster_centers_,\n",
    "                                   'euclidean'), axis=1)) / X.shape[0]\n",
    "    mapping2[k] = kmeanModel.inertia_"
   ]
  },
  {
   "cell_type": "code",
   "execution_count": 94,
   "id": "a0395fb8-6ed2-44a6-a390-ea6055179de8",
   "metadata": {},
   "outputs": [
    {
     "name": "stdout",
     "output_type": "stream",
     "text": [
      "1 : 23006396690.765163\n",
      "2 : 6455507894.366018\n",
      "3 : 529441348.9519714\n",
      "4 : 498246068.2849819\n",
      "5 : 391734372.28454727\n",
      "6 : 351838877.6329093\n",
      "7 : 304204486.5625449\n",
      "8 : 263890976.71069837\n",
      "9 : 237649721.38604733\n"
     ]
    }
   ],
   "source": [
    "for key, val in mapping1.items():\n",
    "    print(f'{key} : {val}')"
   ]
  },
  {
   "cell_type": "code",
   "execution_count": 95,
   "id": "0929a738-2d9d-4c56-8b3d-2adb1767c8dc",
   "metadata": {},
   "outputs": [
    {
     "data": {
      "image/png": "[encoded data removed]",
      "text/plain": [
       "<Figure size 432x288 with 1 Axes>"
      ]
     },
     "metadata": {
      "needs_background": "light"
     },
     "output_type": "display_data"
    }
   ],
   "source": [
    "plt.plot(K, distortions, 'bx-')\n",
    "plt.xlabel('Values of K')\n",
    "plt.ylabel('Distortion')\n",
    "plt.title('K-Means Clustering Using The Elbow Method')\n",
    "plt.show()"
   ]
  },
  {
   "cell_type": "code",
   "execution_count": 96,
   "id": "f05bc8de-b965-4740-9205-dc1ffb9e7ad2",
   "metadata": {},
   "outputs": [
    {
     "name": "stdout",
     "output_type": "stream",
     "text": [
      "1 : 8.921075576421535e+29\n",
      "2 : 1.1355529192154474e+29\n",
      "3 : 1.0049946595458316e+25\n",
      "4 : 4.327813121349534e+22\n",
      "5 : 2.2817655842843165e+22\n",
      "6 : 1.7341199007523839e+22\n",
      "7 : 1.3571204915627181e+22\n",
      "8 : 1.0840654831020705e+22\n",
      "9 : 9.370287436316195e+21\n"
     ]
    }
   ],
   "source": [
    "for key, val in mapping2.items():\n",
    "    print(f'{key} : {val}')"
   ]
  },
  {
   "cell_type": "code",
   "execution_count": 97,
   "id": "442d9e2d-1c6a-4ea3-be87-028d9f41931f",
   "metadata": {},
   "outputs": [
    {
     "data": {
      "image/png": "[encoded data removed]",
      "text/plain": [
       "<Figure size 432x288 with 1 Axes>"
      ]
     },
     "metadata": {
      "needs_background": "light"
     },
     "output_type": "display_data"
    }
   ],
   "source": [
    "plt.plot(K, inertias, 'bx-')\n",
    "plt.xlabel('Values of K')\n",
    "plt.ylabel('Inertia')\n",
    "plt.title('The Elbow Method using Inertia')\n",
    "plt.show()"
   ]
  },
  {
   "cell_type": "code",
   "execution_count": 99,
   "id": "d3cd13f2-e87b-4735-8bac-e1558bf7a6a7",
   "metadata": {},
   "outputs": [
    {
     "data": {
      "text/plain": [
       "array([0, 0, 0, ..., 0, 2, 1])"
      ]
     },
     "execution_count": 99,
     "metadata": {},
     "output_type": "execute_result"
    }
   ],
   "source": [
    "\n",
    "kmeans = KMeans(n_clusters=3, random_state=0).fit(app_traffic)\n",
    "kmeans.labels_\n"
   ]
  },
  {
   "cell_type": "code",
   "execution_count": 102,
   "id": "0858b466-e221-4db0-923e-ed6f5af4f919",
   "metadata": {},
   "outputs": [
    {
     "data": {
      "text/html": [
       "<div>\n",
       "<style scoped>\n",
       "    .dataframe tbody tr th:only-of-type {\n",
       "        vertical-align: middle;\n",
       "    }\n",
       "\n",
       "    .dataframe tbody tr th {\n",
       "        vertical-align: top;\n",
       "    }\n",
       "\n",
       "    .dataframe thead th {\n",
       "        text-align: right;\n",
       "    }\n",
       "</style>\n",
       "<table border=\"1\" class=\"dataframe\">\n",
       "  <thead>\n",
       "    <tr style=\"text-align: right;\">\n",
       "      <th></th>\n",
       "      <th>MSISDN/Number</th>\n",
       "      <th>Social media</th>\n",
       "      <th>Google</th>\n",
       "      <th>Email</th>\n",
       "      <th>Youtube</th>\n",
       "      <th>Netflix</th>\n",
       "      <th>Gaming</th>\n",
       "      <th>Other Apps</th>\n",
       "      <th>Cluster</th>\n",
       "    </tr>\n",
       "  </thead>\n",
       "  <tbody>\n",
       "    <tr>\n",
       "      <th>0</th>\n",
       "      <td>3.360100e+10</td>\n",
       "      <td>2232135.0</td>\n",
       "      <td>4389005.0</td>\n",
       "      <td>1331362.0</td>\n",
       "      <td>21624548.0</td>\n",
       "      <td>27180981.0</td>\n",
       "      <td>8.124587e+08</td>\n",
       "      <td>386570872.0</td>\n",
       "      <td>1</td>\n",
       "    </tr>\n",
       "    <tr>\n",
       "      <th>1</th>\n",
       "      <td>3.360100e+10</td>\n",
       "      <td>2660565.0</td>\n",
       "      <td>5334863.0</td>\n",
       "      <td>3307781.0</td>\n",
       "      <td>12432223.0</td>\n",
       "      <td>11221763.0</td>\n",
       "      <td>1.197501e+08</td>\n",
       "      <td>281710071.0</td>\n",
       "      <td>1</td>\n",
       "    </tr>\n",
       "    <tr>\n",
       "      <th>2</th>\n",
       "      <td>3.360100e+10</td>\n",
       "      <td>3195623.0</td>\n",
       "      <td>3443126.0</td>\n",
       "      <td>3205380.0</td>\n",
       "      <td>21333570.0</td>\n",
       "      <td>19353900.0</td>\n",
       "      <td>5.388277e+08</td>\n",
       "      <td>501693672.0</td>\n",
       "      <td>1</td>\n",
       "    </tr>\n",
       "    <tr>\n",
       "      <th>3</th>\n",
       "      <td>3.360101e+10</td>\n",
       "      <td>280294.0</td>\n",
       "      <td>9678493.0</td>\n",
       "      <td>2284670.0</td>\n",
       "      <td>6977321.0</td>\n",
       "      <td>1942092.0</td>\n",
       "      <td>3.911261e+08</td>\n",
       "      <td>35279702.0</td>\n",
       "      <td>1</td>\n",
       "    </tr>\n",
       "    <tr>\n",
       "      <th>4</th>\n",
       "      <td>3.360101e+10</td>\n",
       "      <td>2912542.0</td>\n",
       "      <td>18499616.0</td>\n",
       "      <td>3305469.0</td>\n",
       "      <td>41533002.0</td>\n",
       "      <td>49201724.0</td>\n",
       "      <td>1.314798e+09</td>\n",
       "      <td>804804484.0</td>\n",
       "      <td>0</td>\n",
       "    </tr>\n",
       "  </tbody>\n",
       "</table>\n",
       "</div>"
      ],
      "text/plain": [
       "   MSISDN/Number  Social media      Google      Email     Youtube     Netflix  \\\n",
       "0   3.360100e+10     2232135.0   4389005.0  1331362.0  21624548.0  27180981.0   \n",
       "1   3.360100e+10     2660565.0   5334863.0  3307781.0  12432223.0  11221763.0   \n",
       "2   3.360100e+10     3195623.0   3443126.0  3205380.0  21333570.0  19353900.0   \n",
       "3   3.360101e+10      280294.0   9678493.0  2284670.0   6977321.0   1942092.0   \n",
       "4   3.360101e+10     2912542.0  18499616.0  3305469.0  41533002.0  49201724.0   \n",
       "\n",
       "         Gaming   Other Apps  Cluster  \n",
       "0  8.124587e+08  386570872.0        1  \n",
       "1  1.197501e+08  281710071.0        1  \n",
       "2  5.388277e+08  501693672.0        1  \n",
       "3  3.911261e+08   35279702.0        1  \n",
       "4  1.314798e+09  804804484.0        0  "
      ]
     },
     "execution_count": 102,
     "metadata": {},
     "output_type": "execute_result"
    }
   ],
   "source": [
    "X, _ = make_blobs(n_samples=10, centers=3, n_features=3)\n",
    "\n",
    "kmeans = KMeans(n_clusters=3)\n",
    "y = kmeans.fit_predict(app_traffic[['Gaming','Other Apps','Youtube']])\n",
    "\n",
    "app_traffic['Cluster'] = y\n",
    "\n",
    "app_traffic.head()"
   ]
  },
  {
   "cell_type": "code",
   "execution_count": 104,
   "id": "4548219f-33f3-4941-b63b-76ecbd9a422f",
   "metadata": {},
   "outputs": [
    {
     "data": {
      "image/png": "[encoded data removed]",
      "text/plain": [
       "<Figure size 432x288 with 1 Axes>"
      ]
     },
     "metadata": {
      "needs_background": "light"
     },
     "output_type": "display_data"
    }
   ],
   "source": [
    "### Run PCA to reduce the dimensions in pca_num_components dimensions\n",
    "pca_num_components = 2\n",
    "reduced_data = PCA(n_components=pca_num_components).fit_transform(app_traffic)\n",
    "results = pd.DataFrame(reduced_data,columns=['pca1','pca2'])\n",
    "\n",
    "sns.scatterplot(x=\"pca1\", y=\"pca2\", hue=app_traffic['Cluster'], data=results)\n",
    "plt.title('K-means Clustering with 2 dimensions')\n",
    "plt.show()"
   ]
  },
  {
   "cell_type": "code",
   "execution_count": 105,
   "id": "64cdf1ff-112b-45a6-96a3-153bbf20b70d",
   "metadata": {
    "collapsed": true,
    "jupyter": {
     "outputs_hidden": true
    },
    "tags": []
   },
   "outputs": [
    {
     "ename": "AttributeError",
     "evalue": "'numpy.ndarray' object has no attribute 'sample'",
     "output_type": "error",
     "traceback": [
      "\u001b[1;31m---------------------------------------------------------------------------\u001b[0m",
      "\u001b[1;31mAttributeError\u001b[0m                            Traceback (most recent call last)",
      "\u001b[1;32m<ipython-input-105-9cfd294bd57e>\u001b[0m in \u001b[0;36m<module>\u001b[1;34m\u001b[0m\n\u001b[0;32m      1\u001b[0m \u001b[0mK\u001b[0m\u001b[1;33m=\u001b[0m\u001b[1;36m3\u001b[0m\u001b[1;33m\u001b[0m\u001b[1;33m\u001b[0m\u001b[0m\n\u001b[0;32m      2\u001b[0m \u001b[1;31m# Select random observation as centroids\u001b[0m\u001b[1;33m\u001b[0m\u001b[1;33m\u001b[0m\u001b[1;33m\u001b[0m\u001b[0m\n\u001b[1;32m----> 3\u001b[1;33m \u001b[0mCentroids\u001b[0m \u001b[1;33m=\u001b[0m \u001b[1;33m(\u001b[0m\u001b[0mX\u001b[0m\u001b[1;33m.\u001b[0m\u001b[0msample\u001b[0m\u001b[1;33m(\u001b[0m\u001b[0mn\u001b[0m\u001b[1;33m=\u001b[0m\u001b[0mK\u001b[0m\u001b[1;33m)\u001b[0m\u001b[1;33m)\u001b[0m\u001b[1;33m\u001b[0m\u001b[1;33m\u001b[0m\u001b[0m\n\u001b[0m\u001b[0;32m      4\u001b[0m \u001b[0mplt\u001b[0m\u001b[1;33m.\u001b[0m\u001b[0mscatter\u001b[0m\u001b[1;33m(\u001b[0m\u001b[0mX\u001b[0m\u001b[1;33m[\u001b[0m\u001b[1;34m'Gaming'\u001b[0m\u001b[1;33m]\u001b[0m\u001b[1;33m,\u001b[0m\u001b[0mX\u001b[0m\u001b[1;33m[\u001b[0m\u001b[1;34m'Other Apps'\u001b[0m\u001b[1;33m]\u001b[0m\u001b[1;33m,\u001b[0m\u001b[0mc\u001b[0m\u001b[1;33m=\u001b[0m\u001b[1;34m'black'\u001b[0m\u001b[1;33m)\u001b[0m\u001b[1;33m\u001b[0m\u001b[1;33m\u001b[0m\u001b[0m\n\u001b[0;32m      5\u001b[0m \u001b[0mplt\u001b[0m\u001b[1;33m.\u001b[0m\u001b[0mscatter\u001b[0m\u001b[1;33m(\u001b[0m\u001b[0mCentroids\u001b[0m\u001b[1;33m[\u001b[0m\u001b[1;34m'Gaming'\u001b[0m\u001b[1;33m]\u001b[0m\u001b[1;33m,\u001b[0m\u001b[0mCentroids\u001b[0m\u001b[1;33m[\u001b[0m\u001b[1;34m'Other'\u001b[0m\u001b[1;33m]\u001b[0m\u001b[1;33m,\u001b[0m\u001b[0mCentroids\u001b[0m\u001b[1;33m[\u001b[0m\u001b[1;34m'Youtube'\u001b[0m\u001b[1;33m]\u001b[0m\u001b[1;33m,\u001b[0m\u001b[0mc\u001b[0m\u001b[1;33m=\u001b[0m\u001b[1;34m'red'\u001b[0m\u001b[1;33m)\u001b[0m\u001b[1;33m\u001b[0m\u001b[1;33m\u001b[0m\u001b[0m\n",
      "\u001b[1;31mAttributeError\u001b[0m: 'numpy.ndarray' object has no attribute 'sample'"
     ]
    }
   ],
   "source": [
    "K=3\n",
    "# Select random observation as centroids\n",
    "Centroids = (X.sample(n=K))\n",
    "plt.scatter(X['Gaming'],X['Other Apps'],c='black')\n",
    "plt.scatter(Centroids['Gaming'],Centroids['Other'],Centroids['Youtube'],c='red')\n",
    "plt.xlabel('Gaming Data Volumes')\n",
    "plt.ylabel('Other Apps Data Volumes')\n",
    "\n",
    "plt.show()"
   ]
  },
  {
   "cell_type": "markdown",
   "id": "57a98ad4-d75d-4172-9820-0493509b2fd4",
   "metadata": {},
   "source": [
    "## 3. User Experience Analysis\n",
    "We analyze user experience by looking at the TCP and RTT parameters\n",
    "#### Aggregate users based on experience parameters (Average TCP Retransmission rates, Average RTT, Average Throughput)"
   ]
  },
  {
   "cell_type": "code",
   "execution_count": 108,
   "id": "17220c8a-1ea2-46e4-a455-fe318e1404aa",
   "metadata": {},
   "outputs": [
    {
     "data": {
      "text/html": [
       "<div>\n",
       "<style scoped>\n",
       "    .dataframe tbody tr th:only-of-type {\n",
       "        vertical-align: middle;\n",
       "    }\n",
       "\n",
       "    .dataframe tbody tr th {\n",
       "        vertical-align: top;\n",
       "    }\n",
       "\n",
       "    .dataframe thead th {\n",
       "        text-align: right;\n",
       "    }\n",
       "</style>\n",
       "<table border=\"1\" class=\"dataframe\">\n",
       "  <thead>\n",
       "    <tr style=\"text-align: right;\">\n",
       "      <th></th>\n",
       "      <th>MSISDN/Number</th>\n",
       "      <th>Handset Type</th>\n",
       "      <th>TCP DL Retrans. Vol (Bytes)</th>\n",
       "      <th>TCP UL Retrans. Vol (Bytes)</th>\n",
       "      <th>Avg RTT UL (ms)</th>\n",
       "      <th>Avg RTT DL (ms)</th>\n",
       "      <th>Avg Bearer TP DL (kbps)</th>\n",
       "      <th>Avg Bearer TP UL (kbps)</th>\n",
       "    </tr>\n",
       "  </thead>\n",
       "  <tbody>\n",
       "    <tr>\n",
       "      <th>0</th>\n",
       "      <td>3.360100e+10</td>\n",
       "      <td>Huawei P20 Lite Huawei Nova 3E</td>\n",
       "      <td>1330.0</td>\n",
       "      <td>1330.0</td>\n",
       "      <td>0.0</td>\n",
       "      <td>46.0</td>\n",
       "      <td>37.0</td>\n",
       "      <td>39.0</td>\n",
       "    </tr>\n",
       "    <tr>\n",
       "      <th>1</th>\n",
       "      <td>3.360100e+10</td>\n",
       "      <td>Apple iPhone 7 (A1778)</td>\n",
       "      <td>1330.0</td>\n",
       "      <td>1330.0</td>\n",
       "      <td>1.0</td>\n",
       "      <td>30.0</td>\n",
       "      <td>48.0</td>\n",
       "      <td>51.0</td>\n",
       "    </tr>\n",
       "    <tr>\n",
       "      <th>2</th>\n",
       "      <td>3.360100e+10</td>\n",
       "      <td>undefined</td>\n",
       "      <td>1330.0</td>\n",
       "      <td>1330.0</td>\n",
       "      <td>5.0</td>\n",
       "      <td>28.0</td>\n",
       "      <td>48.0</td>\n",
       "      <td>49.0</td>\n",
       "    </tr>\n",
       "    <tr>\n",
       "      <th>3</th>\n",
       "      <td>3.360101e+10</td>\n",
       "      <td>Apple iPhone 5S (A1457)</td>\n",
       "      <td>1066.0</td>\n",
       "      <td>1330.0</td>\n",
       "      <td>15.0</td>\n",
       "      <td>69.0</td>\n",
       "      <td>204.0</td>\n",
       "      <td>44.0</td>\n",
       "    </tr>\n",
       "    <tr>\n",
       "      <th>4</th>\n",
       "      <td>3.360101e+10</td>\n",
       "      <td>Apple iPhone Se (A1723)</td>\n",
       "      <td>9350960.0</td>\n",
       "      <td>22532.0</td>\n",
       "      <td>5.0</td>\n",
       "      <td>114.0</td>\n",
       "      <td>40395.0</td>\n",
       "      <td>16449.0</td>\n",
       "    </tr>\n",
       "  </tbody>\n",
       "</table>\n",
       "</div>"
      ],
      "text/plain": [
       "   MSISDN/Number                    Handset Type  TCP DL Retrans. Vol (Bytes)  \\\n",
       "0   3.360100e+10  Huawei P20 Lite Huawei Nova 3E                       1330.0   \n",
       "1   3.360100e+10          Apple iPhone 7 (A1778)                       1330.0   \n",
       "2   3.360100e+10                       undefined                       1330.0   \n",
       "3   3.360101e+10         Apple iPhone 5S (A1457)                       1066.0   \n",
       "4   3.360101e+10         Apple iPhone Se (A1723)                    9350960.0   \n",
       "\n",
       "   TCP UL Retrans. Vol (Bytes)  Avg RTT UL (ms)  Avg RTT DL (ms)  \\\n",
       "0                       1330.0              0.0             46.0   \n",
       "1                       1330.0              1.0             30.0   \n",
       "2                       1330.0              5.0             28.0   \n",
       "3                       1330.0             15.0             69.0   \n",
       "4                      22532.0              5.0            114.0   \n",
       "\n",
       "   Avg Bearer TP DL (kbps)  Avg Bearer TP UL (kbps)  \n",
       "0                     37.0                     39.0  \n",
       "1                     48.0                     51.0  \n",
       "2                     48.0                     49.0  \n",
       "3                    204.0                     44.0  \n",
       "4                  40395.0                  16449.0  "
      ]
     },
     "execution_count": 108,
     "metadata": {},
     "output_type": "execute_result"
    }
   ],
   "source": [
    "user_experience= telco_clean.groupby(['MSISDN/Number', 'Handset Type']).aggregate({'TCP DL Retrans. Vol (Bytes)': 'sum', \n",
    "                                                            'TCP UL Retrans. Vol (Bytes)': 'sum',\n",
    "                                                            'Avg RTT UL (ms)':'sum',\n",
    "                                                            'Avg RTT DL (ms)' :'sum',\n",
    "                                                            'Avg Bearer TP DL (kbps)':'sum',\n",
    "                                                            'Avg Bearer TP UL (kbps)':'sum',\n",
    "                                                             }).reset_index()\n",
    "user_experience.head()"
   ]
  },
  {
   "cell_type": "code",
   "execution_count": 109,
   "id": "7d6b7cb8-0dbb-4570-87c5-7e5270c45088",
   "metadata": {},
   "outputs": [
    {
     "data": {
      "text/html": [
       "<div>\n",
       "<style scoped>\n",
       "    .dataframe tbody tr th:only-of-type {\n",
       "        vertical-align: middle;\n",
       "    }\n",
       "\n",
       "    .dataframe tbody tr th {\n",
       "        vertical-align: top;\n",
       "    }\n",
       "\n",
       "    .dataframe thead th {\n",
       "        text-align: right;\n",
       "    }\n",
       "</style>\n",
       "<table border=\"1\" class=\"dataframe\">\n",
       "  <thead>\n",
       "    <tr style=\"text-align: right;\">\n",
       "      <th></th>\n",
       "      <th>MSISDN/Number</th>\n",
       "      <th>Handset Type</th>\n",
       "      <th>Average TCP retransmission</th>\n",
       "      <th>Average RTT</th>\n",
       "      <th>Average throughput</th>\n",
       "    </tr>\n",
       "  </thead>\n",
       "  <tbody>\n",
       "    <tr>\n",
       "      <th>0</th>\n",
       "      <td>3.360100e+10</td>\n",
       "      <td>Huawei P20 Lite Huawei Nova 3E</td>\n",
       "      <td>2660.0</td>\n",
       "      <td>46.0</td>\n",
       "      <td>76.0</td>\n",
       "    </tr>\n",
       "    <tr>\n",
       "      <th>1</th>\n",
       "      <td>3.360100e+10</td>\n",
       "      <td>Apple iPhone 7 (A1778)</td>\n",
       "      <td>2660.0</td>\n",
       "      <td>31.0</td>\n",
       "      <td>99.0</td>\n",
       "    </tr>\n",
       "    <tr>\n",
       "      <th>2</th>\n",
       "      <td>3.360100e+10</td>\n",
       "      <td>undefined</td>\n",
       "      <td>2660.0</td>\n",
       "      <td>33.0</td>\n",
       "      <td>97.0</td>\n",
       "    </tr>\n",
       "    <tr>\n",
       "      <th>3</th>\n",
       "      <td>3.360101e+10</td>\n",
       "      <td>Apple iPhone 5S (A1457)</td>\n",
       "      <td>2396.0</td>\n",
       "      <td>84.0</td>\n",
       "      <td>248.0</td>\n",
       "    </tr>\n",
       "    <tr>\n",
       "      <th>4</th>\n",
       "      <td>3.360101e+10</td>\n",
       "      <td>Apple iPhone Se (A1723)</td>\n",
       "      <td>9373492.0</td>\n",
       "      <td>119.0</td>\n",
       "      <td>56844.0</td>\n",
       "    </tr>\n",
       "  </tbody>\n",
       "</table>\n",
       "</div>"
      ],
      "text/plain": [
       "   MSISDN/Number                    Handset Type  Average TCP retransmission  \\\n",
       "0   3.360100e+10  Huawei P20 Lite Huawei Nova 3E                      2660.0   \n",
       "1   3.360100e+10          Apple iPhone 7 (A1778)                      2660.0   \n",
       "2   3.360100e+10                       undefined                      2660.0   \n",
       "3   3.360101e+10         Apple iPhone 5S (A1457)                      2396.0   \n",
       "4   3.360101e+10         Apple iPhone Se (A1723)                   9373492.0   \n",
       "\n",
       "   Average RTT  Average throughput  \n",
       "0         46.0                76.0  \n",
       "1         31.0                99.0  \n",
       "2         33.0                97.0  \n",
       "3         84.0               248.0  \n",
       "4        119.0             56844.0  "
      ]
     },
     "execution_count": 109,
     "metadata": {},
     "output_type": "execute_result"
    }
   ],
   "source": [
    "#creating a dict with columns to be combined\n",
    "columns = {'Average TCP retransmission':['TCP DL Retrans. Vol (Bytes)','TCP UL Retrans. Vol (Bytes)'],\n",
    "           'Average RTT':['Avg RTT UL (ms)', 'Avg RTT DL (ms)'],\n",
    "           'Average throughput':['Avg Bearer TP DL (kbps)', 'Avg Bearer TP UL (kbps)']\n",
    "          }\n",
    "user_experience= combineColumns(user_experience, columns)\n",
    "user_experience.head()"
   ]
  },
  {
   "cell_type": "markdown",
   "id": "1d629602-5320-48fb-b0e8-05576cfe170f",
   "metadata": {},
   "source": [
    "#### Perform descriptive statistics on user experience parameters"
   ]
  },
  {
   "cell_type": "code",
   "execution_count": 111,
   "id": "af13245d-4681-4cbb-b585-e05d9aa522b8",
   "metadata": {},
   "outputs": [
    {
     "data": {
      "text/html": [
       "<div>\n",
       "<style scoped>\n",
       "    .dataframe tbody tr th:only-of-type {\n",
       "        vertical-align: middle;\n",
       "    }\n",
       "\n",
       "    .dataframe tbody tr th {\n",
       "        vertical-align: top;\n",
       "    }\n",
       "\n",
       "    .dataframe thead th {\n",
       "        text-align: right;\n",
       "    }\n",
       "</style>\n",
       "<table border=\"1\" class=\"dataframe\">\n",
       "  <thead>\n",
       "    <tr style=\"text-align: right;\">\n",
       "      <th></th>\n",
       "      <th>Average TCP retransmission</th>\n",
       "      <th>Average RTT</th>\n",
       "      <th>Average throughput</th>\n",
       "    </tr>\n",
       "  </thead>\n",
       "  <tbody>\n",
       "    <tr>\n",
       "      <th>count</th>\n",
       "      <td>1.063580e+05</td>\n",
       "      <td>106358.000000</td>\n",
       "      <td>106358.000000</td>\n",
       "    </tr>\n",
       "    <tr>\n",
       "      <th>mean</th>\n",
       "      <td>1.237751e+07</td>\n",
       "      <td>148.878796</td>\n",
       "      <td>21008.074146</td>\n",
       "    </tr>\n",
       "    <tr>\n",
       "      <th>std</th>\n",
       "      <td>1.542268e+08</td>\n",
       "      <td>661.826364</td>\n",
       "      <td>42498.384338</td>\n",
       "    </tr>\n",
       "    <tr>\n",
       "      <th>min</th>\n",
       "      <td>9.700000e+01</td>\n",
       "      <td>0.000000</td>\n",
       "      <td>0.000000</td>\n",
       "    </tr>\n",
       "    <tr>\n",
       "      <th>25%</th>\n",
       "      <td>2.660000e+03</td>\n",
       "      <td>33.000000</td>\n",
       "      <td>97.000000</td>\n",
       "    </tr>\n",
       "    <tr>\n",
       "      <th>50%</th>\n",
       "      <td>5.320000e+03</td>\n",
       "      <td>60.000000</td>\n",
       "      <td>290.000000</td>\n",
       "    </tr>\n",
       "    <tr>\n",
       "      <th>75%</th>\n",
       "      <td>3.215252e+05</td>\n",
       "      <td>113.000000</td>\n",
       "      <td>26530.000000</td>\n",
       "    </tr>\n",
       "    <tr>\n",
       "      <th>max</th>\n",
       "      <td>8.354209e+09</td>\n",
       "      <td>96924.000000</td>\n",
       "      <td>902222.000000</td>\n",
       "    </tr>\n",
       "  </tbody>\n",
       "</table>\n",
       "</div>"
      ],
      "text/plain": [
       "       Average TCP retransmission    Average RTT  Average throughput\n",
       "count                1.063580e+05  106358.000000       106358.000000\n",
       "mean                 1.237751e+07     148.878796        21008.074146\n",
       "std                  1.542268e+08     661.826364        42498.384338\n",
       "min                  9.700000e+01       0.000000            0.000000\n",
       "25%                  2.660000e+03      33.000000           97.000000\n",
       "50%                  5.320000e+03      60.000000          290.000000\n",
       "75%                  3.215252e+05     113.000000        26530.000000\n",
       "max                  8.354209e+09   96924.000000       902222.000000"
      ]
     },
     "execution_count": 111,
     "metadata": {},
     "output_type": "execute_result"
    }
   ],
   "source": [
    "user_experience[['Average TCP retransmission', 'Average RTT', 'Average throughput']].describe()"
   ]
  },
  {
   "cell_type": "markdown",
   "id": "a9b66570-6312-426b-b107-257afce1f4b5",
   "metadata": {},
   "source": [
    "##### Average TCP Retransmission Values Analysis\n",
    "Top 10 average retransmission values"
   ]
  },
  {
   "cell_type": "code",
   "execution_count": 114,
   "id": "a31a3545-0527-4ef1-a90d-d0725bdfbf44",
   "metadata": {},
   "outputs": [
    {
     "data": {
      "text/html": [
       "<div>\n",
       "<style scoped>\n",
       "    .dataframe tbody tr th:only-of-type {\n",
       "        vertical-align: middle;\n",
       "    }\n",
       "\n",
       "    .dataframe tbody tr th {\n",
       "        vertical-align: top;\n",
       "    }\n",
       "\n",
       "    .dataframe thead th {\n",
       "        text-align: right;\n",
       "    }\n",
       "</style>\n",
       "<table border=\"1\" class=\"dataframe\">\n",
       "  <thead>\n",
       "    <tr style=\"text-align: right;\">\n",
       "      <th></th>\n",
       "      <th>MSISDN/Number</th>\n",
       "      <th>Handset Type</th>\n",
       "      <th>Average TCP retransmission</th>\n",
       "    </tr>\n",
       "  </thead>\n",
       "  <tbody>\n",
       "    <tr>\n",
       "      <th>66556</th>\n",
       "      <td>3.366773e+10</td>\n",
       "      <td>Huawei B528S-23A</td>\n",
       "      <td>8.354209e+09</td>\n",
       "    </tr>\n",
       "    <tr>\n",
       "      <th>33952</th>\n",
       "      <td>3.365908e+10</td>\n",
       "      <td>Huawei B528S-23A</td>\n",
       "      <td>7.941860e+09</td>\n",
       "    </tr>\n",
       "    <tr>\n",
       "      <th>42168</th>\n",
       "      <td>3.366098e+10</td>\n",
       "      <td>Huawei B528S-23A</td>\n",
       "      <td>7.374140e+09</td>\n",
       "    </tr>\n",
       "    <tr>\n",
       "      <th>94240</th>\n",
       "      <td>3.376128e+10</td>\n",
       "      <td>Huawei B528S-23A</td>\n",
       "      <td>6.043978e+09</td>\n",
       "    </tr>\n",
       "    <tr>\n",
       "      <th>97761</th>\n",
       "      <td>3.376264e+10</td>\n",
       "      <td>Huawei B528S-23A</td>\n",
       "      <td>5.879989e+09</td>\n",
       "    </tr>\n",
       "    <tr>\n",
       "      <th>25634</th>\n",
       "      <td>3.365066e+10</td>\n",
       "      <td>Huawei B528S-23A</td>\n",
       "      <td>5.593366e+09</td>\n",
       "    </tr>\n",
       "    <tr>\n",
       "      <th>51402</th>\n",
       "      <td>3.366318e+10</td>\n",
       "      <td>Huawei B528S-23A</td>\n",
       "      <td>5.566929e+09</td>\n",
       "    </tr>\n",
       "    <tr>\n",
       "      <th>99472</th>\n",
       "      <td>3.376357e+10</td>\n",
       "      <td>Huawei B528S-23A</td>\n",
       "      <td>5.179459e+09</td>\n",
       "    </tr>\n",
       "    <tr>\n",
       "      <th>70591</th>\n",
       "      <td>3.366905e+10</td>\n",
       "      <td>Huawei B528S-23A</td>\n",
       "      <td>5.174218e+09</td>\n",
       "    </tr>\n",
       "    <tr>\n",
       "      <th>31799</th>\n",
       "      <td>3.365864e+10</td>\n",
       "      <td>Huawei B528S-23A</td>\n",
       "      <td>5.165857e+09</td>\n",
       "    </tr>\n",
       "  </tbody>\n",
       "</table>\n",
       "</div>"
      ],
      "text/plain": [
       "       MSISDN/Number      Handset Type  Average TCP retransmission\n",
       "66556   3.366773e+10  Huawei B528S-23A                8.354209e+09\n",
       "33952   3.365908e+10  Huawei B528S-23A                7.941860e+09\n",
       "42168   3.366098e+10  Huawei B528S-23A                7.374140e+09\n",
       "94240   3.376128e+10  Huawei B528S-23A                6.043978e+09\n",
       "97761   3.376264e+10  Huawei B528S-23A                5.879989e+09\n",
       "25634   3.365066e+10  Huawei B528S-23A                5.593366e+09\n",
       "51402   3.366318e+10  Huawei B528S-23A                5.566929e+09\n",
       "99472   3.376357e+10  Huawei B528S-23A                5.179459e+09\n",
       "70591   3.366905e+10  Huawei B528S-23A                5.174218e+09\n",
       "31799   3.365864e+10  Huawei B528S-23A                5.165857e+09"
      ]
     },
     "execution_count": 114,
     "metadata": {},
     "output_type": "execute_result"
    }
   ],
   "source": [
    "user_experience[['MSISDN/Number', 'Handset Type', 'Average TCP retransmission']].sort_values(by='Average TCP retransmission', ascending=False).head(10)"
   ]
  },
  {
   "cell_type": "markdown",
   "id": "c741b7bc-4fa4-4b9f-9b17-b793c6676e2d",
   "metadata": {},
   "source": [
    "Bottom 10 Average retransmission values"
   ]
  },
  {
   "cell_type": "code",
   "execution_count": 115,
   "id": "10a21bb9-3bcc-4f3a-b9e9-fae59a1e0e3f",
   "metadata": {},
   "outputs": [
    {
     "data": {
      "text/html": [
       "<div>\n",
       "<style scoped>\n",
       "    .dataframe tbody tr th:only-of-type {\n",
       "        vertical-align: middle;\n",
       "    }\n",
       "\n",
       "    .dataframe tbody tr th {\n",
       "        vertical-align: top;\n",
       "    }\n",
       "\n",
       "    .dataframe thead th {\n",
       "        text-align: right;\n",
       "    }\n",
       "</style>\n",
       "<table border=\"1\" class=\"dataframe\">\n",
       "  <thead>\n",
       "    <tr style=\"text-align: right;\">\n",
       "      <th></th>\n",
       "      <th>MSISDN/Number</th>\n",
       "      <th>Handset Type</th>\n",
       "      <th>Average TCP retransmission</th>\n",
       "    </tr>\n",
       "  </thead>\n",
       "  <tbody>\n",
       "    <tr>\n",
       "      <th>23344</th>\n",
       "      <td>3.365013e+10</td>\n",
       "      <td>Apple iPhone 5S (A1457)</td>\n",
       "      <td>97.0</td>\n",
       "    </tr>\n",
       "    <tr>\n",
       "      <th>6317</th>\n",
       "      <td>3.361478e+10</td>\n",
       "      <td>Huawei Ascend Mate7</td>\n",
       "      <td>128.0</td>\n",
       "    </tr>\n",
       "    <tr>\n",
       "      <th>96527</th>\n",
       "      <td>3.376206e+10</td>\n",
       "      <td>Apple iPhone 8 (A1905)</td>\n",
       "      <td>129.0</td>\n",
       "    </tr>\n",
       "    <tr>\n",
       "      <th>13472</th>\n",
       "      <td>3.362636e+10</td>\n",
       "      <td>Apple iPhone 7 (A1778)</td>\n",
       "      <td>134.0</td>\n",
       "    </tr>\n",
       "    <tr>\n",
       "      <th>2160</th>\n",
       "      <td>3.360783e+10</td>\n",
       "      <td>Apple iPhone 5C (A1529)</td>\n",
       "      <td>143.0</td>\n",
       "    </tr>\n",
       "    <tr>\n",
       "      <th>25723</th>\n",
       "      <td>3.365068e+10</td>\n",
       "      <td>Xiaomi Communica. Mi Max3</td>\n",
       "      <td>176.0</td>\n",
       "    </tr>\n",
       "    <tr>\n",
       "      <th>101734</th>\n",
       "      <td>3.376964e+10</td>\n",
       "      <td>Apple iPhone 5S (A1457)</td>\n",
       "      <td>176.0</td>\n",
       "    </tr>\n",
       "    <tr>\n",
       "      <th>105288</th>\n",
       "      <td>3.378420e+10</td>\n",
       "      <td>Apple iPhone Xr (A2108)</td>\n",
       "      <td>177.0</td>\n",
       "    </tr>\n",
       "    <tr>\n",
       "      <th>77732</th>\n",
       "      <td>3.367937e+10</td>\n",
       "      <td>Samsung Galaxy S6 Plus (Sm-G928)</td>\n",
       "      <td>179.0</td>\n",
       "    </tr>\n",
       "    <tr>\n",
       "      <th>88981</th>\n",
       "      <td>3.369969e+10</td>\n",
       "      <td>Samsung Galaxy Trend Lite 2 (Sm-G318X)</td>\n",
       "      <td>182.0</td>\n",
       "    </tr>\n",
       "  </tbody>\n",
       "</table>\n",
       "</div>"
      ],
      "text/plain": [
       "        MSISDN/Number                            Handset Type  \\\n",
       "23344    3.365013e+10                 Apple iPhone 5S (A1457)   \n",
       "6317     3.361478e+10                     Huawei Ascend Mate7   \n",
       "96527    3.376206e+10                  Apple iPhone 8 (A1905)   \n",
       "13472    3.362636e+10                  Apple iPhone 7 (A1778)   \n",
       "2160     3.360783e+10                 Apple iPhone 5C (A1529)   \n",
       "25723    3.365068e+10               Xiaomi Communica. Mi Max3   \n",
       "101734   3.376964e+10                 Apple iPhone 5S (A1457)   \n",
       "105288   3.378420e+10                 Apple iPhone Xr (A2108)   \n",
       "77732    3.367937e+10        Samsung Galaxy S6 Plus (Sm-G928)   \n",
       "88981    3.369969e+10  Samsung Galaxy Trend Lite 2 (Sm-G318X)   \n",
       "\n",
       "        Average TCP retransmission  \n",
       "23344                         97.0  \n",
       "6317                         128.0  \n",
       "96527                        129.0  \n",
       "13472                        134.0  \n",
       "2160                         143.0  \n",
       "25723                        176.0  \n",
       "101734                       176.0  \n",
       "105288                       177.0  \n",
       "77732                        179.0  \n",
       "88981                        182.0  "
      ]
     },
     "execution_count": 115,
     "metadata": {},
     "output_type": "execute_result"
    }
   ],
   "source": [
    "user_experience[['MSISDN/Number', 'Handset Type', 'Average TCP retransmission']].sort_values(by='Average TCP retransmission').head(10)"
   ]
  },
  {
   "cell_type": "markdown",
   "id": "89202d48-1ada-48b3-8679-d6b1613f17fe",
   "metadata": {},
   "source": [
    "Most common average retransmission"
   ]
  },
  {
   "cell_type": "code",
   "execution_count": 117,
   "id": "a0beb6d6-c098-4424-8155-e234a3a575cd",
   "metadata": {},
   "outputs": [
    {
     "data": {
      "text/plain": [
       "0    2660.0\n",
       "dtype: float64"
      ]
     },
     "execution_count": 117,
     "metadata": {},
     "output_type": "execute_result"
    }
   ],
   "source": [
    "user_experience['Average TCP retransmission'].mode()"
   ]
  },
  {
   "cell_type": "markdown",
   "id": "228f79f6-c088-4fd6-b708-90c732dc3510",
   "metadata": {},
   "source": [
    "##### Average RTT Values Analysis"
   ]
  },
  {
   "cell_type": "markdown",
   "id": "3e0092ed-2518-4507-9a21-cb9dd5ad824e",
   "metadata": {},
   "source": [
    "Top 10 Average RTT Values"
   ]
  },
  {
   "cell_type": "code",
   "execution_count": 119,
   "id": "ccf11ea2-7461-4e31-b964-999d002fbcee",
   "metadata": {},
   "outputs": [
    {
     "data": {
      "text/html": [
       "<div>\n",
       "<style scoped>\n",
       "    .dataframe tbody tr th:only-of-type {\n",
       "        vertical-align: middle;\n",
       "    }\n",
       "\n",
       "    .dataframe tbody tr th {\n",
       "        vertical-align: top;\n",
       "    }\n",
       "\n",
       "    .dataframe thead th {\n",
       "        text-align: right;\n",
       "    }\n",
       "</style>\n",
       "<table border=\"1\" class=\"dataframe\">\n",
       "  <thead>\n",
       "    <tr style=\"text-align: right;\">\n",
       "      <th></th>\n",
       "      <th>MSISDN/Number</th>\n",
       "      <th>Handset Type</th>\n",
       "      <th>Average RTT</th>\n",
       "    </tr>\n",
       "  </thead>\n",
       "  <tbody>\n",
       "    <tr>\n",
       "      <th>47760</th>\n",
       "      <td>3.366232e+10</td>\n",
       "      <td>Apple iPhone 8 (A1905)</td>\n",
       "      <td>96924.0</td>\n",
       "    </tr>\n",
       "    <tr>\n",
       "      <th>41748</th>\n",
       "      <td>3.366087e+10</td>\n",
       "      <td>Apple iPhone 6 (A1586)</td>\n",
       "      <td>64670.0</td>\n",
       "    </tr>\n",
       "    <tr>\n",
       "      <th>79870</th>\n",
       "      <td>3.368369e+10</td>\n",
       "      <td>Lg Lg-D315</td>\n",
       "      <td>54848.0</td>\n",
       "    </tr>\n",
       "    <tr>\n",
       "      <th>85281</th>\n",
       "      <td>3.369855e+10</td>\n",
       "      <td>Huawei B528S-23A</td>\n",
       "      <td>46021.0</td>\n",
       "    </tr>\n",
       "    <tr>\n",
       "      <th>95968</th>\n",
       "      <td>3.376181e+10</td>\n",
       "      <td>Huawei B528S-23A</td>\n",
       "      <td>37084.0</td>\n",
       "    </tr>\n",
       "    <tr>\n",
       "      <th>69823</th>\n",
       "      <td>3.366879e+10</td>\n",
       "      <td>Huawei B528S-23A</td>\n",
       "      <td>36304.0</td>\n",
       "    </tr>\n",
       "    <tr>\n",
       "      <th>93409</th>\n",
       "      <td>3.376094e+10</td>\n",
       "      <td>Samsung Galaxy S7 Edge (Sm-G935X)</td>\n",
       "      <td>27278.0</td>\n",
       "    </tr>\n",
       "    <tr>\n",
       "      <th>1699</th>\n",
       "      <td>3.360679e+10</td>\n",
       "      <td>Samsung Galaxy S9 Plus (Sm-G965F)</td>\n",
       "      <td>26300.0</td>\n",
       "    </tr>\n",
       "    <tr>\n",
       "      <th>73900</th>\n",
       "      <td>3.367182e+10</td>\n",
       "      <td>Samsung Galaxy S6 Edge (Sm-G925X)</td>\n",
       "      <td>25715.0</td>\n",
       "    </tr>\n",
       "    <tr>\n",
       "      <th>103848</th>\n",
       "      <td>3.378187e+10</td>\n",
       "      <td>Apple iPhone 6S (A1688)</td>\n",
       "      <td>25388.0</td>\n",
       "    </tr>\n",
       "  </tbody>\n",
       "</table>\n",
       "</div>"
      ],
      "text/plain": [
       "        MSISDN/Number                       Handset Type  Average RTT\n",
       "47760    3.366232e+10             Apple iPhone 8 (A1905)      96924.0\n",
       "41748    3.366087e+10             Apple iPhone 6 (A1586)      64670.0\n",
       "79870    3.368369e+10                         Lg Lg-D315      54848.0\n",
       "85281    3.369855e+10                   Huawei B528S-23A      46021.0\n",
       "95968    3.376181e+10                   Huawei B528S-23A      37084.0\n",
       "69823    3.366879e+10                   Huawei B528S-23A      36304.0\n",
       "93409    3.376094e+10  Samsung Galaxy S7 Edge (Sm-G935X)      27278.0\n",
       "1699     3.360679e+10  Samsung Galaxy S9 Plus (Sm-G965F)      26300.0\n",
       "73900    3.367182e+10  Samsung Galaxy S6 Edge (Sm-G925X)      25715.0\n",
       "103848   3.378187e+10            Apple iPhone 6S (A1688)      25388.0"
      ]
     },
     "execution_count": 119,
     "metadata": {},
     "output_type": "execute_result"
    }
   ],
   "source": [
    "user_experience[['MSISDN/Number', 'Handset Type', 'Average RTT']].sort_values(by='Average RTT', ascending = False).head(10)"
   ]
  },
  {
   "cell_type": "markdown",
   "id": "8e6b7553-25a8-409f-9e74-c4c1edfd6af0",
   "metadata": {},
   "source": [
    "Bottom 10 Average RTT Values"
   ]
  },
  {
   "cell_type": "code",
   "execution_count": 120,
   "id": "71e1fd50-f8bf-4d33-9a54-b3f653bf5b75",
   "metadata": {},
   "outputs": [
    {
     "data": {
      "text/html": [
       "<div>\n",
       "<style scoped>\n",
       "    .dataframe tbody tr th:only-of-type {\n",
       "        vertical-align: middle;\n",
       "    }\n",
       "\n",
       "    .dataframe tbody tr th {\n",
       "        vertical-align: top;\n",
       "    }\n",
       "\n",
       "    .dataframe thead th {\n",
       "        text-align: right;\n",
       "    }\n",
       "</style>\n",
       "<table border=\"1\" class=\"dataframe\">\n",
       "  <thead>\n",
       "    <tr style=\"text-align: right;\">\n",
       "      <th></th>\n",
       "      <th>MSISDN/Number</th>\n",
       "      <th>Handset Type</th>\n",
       "      <th>Average RTT</th>\n",
       "    </tr>\n",
       "  </thead>\n",
       "  <tbody>\n",
       "    <tr>\n",
       "      <th>28729</th>\n",
       "      <td>3.365298e+10</td>\n",
       "      <td>Huawei P20 Pro</td>\n",
       "      <td>0.0</td>\n",
       "    </tr>\n",
       "    <tr>\n",
       "      <th>44537</th>\n",
       "      <td>3.366158e+10</td>\n",
       "      <td>Huawei Pct-L29</td>\n",
       "      <td>0.0</td>\n",
       "    </tr>\n",
       "    <tr>\n",
       "      <th>38879</th>\n",
       "      <td>3.366020e+10</td>\n",
       "      <td>Apple iPhone X (A1901)</td>\n",
       "      <td>2.0</td>\n",
       "    </tr>\n",
       "    <tr>\n",
       "      <th>83000</th>\n",
       "      <td>3.369505e+10</td>\n",
       "      <td>Huawei P20</td>\n",
       "      <td>4.0</td>\n",
       "    </tr>\n",
       "    <tr>\n",
       "      <th>35859</th>\n",
       "      <td>3.365949e+10</td>\n",
       "      <td>Apple iPhone 6S (A1688)</td>\n",
       "      <td>5.0</td>\n",
       "    </tr>\n",
       "    <tr>\n",
       "      <th>69345</th>\n",
       "      <td>3.366862e+10</td>\n",
       "      <td>Apple iPhone 6S (A1688)</td>\n",
       "      <td>6.0</td>\n",
       "    </tr>\n",
       "    <tr>\n",
       "      <th>21859</th>\n",
       "      <td>3.364768e+10</td>\n",
       "      <td>Huawei Honor View10</td>\n",
       "      <td>8.0</td>\n",
       "    </tr>\n",
       "    <tr>\n",
       "      <th>74094</th>\n",
       "      <td>3.367220e+10</td>\n",
       "      <td>Huawei P20 Lite Huawei Nova 3E</td>\n",
       "      <td>9.0</td>\n",
       "    </tr>\n",
       "    <tr>\n",
       "      <th>3858</th>\n",
       "      <td>3.361085e+10</td>\n",
       "      <td>Samsung Galaxy S6 Edge (Sm-G925X)</td>\n",
       "      <td>9.0</td>\n",
       "    </tr>\n",
       "    <tr>\n",
       "      <th>17769</th>\n",
       "      <td>3.363468e+10</td>\n",
       "      <td>Huawei P20 Lite Huawei Nova 3E</td>\n",
       "      <td>10.0</td>\n",
       "    </tr>\n",
       "  </tbody>\n",
       "</table>\n",
       "</div>"
      ],
      "text/plain": [
       "       MSISDN/Number                       Handset Type  Average RTT\n",
       "28729   3.365298e+10                     Huawei P20 Pro          0.0\n",
       "44537   3.366158e+10                     Huawei Pct-L29          0.0\n",
       "38879   3.366020e+10             Apple iPhone X (A1901)          2.0\n",
       "83000   3.369505e+10                         Huawei P20          4.0\n",
       "35859   3.365949e+10            Apple iPhone 6S (A1688)          5.0\n",
       "69345   3.366862e+10            Apple iPhone 6S (A1688)          6.0\n",
       "21859   3.364768e+10                Huawei Honor View10          8.0\n",
       "74094   3.367220e+10     Huawei P20 Lite Huawei Nova 3E          9.0\n",
       "3858    3.361085e+10  Samsung Galaxy S6 Edge (Sm-G925X)          9.0\n",
       "17769   3.363468e+10     Huawei P20 Lite Huawei Nova 3E         10.0"
      ]
     },
     "execution_count": 120,
     "metadata": {},
     "output_type": "execute_result"
    }
   ],
   "source": [
    "user_experience[['MSISDN/Number', 'Handset Type', 'Average RTT']].sort_values(by='Average RTT').head(10)"
   ]
  },
  {
   "cell_type": "markdown",
   "id": "aade6b7e-076b-401c-b1f0-ee5cb8042245",
   "metadata": {},
   "source": [
    "Most common Average RTT Value"
   ]
  },
  {
   "cell_type": "code",
   "execution_count": 121,
   "id": "e325c85a-bf4d-4fe9-b718-468636f9e530",
   "metadata": {},
   "outputs": [
    {
     "data": {
      "text/plain": [
       "0    33.0\n",
       "dtype: float64"
      ]
     },
     "execution_count": 121,
     "metadata": {},
     "output_type": "execute_result"
    }
   ],
   "source": [
    "user_experience['Average RTT'].mode()"
   ]
  },
  {
   "cell_type": "markdown",
   "id": "b9d6bb41-8dee-4d5e-9cf2-9e3643cc81c8",
   "metadata": {},
   "source": [
    "##### Average Throughput Values Analysis"
   ]
  },
  {
   "cell_type": "markdown",
   "id": "10ed9619-508a-4b73-a2f9-38849a6ea07d",
   "metadata": {},
   "source": [
    "Top 10 Average Throughput Values"
   ]
  },
  {
   "cell_type": "code",
   "execution_count": 122,
   "id": "45b2fa54-0474-4f60-be60-10290eb79b35",
   "metadata": {},
   "outputs": [
    {
     "data": {
      "text/html": [
       "<div>\n",
       "<style scoped>\n",
       "    .dataframe tbody tr th:only-of-type {\n",
       "        vertical-align: middle;\n",
       "    }\n",
       "\n",
       "    .dataframe tbody tr th {\n",
       "        vertical-align: top;\n",
       "    }\n",
       "\n",
       "    .dataframe thead th {\n",
       "        text-align: right;\n",
       "    }\n",
       "</style>\n",
       "<table border=\"1\" class=\"dataframe\">\n",
       "  <thead>\n",
       "    <tr style=\"text-align: right;\">\n",
       "      <th></th>\n",
       "      <th>MSISDN/Number</th>\n",
       "      <th>Handset Type</th>\n",
       "      <th>Average throughput</th>\n",
       "    </tr>\n",
       "  </thead>\n",
       "  <tbody>\n",
       "    <tr>\n",
       "      <th>97134</th>\n",
       "      <td>3.376233e+10</td>\n",
       "      <td>Samsung Galaxy A8 (2018)</td>\n",
       "      <td>902222.0</td>\n",
       "    </tr>\n",
       "    <tr>\n",
       "      <th>69592</th>\n",
       "      <td>3.366871e+10</td>\n",
       "      <td>Huawei B528S-23A</td>\n",
       "      <td>840424.0</td>\n",
       "    </tr>\n",
       "    <tr>\n",
       "      <th>36077</th>\n",
       "      <td>3.365955e+10</td>\n",
       "      <td>Huawei B528S-23A</td>\n",
       "      <td>798342.0</td>\n",
       "    </tr>\n",
       "    <tr>\n",
       "      <th>72814</th>\n",
       "      <td>3.366995e+10</td>\n",
       "      <td>Huawei B528S-23A</td>\n",
       "      <td>690815.0</td>\n",
       "    </tr>\n",
       "    <tr>\n",
       "      <th>68707</th>\n",
       "      <td>3.366843e+10</td>\n",
       "      <td>Huawei B528S-23A</td>\n",
       "      <td>676858.0</td>\n",
       "    </tr>\n",
       "    <tr>\n",
       "      <th>84087</th>\n",
       "      <td>3.369817e+10</td>\n",
       "      <td>undefined</td>\n",
       "      <td>618797.0</td>\n",
       "    </tr>\n",
       "    <tr>\n",
       "      <th>13069</th>\n",
       "      <td>3.362570e+10</td>\n",
       "      <td>Samsung Galaxy S9 Sm-G960F Ds</td>\n",
       "      <td>564179.0</td>\n",
       "    </tr>\n",
       "    <tr>\n",
       "      <th>29162</th>\n",
       "      <td>3.365808e+10</td>\n",
       "      <td>Huawei B528S-23A</td>\n",
       "      <td>550352.0</td>\n",
       "    </tr>\n",
       "    <tr>\n",
       "      <th>97761</th>\n",
       "      <td>3.376264e+10</td>\n",
       "      <td>Huawei B528S-23A</td>\n",
       "      <td>549661.0</td>\n",
       "    </tr>\n",
       "    <tr>\n",
       "      <th>60491</th>\n",
       "      <td>3.366566e+10</td>\n",
       "      <td>Huawei B528S-23A</td>\n",
       "      <td>530353.0</td>\n",
       "    </tr>\n",
       "  </tbody>\n",
       "</table>\n",
       "</div>"
      ],
      "text/plain": [
       "       MSISDN/Number                   Handset Type  Average throughput\n",
       "97134   3.376233e+10       Samsung Galaxy A8 (2018)            902222.0\n",
       "69592   3.366871e+10               Huawei B528S-23A            840424.0\n",
       "36077   3.365955e+10               Huawei B528S-23A            798342.0\n",
       "72814   3.366995e+10               Huawei B528S-23A            690815.0\n",
       "68707   3.366843e+10               Huawei B528S-23A            676858.0\n",
       "84087   3.369817e+10                      undefined            618797.0\n",
       "13069   3.362570e+10  Samsung Galaxy S9 Sm-G960F Ds            564179.0\n",
       "29162   3.365808e+10               Huawei B528S-23A            550352.0\n",
       "97761   3.376264e+10               Huawei B528S-23A            549661.0\n",
       "60491   3.366566e+10               Huawei B528S-23A            530353.0"
      ]
     },
     "execution_count": 122,
     "metadata": {},
     "output_type": "execute_result"
    }
   ],
   "source": [
    "user_experience[['MSISDN/Number', 'Handset Type', 'Average throughput']].sort_values(by='Average throughput', ascending =False).head(10)"
   ]
  },
  {
   "cell_type": "markdown",
   "id": "4d3775dd-7f4a-4f8d-8df5-242cf2265293",
   "metadata": {},
   "source": [
    "Bottom 10 Average Throughput Values"
   ]
  },
  {
   "cell_type": "code",
   "execution_count": 123,
   "id": "5b4189c6-17ea-4f49-8d8d-e9a35265c64e",
   "metadata": {},
   "outputs": [
    {
     "data": {
      "text/html": [
       "<div>\n",
       "<style scoped>\n",
       "    .dataframe tbody tr th:only-of-type {\n",
       "        vertical-align: middle;\n",
       "    }\n",
       "\n",
       "    .dataframe tbody tr th {\n",
       "        vertical-align: top;\n",
       "    }\n",
       "\n",
       "    .dataframe thead th {\n",
       "        text-align: right;\n",
       "    }\n",
       "</style>\n",
       "<table border=\"1\" class=\"dataframe\">\n",
       "  <thead>\n",
       "    <tr style=\"text-align: right;\">\n",
       "      <th></th>\n",
       "      <th>MSISDN/Number</th>\n",
       "      <th>Handset Type</th>\n",
       "      <th>Average throughput</th>\n",
       "    </tr>\n",
       "  </thead>\n",
       "  <tbody>\n",
       "    <tr>\n",
       "      <th>92629</th>\n",
       "      <td>3.376059e+10</td>\n",
       "      <td>undefined</td>\n",
       "      <td>0.0</td>\n",
       "    </tr>\n",
       "    <tr>\n",
       "      <th>85423</th>\n",
       "      <td>3.369859e+10</td>\n",
       "      <td>undefined</td>\n",
       "      <td>0.0</td>\n",
       "    </tr>\n",
       "    <tr>\n",
       "      <th>17190</th>\n",
       "      <td>3.363359e+10</td>\n",
       "      <td>Apple iPhone 7 (A1778)</td>\n",
       "      <td>0.0</td>\n",
       "    </tr>\n",
       "    <tr>\n",
       "      <th>41159</th>\n",
       "      <td>3.366074e+10</td>\n",
       "      <td>Huawei B528S-23A</td>\n",
       "      <td>0.0</td>\n",
       "    </tr>\n",
       "    <tr>\n",
       "      <th>41750</th>\n",
       "      <td>3.366087e+10</td>\n",
       "      <td>Samsung Galaxy S8 (Sm-G950F)</td>\n",
       "      <td>0.0</td>\n",
       "    </tr>\n",
       "    <tr>\n",
       "      <th>41935</th>\n",
       "      <td>3.366092e+10</td>\n",
       "      <td>undefined</td>\n",
       "      <td>0.0</td>\n",
       "    </tr>\n",
       "    <tr>\n",
       "      <th>56610</th>\n",
       "      <td>3.366462e+10</td>\n",
       "      <td>Apple iPhone 6 (A1586)</td>\n",
       "      <td>0.0</td>\n",
       "    </tr>\n",
       "    <tr>\n",
       "      <th>10587</th>\n",
       "      <td>3.362166e+10</td>\n",
       "      <td>undefined</td>\n",
       "      <td>0.0</td>\n",
       "    </tr>\n",
       "    <tr>\n",
       "      <th>17353</th>\n",
       "      <td>3.363392e+10</td>\n",
       "      <td>Samsung Galaxy A5 (Sm-A510X)</td>\n",
       "      <td>0.0</td>\n",
       "    </tr>\n",
       "    <tr>\n",
       "      <th>102767</th>\n",
       "      <td>3.377776e+10</td>\n",
       "      <td>Huawei P20 Lite Huawei Nova 3E</td>\n",
       "      <td>0.0</td>\n",
       "    </tr>\n",
       "  </tbody>\n",
       "</table>\n",
       "</div>"
      ],
      "text/plain": [
       "        MSISDN/Number                    Handset Type  Average throughput\n",
       "92629    3.376059e+10                       undefined                 0.0\n",
       "85423    3.369859e+10                       undefined                 0.0\n",
       "17190    3.363359e+10          Apple iPhone 7 (A1778)                 0.0\n",
       "41159    3.366074e+10                Huawei B528S-23A                 0.0\n",
       "41750    3.366087e+10    Samsung Galaxy S8 (Sm-G950F)                 0.0\n",
       "41935    3.366092e+10                       undefined                 0.0\n",
       "56610    3.366462e+10          Apple iPhone 6 (A1586)                 0.0\n",
       "10587    3.362166e+10                       undefined                 0.0\n",
       "17353    3.363392e+10    Samsung Galaxy A5 (Sm-A510X)                 0.0\n",
       "102767   3.377776e+10  Huawei P20 Lite Huawei Nova 3E                 0.0"
      ]
     },
     "execution_count": 123,
     "metadata": {},
     "output_type": "execute_result"
    }
   ],
   "source": [
    "user_experience[['MSISDN/Number', 'Handset Type', 'Average throughput']].sort_values(by='Average throughput').head(10)"
   ]
  },
  {
   "cell_type": "markdown",
   "id": "98fa9e91-9db5-4625-8892-3ff707e2a3db",
   "metadata": {},
   "source": [
    "Most common Average Throughput value"
   ]
  },
  {
   "cell_type": "code",
   "execution_count": 124,
   "id": "93c32c60-6a49-402a-984e-152c2f455461",
   "metadata": {},
   "outputs": [
    {
     "data": {
      "text/plain": [
       "0    15.0\n",
       "dtype: float64"
      ]
     },
     "execution_count": 124,
     "metadata": {},
     "output_type": "execute_result"
    }
   ],
   "source": [
    "user_experience['Average throughput'].mode()"
   ]
  },
  {
   "cell_type": "code",
   "execution_count": null,
   "id": "6390bde2-2710-48c2-97df-9d99ccef1b30",
   "metadata": {},
   "outputs": [],
   "source": []
  },
  {
   "cell_type": "markdown",
   "id": "65fe48ef-6287-442a-8348-382240a116f0",
   "metadata": {},
   "source": [
    "#### Removing Outliers from the dataset"
   ]
  },
  {
   "cell_type": "code",
   "execution_count": 125,
   "id": "d67b6a4c-7ca0-4ad5-b1b8-43376fd8d59d",
   "metadata": {},
   "outputs": [
    {
     "data": {
      "text/plain": [
       "Average TCP retransmission    318865.25\n",
       "Average RTT                       80.00\n",
       "Average throughput             26433.00\n",
       "dtype: float64"
      ]
     },
     "execution_count": 125,
     "metadata": {},
     "output_type": "execute_result"
    }
   ],
   "source": [
    "# function to calculate interquartile range\n",
    "def find_iqr(x):\n",
    "    IQR= np.subtract(*np.percentile(x, [75, 25]))\n",
    "    return IQR\n",
    "\n",
    "#calculate IQR for 'Average TCP retransmission', 'Average RTT', 'Average throughput' columns\n",
    "user_experience[['Average TCP retransmission', 'Average RTT', 'Average throughput']].apply(find_iqr)"
   ]
  },
  {
   "cell_type": "code",
   "execution_count": 129,
   "id": "b301c6b5-d2cf-4db4-856f-9046b78d4f55",
   "metadata": {},
   "outputs": [],
   "source": [
    "# Function to remove outliers\n",
    "def remove_outliers(df,y):\n",
    "    x=df[y]\n",
    "    Q1= np.percentile(x, 25, interpolation = 'midpoint')\n",
    "    Q3= np.percentile(x, 75, interpolation = 'midpoint')\n",
    "    IQR= np.subtract(*np.percentile(x, [75, 25]))\n",
    "    upper = Q3 +1.5*IQR\n",
    "    lower = Q1 - 1.5*IQR\n",
    "    median = x.median\n",
    "    \n",
    "    #Replacing Higher_outlier outliers with median\n",
    "    nan=np.where(df[y]>Q3)\n",
    "    x.fillna(x.median(), inplace=True)\n",
    "    \n",
    "    #Replacing lower outliers with median\n",
    "    nan=np.where(df[y]>Q1)\n",
    "    x.fillna(x.median(), inplace=True)   \n",
    "    \n",
    "    return df "
   ]
  },
  {
   "cell_type": "code",
   "execution_count": 135,
   "id": "9f3bdf4b-906d-4f86-a301-ebc403354884",
   "metadata": {},
   "outputs": [
    {
     "data": {
      "text/html": [
       "<div>\n",
       "<style scoped>\n",
       "    .dataframe tbody tr th:only-of-type {\n",
       "        vertical-align: middle;\n",
       "    }\n",
       "\n",
       "    .dataframe tbody tr th {\n",
       "        vertical-align: top;\n",
       "    }\n",
       "\n",
       "    .dataframe thead th {\n",
       "        text-align: right;\n",
       "    }\n",
       "</style>\n",
       "<table border=\"1\" class=\"dataframe\">\n",
       "  <thead>\n",
       "    <tr style=\"text-align: right;\">\n",
       "      <th></th>\n",
       "      <th>MSISDN/Number</th>\n",
       "      <th>Handset Type</th>\n",
       "      <th>Average TCP retransmission</th>\n",
       "      <th>Average RTT</th>\n",
       "      <th>Average throughput</th>\n",
       "    </tr>\n",
       "  </thead>\n",
       "  <tbody>\n",
       "    <tr>\n",
       "      <th>0</th>\n",
       "      <td>3.360100e+10</td>\n",
       "      <td>Huawei P20 Lite Huawei Nova 3E</td>\n",
       "      <td>2660.0</td>\n",
       "      <td>46.0</td>\n",
       "      <td>76.0</td>\n",
       "    </tr>\n",
       "    <tr>\n",
       "      <th>1</th>\n",
       "      <td>3.360100e+10</td>\n",
       "      <td>Apple iPhone 7 (A1778)</td>\n",
       "      <td>2660.0</td>\n",
       "      <td>31.0</td>\n",
       "      <td>99.0</td>\n",
       "    </tr>\n",
       "    <tr>\n",
       "      <th>2</th>\n",
       "      <td>3.360100e+10</td>\n",
       "      <td>undefined</td>\n",
       "      <td>2660.0</td>\n",
       "      <td>33.0</td>\n",
       "      <td>97.0</td>\n",
       "    </tr>\n",
       "    <tr>\n",
       "      <th>3</th>\n",
       "      <td>3.360101e+10</td>\n",
       "      <td>Apple iPhone 5S (A1457)</td>\n",
       "      <td>2396.0</td>\n",
       "      <td>84.0</td>\n",
       "      <td>248.0</td>\n",
       "    </tr>\n",
       "    <tr>\n",
       "      <th>4</th>\n",
       "      <td>3.360101e+10</td>\n",
       "      <td>Apple iPhone Se (A1723)</td>\n",
       "      <td>9373492.0</td>\n",
       "      <td>119.0</td>\n",
       "      <td>56844.0</td>\n",
       "    </tr>\n",
       "  </tbody>\n",
       "</table>\n",
       "</div>"
      ],
      "text/plain": [
       "   MSISDN/Number                    Handset Type  Average TCP retransmission  \\\n",
       "0   3.360100e+10  Huawei P20 Lite Huawei Nova 3E                      2660.0   \n",
       "1   3.360100e+10          Apple iPhone 7 (A1778)                      2660.0   \n",
       "2   3.360100e+10                       undefined                      2660.0   \n",
       "3   3.360101e+10         Apple iPhone 5S (A1457)                      2396.0   \n",
       "4   3.360101e+10         Apple iPhone Se (A1723)                   9373492.0   \n",
       "\n",
       "   Average RTT  Average throughput  \n",
       "0         46.0                76.0  \n",
       "1         31.0                99.0  \n",
       "2         33.0                97.0  \n",
       "3         84.0               248.0  \n",
       "4        119.0             56844.0  "
      ]
     },
     "execution_count": 135,
     "metadata": {},
     "output_type": "execute_result"
    }
   ],
   "source": [
    "#Remove outliers in Average TCP retransmissions\n",
    "user_experience=remove_outliers(user_experience,'Average TCP retransmission')\n",
    "user_experience.head()"
   ]
  },
  {
   "cell_type": "code",
   "execution_count": 137,
   "id": "eccea640-8f22-4838-a8be-96221177f737",
   "metadata": {},
   "outputs": [
    {
     "data": {
      "text/html": [
       "<div>\n",
       "<style scoped>\n",
       "    .dataframe tbody tr th:only-of-type {\n",
       "        vertical-align: middle;\n",
       "    }\n",
       "\n",
       "    .dataframe tbody tr th {\n",
       "        vertical-align: top;\n",
       "    }\n",
       "\n",
       "    .dataframe thead th {\n",
       "        text-align: right;\n",
       "    }\n",
       "</style>\n",
       "<table border=\"1\" class=\"dataframe\">\n",
       "  <thead>\n",
       "    <tr style=\"text-align: right;\">\n",
       "      <th></th>\n",
       "      <th>MSISDN/Number</th>\n",
       "      <th>Handset Type</th>\n",
       "      <th>Average TCP retransmission</th>\n",
       "      <th>Average RTT</th>\n",
       "      <th>Average throughput</th>\n",
       "    </tr>\n",
       "  </thead>\n",
       "  <tbody>\n",
       "    <tr>\n",
       "      <th>0</th>\n",
       "      <td>3.360100e+10</td>\n",
       "      <td>Huawei P20 Lite Huawei Nova 3E</td>\n",
       "      <td>2660.0</td>\n",
       "      <td>46.0</td>\n",
       "      <td>76.0</td>\n",
       "    </tr>\n",
       "    <tr>\n",
       "      <th>1</th>\n",
       "      <td>3.360100e+10</td>\n",
       "      <td>Apple iPhone 7 (A1778)</td>\n",
       "      <td>2660.0</td>\n",
       "      <td>31.0</td>\n",
       "      <td>99.0</td>\n",
       "    </tr>\n",
       "    <tr>\n",
       "      <th>2</th>\n",
       "      <td>3.360100e+10</td>\n",
       "      <td>undefined</td>\n",
       "      <td>2660.0</td>\n",
       "      <td>33.0</td>\n",
       "      <td>97.0</td>\n",
       "    </tr>\n",
       "    <tr>\n",
       "      <th>3</th>\n",
       "      <td>3.360101e+10</td>\n",
       "      <td>Apple iPhone 5S (A1457)</td>\n",
       "      <td>2396.0</td>\n",
       "      <td>84.0</td>\n",
       "      <td>248.0</td>\n",
       "    </tr>\n",
       "    <tr>\n",
       "      <th>4</th>\n",
       "      <td>3.360101e+10</td>\n",
       "      <td>Apple iPhone Se (A1723)</td>\n",
       "      <td>9373492.0</td>\n",
       "      <td>119.0</td>\n",
       "      <td>56844.0</td>\n",
       "    </tr>\n",
       "  </tbody>\n",
       "</table>\n",
       "</div>"
      ],
      "text/plain": [
       "   MSISDN/Number                    Handset Type  Average TCP retransmission  \\\n",
       "0   3.360100e+10  Huawei P20 Lite Huawei Nova 3E                      2660.0   \n",
       "1   3.360100e+10          Apple iPhone 7 (A1778)                      2660.0   \n",
       "2   3.360100e+10                       undefined                      2660.0   \n",
       "3   3.360101e+10         Apple iPhone 5S (A1457)                      2396.0   \n",
       "4   3.360101e+10         Apple iPhone Se (A1723)                   9373492.0   \n",
       "\n",
       "   Average RTT  Average throughput  \n",
       "0         46.0                76.0  \n",
       "1         31.0                99.0  \n",
       "2         33.0                97.0  \n",
       "3         84.0               248.0  \n",
       "4        119.0             56844.0  "
      ]
     },
     "execution_count": 137,
     "metadata": {},
     "output_type": "execute_result"
    }
   ],
   "source": [
    "#Remove outliers in Average RTT \n",
    "user_experience=remove_outliers(user_experience,'Average RTT')\n",
    "user_experience.head()"
   ]
  },
  {
   "cell_type": "code",
   "execution_count": 138,
   "id": "bd67fa38-b514-43a9-b6af-640215dea17b",
   "metadata": {},
   "outputs": [
    {
     "data": {
      "text/html": [
       "<div>\n",
       "<style scoped>\n",
       "    .dataframe tbody tr th:only-of-type {\n",
       "        vertical-align: middle;\n",
       "    }\n",
       "\n",
       "    .dataframe tbody tr th {\n",
       "        vertical-align: top;\n",
       "    }\n",
       "\n",
       "    .dataframe thead th {\n",
       "        text-align: right;\n",
       "    }\n",
       "</style>\n",
       "<table border=\"1\" class=\"dataframe\">\n",
       "  <thead>\n",
       "    <tr style=\"text-align: right;\">\n",
       "      <th></th>\n",
       "      <th>MSISDN/Number</th>\n",
       "      <th>Handset Type</th>\n",
       "      <th>Average TCP retransmission</th>\n",
       "      <th>Average RTT</th>\n",
       "      <th>Average throughput</th>\n",
       "    </tr>\n",
       "  </thead>\n",
       "  <tbody>\n",
       "    <tr>\n",
       "      <th>0</th>\n",
       "      <td>3.360100e+10</td>\n",
       "      <td>Huawei P20 Lite Huawei Nova 3E</td>\n",
       "      <td>2660.0</td>\n",
       "      <td>46.0</td>\n",
       "      <td>76.0</td>\n",
       "    </tr>\n",
       "    <tr>\n",
       "      <th>1</th>\n",
       "      <td>3.360100e+10</td>\n",
       "      <td>Apple iPhone 7 (A1778)</td>\n",
       "      <td>2660.0</td>\n",
       "      <td>31.0</td>\n",
       "      <td>99.0</td>\n",
       "    </tr>\n",
       "    <tr>\n",
       "      <th>2</th>\n",
       "      <td>3.360100e+10</td>\n",
       "      <td>undefined</td>\n",
       "      <td>2660.0</td>\n",
       "      <td>33.0</td>\n",
       "      <td>97.0</td>\n",
       "    </tr>\n",
       "    <tr>\n",
       "      <th>3</th>\n",
       "      <td>3.360101e+10</td>\n",
       "      <td>Apple iPhone 5S (A1457)</td>\n",
       "      <td>2396.0</td>\n",
       "      <td>84.0</td>\n",
       "      <td>248.0</td>\n",
       "    </tr>\n",
       "    <tr>\n",
       "      <th>4</th>\n",
       "      <td>3.360101e+10</td>\n",
       "      <td>Apple iPhone Se (A1723)</td>\n",
       "      <td>9373492.0</td>\n",
       "      <td>119.0</td>\n",
       "      <td>56844.0</td>\n",
       "    </tr>\n",
       "  </tbody>\n",
       "</table>\n",
       "</div>"
      ],
      "text/plain": [
       "   MSISDN/Number                    Handset Type  Average TCP retransmission  \\\n",
       "0   3.360100e+10  Huawei P20 Lite Huawei Nova 3E                      2660.0   \n",
       "1   3.360100e+10          Apple iPhone 7 (A1778)                      2660.0   \n",
       "2   3.360100e+10                       undefined                      2660.0   \n",
       "3   3.360101e+10         Apple iPhone 5S (A1457)                      2396.0   \n",
       "4   3.360101e+10         Apple iPhone Se (A1723)                   9373492.0   \n",
       "\n",
       "   Average RTT  Average throughput  \n",
       "0         46.0                76.0  \n",
       "1         31.0                99.0  \n",
       "2         33.0                97.0  \n",
       "3         84.0               248.0  \n",
       "4        119.0             56844.0  "
      ]
     },
     "execution_count": 138,
     "metadata": {},
     "output_type": "execute_result"
    }
   ],
   "source": [
    "#Remove outliers in Average Throughput \n",
    "user_experience=remove_outliers(user_experience,'Average throughput')\n",
    "user_experience.head()"
   ]
  },
  {
   "cell_type": "markdown",
   "id": "52b198a1-1769-4fda-9e1a-56c9cda28e7a",
   "metadata": {},
   "source": [
    "#### Finding Q 3 for Average TCP retransmission, Average RTT, and  Average Througput"
   ]
  },
  {
   "cell_type": "code",
   "execution_count": 139,
   "id": "0445d45e-7771-4400-9101-27dc38b98961",
   "metadata": {},
   "outputs": [
    {
     "data": {
      "text/plain": [
       "array([321479.5])"
      ]
     },
     "execution_count": 139,
     "metadata": {},
     "output_type": "execute_result"
    }
   ],
   "source": [
    "#finding Q3 in AVerage TCP retransmission\n",
    "x =user_experience['Average TCP retransmission']\n",
    "Q3_1= np.percentile(x, [75], interpolation = 'midpoint')\n",
    "Q3_1"
   ]
  },
  {
   "cell_type": "code",
   "execution_count": 140,
   "id": "1be88741-c676-4588-9e31-7321ee5d5e22",
   "metadata": {},
   "outputs": [
    {
     "data": {
      "text/plain": [
       "array([113.])"
      ]
     },
     "execution_count": 140,
     "metadata": {},
     "output_type": "execute_result"
    }
   ],
   "source": [
    "#finding Q3 in AVerage RTT Values\n",
    "x =user_experience['Average RTT']\n",
    "Q3_2= np.percentile(x, [75], interpolation = 'midpoint')\n",
    "Q3_2"
   ]
  },
  {
   "cell_type": "code",
   "execution_count": 141,
   "id": "539513a6-0f8c-44dd-a52e-c38b1fc18a9b",
   "metadata": {},
   "outputs": [
    {
     "data": {
      "text/plain": [
       "array([26530.])"
      ]
     },
     "execution_count": 141,
     "metadata": {},
     "output_type": "execute_result"
    }
   ],
   "source": [
    "#finding Q3 in AVerage Throughput \n",
    "x =user_experience['Average throughput']\n",
    "Q3_3= np.percentile(x, [75], interpolation = 'midpoint')\n",
    "Q3_3"
   ]
  },
  {
   "cell_type": "markdown",
   "id": "f4e15652-eb03-4deb-9ffc-3a28710cc518",
   "metadata": {},
   "source": [
    "#### Visualization"
   ]
  },
  {
   "cell_type": "code",
   "execution_count": 142,
   "id": "484a66ed-d0fe-4856-919c-96cee29ddd81",
   "metadata": {},
   "outputs": [
    {
     "name": "stderr",
     "output_type": "stream",
     "text": [
      "C:\\Users\\User\\anaconda3\\envs\\envMysql\\lib\\site-packages\\seaborn\\_decorators.py:43: FutureWarning: Pass the following variable as a keyword arg: x. From version 0.12, the only valid positional argument will be `data`, and passing other arguments without an explicit keyword will result in an error or misinterpretation.\n",
      "  FutureWarning\n"
     ]
    },
    {
     "data": {
      "text/plain": [
       "<AxesSubplot:xlabel='Average TCP retransmission'>"
      ]
     },
     "execution_count": 142,
     "metadata": {},
     "output_type": "execute_result"
    },
    {
     "data": {
      "image/png": "[encoded data removed]",
      "text/plain": [
       "<Figure size 432x288 with 1 Axes>"
      ]
     },
     "metadata": {
      "needs_background": "light"
     },
     "output_type": "display_data"
    }
   ],
   "source": [
    "sns.boxplot(user_experience['Average TCP retransmission'])"
   ]
  },
  {
   "cell_type": "code",
   "execution_count": 143,
   "id": "ccf16a3d-fb55-498c-ad0f-e37f4a2ef72b",
   "metadata": {},
   "outputs": [],
   "source": [
    "#Replacing the outliers with mean\n",
    "user_experience['Average TCP retransmission'].fillna(user_experience['Average TCP retransmission'].median(), inplace=True)"
   ]
  },
  {
   "cell_type": "code",
   "execution_count": 144,
   "id": "bb0e08ea-c9fb-4700-968d-7fc0e1963ffa",
   "metadata": {},
   "outputs": [
    {
     "name": "stderr",
     "output_type": "stream",
     "text": [
      "C:\\Users\\User\\anaconda3\\envs\\envMysql\\lib\\site-packages\\seaborn\\_decorators.py:43: FutureWarning: Pass the following variable as a keyword arg: x. From version 0.12, the only valid positional argument will be `data`, and passing other arguments without an explicit keyword will result in an error or misinterpretation.\n",
      "  FutureWarning\n"
     ]
    },
    {
     "data": {
      "text/plain": [
       "<AxesSubplot:xlabel='Average RTT'>"
      ]
     },
     "execution_count": 144,
     "metadata": {},
     "output_type": "execute_result"
    },
    {
     "data": {
      "image/png": "[encoded data removed]",
      "text/plain": [
       "<Figure size 432x288 with 1 Axes>"
      ]
     },
     "metadata": {
      "needs_background": "light"
     },
     "output_type": "display_data"
    }
   ],
   "source": [
    "user_experience['Average RTT'].fillna(user_experience['Average RTT'].median(), inplace=True)\n",
    "sns.boxplot(user_experience['Average RTT'])"
   ]
  },
  {
   "cell_type": "code",
   "execution_count": 145,
   "id": "307c7909-2b93-40c4-9012-d15fc99da8cd",
   "metadata": {},
   "outputs": [
    {
     "name": "stderr",
     "output_type": "stream",
     "text": [
      "C:\\Users\\User\\anaconda3\\envs\\envMysql\\lib\\site-packages\\seaborn\\_decorators.py:43: FutureWarning: Pass the following variable as a keyword arg: x. From version 0.12, the only valid positional argument will be `data`, and passing other arguments without an explicit keyword will result in an error or misinterpretation.\n",
      "  FutureWarning\n"
     ]
    },
    {
     "data": {
      "text/plain": [
       "<AxesSubplot:xlabel='Average throughput'>"
      ]
     },
     "execution_count": 145,
     "metadata": {},
     "output_type": "execute_result"
    },
    {
     "data": {
      "image/png": "[encoded data removed]",
      "text/plain": [
       "<Figure size 432x288 with 1 Axes>"
      ]
     },
     "metadata": {
      "needs_background": "light"
     },
     "output_type": "display_data"
    }
   ],
   "source": [
    "user_experience['Average throughput'].fillna(user_experience['Average throughput'].median(), inplace=True)\n",
    "sns.boxplot(user_experience['Average throughput'])"
   ]
  },
  {
   "cell_type": "markdown",
   "id": "e32607ee-1d8c-44de-b06c-1debdd2c4350",
   "metadata": {},
   "source": [
    "### K-Means Clustering (k=3)"
   ]
  },
  {
   "cell_type": "code",
   "execution_count": 153,
   "id": "dc35f32b-2eac-4c0c-9821-2accbecaf0ce",
   "metadata": {},
   "outputs": [
    {
     "data": {
      "text/plain": [
       "array([0, 0, 0, ..., 0, 0, 0])"
      ]
     },
     "execution_count": 153,
     "metadata": {},
     "output_type": "execute_result"
    }
   ],
   "source": [
    "# k-means (k=3) to classify customers in three groups of engagement.\n",
    "kmeans = KMeans(n_clusters=3, random_state=0).fit(user_experience[['Average TCP retransmission', 'Average RTT', 'Average throughput']])\n",
    "kmeans.labels_"
   ]
  },
  {
   "cell_type": "code",
   "execution_count": 154,
   "id": "5d471f51-ec1d-4d92-8700-f0f4848a1a76",
   "metadata": {},
   "outputs": [
    {
     "data": {
      "image/png": "[encoded data removed]",
      "text/plain": [
       "<Figure size 432x288 with 1 Axes>"
      ]
     },
     "metadata": {
      "needs_background": "light"
     },
     "output_type": "display_data"
    }
   ],
   "source": [
    "X = user_experience\n",
    "#Visualise data points\n",
    "#,X['Average throughput']\n",
    "plt.scatter(X['Average TCP retransmission'],X['Average RTT'],c='black')\n",
    "\n",
    "plt.show()"
   ]
  },
  {
   "cell_type": "code",
   "execution_count": 155,
   "id": "af142ca2-d527-4192-89bf-c1b9b2e2d00b",
   "metadata": {},
   "outputs": [
    {
     "data": {
      "image/png": "[encoded data removed]",
      "text/plain": [
       "<Figure size 432x288 with 1 Axes>"
      ]
     },
     "metadata": {
      "needs_background": "light"
     },
     "output_type": "display_data"
    }
   ],
   "source": [
    "K=3\n",
    "\n",
    "# Select random observation as centroids\n",
    "Centroids = (X.sample(n=K))\n",
    "plt.scatter(X['Average TCP retransmission'],X['Average RTT'],c='black')\n",
    "plt.scatter(Centroids['Average TCP retransmission'],Centroids['Average RTT'],Centroids['Average throughput'],c='red')\n",
    "plt.xlabel('Average TCP retransmission')\n",
    "plt.ylabel('Average RTT')\n",
    "\n",
    "plt.show()"
   ]
  },
  {
   "cell_type": "code",
   "execution_count": 157,
   "id": "99e6f7cf-e67a-4264-b986-4f5e62655a01",
   "metadata": {},
   "outputs": [],
   "source": [
    "x= user_experience.to_numpy()"
   ]
  },
  {
   "cell_type": "code",
   "execution_count": 158,
   "id": "bf90a33c-8b71-4802-91ff-bffa83ec4296",
   "metadata": {
    "collapsed": true,
    "jupyter": {
     "outputs_hidden": true
    },
    "tags": []
   },
   "outputs": [
    {
     "ename": "KeyError",
     "evalue": "\"None of [Index([33601001722.0, 'Huawei P20 Lite Huawei Nova 3E', 2660.0, 46.0, 76.0], dtype='object')] are in the [columns]\"",
     "output_type": "error",
     "traceback": [
      "\u001b[1;31m---------------------------------------------------------------------------\u001b[0m",
      "\u001b[1;31mKeyError\u001b[0m                                  Traceback (most recent call last)",
      "\u001b[1;32m<ipython-input-158-10e22e37cab2>\u001b[0m in \u001b[0;36m<module>\u001b[1;34m\u001b[0m\n\u001b[0;32m      1\u001b[0m \u001b[0mengagement_score\u001b[0m\u001b[1;33m=\u001b[0m\u001b[1;33m[\u001b[0m\u001b[1;33m]\u001b[0m\u001b[1;33m\u001b[0m\u001b[1;33m\u001b[0m\u001b[0m\n\u001b[0;32m      2\u001b[0m \u001b[1;32mfor\u001b[0m \u001b[0mi\u001b[0m \u001b[1;32min\u001b[0m \u001b[0mx\u001b[0m\u001b[1;33m:\u001b[0m\u001b[1;33m\u001b[0m\u001b[1;33m\u001b[0m\u001b[0m\n\u001b[1;32m----> 3\u001b[1;33m     \u001b[0mengagement_score\u001b[0m\u001b[1;33m.\u001b[0m\u001b[0mappend\u001b[0m\u001b[1;33m(\u001b[0m\u001b[0meuclidean_distances\u001b[0m\u001b[1;33m(\u001b[0m\u001b[1;33m[\u001b[0m\u001b[0mi\u001b[0m\u001b[1;33m.\u001b[0m\u001b[0mtolist\u001b[0m\u001b[1;33m(\u001b[0m\u001b[1;33m)\u001b[0m\u001b[1;33m]\u001b[0m\u001b[1;33m,\u001b[0m\u001b[1;33m[\u001b[0m\u001b[0mCentroids\u001b[0m\u001b[1;33m[\u001b[0m\u001b[0mi\u001b[0m\u001b[1;33m]\u001b[0m\u001b[1;33m.\u001b[0m\u001b[0mtolist\u001b[0m\u001b[1;33m(\u001b[0m\u001b[1;33m)\u001b[0m\u001b[1;33m]\u001b[0m\u001b[1;33m)\u001b[0m\u001b[1;33m)\u001b[0m\u001b[1;33m\u001b[0m\u001b[1;33m\u001b[0m\u001b[0m\n\u001b[0m",
      "\u001b[1;32m~\\anaconda3\\envs\\envMysql\\lib\\site-packages\\pandas\\core\\frame.py\u001b[0m in \u001b[0;36m__getitem__\u001b[1;34m(self, key)\u001b[0m\n\u001b[0;32m   2910\u001b[0m             \u001b[1;32mif\u001b[0m \u001b[0mis_iterator\u001b[0m\u001b[1;33m(\u001b[0m\u001b[0mkey\u001b[0m\u001b[1;33m)\u001b[0m\u001b[1;33m:\u001b[0m\u001b[1;33m\u001b[0m\u001b[1;33m\u001b[0m\u001b[0m\n\u001b[0;32m   2911\u001b[0m                 \u001b[0mkey\u001b[0m \u001b[1;33m=\u001b[0m \u001b[0mlist\u001b[0m\u001b[1;33m(\u001b[0m\u001b[0mkey\u001b[0m\u001b[1;33m)\u001b[0m\u001b[1;33m\u001b[0m\u001b[1;33m\u001b[0m\u001b[0m\n\u001b[1;32m-> 2912\u001b[1;33m             \u001b[0mindexer\u001b[0m \u001b[1;33m=\u001b[0m \u001b[0mself\u001b[0m\u001b[1;33m.\u001b[0m\u001b[0mloc\u001b[0m\u001b[1;33m.\u001b[0m\u001b[0m_get_listlike_indexer\u001b[0m\u001b[1;33m(\u001b[0m\u001b[0mkey\u001b[0m\u001b[1;33m,\u001b[0m \u001b[0maxis\u001b[0m\u001b[1;33m=\u001b[0m\u001b[1;36m1\u001b[0m\u001b[1;33m,\u001b[0m \u001b[0mraise_missing\u001b[0m\u001b[1;33m=\u001b[0m\u001b[1;32mTrue\u001b[0m\u001b[1;33m)\u001b[0m\u001b[1;33m[\u001b[0m\u001b[1;36m1\u001b[0m\u001b[1;33m]\u001b[0m\u001b[1;33m\u001b[0m\u001b[1;33m\u001b[0m\u001b[0m\n\u001b[0m\u001b[0;32m   2913\u001b[0m \u001b[1;33m\u001b[0m\u001b[0m\n\u001b[0;32m   2914\u001b[0m         \u001b[1;31m# take() does not accept boolean indexers\u001b[0m\u001b[1;33m\u001b[0m\u001b[1;33m\u001b[0m\u001b[1;33m\u001b[0m\u001b[0m\n",
      "\u001b[1;32m~\\anaconda3\\envs\\envMysql\\lib\\site-packages\\pandas\\core\\indexing.py\u001b[0m in \u001b[0;36m_get_listlike_indexer\u001b[1;34m(self, key, axis, raise_missing)\u001b[0m\n\u001b[0;32m   1252\u001b[0m             \u001b[0mkeyarr\u001b[0m\u001b[1;33m,\u001b[0m \u001b[0mindexer\u001b[0m\u001b[1;33m,\u001b[0m \u001b[0mnew_indexer\u001b[0m \u001b[1;33m=\u001b[0m \u001b[0max\u001b[0m\u001b[1;33m.\u001b[0m\u001b[0m_reindex_non_unique\u001b[0m\u001b[1;33m(\u001b[0m\u001b[0mkeyarr\u001b[0m\u001b[1;33m)\u001b[0m\u001b[1;33m\u001b[0m\u001b[1;33m\u001b[0m\u001b[0m\n\u001b[0;32m   1253\u001b[0m \u001b[1;33m\u001b[0m\u001b[0m\n\u001b[1;32m-> 1254\u001b[1;33m         \u001b[0mself\u001b[0m\u001b[1;33m.\u001b[0m\u001b[0m_validate_read_indexer\u001b[0m\u001b[1;33m(\u001b[0m\u001b[0mkeyarr\u001b[0m\u001b[1;33m,\u001b[0m \u001b[0mindexer\u001b[0m\u001b[1;33m,\u001b[0m \u001b[0maxis\u001b[0m\u001b[1;33m,\u001b[0m \u001b[0mraise_missing\u001b[0m\u001b[1;33m=\u001b[0m\u001b[0mraise_missing\u001b[0m\u001b[1;33m)\u001b[0m\u001b[1;33m\u001b[0m\u001b[1;33m\u001b[0m\u001b[0m\n\u001b[0m\u001b[0;32m   1255\u001b[0m         \u001b[1;32mreturn\u001b[0m \u001b[0mkeyarr\u001b[0m\u001b[1;33m,\u001b[0m \u001b[0mindexer\u001b[0m\u001b[1;33m\u001b[0m\u001b[1;33m\u001b[0m\u001b[0m\n\u001b[0;32m   1256\u001b[0m \u001b[1;33m\u001b[0m\u001b[0m\n",
      "\u001b[1;32m~\\anaconda3\\envs\\envMysql\\lib\\site-packages\\pandas\\core\\indexing.py\u001b[0m in \u001b[0;36m_validate_read_indexer\u001b[1;34m(self, key, indexer, axis, raise_missing)\u001b[0m\n\u001b[0;32m   1296\u001b[0m             \u001b[1;32mif\u001b[0m \u001b[0mmissing\u001b[0m \u001b[1;33m==\u001b[0m \u001b[0mlen\u001b[0m\u001b[1;33m(\u001b[0m\u001b[0mindexer\u001b[0m\u001b[1;33m)\u001b[0m\u001b[1;33m:\u001b[0m\u001b[1;33m\u001b[0m\u001b[1;33m\u001b[0m\u001b[0m\n\u001b[0;32m   1297\u001b[0m                 \u001b[0maxis_name\u001b[0m \u001b[1;33m=\u001b[0m \u001b[0mself\u001b[0m\u001b[1;33m.\u001b[0m\u001b[0mobj\u001b[0m\u001b[1;33m.\u001b[0m\u001b[0m_get_axis_name\u001b[0m\u001b[1;33m(\u001b[0m\u001b[0maxis\u001b[0m\u001b[1;33m)\u001b[0m\u001b[1;33m\u001b[0m\u001b[1;33m\u001b[0m\u001b[0m\n\u001b[1;32m-> 1298\u001b[1;33m                 \u001b[1;32mraise\u001b[0m \u001b[0mKeyError\u001b[0m\u001b[1;33m(\u001b[0m\u001b[1;34mf\"None of [{key}] are in the [{axis_name}]\"\u001b[0m\u001b[1;33m)\u001b[0m\u001b[1;33m\u001b[0m\u001b[1;33m\u001b[0m\u001b[0m\n\u001b[0m\u001b[0;32m   1299\u001b[0m \u001b[1;33m\u001b[0m\u001b[0m\n\u001b[0;32m   1300\u001b[0m             \u001b[1;31m# We (temporarily) allow for some missing keys with .loc, except in\u001b[0m\u001b[1;33m\u001b[0m\u001b[1;33m\u001b[0m\u001b[1;33m\u001b[0m\u001b[0m\n",
      "\u001b[1;31mKeyError\u001b[0m: \"None of [Index([33601001722.0, 'Huawei P20 Lite Huawei Nova 3E', 2660.0, 46.0, 76.0], dtype='object')] are in the [columns]\""
     ]
    }
   ],
   "source": [
    "engagement_score=[]\n",
    "for i in x:\n",
    "    engagement_score.append(euclidean_distances([i.tolist()],[Centroids[i].tolist()]))"
   ]
  },
  {
   "cell_type": "code",
   "execution_count": 159,
   "id": "8d224445-9f0a-42d5-958f-4401528a5cbb",
   "metadata": {},
   "outputs": [
    {
     "name": "stdout",
     "output_type": "stream",
     "text": [
      "367.286659800783\n",
      "155.17167294847016\n",
      "104.26577416354783\n",
      "57.107544655360186\n",
      "45.06593387308021\n",
      "-12.366406801089738\n",
      "-20.42762968812798\n",
      "-5.187183875393885\n",
      "7.929113432552072\n",
      "-0.5906984965016022\n",
      "1.8537128480074898\n",
      "-23.81424339443214\n",
      "6.625677338962305\n",
      "3.1873552887045093\n",
      "-11.80271116979219\n",
      "2.2660842646022274\n",
      "-4.605405534198553\n",
      "1.0693958327497057\n",
      "0.0\n"
     ]
    }
   ],
   "source": [
    "\n",
    "#K-Means Clustering\n",
    "# Step 3 - Assign all the points to the closest cluster centroid\n",
    "# Step 4 - Recompute centroids of newly formed clusters\n",
    "# Step 5 - Repeat step 3 and 4\n",
    "\n",
    "diff = 1\n",
    "j=0\n",
    "\n",
    "while(diff!=0):\n",
    "    XD=X\n",
    "    i=1\n",
    "    for index1,row_c in Centroids.iterrows():\n",
    "        ED=[]\n",
    "        for index2,row_d in XD.iterrows():\n",
    "            d1=(row_c['Average TCP retransmission']-row_d['Average TCP retransmission'])**2\n",
    "            d2=(row_c['Average RTT']-row_d['Average RTT'])**2\n",
    "            d=np.sqrt(d1+d2)\n",
    "            ED.append(d)\n",
    "        X[i]=ED\n",
    "        i=i+1\n",
    "\n",
    "    C=[]\n",
    "    for index,row in X.iterrows():\n",
    "        min_dist=row[1]\n",
    "        pos=1\n",
    "        for i in range(K):\n",
    "            if row[i+1] < min_dist:\n",
    "                min_dist = row[i+1]\n",
    "                pos=i+1\n",
    "        C.append(pos)\n",
    "    X[\"Cluster\"]=C\n",
    "    Centroids_new = X.groupby([\"Cluster\"]).mean()[['Average RTT','Average TCP retransmission']]\n",
    "    if j == 0:\n",
    "        diff=1\n",
    "        j=j+1\n",
    "    else:\n",
    "        diff = (Centroids_new['Average RTT'] - Centroids['Average RTT']).sum() + (Centroids_new['Average RTT'] - Centroids['Average RTT']).sum()\n",
    "        print(diff.sum())\n",
    "    Centroids = X.groupby([\"Cluster\"]).mean()[['Average TCP retransmission','Average RTT']]"
   ]
  },
  {
   "cell_type": "code",
   "execution_count": 160,
   "id": "b9b96274-84cf-4c77-b5b1-9cb19a7ece8b",
   "metadata": {},
   "outputs": [
    {
     "data": {
      "image/png": "[encoded data removed]",
      "text/plain": [
       "<Figure size 432x288 with 1 Axes>"
      ]
     },
     "metadata": {
      "needs_background": "light"
     },
     "output_type": "display_data"
    }
   ],
   "source": [
    "color=['blue','green','cyan']\n",
    "for k in range(K):\n",
    "    data=X[X[\"Cluster\"]==k+1]\n",
    "    plt.scatter(data['Average TCP retransmission'],data['Average RTT'],c=color[k])\n",
    "plt.scatter(Centroids['Average TCP retransmission'],Centroids['Average RTT'],c='red')\n",
    "plt.xlabel('Average TCP retransmission')\n",
    "plt.ylabel('Average RTT')\n",
    "plt.show()"
   ]
  },
  {
   "cell_type": "code",
   "execution_count": null,
   "id": "eb070e00-dd13-46d4-a89a-aa039201d193",
   "metadata": {},
   "outputs": [],
   "source": []
  }
 ],
 "metadata": {
  "kernelspec": {
   "display_name": "Python 3",
   "language": "python",
   "name": "python3"
  },
  "language_info": {
   "codemirror_mode": {
    "name": "ipython",
    "version": 3
   },
   "file_extension": ".py",
   "mimetype": "text/x-python",
   "name": "python",
   "nbconvert_exporter": "python",
   "pygments_lexer": "ipython3",
   "version": "3.6.13"
  }
 },
 "nbformat": 4,
 "nbformat_minor": 5
}
