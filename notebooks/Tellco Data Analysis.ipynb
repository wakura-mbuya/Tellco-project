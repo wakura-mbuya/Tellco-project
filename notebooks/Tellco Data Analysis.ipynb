{
 "cells": [
  {
   "cell_type": "code",
   "execution_count": 1,
   "id": "bbfdd824-af3b-4142-b1f1-729db6843718",
   "metadata": {},
   "outputs": [],
   "source": [
    "import sys\n",
    "import pandas as pd\n",
    "import numpy as np\n",
    "import warnings\n",
    "sys.path.append(os.path.abspath(os.path.join('../scripts')))\n",
    "from load_data import LoadData"
   ]
  },
  {
   "cell_type": "code",
   "execution_count": 2,
   "id": "801da22c-3bb4-433e-b045-1125df873c49",
   "metadata": {},
   "outputs": [],
   "source": [
    "loader = LoadData()"
   ]
  },
  {
   "cell_type": "code",
   "execution_count": 3,
   "id": "351e328e-2cf1-4893-89c9-2c2bc7ac6a0d",
   "metadata": {},
   "outputs": [],
   "source": [
    "telco_df = loader.read_excel('../data/Week1_challenge_data_source.xlsx')"
   ]
  },
  {
   "cell_type": "code",
   "execution_count": 8,
   "id": "123427a3-16a9-4937-8f9d-fba6e84e05ee",
   "metadata": {},
   "outputs": [
    {
     "name": "stderr",
     "output_type": "stream",
     "text": [
      ".\n",
      "----------------------------------------------------------------------\n",
      "Ran 1 test in 220.610s\n",
      "\n",
      "OK\n"
     ]
    }
   ],
   "source": [
    "#sys.path.append(os.path.abspath(os.path.join('../tests')))\n",
    "#import test_load_data\n",
    "%run ../tests/test_load_data.py"
   ]
  },
  {
   "cell_type": "code",
   "execution_count": 4,
   "id": "57e502e4-156a-40d8-8cc1-bed86e193e49",
   "metadata": {},
   "outputs": [],
   "source": [
    "pd = loader.read_excel('../data/Week1_challenge_data_source.xlsx')"
   ]
  },
  {
   "cell_type": "code",
   "execution_count": null,
   "id": "1b8471bd-0b66-4ae9-b712-efecb2068238",
   "metadata": {},
   "outputs": [],
   "source": []
  }
 ],
 "metadata": {
  "kernelspec": {
   "display_name": "Python 3",
   "language": "python",
   "name": "python3"
  },
  "language_info": {
   "codemirror_mode": {
    "name": "ipython",
    "version": 3
   },
   "file_extension": ".py",
   "mimetype": "text/x-python",
   "name": "python",
   "nbconvert_exporter": "python",
   "pygments_lexer": "ipython3",
   "version": "3.6.13"
  }
 },
 "nbformat": 4,
 "nbformat_minor": 5
}
